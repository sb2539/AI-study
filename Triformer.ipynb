{
  "nbformat": 4,
  "nbformat_minor": 0,
  "metadata": {
    "colab": {
      "name": "Triformer.ipynb",
      "private_outputs": true,
      "provenance": [],
      "collapsed_sections": [],
      "authorship_tag": "ABX9TyN5TAycDaM6/Gup/bQmaFAp",
      "include_colab_link": true
    },
    "kernelspec": {
      "name": "python3",
      "display_name": "Python 3"
    },
    "language_info": {
      "name": "python"
    }
  },
  "cells": [
    {
      "cell_type": "markdown",
      "metadata": {
        "id": "view-in-github",
        "colab_type": "text"
      },
      "source": [
        "<a href=\"https://colab.research.google.com/github/sb2539/AI-study/blob/master/Triformer.ipynb\" target=\"_parent\"><img src=\"https://colab.research.google.com/assets/colab-badge.svg\" alt=\"Open In Colab\"/></a>"
      ]
    },
    {
      "cell_type": "markdown",
      "source": [
        "@inproceedings{RazvanIJCAI2022,\n",
        "  author    = {Razvan-Gabriel Cirstea and\n",
        "                Chenjuan Guo and\n",
        "                Bin Yang and\n",
        "                Tung Kieu and\n",
        "                Xuanyi Dong and\n",
        "                Shirui Pan},\n",
        "  title     = {Triformer: Triangular, Variable-Specific Attentions for Long Sequence\n",
        "                Multivariate Time Series Forecasting},\n",
        "  booktitle = {IJCAI},\n",
        "  year      = {2022}\n",
        "}"
      ],
      "metadata": {
        "id": "ldE6PQ3EFjxs"
      }
    },
    {
      "cell_type": "code",
      "execution_count": null,
      "metadata": {
        "id": "2EsrwUdBFglQ"
      },
      "outputs": [],
      "source": [
        "import math\n",
        "import torch\n",
        "import torch.nn as nn\n",
        "from torch.nn import init"
      ]
    },
    {
      "cell_type": "code",
      "source": [
        "class Triformer(nn.Module):\n",
        "    def __init__(self, device, num_nodes, input_dim, output_dim, channels, dynamic, lag,\n",
        "                 horizon, patch_sizes, supports, mem_dim):\n",
        "        super(Triformer, self).__init__()\n",
        "        self.factorized = True\n",
        "        print('Prediction {} steps ahead'.format(horizon))\n",
        "        self.num_nodes = num_nodes # variable 수로 추정\n",
        "        self.output_dim = output_dim\n",
        "        self.channels = channels\n",
        "        self.dynamic = dynamic\n",
        "        self.start_fc = nn.Linear(in_features= input_dim, out_features = self.channels)\n",
        "        self.layers = nn.ModuleList()\n",
        "        self.skip_generators = nn.ModuleList()\n",
        "        self.horizon = horizon # 예측과 관련? 논문에서는 temporal horizon이라는 언급이 있는데 layer size 말하는가? 아니면 예측할 다음 time stamp 말하는건가... \n",
        "        self.supports = supports\n",
        "        self.lag = lag  # length of time series로 추정 (12) # lag는 지연이라는 뜻임 전체 시계열 길이 의미하는 듯\n",
        "\n",
        "        cuts = lag  # 12\n",
        "        for patch_size in patch_sizes :\n",
        "            if cuts % patch_size !=0:\n",
        "                raise Exception('Lag not divisible by patch size')\n",
        "\n",
        "            cuts = int(cuts / patch_size)   # cuts : number of patches (12/ 3) patch_size = 3\n",
        "            self.layers.append(Layer(device = device, input_dim = channels,    \n",
        "                                     dynamic = dynamic, num_nodes = num_nodes, cuts=cuts, \n",
        "                                     cut_size = patch_size, factorized = self.factorized))   # layer stacking 형태로 쌓기 위한 코드로 보임\n",
        "            self.skip_generators.append(WeightGenerator(in_dim = cuts * channels, out_dim = 256, number_of_weights = 1,\n",
        "                                                        mem_dim = mem_dim, num_nodes = num_nodes, factorized = False))   # 각 layer의 aggregation output 과 마지막 layer의 output layer를 predictor로 보내는 skip connection 역할\n",
        "            \n",
        "        self.custom_linear = CustomLinear(factorized = False)\n",
        "        self.projections = nn.Sequential(*[   # predictor 역할\n",
        "            nn.Linear(256, 512),\n",
        "            nn.ReLU(),\n",
        "            nn.Linear(512, horizon)])\n",
        "        self.notprinted = True\n",
        "    \n",
        "    def forward(self, batch_x, batch_x_mark, dec_inp, batch_y_mark):\n",
        "        if self.notprinted:\n",
        "            self.notprinted = False\n",
        "            print(batch_x.shape)\n",
        "        x = self.start_fc(batch_x.unsqueeze(-1))   # x = (b, t, n, c) b : batch_size, t : timelength, n : variables, c : channels?\n",
        "        batch_size = x.size(0)\n",
        "        skip = 0\n",
        "\n",
        "        for layer, skip_generator in zip(self.layers, self.skip_generators):\n",
        "            x = layer(x)   # layer output(aggregate state)\n",
        "            weights, biases = skip_generator()\n",
        "            skip_inp = x.transpose(2,1).reshape(batch_size, 1, self.num_nodes, -1)   # skip connection input\n",
        "            skip = skip + self.custom_linear(skip_inp, weights[-1], biases[-1])    # 이전 layer skip connection input과 합쳐짐\n",
        "\n",
        "        x = torch.relu(skip).squeeze(1)\n",
        "        return self.projections(x).transpose(2, 1)  # predictor 역할"
      ],
      "metadata": {
        "id": "1tqaepVoFxVr"
      },
      "execution_count": null,
      "outputs": []
    },
    {
      "cell_type": "code",
      "source": [
        "class Layer(nn.Module): # layer내 동작 관련 코드로 추정\n",
        "    def __init__(self, device, input_dim, num_nodes, cuts, cut_size, dynamic, factorized):\n",
        "        super(Layer, self).__init__()\n",
        "        self.device = device\n",
        "        self.input_dim = input_dim\n",
        "        self.num_nodes = num_nodes\n",
        "        self.dynamic = dynamic\n",
        "        self.cuts = cuts\n",
        "        self.cut_size = cut_size\n",
        "        self.temporal_embeddings = nn.Parameter(torch.rand(cuts, 1, 1, self.num_nodes, 5).to(device),\n",
        "                                                requires_grad=True).to(device)    # pseudo timestamp로 추정, torch.rand에서 1두개 있는데 오타로 추정됨 \n",
        "\n",
        "        self.embeddings_generator = nn.ModuleList([nn.Sequential(*[      # \n",
        "            nn.Linear(5, input_dim)]) for _ in range(cuts)])\n",
        "        \n",
        "        self.out_net1 = nn.Sequential(*[      # out_net1, out_net2는 recurrent connection에서의 gated mechanism으로 보임\n",
        "            nn.Linear(input_dim, input_dim**2),\n",
        "            nn.Tanh(),\n",
        "            nn.Linear(input_dim **2, input_dim),\n",
        "            nn.Tanh(),\n",
        "        ])\n",
        "\n",
        "        self.out_net2 = nn.Sequential(*[\n",
        "            nn.Linear(input_dim, input_dim**2),\n",
        "            nn.Tanh(),\n",
        "            nn.Linear(input_dim **2, input_dim),\n",
        "            nn.Sigmoid(),\n",
        "        ])\n",
        "\n",
        "        self.temporal_att = TemporalAttention(input_dim, factorized=factorize)\n",
        "        self.weights_generator_distinct = WeightGenerator(input_dim, input_dim, mem_dim = 5, num_nodes = num_nodes,  # light-weight method의 specific weight\n",
        "                                                          factorized = factorized, number_of_weights = 2)\n",
        "        self.weights_generator_shared = WeightGenerator(input_dim, input_dim, men_dim = None, num_nodes = num_nodes,\n",
        "                                                        factorized = False, number_of_weights = 2)   # light-weight mehtod의 공유되는 왼쪽 오른쪽 가중치?\n",
        "        self.dropout = nn.Dropout(0.1)\n",
        "\n",
        "    def forward(self, x):\n",
        "        # x shape : B T N C (batch_size, time_length, variables, channels)\n",
        "        batch_size = x.size(0)\n",
        "        data_concat = None\n",
        "        out = 0\n",
        "\n",
        "        weights_shared, biases_shared = self.weight_generator_shared()     # 구분되는 가중치 , 편차항 생성\n",
        "        weights_distinct, biases_distinct = self.weight_generator_distinct()  # 공유되는 가중치, 편차항 생성\n",
        "\n",
        "        for i in range(self.cuts): # 패치 수만큼 반복\n",
        "            # shape is (B, cut_size, N, C)\n",
        "            t = x[:, i*self.cut_size : (i+1)*self.cut_size, :, :] # t는 여기서 나누어진 패치를 의미하는것으로 보임\n",
        "\n",
        "            if i != 0:\n",
        "                out = self.out_net1(out) * self.out_net2(out)   # 이전 pseudo timestamp의 출력을 recurrent connect와 gate mechanism 사용해 다음 pseudo timestamp로 전달\n",
        "        \n",
        "            emb = self.embeddings_generator[i](self.temporal_embeddings[i]).repeat(batch_size, 1, 1, 1) + out  # 다음시점의 pseudo timestamp 임베딩 해서 생성하고, 이전 pseudo timestame에서 넘어온 output 더함 \n",
        "            t = torch.cat([emb, t], dim = 1)  # patch와 concat?? 왜?\n",
        "            out = self.temporal_att(t[:, :1, :, ,:], t, t, weights_distinct, biases_distinct, weights_shared, biases_shared) # 최종 다음 시점 pseudo timestamp 만들어내는 과정\n",
        "\n",
        "            if data_concat == None:\n",
        "            data_concat = out\n",
        "            else :\n",
        "            data_concat = torch.cat([data_concat, out], dim = 1)\n",
        "        return self.dropout(data_concat)\n",
        "        "
      ],
      "metadata": {
        "id": "zCW3CjrEiPuz"
      },
      "execution_count": null,
      "outputs": []
    },
    {
      "cell_type": "code",
      "source": [
        ""
      ],
      "metadata": {
        "id": "PaYH2mxuuyyb"
      },
      "execution_count": null,
      "outputs": []
    }
  ]
}