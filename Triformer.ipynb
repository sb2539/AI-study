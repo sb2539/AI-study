{
  "nbformat": 4,
  "nbformat_minor": 0,
  "metadata": {
    "colab": {
      "name": "Triformer.ipynb",
      "private_outputs": true,
      "provenance": [],
      "collapsed_sections": [],
      "authorship_tag": "ABX9TyOlTkcxm9hV349J25VF32a8",
      "include_colab_link": true
    },
    "kernelspec": {
      "name": "python3",
      "display_name": "Python 3"
    },
    "language_info": {
      "name": "python"
    }
  },
  "cells": [
    {
      "cell_type": "markdown",
      "metadata": {
        "id": "view-in-github",
        "colab_type": "text"
      },
      "source": [
        "<a href=\"https://colab.research.google.com/github/sb2539/AI-study/blob/master/Triformer.ipynb\" target=\"_parent\"><img src=\"https://colab.research.google.com/assets/colab-badge.svg\" alt=\"Open In Colab\"/></a>"
      ]
    },
    {
      "cell_type": "markdown",
      "source": [
        "@inproceedings{RazvanIJCAI2022,\n",
        "  author    = {Razvan-Gabriel Cirstea and\n",
        "                Chenjuan Guo and\n",
        "                Bin Yang and\n",
        "                Tung Kieu and\n",
        "                Xuanyi Dong and\n",
        "                Shirui Pan},\n",
        "  title     = {Triformer: Triangular, Variable-Specific Attentions for Long Sequence\n",
        "                Multivariate Time Series Forecasting},\n",
        "  booktitle = {IJCAI},\n",
        "  year      = {2022}\n",
        "}"
      ],
      "metadata": {
        "id": "ldE6PQ3EFjxs"
      }
    },
    {
      "cell_type": "code",
      "execution_count": null,
      "metadata": {
        "id": "2EsrwUdBFglQ"
      },
      "outputs": [],
      "source": [
        "import math\n",
        "import torch\n",
        "import torch.nn as nn\n",
        "from torch.nn import init"
      ]
    },
    {
      "cell_type": "code",
      "source": [
        "class Triformer(nn.Module):\n",
        "    def __init__(self, device, num_nodes, input_dim, output_dim, channels, dynamic, lag,\n",
        "                 horizon, patch_sizes, supports, mem_dim):\n",
        "        super(Triformer, self).__init__()\n",
        "        self.factorized = True\n",
        "        print('Prediction {} steps ahead'.format(horizon))\n",
        "        self.num_nodes = num_nodes\n",
        "        self.output_dim = output_dim\n",
        "        self.channels = channels\n",
        "        self.dynamic = dynamic\n",
        "        self.start_fc = nn.Linear(in_features= input_dim, out_features = self.channels)\n",
        "        self.layers = nn.ModuleList()\n",
        "        self.skip_generators = nn.ModuleList()\n",
        "        self.horizon = horizon\n",
        "        self.supports = supports\n",
        "        self.lag = lag  # length of time series\n",
        "\n",
        "        cuts = lag\n",
        "        for patch_size in patch_sizes :\n",
        "            if cuts % patch_size !=0:\n",
        "                raise Exception('Lag not divisible by patch size')\n",
        "\n",
        "            cuts = int(cuts / patch_size)   # cuts : number of patches\n",
        "            self.layers.append(Layer(device = device, input_dim = channels,\n",
        "                                     dynamic = dynamic, num_nodes = num_nodes, cuts=cuts, \n",
        "                                     cut_size = patch_size, factorized = self.factorized))\n",
        "            self.skip_generators.append(WeightGenerator(in_dim = cuts * channels, out_dim = 256, number_of_weights = 1,\n",
        "                                                        mem_dim = mem_dim, num_nodes = num_nodes, factorized = False))\n",
        "            \n",
        "        self.custom_linear = CustomLinear(factorized = False)\n",
        "        self.projections = nn.Sequential(*[\n",
        "            nn.Linear(256, 512),\n",
        "            nn.ReLU(),\n",
        "            nn.Linear(512, horizon)])\n",
        "        self.notprinted = True\n",
        "    \n",
        "    def forward(self, batch_x, batch_x_mark, dec_inp, batch_y_mark):\n",
        "        if self.notprinted:\n",
        "            self.notprinted = False\n",
        "            print(batch_x.shape)\n",
        "        x = self.start_fc(batch_x.unsqueeze(-1))\n",
        "        batch_size = x.size(0)\n",
        "        skip = 0\n",
        "\n",
        "        for layer, skip_generator in zip(self.layers, self.skip_generators):\n",
        "            x = layer(x)\n",
        "            weights, biases = skip_generator()\n",
        "            skip_inp = x.transpose(2,1).reshape(batch_size, 1, self.num_nodes, -1)\n",
        "            skip = skip + self.custom_linear(skip_inp, weights[-1], biases[-1])\n",
        "\n",
        "        x = torch.relu(skip).squeeze(1)\n",
        "        return self.projections(x).transpose(2, 1)"
      ],
      "metadata": {
        "id": "1tqaepVoFxVr"
      },
      "execution_count": null,
      "outputs": []
    }
  ]
}