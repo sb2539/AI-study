{
  "nbformat": 4,
  "nbformat_minor": 0,
  "metadata": {
    "colab": {
      "name": "mlpmixerosuleafgat(patches).ipynb",
      "provenance": [],
      "collapsed_sections": [],
      "machine_shape": "hm",
      "authorship_tag": "ABX9TyOKe8zVa1D8nXlVoGgWX4im",
      "include_colab_link": true
    },
    "kernelspec": {
      "name": "python3",
      "display_name": "Python 3"
    },
    "language_info": {
      "name": "python"
    },
    "accelerator": "GPU",
    "gpuClass": "standard",
    "widgets": {
      "application/vnd.jupyter.widget-state+json": {
        "413a2595b92b4ed0bc6591523a24164c": {
          "model_module": "@jupyter-widgets/controls",
          "model_name": "VBoxModel",
          "model_module_version": "1.5.0",
          "state": {
            "_dom_classes": [],
            "_model_module": "@jupyter-widgets/controls",
            "_model_module_version": "1.5.0",
            "_model_name": "VBoxModel",
            "_view_count": null,
            "_view_module": "@jupyter-widgets/controls",
            "_view_module_version": "1.5.0",
            "_view_name": "VBoxView",
            "box_style": "",
            "children": [
              "IPY_MODEL_a2ca0d8ed6e641f8970eb68f7d25f257",
              "IPY_MODEL_63f644cb495547649bc1a503d7f099de"
            ],
            "layout": "IPY_MODEL_87a4dc027fb24756a51eb80f391838f5"
          }
        },
        "a2ca0d8ed6e641f8970eb68f7d25f257": {
          "model_module": "@jupyter-widgets/controls",
          "model_name": "LabelModel",
          "model_module_version": "1.5.0",
          "state": {
            "_dom_classes": [],
            "_model_module": "@jupyter-widgets/controls",
            "_model_module_version": "1.5.0",
            "_model_name": "LabelModel",
            "_view_count": null,
            "_view_module": "@jupyter-widgets/controls",
            "_view_module_version": "1.5.0",
            "_view_name": "LabelView",
            "description": "",
            "description_tooltip": null,
            "layout": "IPY_MODEL_1ec0c44881984a1e99559cb0888f141c",
            "placeholder": "​",
            "style": "IPY_MODEL_48c782daee3740b3bd74b912df01106d",
            "value": "0.393 MB of 0.393 MB uploaded (0.000 MB deduped)\r"
          }
        },
        "63f644cb495547649bc1a503d7f099de": {
          "model_module": "@jupyter-widgets/controls",
          "model_name": "FloatProgressModel",
          "model_module_version": "1.5.0",
          "state": {
            "_dom_classes": [],
            "_model_module": "@jupyter-widgets/controls",
            "_model_module_version": "1.5.0",
            "_model_name": "FloatProgressModel",
            "_view_count": null,
            "_view_module": "@jupyter-widgets/controls",
            "_view_module_version": "1.5.0",
            "_view_name": "ProgressView",
            "bar_style": "",
            "description": "",
            "description_tooltip": null,
            "layout": "IPY_MODEL_aef8b8fe0ca54211bc07858ab421227b",
            "max": 1,
            "min": 0,
            "orientation": "horizontal",
            "style": "IPY_MODEL_2614a43f1e2e4b258e2420a1611e3c4a",
            "value": 1
          }
        },
        "87a4dc027fb24756a51eb80f391838f5": {
          "model_module": "@jupyter-widgets/base",
          "model_name": "LayoutModel",
          "model_module_version": "1.2.0",
          "state": {
            "_model_module": "@jupyter-widgets/base",
            "_model_module_version": "1.2.0",
            "_model_name": "LayoutModel",
            "_view_count": null,
            "_view_module": "@jupyter-widgets/base",
            "_view_module_version": "1.2.0",
            "_view_name": "LayoutView",
            "align_content": null,
            "align_items": null,
            "align_self": null,
            "border": null,
            "bottom": null,
            "display": null,
            "flex": null,
            "flex_flow": null,
            "grid_area": null,
            "grid_auto_columns": null,
            "grid_auto_flow": null,
            "grid_auto_rows": null,
            "grid_column": null,
            "grid_gap": null,
            "grid_row": null,
            "grid_template_areas": null,
            "grid_template_columns": null,
            "grid_template_rows": null,
            "height": null,
            "justify_content": null,
            "justify_items": null,
            "left": null,
            "margin": null,
            "max_height": null,
            "max_width": null,
            "min_height": null,
            "min_width": null,
            "object_fit": null,
            "object_position": null,
            "order": null,
            "overflow": null,
            "overflow_x": null,
            "overflow_y": null,
            "padding": null,
            "right": null,
            "top": null,
            "visibility": null,
            "width": null
          }
        },
        "1ec0c44881984a1e99559cb0888f141c": {
          "model_module": "@jupyter-widgets/base",
          "model_name": "LayoutModel",
          "model_module_version": "1.2.0",
          "state": {
            "_model_module": "@jupyter-widgets/base",
            "_model_module_version": "1.2.0",
            "_model_name": "LayoutModel",
            "_view_count": null,
            "_view_module": "@jupyter-widgets/base",
            "_view_module_version": "1.2.0",
            "_view_name": "LayoutView",
            "align_content": null,
            "align_items": null,
            "align_self": null,
            "border": null,
            "bottom": null,
            "display": null,
            "flex": null,
            "flex_flow": null,
            "grid_area": null,
            "grid_auto_columns": null,
            "grid_auto_flow": null,
            "grid_auto_rows": null,
            "grid_column": null,
            "grid_gap": null,
            "grid_row": null,
            "grid_template_areas": null,
            "grid_template_columns": null,
            "grid_template_rows": null,
            "height": null,
            "justify_content": null,
            "justify_items": null,
            "left": null,
            "margin": null,
            "max_height": null,
            "max_width": null,
            "min_height": null,
            "min_width": null,
            "object_fit": null,
            "object_position": null,
            "order": null,
            "overflow": null,
            "overflow_x": null,
            "overflow_y": null,
            "padding": null,
            "right": null,
            "top": null,
            "visibility": null,
            "width": null
          }
        },
        "48c782daee3740b3bd74b912df01106d": {
          "model_module": "@jupyter-widgets/controls",
          "model_name": "DescriptionStyleModel",
          "model_module_version": "1.5.0",
          "state": {
            "_model_module": "@jupyter-widgets/controls",
            "_model_module_version": "1.5.0",
            "_model_name": "DescriptionStyleModel",
            "_view_count": null,
            "_view_module": "@jupyter-widgets/base",
            "_view_module_version": "1.2.0",
            "_view_name": "StyleView",
            "description_width": ""
          }
        },
        "aef8b8fe0ca54211bc07858ab421227b": {
          "model_module": "@jupyter-widgets/base",
          "model_name": "LayoutModel",
          "model_module_version": "1.2.0",
          "state": {
            "_model_module": "@jupyter-widgets/base",
            "_model_module_version": "1.2.0",
            "_model_name": "LayoutModel",
            "_view_count": null,
            "_view_module": "@jupyter-widgets/base",
            "_view_module_version": "1.2.0",
            "_view_name": "LayoutView",
            "align_content": null,
            "align_items": null,
            "align_self": null,
            "border": null,
            "bottom": null,
            "display": null,
            "flex": null,
            "flex_flow": null,
            "grid_area": null,
            "grid_auto_columns": null,
            "grid_auto_flow": null,
            "grid_auto_rows": null,
            "grid_column": null,
            "grid_gap": null,
            "grid_row": null,
            "grid_template_areas": null,
            "grid_template_columns": null,
            "grid_template_rows": null,
            "height": null,
            "justify_content": null,
            "justify_items": null,
            "left": null,
            "margin": null,
            "max_height": null,
            "max_width": null,
            "min_height": null,
            "min_width": null,
            "object_fit": null,
            "object_position": null,
            "order": null,
            "overflow": null,
            "overflow_x": null,
            "overflow_y": null,
            "padding": null,
            "right": null,
            "top": null,
            "visibility": null,
            "width": null
          }
        },
        "2614a43f1e2e4b258e2420a1611e3c4a": {
          "model_module": "@jupyter-widgets/controls",
          "model_name": "ProgressStyleModel",
          "model_module_version": "1.5.0",
          "state": {
            "_model_module": "@jupyter-widgets/controls",
            "_model_module_version": "1.5.0",
            "_model_name": "ProgressStyleModel",
            "_view_count": null,
            "_view_module": "@jupyter-widgets/base",
            "_view_module_version": "1.2.0",
            "_view_name": "StyleView",
            "bar_color": null,
            "description_width": ""
          }
        },
        "3560484c9cab40f887ae184fe290533c": {
          "model_module": "@jupyter-widgets/controls",
          "model_name": "VBoxModel",
          "model_module_version": "1.5.0",
          "state": {
            "_dom_classes": [],
            "_model_module": "@jupyter-widgets/controls",
            "_model_module_version": "1.5.0",
            "_model_name": "VBoxModel",
            "_view_count": null,
            "_view_module": "@jupyter-widgets/controls",
            "_view_module_version": "1.5.0",
            "_view_name": "VBoxView",
            "box_style": "",
            "children": [
              "IPY_MODEL_8e1f4a030a2040349d793a4011070865",
              "IPY_MODEL_f3f5374f912b4d069bbb323adf757382"
            ],
            "layout": "IPY_MODEL_195b89f65fe24359a1ca75ea56165140"
          }
        },
        "8e1f4a030a2040349d793a4011070865": {
          "model_module": "@jupyter-widgets/controls",
          "model_name": "LabelModel",
          "model_module_version": "1.5.0",
          "state": {
            "_dom_classes": [],
            "_model_module": "@jupyter-widgets/controls",
            "_model_module_version": "1.5.0",
            "_model_name": "LabelModel",
            "_view_count": null,
            "_view_module": "@jupyter-widgets/controls",
            "_view_module_version": "1.5.0",
            "_view_name": "LabelView",
            "description": "",
            "description_tooltip": null,
            "layout": "IPY_MODEL_23e488e969f64de1ba4abfd9c865ac89",
            "placeholder": "​",
            "style": "IPY_MODEL_4a87c7a833624e209e9c504c9c9f57b7",
            "value": "0.389 MB of 0.389 MB uploaded (0.000 MB deduped)\r"
          }
        },
        "f3f5374f912b4d069bbb323adf757382": {
          "model_module": "@jupyter-widgets/controls",
          "model_name": "FloatProgressModel",
          "model_module_version": "1.5.0",
          "state": {
            "_dom_classes": [],
            "_model_module": "@jupyter-widgets/controls",
            "_model_module_version": "1.5.0",
            "_model_name": "FloatProgressModel",
            "_view_count": null,
            "_view_module": "@jupyter-widgets/controls",
            "_view_module_version": "1.5.0",
            "_view_name": "ProgressView",
            "bar_style": "",
            "description": "",
            "description_tooltip": null,
            "layout": "IPY_MODEL_a05b947f1c2348d0ad02193144e45061",
            "max": 1,
            "min": 0,
            "orientation": "horizontal",
            "style": "IPY_MODEL_45fcee18545e44b0bf63eddf168ae8c2",
            "value": 1
          }
        },
        "195b89f65fe24359a1ca75ea56165140": {
          "model_module": "@jupyter-widgets/base",
          "model_name": "LayoutModel",
          "model_module_version": "1.2.0",
          "state": {
            "_model_module": "@jupyter-widgets/base",
            "_model_module_version": "1.2.0",
            "_model_name": "LayoutModel",
            "_view_count": null,
            "_view_module": "@jupyter-widgets/base",
            "_view_module_version": "1.2.0",
            "_view_name": "LayoutView",
            "align_content": null,
            "align_items": null,
            "align_self": null,
            "border": null,
            "bottom": null,
            "display": null,
            "flex": null,
            "flex_flow": null,
            "grid_area": null,
            "grid_auto_columns": null,
            "grid_auto_flow": null,
            "grid_auto_rows": null,
            "grid_column": null,
            "grid_gap": null,
            "grid_row": null,
            "grid_template_areas": null,
            "grid_template_columns": null,
            "grid_template_rows": null,
            "height": null,
            "justify_content": null,
            "justify_items": null,
            "left": null,
            "margin": null,
            "max_height": null,
            "max_width": null,
            "min_height": null,
            "min_width": null,
            "object_fit": null,
            "object_position": null,
            "order": null,
            "overflow": null,
            "overflow_x": null,
            "overflow_y": null,
            "padding": null,
            "right": null,
            "top": null,
            "visibility": null,
            "width": null
          }
        },
        "23e488e969f64de1ba4abfd9c865ac89": {
          "model_module": "@jupyter-widgets/base",
          "model_name": "LayoutModel",
          "model_module_version": "1.2.0",
          "state": {
            "_model_module": "@jupyter-widgets/base",
            "_model_module_version": "1.2.0",
            "_model_name": "LayoutModel",
            "_view_count": null,
            "_view_module": "@jupyter-widgets/base",
            "_view_module_version": "1.2.0",
            "_view_name": "LayoutView",
            "align_content": null,
            "align_items": null,
            "align_self": null,
            "border": null,
            "bottom": null,
            "display": null,
            "flex": null,
            "flex_flow": null,
            "grid_area": null,
            "grid_auto_columns": null,
            "grid_auto_flow": null,
            "grid_auto_rows": null,
            "grid_column": null,
            "grid_gap": null,
            "grid_row": null,
            "grid_template_areas": null,
            "grid_template_columns": null,
            "grid_template_rows": null,
            "height": null,
            "justify_content": null,
            "justify_items": null,
            "left": null,
            "margin": null,
            "max_height": null,
            "max_width": null,
            "min_height": null,
            "min_width": null,
            "object_fit": null,
            "object_position": null,
            "order": null,
            "overflow": null,
            "overflow_x": null,
            "overflow_y": null,
            "padding": null,
            "right": null,
            "top": null,
            "visibility": null,
            "width": null
          }
        },
        "4a87c7a833624e209e9c504c9c9f57b7": {
          "model_module": "@jupyter-widgets/controls",
          "model_name": "DescriptionStyleModel",
          "model_module_version": "1.5.0",
          "state": {
            "_model_module": "@jupyter-widgets/controls",
            "_model_module_version": "1.5.0",
            "_model_name": "DescriptionStyleModel",
            "_view_count": null,
            "_view_module": "@jupyter-widgets/base",
            "_view_module_version": "1.2.0",
            "_view_name": "StyleView",
            "description_width": ""
          }
        },
        "a05b947f1c2348d0ad02193144e45061": {
          "model_module": "@jupyter-widgets/base",
          "model_name": "LayoutModel",
          "model_module_version": "1.2.0",
          "state": {
            "_model_module": "@jupyter-widgets/base",
            "_model_module_version": "1.2.0",
            "_model_name": "LayoutModel",
            "_view_count": null,
            "_view_module": "@jupyter-widgets/base",
            "_view_module_version": "1.2.0",
            "_view_name": "LayoutView",
            "align_content": null,
            "align_items": null,
            "align_self": null,
            "border": null,
            "bottom": null,
            "display": null,
            "flex": null,
            "flex_flow": null,
            "grid_area": null,
            "grid_auto_columns": null,
            "grid_auto_flow": null,
            "grid_auto_rows": null,
            "grid_column": null,
            "grid_gap": null,
            "grid_row": null,
            "grid_template_areas": null,
            "grid_template_columns": null,
            "grid_template_rows": null,
            "height": null,
            "justify_content": null,
            "justify_items": null,
            "left": null,
            "margin": null,
            "max_height": null,
            "max_width": null,
            "min_height": null,
            "min_width": null,
            "object_fit": null,
            "object_position": null,
            "order": null,
            "overflow": null,
            "overflow_x": null,
            "overflow_y": null,
            "padding": null,
            "right": null,
            "top": null,
            "visibility": null,
            "width": null
          }
        },
        "45fcee18545e44b0bf63eddf168ae8c2": {
          "model_module": "@jupyter-widgets/controls",
          "model_name": "ProgressStyleModel",
          "model_module_version": "1.5.0",
          "state": {
            "_model_module": "@jupyter-widgets/controls",
            "_model_module_version": "1.5.0",
            "_model_name": "ProgressStyleModel",
            "_view_count": null,
            "_view_module": "@jupyter-widgets/base",
            "_view_module_version": "1.2.0",
            "_view_name": "StyleView",
            "bar_color": null,
            "description_width": ""
          }
        },
        "60dee6ecc5454086938cf1fd5711541d": {
          "model_module": "@jupyter-widgets/controls",
          "model_name": "VBoxModel",
          "model_module_version": "1.5.0",
          "state": {
            "_dom_classes": [],
            "_model_module": "@jupyter-widgets/controls",
            "_model_module_version": "1.5.0",
            "_model_name": "VBoxModel",
            "_view_count": null,
            "_view_module": "@jupyter-widgets/controls",
            "_view_module_version": "1.5.0",
            "_view_name": "VBoxView",
            "box_style": "",
            "children": [
              "IPY_MODEL_31d3dfe918c14ebb816400c782a2c47a",
              "IPY_MODEL_1bc1529098e549008ad2071f26084b4e"
            ],
            "layout": "IPY_MODEL_4925c89e586e498faa2622160c2938f1"
          }
        },
        "31d3dfe918c14ebb816400c782a2c47a": {
          "model_module": "@jupyter-widgets/controls",
          "model_name": "LabelModel",
          "model_module_version": "1.5.0",
          "state": {
            "_dom_classes": [],
            "_model_module": "@jupyter-widgets/controls",
            "_model_module_version": "1.5.0",
            "_model_name": "LabelModel",
            "_view_count": null,
            "_view_module": "@jupyter-widgets/controls",
            "_view_module_version": "1.5.0",
            "_view_name": "LabelView",
            "description": "",
            "description_tooltip": null,
            "layout": "IPY_MODEL_ec0a60ac11234a0c832584c26844dc61",
            "placeholder": "​",
            "style": "IPY_MODEL_bb6a84f9108e440cb7c447748b7dd9a0",
            "value": "0.743 MB of 0.743 MB uploaded (0.000 MB deduped)\r"
          }
        },
        "1bc1529098e549008ad2071f26084b4e": {
          "model_module": "@jupyter-widgets/controls",
          "model_name": "FloatProgressModel",
          "model_module_version": "1.5.0",
          "state": {
            "_dom_classes": [],
            "_model_module": "@jupyter-widgets/controls",
            "_model_module_version": "1.5.0",
            "_model_name": "FloatProgressModel",
            "_view_count": null,
            "_view_module": "@jupyter-widgets/controls",
            "_view_module_version": "1.5.0",
            "_view_name": "ProgressView",
            "bar_style": "",
            "description": "",
            "description_tooltip": null,
            "layout": "IPY_MODEL_a561aae0bf484167b9704ba3da27b0ef",
            "max": 1,
            "min": 0,
            "orientation": "horizontal",
            "style": "IPY_MODEL_b9eed80805ef4d2fbf4a29005e315fa2",
            "value": 1
          }
        },
        "4925c89e586e498faa2622160c2938f1": {
          "model_module": "@jupyter-widgets/base",
          "model_name": "LayoutModel",
          "model_module_version": "1.2.0",
          "state": {
            "_model_module": "@jupyter-widgets/base",
            "_model_module_version": "1.2.0",
            "_model_name": "LayoutModel",
            "_view_count": null,
            "_view_module": "@jupyter-widgets/base",
            "_view_module_version": "1.2.0",
            "_view_name": "LayoutView",
            "align_content": null,
            "align_items": null,
            "align_self": null,
            "border": null,
            "bottom": null,
            "display": null,
            "flex": null,
            "flex_flow": null,
            "grid_area": null,
            "grid_auto_columns": null,
            "grid_auto_flow": null,
            "grid_auto_rows": null,
            "grid_column": null,
            "grid_gap": null,
            "grid_row": null,
            "grid_template_areas": null,
            "grid_template_columns": null,
            "grid_template_rows": null,
            "height": null,
            "justify_content": null,
            "justify_items": null,
            "left": null,
            "margin": null,
            "max_height": null,
            "max_width": null,
            "min_height": null,
            "min_width": null,
            "object_fit": null,
            "object_position": null,
            "order": null,
            "overflow": null,
            "overflow_x": null,
            "overflow_y": null,
            "padding": null,
            "right": null,
            "top": null,
            "visibility": null,
            "width": null
          }
        },
        "ec0a60ac11234a0c832584c26844dc61": {
          "model_module": "@jupyter-widgets/base",
          "model_name": "LayoutModel",
          "model_module_version": "1.2.0",
          "state": {
            "_model_module": "@jupyter-widgets/base",
            "_model_module_version": "1.2.0",
            "_model_name": "LayoutModel",
            "_view_count": null,
            "_view_module": "@jupyter-widgets/base",
            "_view_module_version": "1.2.0",
            "_view_name": "LayoutView",
            "align_content": null,
            "align_items": null,
            "align_self": null,
            "border": null,
            "bottom": null,
            "display": null,
            "flex": null,
            "flex_flow": null,
            "grid_area": null,
            "grid_auto_columns": null,
            "grid_auto_flow": null,
            "grid_auto_rows": null,
            "grid_column": null,
            "grid_gap": null,
            "grid_row": null,
            "grid_template_areas": null,
            "grid_template_columns": null,
            "grid_template_rows": null,
            "height": null,
            "justify_content": null,
            "justify_items": null,
            "left": null,
            "margin": null,
            "max_height": null,
            "max_width": null,
            "min_height": null,
            "min_width": null,
            "object_fit": null,
            "object_position": null,
            "order": null,
            "overflow": null,
            "overflow_x": null,
            "overflow_y": null,
            "padding": null,
            "right": null,
            "top": null,
            "visibility": null,
            "width": null
          }
        },
        "bb6a84f9108e440cb7c447748b7dd9a0": {
          "model_module": "@jupyter-widgets/controls",
          "model_name": "DescriptionStyleModel",
          "model_module_version": "1.5.0",
          "state": {
            "_model_module": "@jupyter-widgets/controls",
            "_model_module_version": "1.5.0",
            "_model_name": "DescriptionStyleModel",
            "_view_count": null,
            "_view_module": "@jupyter-widgets/base",
            "_view_module_version": "1.2.0",
            "_view_name": "StyleView",
            "description_width": ""
          }
        },
        "a561aae0bf484167b9704ba3da27b0ef": {
          "model_module": "@jupyter-widgets/base",
          "model_name": "LayoutModel",
          "model_module_version": "1.2.0",
          "state": {
            "_model_module": "@jupyter-widgets/base",
            "_model_module_version": "1.2.0",
            "_model_name": "LayoutModel",
            "_view_count": null,
            "_view_module": "@jupyter-widgets/base",
            "_view_module_version": "1.2.0",
            "_view_name": "LayoutView",
            "align_content": null,
            "align_items": null,
            "align_self": null,
            "border": null,
            "bottom": null,
            "display": null,
            "flex": null,
            "flex_flow": null,
            "grid_area": null,
            "grid_auto_columns": null,
            "grid_auto_flow": null,
            "grid_auto_rows": null,
            "grid_column": null,
            "grid_gap": null,
            "grid_row": null,
            "grid_template_areas": null,
            "grid_template_columns": null,
            "grid_template_rows": null,
            "height": null,
            "justify_content": null,
            "justify_items": null,
            "left": null,
            "margin": null,
            "max_height": null,
            "max_width": null,
            "min_height": null,
            "min_width": null,
            "object_fit": null,
            "object_position": null,
            "order": null,
            "overflow": null,
            "overflow_x": null,
            "overflow_y": null,
            "padding": null,
            "right": null,
            "top": null,
            "visibility": null,
            "width": null
          }
        },
        "b9eed80805ef4d2fbf4a29005e315fa2": {
          "model_module": "@jupyter-widgets/controls",
          "model_name": "ProgressStyleModel",
          "model_module_version": "1.5.0",
          "state": {
            "_model_module": "@jupyter-widgets/controls",
            "_model_module_version": "1.5.0",
            "_model_name": "ProgressStyleModel",
            "_view_count": null,
            "_view_module": "@jupyter-widgets/base",
            "_view_module_version": "1.2.0",
            "_view_name": "StyleView",
            "bar_color": null,
            "description_width": ""
          }
        }
      }
    }
  },
  "cells": [
    {
      "cell_type": "markdown",
      "metadata": {
        "id": "view-in-github",
        "colab_type": "text"
      },
      "source": [
        "<a href=\"https://colab.research.google.com/github/sb2539/AI-study/blob/master/mlpmixerosuleafgat(patches).ipynb\" target=\"_parent\"><img src=\"https://colab.research.google.com/assets/colab-badge.svg\" alt=\"Open In Colab\"/></a>"
      ]
    },
    {
      "cell_type": "code",
      "execution_count": null,
      "metadata": {
        "id": "bTIe1y31K-1B"
      },
      "outputs": [],
      "source": [
        "!pip install pyts\n",
        "!pip install einops\n",
        "!pip install wandb"
      ]
    },
    {
      "cell_type": "code",
      "source": [
        "from google.colab import drive\n",
        "drive.mount('/gdrive')\n",
        "PATH = \"/gdrive/MyDrive/model/\""
      ],
      "metadata": {
        "colab": {
          "base_uri": "https://localhost:8080/"
        },
        "id": "zLsBbl6dLMII",
        "outputId": "46824f9f-dc2e-413f-ac8d-ed977cf7369e"
      },
      "execution_count": null,
      "outputs": [
        {
          "output_type": "stream",
          "name": "stdout",
          "text": [
            "Mounted at /gdrive\n"
          ]
        }
      ]
    },
    {
      "cell_type": "code",
      "source": [
        "import torch\n",
        "import torch.nn as nn\n",
        "import torch.nn.functional as F\n",
        "import torch.optim as optim\n",
        "import torchvision\n",
        "import torchvision.transforms as transforms\n",
        "from torch.utils.data import Dataset, DataLoader\n",
        "import matplotlib.pyplot as plt\n",
        "import pylab as plt\n",
        "import numpy as np\n",
        "import pandas as pd\n",
        "from pyts.image import RecurrencePlot, GramianAngularField, MarkovTransitionField\n",
        "from pyts.datasets import fetch_ucr_dataset, ucr_dataset_list\n",
        "from PIL import Image\n",
        "from skimage.transform import resize\n",
        "import os\n",
        "from torch.utils.tensorboard import SummaryWriter\n",
        "from einops.layers.torch import Rearrange, Reduce\n",
        "import copy\n",
        "import wandb"
      ],
      "metadata": {
        "id": "Xpbft3svLSCR"
      },
      "execution_count": null,
      "outputs": []
    },
    {
      "cell_type": "code",
      "source": [
        "!wandb login"
      ],
      "metadata": {
        "colab": {
          "base_uri": "https://localhost:8080/"
        },
        "id": "1mlVyqYT5w43",
        "outputId": "20208550-ed74-4840-95f7-46ddebf1af8b"
      },
      "execution_count": null,
      "outputs": [
        {
          "output_type": "stream",
          "name": "stdout",
          "text": [
            "\u001b[34m\u001b[1mwandb\u001b[0m: Logging into wandb.ai. (Learn how to deploy a W&B server locally: https://wandb.me/wandb-server)\n",
            "\u001b[34m\u001b[1mwandb\u001b[0m: You can find your API key in your browser here: https://wandb.ai/authorize\n",
            "\u001b[34m\u001b[1mwandb\u001b[0m: Paste an API key from your profile and hit enter, or press ctrl+c to quit: \n",
            "\u001b[34m\u001b[1mwandb\u001b[0m: Appending key for api.wandb.ai to your netrc file: /root/.netrc\n"
          ]
        }
      ]
    },
    {
      "cell_type": "code",
      "source": [
        "wandb.login()"
      ],
      "metadata": {
        "colab": {
          "base_uri": "https://localhost:8080/"
        },
        "id": "U1EUSPYu3aKQ",
        "outputId": "8fd2412b-b5eb-43f4-ccc2-c510f82c159d"
      },
      "execution_count": null,
      "outputs": [
        {
          "output_type": "stream",
          "name": "stderr",
          "text": [
            "\u001b[34m\u001b[1mwandb\u001b[0m: Currently logged in as: \u001b[33msb2539\u001b[0m. Use \u001b[1m`wandb login --relogin`\u001b[0m to force relogin\n"
          ]
        },
        {
          "output_type": "execute_result",
          "data": {
            "text/plain": [
              "True"
            ]
          },
          "metadata": {},
          "execution_count": 5
        }
      ]
    },
    {
      "cell_type": "markdown",
      "source": [
        "# syntcontrol\n"
      ],
      "metadata": {
        "id": "gPAB0le07xGL"
      }
    },
    {
      "cell_type": "code",
      "source": [
        "wa = fetch_ucr_dataset('OSULeaf', use_cache=False, data_home = None, return_X_y=False)\n",
        "wa_train = wa.data_train\n",
        "wa_target_train = wa.target_train\n",
        "wa_test = wa.data_test\n",
        "wa_target_test = wa.target_test"
      ],
      "metadata": {
        "id": "E0ENdJ6n7zsT"
      },
      "execution_count": null,
      "outputs": []
    },
    {
      "cell_type": "code",
      "source": [
        "wa_test"
      ],
      "metadata": {
        "id": "4EuKIa6PODi5"
      },
      "execution_count": null,
      "outputs": []
    },
    {
      "cell_type": "code",
      "source": [
        "wa_target_val = wa_target_test[:100]\n",
        "wa_val = wa_test[:100,:]"
      ],
      "metadata": {
        "id": "n40LZp9jImYA"
      },
      "execution_count": null,
      "outputs": []
    },
    {
      "cell_type": "code",
      "source": [
        "wa_target_test"
      ],
      "metadata": {
        "id": "9B_pQ-DezQj2"
      },
      "execution_count": null,
      "outputs": []
    },
    {
      "cell_type": "code",
      "source": [
        "rp = RecurrencePlot(dimension = 3,time_delay=4)\n",
        "wa_train_rp = rp.transform(wa_train)\n",
        "wa_test_rp = rp.transform(wa_test)"
      ],
      "metadata": {
        "id": "wlyQPw2a8iVy"
      },
      "execution_count": null,
      "outputs": []
    },
    {
      "cell_type": "code",
      "source": [
        "gr_d = GramianAngularField(method='difference')\n",
        "wa_train_gr_d = gr_d.transform(wa_train)\n",
        "wa_test_gr_d = gr_d.transform(wa_test)\n",
        "gr = GramianAngularField()\n",
        "wa_train_gr = gr.transform(wa_train)\n",
        "wa_test_gr = gr.transform(wa_test)"
      ],
      "metadata": {
        "id": "1bLJl2dS8jvS"
      },
      "execution_count": null,
      "outputs": []
    },
    {
      "cell_type": "code",
      "source": [
        "mk = MarkovTransitionField()\n",
        "wa_train_mk = mk.transform(wa_train)\n",
        "wa_test_mk = mk.transform(wa_test)"
      ],
      "metadata": {
        "id": "HWouqeAG8lYn"
      },
      "execution_count": null,
      "outputs": []
    },
    {
      "cell_type": "code",
      "source": [
        "wa_train_rp = resize(wa_train_rp, ((200,64,64)))\n",
        "wa_test_rp = resize(wa_test_rp, ((242,64,64)))\n",
        "wa_train_gr = resize(wa_train_gr, ((200,64,64)))\n",
        "wa_test_gr = resize(wa_test_gr, ((242,64,64)))\n",
        "wa_train_gr_d = resize(wa_train_gr_d, ((200,64,64)))\n",
        "wa_test_gr_d = resize(wa_test_gr_d, ((242,64,64)))\n",
        "wa_train_mk = resize(wa_train_mk, ((200,64,64)))\n",
        "wa_test_mk = resize(wa_test_mk, ((242,64,64)))"
      ],
      "metadata": {
        "id": "owlw5Nd88n-i"
      },
      "execution_count": null,
      "outputs": []
    },
    {
      "cell_type": "code",
      "source": [
        "wa_train_all = np.stack([wa_train_rp, wa_train_gr, wa_train_gr_d], 1)\n",
        "wa_test_all = np.stack([wa_test_rp, wa_test_gr, wa_test_gr_d], 1)"
      ],
      "metadata": {
        "id": "xcmS8-i98pwu"
      },
      "execution_count": null,
      "outputs": []
    },
    {
      "cell_type": "code",
      "source": [
        "wa_train_all = np.stack([wa_train_rp, wa_train_gr,wa_train_gr_d], 1)\n",
        "wa_test_all = np.stack([wa_test_rp, wa_test_gr, wa_test_gr_d], 1)"
      ],
      "metadata": {
        "id": "3nbdKNF-USLc"
      },
      "execution_count": null,
      "outputs": []
    },
    {
      "cell_type": "code",
      "source": [
        "train_data = CustomDataset(wa_train_all, wa_target_train)\n",
        "trainloader = DataLoader(train_data, batch_size = 5, shuffle = True)\n",
        "test_data = CustomDataset(wa_test_all, wa_target_test)\n",
        "testloader = DataLoader(test_data, batch_size = 5, shuffle = False )"
      ],
      "metadata": {
        "id": "TKHLBNnv8qUq"
      },
      "execution_count": null,
      "outputs": []
    },
    {
      "cell_type": "code",
      "source": [
        "val_data = CustomDataset(val_all,wa_target_val)\n",
        "valloader = DataLoader(val_data, batch_size = 5, shuffle = False)"
      ],
      "metadata": {
        "id": "e_rasrAJbysP"
      },
      "execution_count": null,
      "outputs": []
    },
    {
      "cell_type": "code",
      "source": [
        "wa_train_rp = resize(wa_train_rp, ((300,56,56)))\n",
        "wa_test_rp = resize(wa_test_rp, ((300,56,56)))\n",
        "wa_train_rp = wa_train_rp.reshape(300, 1, 56, 56)\n",
        "wa_test_rp = wa_test_rp.reshape(300, 1, 56, 56)\n",
        "train_data = CustomDataset(wa_train_rp, wa_target_train)\n",
        "trainloader = DataLoader(train_data, batch_size = 10, shuffle = True)\n",
        "test_data = CustomDataset(wa_test_rp, wa_target_test)\n",
        "testloader = DataLoader(test_data, batch_size = 10, shuffle = False )"
      ],
      "metadata": {
        "id": "nwhvHDq9IYlw"
      },
      "execution_count": null,
      "outputs": []
    },
    {
      "cell_type": "markdown",
      "source": [
        "# customdata"
      ],
      "metadata": {
        "id": "qUH-vl5mrSMD"
      }
    },
    {
      "cell_type": "code",
      "source": [
        "class CustomDataset(Dataset):\n",
        "    def __init__(self, rpimage, target_image):\n",
        "        self.x_data = torch.FloatTensor(rpimage)\n",
        "        self.y_data = torch.LongTensor(target_image)\n",
        "        self.y_data = self.y_data-1\n",
        "    def __len__(self):\n",
        "        return len(self.y_data)\n",
        "\n",
        "    def __getitem__(self, idx):\n",
        "        return self.x_data[idx], self.y_data[idx]"
      ],
      "metadata": {
        "id": "M1OwVFoOLqaw"
      },
      "execution_count": null,
      "outputs": []
    },
    {
      "cell_type": "markdown",
      "source": [
        "# mlp"
      ],
      "metadata": {
        "id": "OF0y02jaLt06"
      }
    },
    {
      "cell_type": "code",
      "source": [
        "class MLP(nn.Module):\n",
        "    def __init__(self, dim, hidden_dim, dropout=0.):\n",
        "        super(MLP, self).__init__()\n",
        "        self.net = nn.Sequential(\n",
        "            nn.Linear(dim, hidden_dim),\n",
        "            nn.GELU(),\n",
        "            nn.Dropout(dropout),\n",
        "            nn.Linear(hidden_dim, dim),\n",
        "            nn.Dropout(dropout)\n",
        "        )\n",
        "    def forward(self, x):\n",
        "        return self.net(x)"
      ],
      "metadata": {
        "id": "mfT_BLwGLwiI"
      },
      "execution_count": null,
      "outputs": []
    },
    {
      "cell_type": "code",
      "source": [
        "class MixerBlock(nn.Module):\n",
        "    def __init__(self, dim, num_patch, token_dim, channel_dim, dropout = 0.):\n",
        "        super(MixerBlock, self).__init__()\n",
        "\n",
        "        self.token_mix = nn.Sequential(\n",
        "            nn.LayerNorm(dim),\n",
        "            Rearrange('b n d -> b d n'), #(n_samples, n_patches, dim) -> (n_samples, dim, n_patches)\n",
        "            MLP(num_patch, token_dim, dropout),\n",
        "            Rearrange('b d n -> b n d')  # 원상복구\n",
        "        )\n",
        "\n",
        "        self.channel_mix = nn.Sequential(\n",
        "            nn.LayerNorm(dim),\n",
        "            MLP(dim, channel_dim, dropout),\n",
        "        )\n",
        "\n",
        "    def forward(self, x):\n",
        "        x = x + self.token_mix(x)  # skip connection 부분\n",
        "        x = x + self.channel_mix(x) # skip connection 부분\n",
        "        return x"
      ],
      "metadata": {
        "id": "8UbnEZTHL4II"
      },
      "execution_count": null,
      "outputs": []
    },
    {
      "cell_type": "code",
      "source": [
        "class AttentionLayer(nn.Module):\n",
        "    def __init__(self, num_patch, dim, dropout, alpha, use_bias = False):\n",
        "        super(AttentionLayer, self). __init__()\n",
        "        self.n_features = num_patch\n",
        "        self.num_nodes = num_patch\n",
        "        self.dim = dim\n",
        "        self.dropout = dropout\n",
        "        self.use_bias = use_bias\n",
        "\n",
        "        lin_input_dim = dim\n",
        "        a_input_dim = 2 * self.dim   # 64\n",
        "\n",
        "        self.lin = nn.Linear(lin_input_dim, self.dim) # (64,32)\n",
        "        self.a = nn.Parameter(torch.empty((a_input_dim, 1))) #(64)\n",
        "        nn.init.xavier_uniform_(self.a.data, gain=1.414)\n",
        "\n",
        "        if self.use_bias:\n",
        "            self.bias = nn.Parameter(torch.empty(num_patch, num_patch))\n",
        "\n",
        "        self.leakyrelu = nn.LeakyReLU(alpha)\n",
        "        self.sigmoid = nn.Sigmoid()\n",
        "\n",
        "    def forward(self, x):\n",
        "        #x = x.permute(0, 2, 1)\n",
        "        Wx = self.lin(x)  # (64, 32)\n",
        "        a_input = self._make_attention_input(Wx) #(5, 64, 64, 64)\n",
        "        e = self.leakyrelu(torch.matmul(a_input, self.a)).squeeze(3) #(5, 64,64,1)\n",
        "\n",
        "        if self.use_bias:\n",
        "            e+=self.bias\n",
        "\n",
        "        attention = torch.softmax(e, dim = 2)\n",
        "        h = self.sigmoid(torch.matmul(attention, x)) # (5, 64, 64) * (64, 128)\n",
        "        return h #h.permute(0,2,1)\n",
        "        \n",
        "    def _make_attention_input(self, v):\n",
        "        K = self.num_nodes\n",
        "        blocks_repeating = v.repeat_interleave(K, dim = 1)\n",
        "        blocks_alternating = v.repeat(1, K, 1)\n",
        "        combined = torch.cat((blocks_repeating, blocks_alternating), dim = 2)\n",
        "\n",
        "        return combined.view(v.size(0), K, K, 2 * self.dim)"
      ],
      "metadata": {
        "id": "wDCZBW94gYlK"
      },
      "execution_count": null,
      "outputs": []
    },
    {
      "cell_type": "code",
      "source": [
        "class MLPMixer(nn.Module):\n",
        "    def __init__(self, in_channels, dim, num_classes, patch_size, image_size, depth, token_dim, channel_dim, dropout = 0., alpha = 0.2):\n",
        "        super(MLPMixer, self).__init__()\n",
        "        self.dropout = dropout\n",
        "        assert image_size % patch_size == 0 # 이미지 사이즈가 패치 사이즈로 나누어져야 함\n",
        "        self.num_patch = (image_size // patch_size) **2 # num_patch = 64 , img_size = 64, patch_size = 8\n",
        "        self.patch_embedding = nn.Sequential(\n",
        "            nn.Conv2d(in_channels, dim, patch_size, patch_size), # (in_channel = 3, out_channel=32, kernel = 8,stride =  8)\n",
        "            Rearrange('b c h w -> b (h w) c') #(5, 32, 8, 8) -> (5, 64, 32)\n",
        "        )                                     # 64 * 512 matrix 만들어짐\n",
        "        self.patch_gat = AttentionLayer(self.num_patch, dim, dropout, alpha)\n",
        "        self.mixer_blocks = nn.ModuleList([])\n",
        "        for _ in range(depth):     # depth = 8 만큼 \n",
        "            self.mixer_blocks.append(\n",
        "                MixerBlock(dim, self.num_patch, token_dim, channel_dim, dropout) #(512, 64, 256, 2048 )\n",
        "            )\n",
        "\n",
        "        self.layer_norm = nn.LayerNorm(dim)\n",
        "        self.mlp_head = nn.Linear(dim, num_classes)\n",
        "\n",
        "    def forward(self, x): # 입력 (5, 3, 64, 64)\n",
        "        x = self.patch_embedding(x)  # (5, 64, 32)\n",
        "        x = self.patch_gat(x) #(5, 64, 32)\n",
        "        for mixer_block in self.mixer_blocks:\n",
        "            x = mixer_block(x) # (1, 64, 512)\n",
        "        x = self.layer_norm(x)\n",
        "        x = x.mean(dim = 1) # global average pooling (1, 512)\n",
        "        x = self.mlp_head(x) # (1, 5)\n",
        "        return x"
      ],
      "metadata": {
        "id": "SZqQv9DtL8Sw"
      },
      "execution_count": null,
      "outputs": []
    },
    {
      "cell_type": "code",
      "source": [
        ""
      ],
      "metadata": {
        "id": "mitpjIK5ZDSA"
      },
      "execution_count": null,
      "outputs": []
    },
    {
      "cell_type": "markdown",
      "source": [
        "# weight & bias"
      ],
      "metadata": {
        "id": "s6s3FOnM1VrD"
      }
    },
    {
      "cell_type": "code",
      "source": [
        "PATH = \"/gdrive/MyDrive/model/\"\n",
        "global best_acc \n",
        "best_acc = 0"
      ],
      "metadata": {
        "id": "UpFdNq141CsT"
      },
      "execution_count": null,
      "outputs": []
    },
    {
      "cell_type": "code",
      "source": [
        "def build_optimizer(network, optimizer, learning_rate):\n",
        "    if optimizer == \"sgd\":\n",
        "        optimizer = optim.SGD(network.parameters(),\n",
        "                              lr=learning_rate, momentum=0.9)\n",
        "    elif optimizer == \"adam\":\n",
        "        optimizer = optim.Adam(network.parameters(),\n",
        "                               lr=learning_rate)\n",
        "    return optimizer"
      ],
      "metadata": {
        "id": "dKsQu39V2Mtw"
      },
      "execution_count": null,
      "outputs": []
    },
    {
      "cell_type": "code",
      "source": [
        "def train(model, trainloader, testloader, criterion, optimizer, config, wandb):\n",
        "    global best_acc\n",
        "    model.train()\n",
        "    wandb.watch(model, criterion, log=\"all\", log_freq=10)\n",
        "    for epoch in range(config.epochs):\n",
        "        cumu_loss = 0\n",
        "        correct = 0\n",
        "        val_correct = 0\n",
        "        target_loss = 0\n",
        "        for data in trainloader:\n",
        "            input, target  = data\n",
        "\n",
        "            output = model(input)\n",
        "            loss = criterion(output, target)\n",
        "            cumu_loss += loss.item()\n",
        "            pred = output.max(1, keepdim=True)[1]\n",
        "            correct += pred.eq(target.view_as(pred)).sum().item()\n",
        "            optimizer.zero_grad()\n",
        "            loss.backward()\n",
        "            optimizer.step()\n",
        "        else :\n",
        "            with torch.no_grad():\n",
        "                for data in testloader:\n",
        "                    input, target = data\n",
        "                    output = model(input)\n",
        "                    target_loss += criterion(output, target).item()\n",
        "                    pred = output.max(1, keepdim=True)[1]\n",
        "                    val_correct += pred.eq(target.view_as(pred)).sum().item()\n",
        "\n",
        "        val_loss = target_loss / len(testloader)\n",
        "        avg_loss = cumu_loss / len(trainloader)\n",
        "        train_acc = 100. * correct / len(trainloader.dataset)\n",
        "        val_acc = 100. * val_correct / len(testloader.dataset)\n",
        "        if val_acc > best_acc:\n",
        "            best_acc = val_acc\n",
        "            torch.save(model.state_dict(), PATH + 'osuleafgat_mlp_state_dictonly_rp_gr_grd.pt')\n",
        "            print(\"saved\")\n",
        "        wandb.log({\"train_loss\": avg_loss, \"train_acc\":train_acc}, step=epoch)  \n",
        "        print(f\"TRAIN: EPOCH {epoch + 1:04d} / {config.epochs:04d} | Epoch LOSS {avg_loss:.4f} | Epoch ACC {train_acc:.4f} | Val Loss {val_loss:.4f} | Val_acc {val_acc:.4f}\")"
      ],
      "metadata": {
        "id": "a6GLZ6LgUsKc"
      },
      "execution_count": null,
      "outputs": []
    },
    {
      "cell_type": "code",
      "source": [
        "def test(model, loader, criterion, wandb):\n",
        "    model.eval()\n",
        "\n",
        "    with torch.no_grad():\n",
        "        correct, target_loss = 0, 0\n",
        "        for data in loader:\n",
        "            input, target = data\n",
        "            output = model(input)\n",
        "            \n",
        "            target_loss += criterion(output, target).item()\n",
        "            \n",
        "            pred = output.max(1, keepdim=True)[1]\n",
        "            correct += pred.eq(target.view_as(pred)).sum().item()\n",
        "            \n",
        "    \n",
        "    test_loss = target_loss / len(loader)\n",
        "    test_acc = 100. * correct / len(loader.dataset)\n",
        "    print(f\"test: LOSS {test_loss:.4f} | Accuracy {test_acc:.4f} \")\n",
        "    wandb.log({\n",
        "        \"test_acc\": test_acc,\n",
        "        \"test_loss\": test_loss})"
      ],
      "metadata": {
        "id": "xYxCoaSNUt-O"
      },
      "execution_count": null,
      "outputs": []
    },
    {
      "cell_type": "code",
      "source": [
        "sweep_config = {\n",
        "    'name' : 'osu_rp_gr_grd-gat-sweep',\n",
        "    'method' : 'random',\n",
        "    'metric' : {\n",
        "        'name': 'test_acc',\n",
        "        'goal': 'maximize'\n",
        "    },\n",
        "    'parameters':{\n",
        "        'optimizer':{\n",
        "            'values':['adam']\n",
        "        },\n",
        "        'dropout':{\n",
        "            'values':[0.,0.3,0.5]\n",
        "        },\n",
        "        'learning_rate':{\n",
        "            'distribution':'uniform',\n",
        "            'min':0.0001,\n",
        "            'max':0.001\n",
        "        },\n",
        "        'epochs':{\n",
        "            'values': [60]\n",
        "        },\n",
        "        'hidden_size':{\n",
        "            'values': [32, 64, 128, 256]\n",
        "        },\n",
        "        'patch_size':{\n",
        "            'values': [4,8,16]\n",
        "        },\n",
        "        'number_of_layers':{\n",
        "            'values':[4,8, 16]\n",
        "        },\n",
        "        'token_dim':{\n",
        "            'values':[32, 64, 128, 256]\n",
        "        },\n",
        "        'channel_dim':{\n",
        "            'values':[32, 64, 128,256]\n",
        "        },\n",
        "        'alpha':{\n",
        "            'values':[0.2]\n",
        "        }\n",
        "    }\n",
        "}"
      ],
      "metadata": {
        "id": "-7aCb7xO1Ycn"
      },
      "execution_count": null,
      "outputs": []
    },
    {
      "cell_type": "code",
      "source": [
        "def run_sweeep(config=None):\n",
        "    wandb.init(config=config, entity='sb2539')\n",
        "    w_config = wandb.config\n",
        "    criterion = nn.CrossEntropyLoss()\n",
        "    in_channels = 3\n",
        "    num_classes = 6\n",
        "    resolution = 64\n",
        "    model = MLPMixer(\n",
        "        in_channels = in_channels,\n",
        "        dim = w_config.hidden_size,\n",
        "        num_classes = num_classes,\n",
        "        patch_size = w_config.patch_size,\n",
        "        image_size = resolution,\n",
        "        depth = w_config.number_of_layers,\n",
        "        token_dim = w_config.token_dim,\n",
        "        channel_dim = w_config.channel_dim,\n",
        "        dropout = w_config.dropout,\n",
        "        alpha = w_config.alpha\n",
        "    )\n",
        "    optimizer = build_optimizer(model, w_config.optimizer, w_config.learning_rate)\n",
        "\n",
        "    train(model, trainloader, testloader, criterion, optimizer,  w_config, wandb)\n",
        "    test(model, testloader, criterion, wandb)"
      ],
      "metadata": {
        "id": "80yDPyS3UoPw"
      },
      "execution_count": null,
      "outputs": []
    },
    {
      "cell_type": "code",
      "source": [
        "sweep_id = wandb.sweep(sweep_config, project=\"osuleaf_mlp_only_rp_gr_grd-gat2\", entity='sb2539')\n",
        "wandb.agent(sweep_id, run_sweeep, count=100)"
      ],
      "metadata": {
        "colab": {
          "base_uri": "https://localhost:8080/",
          "height": 1000,
          "referenced_widgets": [
            "413a2595b92b4ed0bc6591523a24164c",
            "a2ca0d8ed6e641f8970eb68f7d25f257",
            "63f644cb495547649bc1a503d7f099de",
            "87a4dc027fb24756a51eb80f391838f5",
            "1ec0c44881984a1e99559cb0888f141c",
            "48c782daee3740b3bd74b912df01106d",
            "aef8b8fe0ca54211bc07858ab421227b",
            "2614a43f1e2e4b258e2420a1611e3c4a",
            "3560484c9cab40f887ae184fe290533c",
            "8e1f4a030a2040349d793a4011070865",
            "f3f5374f912b4d069bbb323adf757382",
            "195b89f65fe24359a1ca75ea56165140",
            "23e488e969f64de1ba4abfd9c865ac89",
            "4a87c7a833624e209e9c504c9c9f57b7",
            "a05b947f1c2348d0ad02193144e45061",
            "45fcee18545e44b0bf63eddf168ae8c2",
            "60dee6ecc5454086938cf1fd5711541d",
            "31d3dfe918c14ebb816400c782a2c47a",
            "1bc1529098e549008ad2071f26084b4e",
            "4925c89e586e498faa2622160c2938f1",
            "ec0a60ac11234a0c832584c26844dc61",
            "bb6a84f9108e440cb7c447748b7dd9a0",
            "a561aae0bf484167b9704ba3da27b0ef",
            "b9eed80805ef4d2fbf4a29005e315fa2"
          ]
        },
        "id": "nFlBNYfcW31d",
        "outputId": "6e64ee45-4c81-48a7-9a68-de759fdb512b"
      },
      "execution_count": null,
      "outputs": [
        {
          "output_type": "stream",
          "name": "stdout",
          "text": [
            "Create sweep with ID: 3idk05q8\n",
            "Sweep URL: https://wandb.ai/sb2539/osuleaf_mlp_only_rp_gr_grd-gat2/sweeps/3idk05q8\n"
          ]
        },
        {
          "output_type": "stream",
          "name": "stderr",
          "text": [
            "\u001b[34m\u001b[1mwandb\u001b[0m: Agent Starting Run: xsya1gjc with config:\n",
            "\u001b[34m\u001b[1mwandb\u001b[0m: \talpha: 0.2\n",
            "\u001b[34m\u001b[1mwandb\u001b[0m: \tchannel_dim: 128\n",
            "\u001b[34m\u001b[1mwandb\u001b[0m: \tdropout: 0\n",
            "\u001b[34m\u001b[1mwandb\u001b[0m: \tepochs: 60\n",
            "\u001b[34m\u001b[1mwandb\u001b[0m: \thidden_size: 128\n",
            "\u001b[34m\u001b[1mwandb\u001b[0m: \tlearning_rate: 0.0005494287581245586\n",
            "\u001b[34m\u001b[1mwandb\u001b[0m: \tnumber_of_layers: 8\n",
            "\u001b[34m\u001b[1mwandb\u001b[0m: \toptimizer: adam\n",
            "\u001b[34m\u001b[1mwandb\u001b[0m: \tpatch_size: 8\n",
            "\u001b[34m\u001b[1mwandb\u001b[0m: \ttoken_dim: 256\n",
            "\u001b[34m\u001b[1mwandb\u001b[0m: \u001b[33mWARNING\u001b[0m Ignored wandb.init() arg entity when running a sweep.\n"
          ]
        },
        {
          "output_type": "display_data",
          "data": {
            "text/plain": [
              "<IPython.core.display.HTML object>"
            ],
            "text/html": [
              "Tracking run with wandb version 0.12.21"
            ]
          },
          "metadata": {}
        },
        {
          "output_type": "display_data",
          "data": {
            "text/plain": [
              "<IPython.core.display.HTML object>"
            ],
            "text/html": [
              "Run data is saved locally in <code>/content/wandb/run-20220801_120003-xsya1gjc</code>"
            ]
          },
          "metadata": {}
        },
        {
          "output_type": "display_data",
          "data": {
            "text/plain": [
              "<IPython.core.display.HTML object>"
            ],
            "text/html": [
              "Syncing run <strong><a href=\"https://wandb.ai/sb2539/osuleaf_mlp_only_rp_gr_grd-gat2/runs/xsya1gjc\" target=\"_blank\">summer-sweep-1</a></strong> to <a href=\"https://wandb.ai/sb2539/osuleaf_mlp_only_rp_gr_grd-gat2\" target=\"_blank\">Weights & Biases</a> (<a href=\"https://wandb.me/run\" target=\"_blank\">docs</a>)<br/>Sweep page:  <a href=\"https://wandb.ai/sb2539/osuleaf_mlp_only_rp_gr_grd-gat2/sweeps/3idk05q8\" target=\"_blank\">https://wandb.ai/sb2539/osuleaf_mlp_only_rp_gr_grd-gat2/sweeps/3idk05q8</a>"
            ]
          },
          "metadata": {}
        },
        {
          "output_type": "stream",
          "name": "stdout",
          "text": [
            "TRAIN: EPOCH 0001 / 0060 | Epoch LOSS 1.7882 | Epoch ACC 19.0000 | Val Loss 1.7431 | Val_acc 22.3140\n",
            "TRAIN: EPOCH 0002 / 0060 | Epoch LOSS 1.6613 | Epoch ACC 33.0000 | Val Loss 1.6071 | Val_acc 32.2314\n",
            "TRAIN: EPOCH 0003 / 0060 | Epoch LOSS 1.4764 | Epoch ACC 42.5000 | Val Loss 1.6010 | Val_acc 30.5785\n",
            "TRAIN: EPOCH 0004 / 0060 | Epoch LOSS 1.4722 | Epoch ACC 39.5000 | Val Loss 1.5815 | Val_acc 30.9917\n",
            "TRAIN: EPOCH 0005 / 0060 | Epoch LOSS 1.4999 | Epoch ACC 40.5000 | Val Loss 1.6520 | Val_acc 31.8182\n",
            "TRAIN: EPOCH 0006 / 0060 | Epoch LOSS 1.4254 | Epoch ACC 43.5000 | Val Loss 1.4842 | Val_acc 32.6446\n",
            "TRAIN: EPOCH 0007 / 0060 | Epoch LOSS 1.3238 | Epoch ACC 45.5000 | Val Loss 1.3926 | Val_acc 44.2149\n",
            "TRAIN: EPOCH 0008 / 0060 | Epoch LOSS 1.3318 | Epoch ACC 47.0000 | Val Loss 1.4171 | Val_acc 38.0165\n",
            "TRAIN: EPOCH 0009 / 0060 | Epoch LOSS 1.2534 | Epoch ACC 49.0000 | Val Loss 1.4911 | Val_acc 36.7769\n",
            "TRAIN: EPOCH 0010 / 0060 | Epoch LOSS 1.2033 | Epoch ACC 50.5000 | Val Loss 1.3754 | Val_acc 42.5620\n",
            "TRAIN: EPOCH 0011 / 0060 | Epoch LOSS 1.1040 | Epoch ACC 54.5000 | Val Loss 1.3161 | Val_acc 41.7355\n",
            "TRAIN: EPOCH 0012 / 0060 | Epoch LOSS 1.0812 | Epoch ACC 51.5000 | Val Loss 1.5065 | Val_acc 38.0165\n",
            "TRAIN: EPOCH 0013 / 0060 | Epoch LOSS 1.1120 | Epoch ACC 52.5000 | Val Loss 1.3423 | Val_acc 42.1488\n",
            "TRAIN: EPOCH 0014 / 0060 | Epoch LOSS 1.1113 | Epoch ACC 53.0000 | Val Loss 1.3997 | Val_acc 37.6033\n",
            "TRAIN: EPOCH 0015 / 0060 | Epoch LOSS 1.0707 | Epoch ACC 57.5000 | Val Loss 1.3300 | Val_acc 43.3884\n",
            "TRAIN: EPOCH 0016 / 0060 | Epoch LOSS 0.9973 | Epoch ACC 56.5000 | Val Loss 1.4054 | Val_acc 40.0826\n",
            "TRAIN: EPOCH 0017 / 0060 | Epoch LOSS 1.0191 | Epoch ACC 58.5000 | Val Loss 1.6139 | Val_acc 38.0165\n",
            "TRAIN: EPOCH 0018 / 0060 | Epoch LOSS 1.0864 | Epoch ACC 57.0000 | Val Loss 1.2684 | Val_acc 47.9339\n",
            "TRAIN: EPOCH 0019 / 0060 | Epoch LOSS 0.9699 | Epoch ACC 60.5000 | Val Loss 1.4219 | Val_acc 36.3636\n",
            "TRAIN: EPOCH 0020 / 0060 | Epoch LOSS 0.9345 | Epoch ACC 62.0000 | Val Loss 1.3083 | Val_acc 44.6281\n",
            "TRAIN: EPOCH 0021 / 0060 | Epoch LOSS 0.9802 | Epoch ACC 58.0000 | Val Loss 1.2872 | Val_acc 46.2810\n",
            "TRAIN: EPOCH 0022 / 0060 | Epoch LOSS 0.9152 | Epoch ACC 62.0000 | Val Loss 1.3697 | Val_acc 32.2314\n",
            "TRAIN: EPOCH 0023 / 0060 | Epoch LOSS 0.8265 | Epoch ACC 65.0000 | Val Loss 1.3979 | Val_acc 50.0000\n",
            "TRAIN: EPOCH 0024 / 0060 | Epoch LOSS 0.9510 | Epoch ACC 60.5000 | Val Loss 1.4127 | Val_acc 44.2149\n",
            "TRAIN: EPOCH 0025 / 0060 | Epoch LOSS 0.9287 | Epoch ACC 59.0000 | Val Loss 1.4793 | Val_acc 41.3223\n",
            "TRAIN: EPOCH 0026 / 0060 | Epoch LOSS 0.8569 | Epoch ACC 63.0000 | Val Loss 1.4244 | Val_acc 43.3884\n",
            "TRAIN: EPOCH 0027 / 0060 | Epoch LOSS 0.7727 | Epoch ACC 66.5000 | Val Loss 1.3321 | Val_acc 46.2810\n",
            "TRAIN: EPOCH 0028 / 0060 | Epoch LOSS 0.7821 | Epoch ACC 72.5000 | Val Loss 1.3718 | Val_acc 45.4545\n",
            "TRAIN: EPOCH 0029 / 0060 | Epoch LOSS 0.7640 | Epoch ACC 67.0000 | Val Loss 1.4476 | Val_acc 43.8017\n",
            "TRAIN: EPOCH 0030 / 0060 | Epoch LOSS 0.7690 | Epoch ACC 67.0000 | Val Loss 1.3378 | Val_acc 49.5868\n",
            "TRAIN: EPOCH 0031 / 0060 | Epoch LOSS 0.7551 | Epoch ACC 70.5000 | Val Loss 1.4350 | Val_acc 46.6942\n",
            "TRAIN: EPOCH 0032 / 0060 | Epoch LOSS 0.7578 | Epoch ACC 70.0000 | Val Loss 1.5922 | Val_acc 42.5620\n",
            "TRAIN: EPOCH 0033 / 0060 | Epoch LOSS 0.8882 | Epoch ACC 63.0000 | Val Loss 1.4252 | Val_acc 43.8017\n",
            "TRAIN: EPOCH 0034 / 0060 | Epoch LOSS 0.6829 | Epoch ACC 74.5000 | Val Loss 1.4573 | Val_acc 45.4545\n",
            "TRAIN: EPOCH 0035 / 0060 | Epoch LOSS 0.7422 | Epoch ACC 68.5000 | Val Loss 1.6160 | Val_acc 43.3884\n",
            "TRAIN: EPOCH 0036 / 0060 | Epoch LOSS 0.7859 | Epoch ACC 69.5000 | Val Loss 1.7041 | Val_acc 41.3223\n",
            "TRAIN: EPOCH 0037 / 0060 | Epoch LOSS 0.8549 | Epoch ACC 67.5000 | Val Loss 1.4273 | Val_acc 42.5620\n",
            "TRAIN: EPOCH 0038 / 0060 | Epoch LOSS 0.7921 | Epoch ACC 70.0000 | Val Loss 1.4836 | Val_acc 44.2149\n",
            "TRAIN: EPOCH 0039 / 0060 | Epoch LOSS 0.7554 | Epoch ACC 66.0000 | Val Loss 1.4194 | Val_acc 42.9752\n",
            "TRAIN: EPOCH 0040 / 0060 | Epoch LOSS 0.6715 | Epoch ACC 72.0000 | Val Loss 1.5145 | Val_acc 46.2810\n",
            "TRAIN: EPOCH 0041 / 0060 | Epoch LOSS 0.6521 | Epoch ACC 74.5000 | Val Loss 1.5500 | Val_acc 45.0413\n",
            "TRAIN: EPOCH 0042 / 0060 | Epoch LOSS 0.6204 | Epoch ACC 75.5000 | Val Loss 1.4211 | Val_acc 47.1074\n",
            "TRAIN: EPOCH 0043 / 0060 | Epoch LOSS 0.6166 | Epoch ACC 76.5000 | Val Loss 1.5202 | Val_acc 45.8678\n",
            "TRAIN: EPOCH 0044 / 0060 | Epoch LOSS 0.5673 | Epoch ACC 77.5000 | Val Loss 1.6587 | Val_acc 41.7355\n",
            "TRAIN: EPOCH 0045 / 0060 | Epoch LOSS 0.5318 | Epoch ACC 78.0000 | Val Loss 1.7224 | Val_acc 42.1488\n",
            "TRAIN: EPOCH 0046 / 0060 | Epoch LOSS 0.6671 | Epoch ACC 70.5000 | Val Loss 1.5882 | Val_acc 44.6281\n",
            "TRAIN: EPOCH 0047 / 0060 | Epoch LOSS 0.5321 | Epoch ACC 77.0000 | Val Loss 1.6880 | Val_acc 44.2149\n",
            "TRAIN: EPOCH 0048 / 0060 | Epoch LOSS 0.5251 | Epoch ACC 79.5000 | Val Loss 1.7757 | Val_acc 37.6033\n",
            "TRAIN: EPOCH 0049 / 0060 | Epoch LOSS 0.6011 | Epoch ACC 75.0000 | Val Loss 1.7438 | Val_acc 41.3223\n",
            "TRAIN: EPOCH 0050 / 0060 | Epoch LOSS 0.5662 | Epoch ACC 78.0000 | Val Loss 1.5757 | Val_acc 42.9752\n",
            "TRAIN: EPOCH 0051 / 0060 | Epoch LOSS 0.6647 | Epoch ACC 73.0000 | Val Loss 1.5001 | Val_acc 45.0413\n",
            "TRAIN: EPOCH 0052 / 0060 | Epoch LOSS 0.5511 | Epoch ACC 77.0000 | Val Loss 1.6371 | Val_acc 40.9091\n",
            "TRAIN: EPOCH 0053 / 0060 | Epoch LOSS 0.4744 | Epoch ACC 83.5000 | Val Loss 1.7269 | Val_acc 42.9752\n",
            "TRAIN: EPOCH 0054 / 0060 | Epoch LOSS 0.5414 | Epoch ACC 78.5000 | Val Loss 1.6190 | Val_acc 47.9339\n",
            "TRAIN: EPOCH 0055 / 0060 | Epoch LOSS 0.4369 | Epoch ACC 82.5000 | Val Loss 1.6653 | Val_acc 41.3223\n",
            "TRAIN: EPOCH 0056 / 0060 | Epoch LOSS 0.3909 | Epoch ACC 84.0000 | Val Loss 1.7387 | Val_acc 41.3223\n",
            "TRAIN: EPOCH 0057 / 0060 | Epoch LOSS 0.3542 | Epoch ACC 83.5000 | Val Loss 1.5767 | Val_acc 45.0413\n",
            "TRAIN: EPOCH 0058 / 0060 | Epoch LOSS 0.5463 | Epoch ACC 76.5000 | Val Loss 1.8529 | Val_acc 38.8430\n",
            "TRAIN: EPOCH 0059 / 0060 | Epoch LOSS 0.5363 | Epoch ACC 77.5000 | Val Loss 1.8838 | Val_acc 42.5620\n",
            "TRAIN: EPOCH 0060 / 0060 | Epoch LOSS 0.4087 | Epoch ACC 85.5000 | Val Loss 1.6367 | Val_acc 46.6942\n",
            "test: LOSS 1.6367 | Accuracy 46.6942 \n"
          ]
        },
        {
          "output_type": "display_data",
          "data": {
            "text/plain": [
              "<IPython.core.display.HTML object>"
            ],
            "text/html": [
              "Waiting for W&B process to finish... <strong style=\"color:green\">(success).</strong>"
            ]
          },
          "metadata": {}
        },
        {
          "output_type": "display_data",
          "data": {
            "text/plain": [
              "VBox(children=(Label(value='0.001 MB of 0.001 MB uploaded (0.000 MB deduped)\\r'), FloatProgress(value=1.0, max…"
            ],
            "application/vnd.jupyter.widget-view+json": {
              "version_major": 2,
              "version_minor": 0,
              "model_id": "413a2595b92b4ed0bc6591523a24164c"
            }
          },
          "metadata": {}
        },
        {
          "output_type": "display_data",
          "data": {
            "text/plain": [
              "<IPython.core.display.HTML object>"
            ],
            "text/html": [
              "<style>\n",
              "    table.wandb td:nth-child(1) { padding: 0 10px; text-align: left ; width: auto;} td:nth-child(2) {text-align: left ; width: 100%}\n",
              "    .wandb-row { display: flex; flex-direction: row; flex-wrap: wrap; justify-content: flex-start; width: 100% }\n",
              "    .wandb-col { display: flex; flex-direction: column; flex-basis: 100%; flex: 1; padding: 10px; }\n",
              "    </style>\n",
              "<div class=\"wandb-row\"><div class=\"wandb-col\"><h3>Run history:</h3><br/><table class=\"wandb\"><tr><td>test_acc</td><td>▁</td></tr><tr><td>test_loss</td><td>▁</td></tr><tr><td>train_acc</td><td>▁▂▃▃▄▄▄▅▅▅▅▅▅▆▆▆▅▆▇▆▆▆▇▆▆▆▇▇▇▇▆▇▇▇▇███▇█</td></tr><tr><td>train_loss</td><td>█▇▆▇▆▆▅▅▅▅▄▄▄▄▄▃▄▃▃▃▃▃▂▃▃▃▂▂▂▂▂▂▂▂▂▁▁▁▂▁</td></tr></table><br/></div><div class=\"wandb-col\"><h3>Run summary:</h3><br/><table class=\"wandb\"><tr><td>test_acc</td><td>46.69421</td></tr><tr><td>test_loss</td><td>1.63665</td></tr><tr><td>train_acc</td><td>85.5</td></tr><tr><td>train_loss</td><td>0.40869</td></tr></table><br/></div></div>"
            ]
          },
          "metadata": {}
        },
        {
          "output_type": "display_data",
          "data": {
            "text/plain": [
              "<IPython.core.display.HTML object>"
            ],
            "text/html": [
              "Synced <strong style=\"color:#cdcd00\">summer-sweep-1</strong>: <a href=\"https://wandb.ai/sb2539/osuleaf_mlp_only_rp_gr_grd-gat2/runs/xsya1gjc\" target=\"_blank\">https://wandb.ai/sb2539/osuleaf_mlp_only_rp_gr_grd-gat2/runs/xsya1gjc</a><br/>Synced 5 W&B file(s), 0 media file(s), 0 artifact file(s) and 0 other file(s)"
            ]
          },
          "metadata": {}
        },
        {
          "output_type": "display_data",
          "data": {
            "text/plain": [
              "<IPython.core.display.HTML object>"
            ],
            "text/html": [
              "Find logs at: <code>./wandb/run-20220801_120003-xsya1gjc/logs</code>"
            ]
          },
          "metadata": {}
        },
        {
          "output_type": "stream",
          "name": "stderr",
          "text": [
            "\u001b[34m\u001b[1mwandb\u001b[0m: Agent Starting Run: pi9rtukg with config:\n",
            "\u001b[34m\u001b[1mwandb\u001b[0m: \talpha: 0.2\n",
            "\u001b[34m\u001b[1mwandb\u001b[0m: \tchannel_dim: 128\n",
            "\u001b[34m\u001b[1mwandb\u001b[0m: \tdropout: 0.3\n",
            "\u001b[34m\u001b[1mwandb\u001b[0m: \tepochs: 60\n",
            "\u001b[34m\u001b[1mwandb\u001b[0m: \thidden_size: 256\n",
            "\u001b[34m\u001b[1mwandb\u001b[0m: \tlearning_rate: 0.0007502484495053897\n",
            "\u001b[34m\u001b[1mwandb\u001b[0m: \tnumber_of_layers: 8\n",
            "\u001b[34m\u001b[1mwandb\u001b[0m: \toptimizer: adam\n",
            "\u001b[34m\u001b[1mwandb\u001b[0m: \tpatch_size: 16\n",
            "\u001b[34m\u001b[1mwandb\u001b[0m: \ttoken_dim: 128\n",
            "\u001b[34m\u001b[1mwandb\u001b[0m: \u001b[33mWARNING\u001b[0m Ignored wandb.init() arg entity when running a sweep.\n"
          ]
        },
        {
          "output_type": "display_data",
          "data": {
            "text/plain": [
              "<IPython.core.display.HTML object>"
            ],
            "text/html": [
              "Tracking run with wandb version 0.12.21"
            ]
          },
          "metadata": {}
        },
        {
          "output_type": "display_data",
          "data": {
            "text/plain": [
              "<IPython.core.display.HTML object>"
            ],
            "text/html": [
              "Run data is saved locally in <code>/content/wandb/run-20220801_120425-pi9rtukg</code>"
            ]
          },
          "metadata": {}
        },
        {
          "output_type": "display_data",
          "data": {
            "text/plain": [
              "<IPython.core.display.HTML object>"
            ],
            "text/html": [
              "Syncing run <strong><a href=\"https://wandb.ai/sb2539/osuleaf_mlp_only_rp_gr_grd-gat2/runs/pi9rtukg\" target=\"_blank\">deft-sweep-2</a></strong> to <a href=\"https://wandb.ai/sb2539/osuleaf_mlp_only_rp_gr_grd-gat2\" target=\"_blank\">Weights & Biases</a> (<a href=\"https://wandb.me/run\" target=\"_blank\">docs</a>)<br/>Sweep page:  <a href=\"https://wandb.ai/sb2539/osuleaf_mlp_only_rp_gr_grd-gat2/sweeps/3idk05q8\" target=\"_blank\">https://wandb.ai/sb2539/osuleaf_mlp_only_rp_gr_grd-gat2/sweeps/3idk05q8</a>"
            ]
          },
          "metadata": {}
        },
        {
          "output_type": "stream",
          "name": "stdout",
          "text": [
            "TRAIN: EPOCH 0001 / 0060 | Epoch LOSS 1.8197 | Epoch ACC 22.0000 | Val Loss 1.7788 | Val_acc 16.1157\n",
            "TRAIN: EPOCH 0002 / 0060 | Epoch LOSS 1.7688 | Epoch ACC 16.0000 | Val Loss 1.8170 | Val_acc 18.1818\n",
            "TRAIN: EPOCH 0003 / 0060 | Epoch LOSS 1.7572 | Epoch ACC 26.5000 | Val Loss 1.7791 | Val_acc 18.1818\n",
            "TRAIN: EPOCH 0004 / 0060 | Epoch LOSS 1.7582 | Epoch ACC 24.0000 | Val Loss 1.8062 | Val_acc 18.1818\n",
            "TRAIN: EPOCH 0005 / 0060 | Epoch LOSS 1.7401 | Epoch ACC 25.5000 | Val Loss 1.7692 | Val_acc 22.7273\n",
            "TRAIN: EPOCH 0006 / 0060 | Epoch LOSS 1.7028 | Epoch ACC 29.5000 | Val Loss 1.8054 | Val_acc 18.5950\n",
            "TRAIN: EPOCH 0007 / 0060 | Epoch LOSS 1.6736 | Epoch ACC 29.5000 | Val Loss 1.7090 | Val_acc 29.7521\n",
            "TRAIN: EPOCH 0008 / 0060 | Epoch LOSS 1.5842 | Epoch ACC 35.5000 | Val Loss 1.7086 | Val_acc 30.5785\n",
            "TRAIN: EPOCH 0009 / 0060 | Epoch LOSS 1.4875 | Epoch ACC 37.5000 | Val Loss 1.6557 | Val_acc 31.4050\n",
            "TRAIN: EPOCH 0010 / 0060 | Epoch LOSS 1.4822 | Epoch ACC 40.5000 | Val Loss 1.5414 | Val_acc 31.8182\n",
            "TRAIN: EPOCH 0011 / 0060 | Epoch LOSS 1.4823 | Epoch ACC 42.0000 | Val Loss 1.5811 | Val_acc 30.9917\n",
            "TRAIN: EPOCH 0012 / 0060 | Epoch LOSS 1.4082 | Epoch ACC 47.0000 | Val Loss 1.4902 | Val_acc 35.9504\n",
            "TRAIN: EPOCH 0013 / 0060 | Epoch LOSS 1.3133 | Epoch ACC 44.0000 | Val Loss 1.4350 | Val_acc 37.1901\n",
            "TRAIN: EPOCH 0014 / 0060 | Epoch LOSS 1.3074 | Epoch ACC 48.0000 | Val Loss 1.5385 | Val_acc 36.7769\n",
            "TRAIN: EPOCH 0015 / 0060 | Epoch LOSS 1.4573 | Epoch ACC 41.5000 | Val Loss 1.5210 | Val_acc 38.4298\n",
            "TRAIN: EPOCH 0016 / 0060 | Epoch LOSS 1.4442 | Epoch ACC 47.0000 | Val Loss 1.5317 | Val_acc 35.5372\n",
            "TRAIN: EPOCH 0017 / 0060 | Epoch LOSS 1.3480 | Epoch ACC 48.0000 | Val Loss 1.5375 | Val_acc 36.7769\n",
            "TRAIN: EPOCH 0018 / 0060 | Epoch LOSS 1.3448 | Epoch ACC 46.5000 | Val Loss 1.4716 | Val_acc 33.0579\n",
            "TRAIN: EPOCH 0019 / 0060 | Epoch LOSS 1.3161 | Epoch ACC 48.5000 | Val Loss 1.5059 | Val_acc 37.1901\n",
            "TRAIN: EPOCH 0020 / 0060 | Epoch LOSS 1.3248 | Epoch ACC 50.5000 | Val Loss 1.5521 | Val_acc 32.6446\n",
            "TRAIN: EPOCH 0021 / 0060 | Epoch LOSS 1.2460 | Epoch ACC 52.5000 | Val Loss 1.5155 | Val_acc 38.4298\n",
            "TRAIN: EPOCH 0022 / 0060 | Epoch LOSS 1.2689 | Epoch ACC 49.0000 | Val Loss 1.4892 | Val_acc 36.7769\n",
            "TRAIN: EPOCH 0023 / 0060 | Epoch LOSS 1.2085 | Epoch ACC 53.0000 | Val Loss 1.5964 | Val_acc 35.1240\n",
            "TRAIN: EPOCH 0024 / 0060 | Epoch LOSS 1.1914 | Epoch ACC 52.5000 | Val Loss 1.6538 | Val_acc 35.9504\n",
            "TRAIN: EPOCH 0025 / 0060 | Epoch LOSS 1.1632 | Epoch ACC 56.0000 | Val Loss 1.5198 | Val_acc 40.9091\n",
            "TRAIN: EPOCH 0026 / 0060 | Epoch LOSS 1.3129 | Epoch ACC 49.0000 | Val Loss 1.5895 | Val_acc 37.1901\n",
            "TRAIN: EPOCH 0027 / 0060 | Epoch LOSS 1.2948 | Epoch ACC 46.5000 | Val Loss 1.5426 | Val_acc 39.6694\n",
            "TRAIN: EPOCH 0028 / 0060 | Epoch LOSS 1.1031 | Epoch ACC 59.0000 | Val Loss 1.4590 | Val_acc 38.8430\n",
            "TRAIN: EPOCH 0029 / 0060 | Epoch LOSS 1.2351 | Epoch ACC 52.0000 | Val Loss 1.4297 | Val_acc 39.2562\n",
            "TRAIN: EPOCH 0030 / 0060 | Epoch LOSS 1.1820 | Epoch ACC 55.0000 | Val Loss 1.4943 | Val_acc 39.2562\n",
            "TRAIN: EPOCH 0031 / 0060 | Epoch LOSS 1.0578 | Epoch ACC 56.0000 | Val Loss 1.5159 | Val_acc 39.6694\n",
            "TRAIN: EPOCH 0032 / 0060 | Epoch LOSS 1.1795 | Epoch ACC 55.0000 | Val Loss 1.5629 | Val_acc 40.0826\n",
            "TRAIN: EPOCH 0033 / 0060 | Epoch LOSS 1.0733 | Epoch ACC 61.0000 | Val Loss 1.4588 | Val_acc 45.8678\n",
            "TRAIN: EPOCH 0034 / 0060 | Epoch LOSS 1.0840 | Epoch ACC 56.0000 | Val Loss 1.4544 | Val_acc 40.9091\n",
            "TRAIN: EPOCH 0035 / 0060 | Epoch LOSS 1.0122 | Epoch ACC 61.5000 | Val Loss 1.4993 | Val_acc 43.3884\n",
            "TRAIN: EPOCH 0036 / 0060 | Epoch LOSS 1.0236 | Epoch ACC 59.5000 | Val Loss 1.4842 | Val_acc 41.7355\n",
            "TRAIN: EPOCH 0037 / 0060 | Epoch LOSS 1.1271 | Epoch ACC 54.5000 | Val Loss 1.4631 | Val_acc 42.9752\n",
            "TRAIN: EPOCH 0038 / 0060 | Epoch LOSS 1.0596 | Epoch ACC 57.5000 | Val Loss 1.3871 | Val_acc 40.0826\n",
            "TRAIN: EPOCH 0039 / 0060 | Epoch LOSS 0.9695 | Epoch ACC 62.5000 | Val Loss 1.6046 | Val_acc 38.0165\n",
            "TRAIN: EPOCH 0040 / 0060 | Epoch LOSS 1.1891 | Epoch ACC 55.0000 | Val Loss 1.4675 | Val_acc 40.9091\n",
            "TRAIN: EPOCH 0041 / 0060 | Epoch LOSS 0.9929 | Epoch ACC 60.0000 | Val Loss 1.4410 | Val_acc 42.5620\n",
            "TRAIN: EPOCH 0042 / 0060 | Epoch LOSS 1.0175 | Epoch ACC 62.5000 | Val Loss 1.5970 | Val_acc 38.0165\n",
            "TRAIN: EPOCH 0043 / 0060 | Epoch LOSS 1.1129 | Epoch ACC 56.0000 | Val Loss 1.4568 | Val_acc 42.1488\n",
            "TRAIN: EPOCH 0044 / 0060 | Epoch LOSS 0.9639 | Epoch ACC 66.0000 | Val Loss 1.3703 | Val_acc 42.9752\n",
            "TRAIN: EPOCH 0045 / 0060 | Epoch LOSS 0.9153 | Epoch ACC 67.5000 | Val Loss 1.5037 | Val_acc 41.7355\n",
            "TRAIN: EPOCH 0046 / 0060 | Epoch LOSS 0.9770 | Epoch ACC 62.0000 | Val Loss 1.5340 | Val_acc 40.4959\n",
            "TRAIN: EPOCH 0047 / 0060 | Epoch LOSS 0.8977 | Epoch ACC 64.5000 | Val Loss 1.5159 | Val_acc 39.6694\n",
            "TRAIN: EPOCH 0048 / 0060 | Epoch LOSS 0.8954 | Epoch ACC 67.5000 | Val Loss 1.6638 | Val_acc 40.0826\n",
            "TRAIN: EPOCH 0049 / 0060 | Epoch LOSS 1.0855 | Epoch ACC 53.0000 | Val Loss 1.6158 | Val_acc 35.5372\n",
            "TRAIN: EPOCH 0050 / 0060 | Epoch LOSS 1.0784 | Epoch ACC 58.0000 | Val Loss 1.7985 | Val_acc 38.4298\n",
            "TRAIN: EPOCH 0051 / 0060 | Epoch LOSS 1.0287 | Epoch ACC 60.5000 | Val Loss 1.6657 | Val_acc 33.4711\n",
            "TRAIN: EPOCH 0052 / 0060 | Epoch LOSS 0.9344 | Epoch ACC 65.0000 | Val Loss 1.5834 | Val_acc 40.9091\n",
            "TRAIN: EPOCH 0053 / 0060 | Epoch LOSS 1.0034 | Epoch ACC 58.5000 | Val Loss 1.5398 | Val_acc 40.4959\n",
            "TRAIN: EPOCH 0054 / 0060 | Epoch LOSS 1.0175 | Epoch ACC 63.5000 | Val Loss 1.6501 | Val_acc 39.6694\n",
            "TRAIN: EPOCH 0055 / 0060 | Epoch LOSS 1.0466 | Epoch ACC 59.5000 | Val Loss 1.5568 | Val_acc 40.0826\n",
            "TRAIN: EPOCH 0056 / 0060 | Epoch LOSS 1.1775 | Epoch ACC 52.0000 | Val Loss 1.9548 | Val_acc 31.8182\n",
            "TRAIN: EPOCH 0057 / 0060 | Epoch LOSS 1.1010 | Epoch ACC 58.5000 | Val Loss 1.6278 | Val_acc 38.8430\n",
            "TRAIN: EPOCH 0058 / 0060 | Epoch LOSS 0.9783 | Epoch ACC 60.5000 | Val Loss 1.4961 | Val_acc 41.7355\n",
            "TRAIN: EPOCH 0059 / 0060 | Epoch LOSS 0.8376 | Epoch ACC 65.5000 | Val Loss 1.5433 | Val_acc 37.1901\n",
            "TRAIN: EPOCH 0060 / 0060 | Epoch LOSS 0.7926 | Epoch ACC 70.0000 | Val Loss 1.7677 | Val_acc 35.9504\n",
            "test: LOSS 1.9235 | Accuracy 37.6033 \n"
          ]
        },
        {
          "output_type": "display_data",
          "data": {
            "text/plain": [
              "<IPython.core.display.HTML object>"
            ],
            "text/html": [
              "Waiting for W&B process to finish... <strong style=\"color:green\">(success).</strong>"
            ]
          },
          "metadata": {}
        },
        {
          "output_type": "display_data",
          "data": {
            "text/plain": [
              "VBox(children=(Label(value='0.001 MB of 0.001 MB uploaded (0.000 MB deduped)\\r'), FloatProgress(value=1.0, max…"
            ],
            "application/vnd.jupyter.widget-view+json": {
              "version_major": 2,
              "version_minor": 0,
              "model_id": "3560484c9cab40f887ae184fe290533c"
            }
          },
          "metadata": {}
        },
        {
          "output_type": "display_data",
          "data": {
            "text/plain": [
              "<IPython.core.display.HTML object>"
            ],
            "text/html": [
              "<style>\n",
              "    table.wandb td:nth-child(1) { padding: 0 10px; text-align: left ; width: auto;} td:nth-child(2) {text-align: left ; width: 100%}\n",
              "    .wandb-row { display: flex; flex-direction: row; flex-wrap: wrap; justify-content: flex-start; width: 100% }\n",
              "    .wandb-col { display: flex; flex-direction: column; flex-basis: 100%; flex: 1; padding: 10px; }\n",
              "    </style>\n",
              "<div class=\"wandb-row\"><div class=\"wandb-col\"><h3>Run history:</h3><br/><table class=\"wandb\"><tr><td>test_acc</td><td>▁</td></tr><tr><td>test_loss</td><td>▁</td></tr><tr><td>train_acc</td><td>▂▁▂▂▃▄▄▄▅▅▅▅▅▅▅▆▆▅▇▆▆▆▆▇▆▆▆▇▆▇▇▇▆▆▇▇▇▆▇█</td></tr><tr><td>train_loss</td><td>███▇▇▆▆▆▅▅▅▅▅▅▄▄▄▅▃▄▃▄▃▂▃▃▄▂▃▂▂▂▃▃▂▂▃▄▂▁</td></tr></table><br/></div><div class=\"wandb-col\"><h3>Run summary:</h3><br/><table class=\"wandb\"><tr><td>test_acc</td><td>37.60331</td></tr><tr><td>test_loss</td><td>1.92351</td></tr><tr><td>train_acc</td><td>70.0</td></tr><tr><td>train_loss</td><td>0.79263</td></tr></table><br/></div></div>"
            ]
          },
          "metadata": {}
        },
        {
          "output_type": "display_data",
          "data": {
            "text/plain": [
              "<IPython.core.display.HTML object>"
            ],
            "text/html": [
              "Synced <strong style=\"color:#cdcd00\">deft-sweep-2</strong>: <a href=\"https://wandb.ai/sb2539/osuleaf_mlp_only_rp_gr_grd-gat2/runs/pi9rtukg\" target=\"_blank\">https://wandb.ai/sb2539/osuleaf_mlp_only_rp_gr_grd-gat2/runs/pi9rtukg</a><br/>Synced 5 W&B file(s), 0 media file(s), 0 artifact file(s) and 0 other file(s)"
            ]
          },
          "metadata": {}
        },
        {
          "output_type": "display_data",
          "data": {
            "text/plain": [
              "<IPython.core.display.HTML object>"
            ],
            "text/html": [
              "Find logs at: <code>./wandb/run-20220801_120425-pi9rtukg/logs</code>"
            ]
          },
          "metadata": {}
        },
        {
          "output_type": "stream",
          "name": "stderr",
          "text": [
            "\u001b[34m\u001b[1mwandb\u001b[0m: Agent Starting Run: dxgevfer with config:\n",
            "\u001b[34m\u001b[1mwandb\u001b[0m: \talpha: 0.2\n",
            "\u001b[34m\u001b[1mwandb\u001b[0m: \tchannel_dim: 64\n",
            "\u001b[34m\u001b[1mwandb\u001b[0m: \tdropout: 0.5\n",
            "\u001b[34m\u001b[1mwandb\u001b[0m: \tepochs: 60\n",
            "\u001b[34m\u001b[1mwandb\u001b[0m: \thidden_size: 256\n",
            "\u001b[34m\u001b[1mwandb\u001b[0m: \tlearning_rate: 0.0007124166351016572\n",
            "\u001b[34m\u001b[1mwandb\u001b[0m: \tnumber_of_layers: 16\n",
            "\u001b[34m\u001b[1mwandb\u001b[0m: \toptimizer: adam\n",
            "\u001b[34m\u001b[1mwandb\u001b[0m: \tpatch_size: 8\n",
            "\u001b[34m\u001b[1mwandb\u001b[0m: \ttoken_dim: 256\n",
            "\u001b[34m\u001b[1mwandb\u001b[0m: \u001b[33mWARNING\u001b[0m Ignored wandb.init() arg entity when running a sweep.\n"
          ]
        },
        {
          "output_type": "display_data",
          "data": {
            "text/plain": [
              "<IPython.core.display.HTML object>"
            ],
            "text/html": [
              "Tracking run with wandb version 0.12.21"
            ]
          },
          "metadata": {}
        },
        {
          "output_type": "display_data",
          "data": {
            "text/plain": [
              "<IPython.core.display.HTML object>"
            ],
            "text/html": [
              "Run data is saved locally in <code>/content/wandb/run-20220801_120805-dxgevfer</code>"
            ]
          },
          "metadata": {}
        },
        {
          "output_type": "display_data",
          "data": {
            "text/plain": [
              "<IPython.core.display.HTML object>"
            ],
            "text/html": [
              "Syncing run <strong><a href=\"https://wandb.ai/sb2539/osuleaf_mlp_only_rp_gr_grd-gat2/runs/dxgevfer\" target=\"_blank\">dazzling-sweep-3</a></strong> to <a href=\"https://wandb.ai/sb2539/osuleaf_mlp_only_rp_gr_grd-gat2\" target=\"_blank\">Weights & Biases</a> (<a href=\"https://wandb.me/run\" target=\"_blank\">docs</a>)<br/>Sweep page:  <a href=\"https://wandb.ai/sb2539/osuleaf_mlp_only_rp_gr_grd-gat2/sweeps/3idk05q8\" target=\"_blank\">https://wandb.ai/sb2539/osuleaf_mlp_only_rp_gr_grd-gat2/sweeps/3idk05q8</a>"
            ]
          },
          "metadata": {}
        },
        {
          "output_type": "stream",
          "name": "stdout",
          "text": [
            "TRAIN: EPOCH 0001 / 0060 | Epoch LOSS 1.7700 | Epoch ACC 26.5000 | Val Loss 1.7955 | Val_acc 18.1818\n",
            "TRAIN: EPOCH 0002 / 0060 | Epoch LOSS 1.7458 | Epoch ACC 25.5000 | Val Loss 1.7806 | Val_acc 18.1818\n",
            "TRAIN: EPOCH 0003 / 0060 | Epoch LOSS 1.6412 | Epoch ACC 36.5000 | Val Loss 1.6504 | Val_acc 28.5124\n",
            "TRAIN: EPOCH 0004 / 0060 | Epoch LOSS 1.6023 | Epoch ACC 33.0000 | Val Loss 2.0700 | Val_acc 24.7934\n",
            "TRAIN: EPOCH 0005 / 0060 | Epoch LOSS 1.7424 | Epoch ACC 24.0000 | Val Loss 1.7424 | Val_acc 19.0083\n",
            "TRAIN: EPOCH 0006 / 0060 | Epoch LOSS 1.5856 | Epoch ACC 38.0000 | Val Loss 1.5578 | Val_acc 35.9504\n",
            "TRAIN: EPOCH 0007 / 0060 | Epoch LOSS 1.4334 | Epoch ACC 46.0000 | Val Loss 1.5116 | Val_acc 33.4711\n",
            "TRAIN: EPOCH 0008 / 0060 | Epoch LOSS 1.3758 | Epoch ACC 45.5000 | Val Loss 1.5165 | Val_acc 35.9504\n",
            "TRAIN: EPOCH 0009 / 0060 | Epoch LOSS 1.4021 | Epoch ACC 44.5000 | Val Loss 1.4587 | Val_acc 38.0165\n",
            "TRAIN: EPOCH 0010 / 0060 | Epoch LOSS 1.3524 | Epoch ACC 43.5000 | Val Loss 1.4338 | Val_acc 35.1240\n",
            "TRAIN: EPOCH 0011 / 0060 | Epoch LOSS 1.2698 | Epoch ACC 48.0000 | Val Loss 1.5685 | Val_acc 30.9917\n",
            "TRAIN: EPOCH 0012 / 0060 | Epoch LOSS 1.2463 | Epoch ACC 50.0000 | Val Loss 1.3488 | Val_acc 40.9091\n",
            "TRAIN: EPOCH 0013 / 0060 | Epoch LOSS 1.2157 | Epoch ACC 53.0000 | Val Loss 1.3602 | Val_acc 44.6281\n",
            "TRAIN: EPOCH 0014 / 0060 | Epoch LOSS 1.2065 | Epoch ACC 48.0000 | Val Loss 1.4904 | Val_acc 35.1240\n",
            "TRAIN: EPOCH 0015 / 0060 | Epoch LOSS 1.2199 | Epoch ACC 51.0000 | Val Loss 1.3820 | Val_acc 43.8017\n",
            "TRAIN: EPOCH 0016 / 0060 | Epoch LOSS 1.1403 | Epoch ACC 52.0000 | Val Loss 1.3971 | Val_acc 40.9091\n",
            "TRAIN: EPOCH 0017 / 0060 | Epoch LOSS 1.1815 | Epoch ACC 51.5000 | Val Loss 1.3190 | Val_acc 46.6942\n",
            "TRAIN: EPOCH 0018 / 0060 | Epoch LOSS 1.2078 | Epoch ACC 51.5000 | Val Loss 1.3913 | Val_acc 37.1901\n",
            "TRAIN: EPOCH 0019 / 0060 | Epoch LOSS 1.1139 | Epoch ACC 51.0000 | Val Loss 1.5638 | Val_acc 35.1240\n",
            "TRAIN: EPOCH 0020 / 0060 | Epoch LOSS 1.0901 | Epoch ACC 57.5000 | Val Loss 1.3383 | Val_acc 44.6281\n",
            "TRAIN: EPOCH 0021 / 0060 | Epoch LOSS 1.1117 | Epoch ACC 56.5000 | Val Loss 1.5129 | Val_acc 38.8430\n",
            "TRAIN: EPOCH 0022 / 0060 | Epoch LOSS 1.1022 | Epoch ACC 55.0000 | Val Loss 1.3194 | Val_acc 42.5620\n",
            "TRAIN: EPOCH 0023 / 0060 | Epoch LOSS 1.0473 | Epoch ACC 55.5000 | Val Loss 1.4050 | Val_acc 40.0826\n",
            "TRAIN: EPOCH 0024 / 0060 | Epoch LOSS 1.1605 | Epoch ACC 53.0000 | Val Loss 1.3905 | Val_acc 44.2149\n",
            "TRAIN: EPOCH 0025 / 0060 | Epoch LOSS 1.0211 | Epoch ACC 60.5000 | Val Loss 1.3181 | Val_acc 43.3884\n",
            "TRAIN: EPOCH 0026 / 0060 | Epoch LOSS 0.9926 | Epoch ACC 61.0000 | Val Loss 1.3955 | Val_acc 45.8678\n",
            "TRAIN: EPOCH 0027 / 0060 | Epoch LOSS 0.9843 | Epoch ACC 61.5000 | Val Loss 1.3862 | Val_acc 43.8017\n",
            "TRAIN: EPOCH 0028 / 0060 | Epoch LOSS 0.9428 | Epoch ACC 62.0000 | Val Loss 1.5079 | Val_acc 39.2562\n",
            "TRAIN: EPOCH 0029 / 0060 | Epoch LOSS 0.9613 | Epoch ACC 63.0000 | Val Loss 1.3797 | Val_acc 47.1074\n",
            "TRAIN: EPOCH 0030 / 0060 | Epoch LOSS 0.9330 | Epoch ACC 61.5000 | Val Loss 1.5679 | Val_acc 40.9091\n",
            "TRAIN: EPOCH 0031 / 0060 | Epoch LOSS 0.8629 | Epoch ACC 63.5000 | Val Loss 1.3886 | Val_acc 44.2149\n",
            "TRAIN: EPOCH 0032 / 0060 | Epoch LOSS 0.8429 | Epoch ACC 64.5000 | Val Loss 1.4943 | Val_acc 43.8017\n",
            "TRAIN: EPOCH 0033 / 0060 | Epoch LOSS 0.8463 | Epoch ACC 66.5000 | Val Loss 1.3864 | Val_acc 47.1074\n",
            "TRAIN: EPOCH 0034 / 0060 | Epoch LOSS 0.8522 | Epoch ACC 64.5000 | Val Loss 1.4780 | Val_acc 45.4545\n",
            "TRAIN: EPOCH 0035 / 0060 | Epoch LOSS 0.8491 | Epoch ACC 65.5000 | Val Loss 1.3819 | Val_acc 50.8264\n",
            "TRAIN: EPOCH 0036 / 0060 | Epoch LOSS 0.8312 | Epoch ACC 65.5000 | Val Loss 1.4573 | Val_acc 44.6281\n",
            "TRAIN: EPOCH 0037 / 0060 | Epoch LOSS 0.7774 | Epoch ACC 65.5000 | Val Loss 1.5076 | Val_acc 44.6281\n",
            "TRAIN: EPOCH 0038 / 0060 | Epoch LOSS 0.8747 | Epoch ACC 64.5000 | Val Loss 1.5123 | Val_acc 42.9752\n",
            "TRAIN: EPOCH 0039 / 0060 | Epoch LOSS 0.9641 | Epoch ACC 60.5000 | Val Loss 1.3332 | Val_acc 42.5620\n",
            "TRAIN: EPOCH 0040 / 0060 | Epoch LOSS 0.8337 | Epoch ACC 67.0000 | Val Loss 1.4931 | Val_acc 45.0413\n",
            "TRAIN: EPOCH 0041 / 0060 | Epoch LOSS 0.8360 | Epoch ACC 66.0000 | Val Loss 1.3580 | Val_acc 45.4545\n",
            "TRAIN: EPOCH 0042 / 0060 | Epoch LOSS 0.7478 | Epoch ACC 69.5000 | Val Loss 1.4640 | Val_acc 42.5620\n",
            "TRAIN: EPOCH 0043 / 0060 | Epoch LOSS 0.9696 | Epoch ACC 63.0000 | Val Loss 1.4174 | Val_acc 45.8678\n",
            "TRAIN: EPOCH 0044 / 0060 | Epoch LOSS 0.8998 | Epoch ACC 63.0000 | Val Loss 1.5056 | Val_acc 41.3223\n",
            "TRAIN: EPOCH 0045 / 0060 | Epoch LOSS 0.8337 | Epoch ACC 68.0000 | Val Loss 1.5428 | Val_acc 38.8430\n",
            "TRAIN: EPOCH 0046 / 0060 | Epoch LOSS 0.9421 | Epoch ACC 63.0000 | Val Loss 1.4302 | Val_acc 45.0413\n",
            "TRAIN: EPOCH 0047 / 0060 | Epoch LOSS 0.8187 | Epoch ACC 68.0000 | Val Loss 1.5341 | Val_acc 41.7355\n",
            "TRAIN: EPOCH 0048 / 0060 | Epoch LOSS 0.7529 | Epoch ACC 70.0000 | Val Loss 1.5216 | Val_acc 41.7355\n",
            "TRAIN: EPOCH 0049 / 0060 | Epoch LOSS 0.7499 | Epoch ACC 71.5000 | Val Loss 1.5129 | Val_acc 45.8678\n",
            "TRAIN: EPOCH 0050 / 0060 | Epoch LOSS 0.6851 | Epoch ACC 69.5000 | Val Loss 1.5929 | Val_acc 46.2810\n",
            "TRAIN: EPOCH 0051 / 0060 | Epoch LOSS 0.6517 | Epoch ACC 73.5000 | Val Loss 1.5655 | Val_acc 45.0413\n",
            "TRAIN: EPOCH 0052 / 0060 | Epoch LOSS 0.5440 | Epoch ACC 78.5000 | Val Loss 2.0487 | Val_acc 40.4959\n",
            "TRAIN: EPOCH 0053 / 0060 | Epoch LOSS 0.6626 | Epoch ACC 75.5000 | Val Loss 1.6818 | Val_acc 47.5207\n",
            "TRAIN: EPOCH 0054 / 0060 | Epoch LOSS 0.5969 | Epoch ACC 76.5000 | Val Loss 1.7071 | Val_acc 44.6281\n",
            "TRAIN: EPOCH 0055 / 0060 | Epoch LOSS 0.6636 | Epoch ACC 71.0000 | Val Loss 1.7733 | Val_acc 40.0826\n",
            "TRAIN: EPOCH 0056 / 0060 | Epoch LOSS 0.6333 | Epoch ACC 74.0000 | Val Loss 1.6717 | Val_acc 49.1736\n",
            "TRAIN: EPOCH 0057 / 0060 | Epoch LOSS 0.5765 | Epoch ACC 75.0000 | Val Loss 1.9012 | Val_acc 42.9752\n",
            "TRAIN: EPOCH 0058 / 0060 | Epoch LOSS 0.5719 | Epoch ACC 74.0000 | Val Loss 1.7979 | Val_acc 42.9752\n",
            "TRAIN: EPOCH 0059 / 0060 | Epoch LOSS 0.5639 | Epoch ACC 77.0000 | Val Loss 1.8495 | Val_acc 41.7355\n",
            "TRAIN: EPOCH 0060 / 0060 | Epoch LOSS 0.6095 | Epoch ACC 76.0000 | Val Loss 1.7762 | Val_acc 43.8017\n",
            "test: LOSS 1.9105 | Accuracy 46.6942 \n"
          ]
        },
        {
          "output_type": "display_data",
          "data": {
            "text/plain": [
              "<IPython.core.display.HTML object>"
            ],
            "text/html": [
              "Waiting for W&B process to finish... <strong style=\"color:green\">(success).</strong>"
            ]
          },
          "metadata": {}
        },
        {
          "output_type": "display_data",
          "data": {
            "text/plain": [
              "VBox(children=(Label(value='0.001 MB of 0.001 MB uploaded (0.000 MB deduped)\\r'), FloatProgress(value=1.0, max…"
            ],
            "application/vnd.jupyter.widget-view+json": {
              "version_major": 2,
              "version_minor": 0,
              "model_id": "60dee6ecc5454086938cf1fd5711541d"
            }
          },
          "metadata": {}
        },
        {
          "output_type": "display_data",
          "data": {
            "text/plain": [
              "<IPython.core.display.HTML object>"
            ],
            "text/html": [
              "<style>\n",
              "    table.wandb td:nth-child(1) { padding: 0 10px; text-align: left ; width: auto;} td:nth-child(2) {text-align: left ; width: 100%}\n",
              "    .wandb-row { display: flex; flex-direction: row; flex-wrap: wrap; justify-content: flex-start; width: 100% }\n",
              "    .wandb-col { display: flex; flex-direction: column; flex-basis: 100%; flex: 1; padding: 10px; }\n",
              "    </style>\n",
              "<div class=\"wandb-row\"><div class=\"wandb-col\"><h3>Run history:</h3><br/><table class=\"wandb\"><tr><td>test_acc</td><td>▁</td></tr><tr><td>test_loss</td><td>▁</td></tr><tr><td>train_acc</td><td>▁▁▂▁▄▄▄▄▅▄▅▅▄▅▅▅▆▆▆▆▆▆▆▆▆▆▇▆▆▆▆▇▇▇██▇▇▇█</td></tr><tr><td>train_loss</td><td>██▇█▆▆▆▅▅▅▄▅▄▄▄▄▄▄▃▃▃▃▃▃▂▃▃▃▃▃▃▃▂▂▁▂▂▂▁▁</td></tr></table><br/></div><div class=\"wandb-col\"><h3>Run summary:</h3><br/><table class=\"wandb\"><tr><td>test_acc</td><td>46.69421</td></tr><tr><td>test_loss</td><td>1.91053</td></tr><tr><td>train_acc</td><td>76.0</td></tr><tr><td>train_loss</td><td>0.60955</td></tr></table><br/></div></div>"
            ]
          },
          "metadata": {}
        },
        {
          "output_type": "display_data",
          "data": {
            "text/plain": [
              "<IPython.core.display.HTML object>"
            ],
            "text/html": [
              "Synced <strong style=\"color:#cdcd00\">dazzling-sweep-3</strong>: <a href=\"https://wandb.ai/sb2539/osuleaf_mlp_only_rp_gr_grd-gat2/runs/dxgevfer\" target=\"_blank\">https://wandb.ai/sb2539/osuleaf_mlp_only_rp_gr_grd-gat2/runs/dxgevfer</a><br/>Synced 5 W&B file(s), 0 media file(s), 0 artifact file(s) and 0 other file(s)"
            ]
          },
          "metadata": {}
        },
        {
          "output_type": "display_data",
          "data": {
            "text/plain": [
              "<IPython.core.display.HTML object>"
            ],
            "text/html": [
              "Find logs at: <code>./wandb/run-20220801_120805-dxgevfer/logs</code>"
            ]
          },
          "metadata": {}
        },
        {
          "output_type": "stream",
          "name": "stderr",
          "text": [
            "\u001b[34m\u001b[1mwandb\u001b[0m: Agent Starting Run: y71qion6 with config:\n",
            "\u001b[34m\u001b[1mwandb\u001b[0m: \talpha: 0.2\n",
            "\u001b[34m\u001b[1mwandb\u001b[0m: \tchannel_dim: 64\n",
            "\u001b[34m\u001b[1mwandb\u001b[0m: \tdropout: 0\n",
            "\u001b[34m\u001b[1mwandb\u001b[0m: \tepochs: 60\n",
            "\u001b[34m\u001b[1mwandb\u001b[0m: \thidden_size: 128\n",
            "\u001b[34m\u001b[1mwandb\u001b[0m: \tlearning_rate: 0.0008043326793268523\n",
            "\u001b[34m\u001b[1mwandb\u001b[0m: \tnumber_of_layers: 16\n",
            "\u001b[34m\u001b[1mwandb\u001b[0m: \toptimizer: adam\n",
            "\u001b[34m\u001b[1mwandb\u001b[0m: \tpatch_size: 4\n",
            "\u001b[34m\u001b[1mwandb\u001b[0m: \ttoken_dim: 32\n",
            "\u001b[34m\u001b[1mwandb\u001b[0m: \u001b[33mWARNING\u001b[0m Ignored wandb.init() arg entity when running a sweep.\n"
          ]
        },
        {
          "output_type": "display_data",
          "data": {
            "text/plain": [
              "<IPython.core.display.HTML object>"
            ],
            "text/html": [
              "Tracking run with wandb version 0.12.21"
            ]
          },
          "metadata": {}
        },
        {
          "output_type": "display_data",
          "data": {
            "text/plain": [
              "<IPython.core.display.HTML object>"
            ],
            "text/html": [
              "Run data is saved locally in <code>/content/wandb/run-20220801_122128-y71qion6</code>"
            ]
          },
          "metadata": {}
        },
        {
          "output_type": "display_data",
          "data": {
            "text/plain": [
              "<IPython.core.display.HTML object>"
            ],
            "text/html": [
              "Syncing run <strong><a href=\"https://wandb.ai/sb2539/osuleaf_mlp_only_rp_gr_grd-gat2/runs/y71qion6\" target=\"_blank\">resilient-sweep-4</a></strong> to <a href=\"https://wandb.ai/sb2539/osuleaf_mlp_only_rp_gr_grd-gat2\" target=\"_blank\">Weights & Biases</a> (<a href=\"https://wandb.me/run\" target=\"_blank\">docs</a>)<br/>Sweep page:  <a href=\"https://wandb.ai/sb2539/osuleaf_mlp_only_rp_gr_grd-gat2/sweeps/3idk05q8\" target=\"_blank\">https://wandb.ai/sb2539/osuleaf_mlp_only_rp_gr_grd-gat2/sweeps/3idk05q8</a>"
            ]
          },
          "metadata": {}
        },
        {
          "output_type": "stream",
          "name": "stdout",
          "text": [
            "TRAIN: EPOCH 0001 / 0060 | Epoch LOSS 1.8099 | Epoch ACC 23.5000 | Val Loss 1.7815 | Val_acc 18.1818\n",
            "TRAIN: EPOCH 0002 / 0060 | Epoch LOSS 1.7514 | Epoch ACC 26.5000 | Val Loss 1.7830 | Val_acc 18.1818\n",
            "TRAIN: EPOCH 0003 / 0060 | Epoch LOSS 1.7451 | Epoch ACC 26.5000 | Val Loss 1.7715 | Val_acc 18.1818\n",
            "TRAIN: EPOCH 0004 / 0060 | Epoch LOSS 1.7119 | Epoch ACC 28.0000 | Val Loss 1.7103 | Val_acc 28.9256\n",
            "TRAIN: EPOCH 0005 / 0060 | Epoch LOSS 1.6073 | Epoch ACC 38.0000 | Val Loss 1.6488 | Val_acc 29.3388\n",
            "TRAIN: EPOCH 0006 / 0060 | Epoch LOSS 1.5230 | Epoch ACC 41.5000 | Val Loss 1.5526 | Val_acc 31.8182\n",
            "TRAIN: EPOCH 0007 / 0060 | Epoch LOSS 1.4360 | Epoch ACC 38.5000 | Val Loss 1.5378 | Val_acc 36.3636\n",
            "TRAIN: EPOCH 0008 / 0060 | Epoch LOSS 1.4228 | Epoch ACC 42.5000 | Val Loss 1.5317 | Val_acc 36.3636\n",
            "TRAIN: EPOCH 0009 / 0060 | Epoch LOSS 1.3842 | Epoch ACC 47.0000 | Val Loss 1.5133 | Val_acc 34.7107\n",
            "TRAIN: EPOCH 0010 / 0060 | Epoch LOSS 1.3914 | Epoch ACC 46.0000 | Val Loss 1.4947 | Val_acc 35.1240\n",
            "TRAIN: EPOCH 0011 / 0060 | Epoch LOSS 1.3535 | Epoch ACC 43.5000 | Val Loss 1.3999 | Val_acc 38.8430\n",
            "TRAIN: EPOCH 0012 / 0060 | Epoch LOSS 1.2795 | Epoch ACC 52.5000 | Val Loss 1.4688 | Val_acc 39.2562\n",
            "TRAIN: EPOCH 0013 / 0060 | Epoch LOSS 1.2592 | Epoch ACC 52.0000 | Val Loss 1.4820 | Val_acc 35.9504\n",
            "TRAIN: EPOCH 0014 / 0060 | Epoch LOSS 1.2308 | Epoch ACC 52.5000 | Val Loss 1.3938 | Val_acc 38.4298\n",
            "TRAIN: EPOCH 0015 / 0060 | Epoch LOSS 1.0822 | Epoch ACC 59.5000 | Val Loss 2.0528 | Val_acc 32.6446\n"
          ]
        }
      ]
    },
    {
      "cell_type": "code",
      "source": [
        "channel_dim: 256\n",
        "wandb: \tdropout: 0.3\n",
        "wandb: \tepochs: 30\n",
        "wandb: \thidden_size: 128\n",
        "wandb: \tlearning_rate: 0.0001603898674692116\n",
        "wandb: \tnumber_of_layers: 4\n",
        "wandb: \toptimizer: adam\n",
        "wandb: \tpatch_size: 8\n",
        "wandb: \ttoken_dim: 64"
      ],
      "metadata": {
        "id": "WOXGkxer1dAX"
      },
      "execution_count": null,
      "outputs": []
    },
    {
      "cell_type": "code",
      "source": [
        "if __name__ == \"__main__\":\n",
        "    from torchsummary import summary\n",
        "    import pdb\n",
        " \n",
        "    # base_model_param0.0009                        \n",
        "    in_channels = 3                        \n",
        "    hidden_size = 64                    \n",
        "    num_classes = 6                        \n",
        "    patch_size = 4                         \n",
        "    resolution = 64                            \n",
        "    number_of_layers = 4                    \n",
        "    token_dim = 16                         \n",
        "    channel_dim = 256                  \n",
        "    dropout = 0.3\n",
        "    alpha = 0.2                                         \n",
        "\n",
        "    model = MLPMixer(\n",
        "        in_channels = in_channels,\n",
        "        dim = hidden_size,\n",
        "        num_classes = num_classes,\n",
        "        patch_size = patch_size,\n",
        "        image_size = resolution,\n",
        "        depth = number_of_layers,\n",
        "        token_dim = token_dim,\n",
        "        channel_dim = channel_dim,\n",
        "        dropout = dropout,\n",
        "        alpha = alpha\n",
        "    )\n",
        "    \n",
        "    summary(model, (3,64,64), device = 'cpu')"
      ],
      "metadata": {
        "colab": {
          "base_uri": "https://localhost:8080/"
        },
        "id": "qbV7ozPLabKx",
        "outputId": "064dc232-0377-4014-f3ed-acb133027b3a"
      },
      "execution_count": null,
      "outputs": [
        {
          "output_type": "stream",
          "name": "stdout",
          "text": [
            "----------------------------------------------------------------\n",
            "        Layer (type)               Output Shape         Param #\n",
            "================================================================\n",
            "            Conv2d-1           [-1, 64, 16, 16]           3,136\n",
            "         Rearrange-2              [-1, 256, 64]               0\n",
            "            Linear-3              [-1, 256, 64]           4,160\n",
            "         LeakyReLU-4          [-1, 256, 256, 1]               0\n",
            "           Sigmoid-5              [-1, 256, 64]               0\n",
            "    AttentionLayer-6              [-1, 256, 64]               0\n",
            "         LayerNorm-7              [-1, 256, 64]             128\n",
            "         Rearrange-8              [-1, 64, 256]               0\n",
            "            Linear-9               [-1, 64, 16]           4,112\n",
            "             GELU-10               [-1, 64, 16]               0\n",
            "          Dropout-11               [-1, 64, 16]               0\n",
            "           Linear-12              [-1, 64, 256]           4,352\n",
            "          Dropout-13              [-1, 64, 256]               0\n",
            "              MLP-14              [-1, 64, 256]               0\n",
            "        Rearrange-15              [-1, 256, 64]               0\n",
            "        LayerNorm-16              [-1, 256, 64]             128\n",
            "           Linear-17             [-1, 256, 256]          16,640\n",
            "             GELU-18             [-1, 256, 256]               0\n",
            "          Dropout-19             [-1, 256, 256]               0\n",
            "           Linear-20              [-1, 256, 64]          16,448\n",
            "          Dropout-21              [-1, 256, 64]               0\n",
            "              MLP-22              [-1, 256, 64]               0\n",
            "       MixerBlock-23              [-1, 256, 64]               0\n",
            "        LayerNorm-24              [-1, 256, 64]             128\n",
            "        Rearrange-25              [-1, 64, 256]               0\n",
            "           Linear-26               [-1, 64, 16]           4,112\n",
            "             GELU-27               [-1, 64, 16]               0\n",
            "          Dropout-28               [-1, 64, 16]               0\n",
            "           Linear-29              [-1, 64, 256]           4,352\n",
            "          Dropout-30              [-1, 64, 256]               0\n",
            "              MLP-31              [-1, 64, 256]               0\n",
            "        Rearrange-32              [-1, 256, 64]               0\n",
            "        LayerNorm-33              [-1, 256, 64]             128\n",
            "           Linear-34             [-1, 256, 256]          16,640\n",
            "             GELU-35             [-1, 256, 256]               0\n",
            "          Dropout-36             [-1, 256, 256]               0\n",
            "           Linear-37              [-1, 256, 64]          16,448\n",
            "          Dropout-38              [-1, 256, 64]               0\n",
            "              MLP-39              [-1, 256, 64]               0\n",
            "       MixerBlock-40              [-1, 256, 64]               0\n",
            "        LayerNorm-41              [-1, 256, 64]             128\n",
            "        Rearrange-42              [-1, 64, 256]               0\n",
            "           Linear-43               [-1, 64, 16]           4,112\n",
            "             GELU-44               [-1, 64, 16]               0\n",
            "          Dropout-45               [-1, 64, 16]               0\n",
            "           Linear-46              [-1, 64, 256]           4,352\n",
            "          Dropout-47              [-1, 64, 256]               0\n",
            "              MLP-48              [-1, 64, 256]               0\n",
            "        Rearrange-49              [-1, 256, 64]               0\n",
            "        LayerNorm-50              [-1, 256, 64]             128\n",
            "           Linear-51             [-1, 256, 256]          16,640\n",
            "             GELU-52             [-1, 256, 256]               0\n",
            "          Dropout-53             [-1, 256, 256]               0\n",
            "           Linear-54              [-1, 256, 64]          16,448\n",
            "          Dropout-55              [-1, 256, 64]               0\n",
            "              MLP-56              [-1, 256, 64]               0\n",
            "       MixerBlock-57              [-1, 256, 64]               0\n",
            "        LayerNorm-58              [-1, 256, 64]             128\n",
            "        Rearrange-59              [-1, 64, 256]               0\n",
            "           Linear-60               [-1, 64, 16]           4,112\n",
            "             GELU-61               [-1, 64, 16]               0\n",
            "          Dropout-62               [-1, 64, 16]               0\n",
            "           Linear-63              [-1, 64, 256]           4,352\n",
            "          Dropout-64              [-1, 64, 256]               0\n",
            "              MLP-65              [-1, 64, 256]               0\n",
            "        Rearrange-66              [-1, 256, 64]               0\n",
            "        LayerNorm-67              [-1, 256, 64]             128\n",
            "           Linear-68             [-1, 256, 256]          16,640\n",
            "             GELU-69             [-1, 256, 256]               0\n",
            "          Dropout-70             [-1, 256, 256]               0\n",
            "           Linear-71              [-1, 256, 64]          16,448\n",
            "          Dropout-72              [-1, 256, 64]               0\n",
            "              MLP-73              [-1, 256, 64]               0\n",
            "       MixerBlock-74              [-1, 256, 64]               0\n",
            "        LayerNorm-75              [-1, 256, 64]             128\n",
            "           Linear-76                    [-1, 6]             390\n",
            "================================================================\n",
            "Total params: 175,046\n",
            "Trainable params: 175,046\n",
            "Non-trainable params: 0\n",
            "----------------------------------------------------------------\n",
            "Input size (MB): 0.05\n",
            "Forward/backward pass size (MB): 12.84\n",
            "Params size (MB): 0.67\n",
            "Estimated Total Size (MB): 13.56\n",
            "----------------------------------------------------------------\n"
          ]
        }
      ]
    },
    {
      "cell_type": "code",
      "source": [
        "if __name__ == \"__main__\":\n",
        "    from torchsummary import summary\n",
        "    import pdb\n",
        "        \n",
        "    # base_model_param0.0009                        \n",
        "    in_channels = 3                        \n",
        "    hidden_size = 64                    \n",
        "    num_classes = 6                        \n",
        "    patch_size = 4                         \n",
        "    resolution = 64                            \n",
        "    number_of_layers = 4                    \n",
        "    token_dim = 16                         \n",
        "    channel_dim = 256                  \n",
        "    dropout = 0.3\n",
        "    alpha = 0.2                                                #0          0.1\n",
        "\n",
        "    model = MLPMixer(\n",
        "        in_channels = in_channels,\n",
        "        dim = hidden_size,\n",
        "        num_classes = num_classes,\n",
        "        patch_size = patch_size,\n",
        "        image_size = resolution,\n",
        "        depth = number_of_layers,\n",
        "        token_dim = token_dim,\n",
        "        channel_dim = channel_dim,\n",
        "        dropout = dropout\n",
        "    )\n",
        "\n",
        "PATH = \"/gdrive/MyDrive/model/\"\n",
        "criterion = nn.CrossEntropyLoss()\n",
        "#optimizer = optim.SGD(cnn.parameters(), lr = 0.001, momentum = 0.9)\n",
        "optimizer = optim.Adam(model.parameters(), lr = 0.0009)\n",
        "#scheduler = optim.lr_scheduler.LambdaLR(optimizer=optimizer, lr_lambda=lambda epoch:0.95**epoch,last_epoch = -1, verbose = False)\n",
        "loss_list = []\n",
        "iter = []\n",
        "train_accuracy = []\n",
        "validation_loss = []\n",
        "validation_acc = []    \n",
        "\n",
        "model.train()\n",
        "epochs = 30\n",
        "for epoch in range(epochs):\n",
        "    running_loss = 0.0\n",
        "    val_running_loss = 0.0\n",
        "    correct = 0.0\n",
        "    val_correct = 0.0\n",
        "    total = 0.0\n",
        "    val_total = 0\n",
        "    for data in trainloader:\n",
        "        input,target = data\n",
        "        optimizer.zero_grad()\n",
        "        output = model(input)\n",
        "        loss = criterion(output, target)\n",
        "        loss.backward()\n",
        "        optimizer.step()\n",
        "        _, preds = torch.max(output.data, 1)\n",
        "        correct += preds.eq(target).sum().item()\n",
        "        running_loss += loss.item()\n",
        "    \n",
        "        \n",
        "    else:\n",
        "        with torch.no_grad():\n",
        "            for data in testloader:\n",
        "                val_input, val_target = data\n",
        "                val_outputs = model(val_input)\n",
        "                val_loss = criterion(val_outputs, val_target)\n",
        "                \n",
        "                _, val_pred = torch.max(val_outputs, 1)\n",
        "                val_running_loss  += val_loss.item()\n",
        "                val_correct += val_pred.eq(val_target).sum().item()\n",
        "        \n",
        "\n",
        "    training_loss = running_loss/len(trainloader)\n",
        "    val_loss = val_running_loss/len(testloader)\n",
        "    train_acc = 100*correct/len(trainloader.dataset)\n",
        "    val_acc = 100*val_correct/len(testloader.dataset)\n",
        "    if val_acc > best_acc:\n",
        "            best_acc = val_acc\n",
        "            torch.save(model.state_dict(), PATH + 'osuleaf_mlp_state_dictonly_rp_gr_gr_d.pt')\n",
        "            print(\"saved\")\n",
        "    print(\"=============================================================================================================================================================\")\n",
        "    print(f\"TRAIN: EPOCH {epoch + 1:04d} / {epochs:04d} | Epoch LOSS {training_loss:.4f} | Epoch ACC {train_acc:.4f} | Val Loss {val_loss:.4f} | Val_acc {val_acc:.4f}\")\n",
        "    cost = running_loss/6\n",
        "    loss_list.append(training_loss)\n",
        "    train_accuracy.append(train_acc)\n",
        "    validation_loss.append(val_loss)\n",
        "    validation_acc.append(val_acc)\n",
        "    running_loss = 0.0\n",
        "print('finish')"
      ],
      "metadata": {
        "id": "8_6vfieIJEmD",
        "colab": {
          "base_uri": "https://localhost:8080/",
          "height": 401
        },
        "outputId": "a575b3bc-b060-49fb-d737-69233268950a"
      },
      "execution_count": null,
      "outputs": [
        {
          "output_type": "error",
          "ename": "KeyboardInterrupt",
          "evalue": "ignored",
          "traceback": [
            "\u001b[0;31m---------------------------------------------------------------------------\u001b[0m",
            "\u001b[0;31mKeyboardInterrupt\u001b[0m                         Traceback (most recent call last)",
            "\u001b[0;32m<ipython-input-77-10772a7bbc41>\u001b[0m in \u001b[0;36m<module>\u001b[0;34m()\u001b[0m\n\u001b[1;32m     52\u001b[0m         \u001b[0moutput\u001b[0m \u001b[0;34m=\u001b[0m \u001b[0mmodel\u001b[0m\u001b[0;34m(\u001b[0m\u001b[0minput\u001b[0m\u001b[0;34m)\u001b[0m\u001b[0;34m\u001b[0m\u001b[0;34m\u001b[0m\u001b[0m\n\u001b[1;32m     53\u001b[0m         \u001b[0mloss\u001b[0m \u001b[0;34m=\u001b[0m \u001b[0mcriterion\u001b[0m\u001b[0;34m(\u001b[0m\u001b[0moutput\u001b[0m\u001b[0;34m,\u001b[0m \u001b[0mtarget\u001b[0m\u001b[0;34m)\u001b[0m\u001b[0;34m\u001b[0m\u001b[0;34m\u001b[0m\u001b[0m\n\u001b[0;32m---> 54\u001b[0;31m         \u001b[0mloss\u001b[0m\u001b[0;34m.\u001b[0m\u001b[0mbackward\u001b[0m\u001b[0;34m(\u001b[0m\u001b[0;34m)\u001b[0m\u001b[0;34m\u001b[0m\u001b[0;34m\u001b[0m\u001b[0m\n\u001b[0m\u001b[1;32m     55\u001b[0m         \u001b[0moptimizer\u001b[0m\u001b[0;34m.\u001b[0m\u001b[0mstep\u001b[0m\u001b[0;34m(\u001b[0m\u001b[0;34m)\u001b[0m\u001b[0;34m\u001b[0m\u001b[0;34m\u001b[0m\u001b[0m\n\u001b[1;32m     56\u001b[0m         \u001b[0m_\u001b[0m\u001b[0;34m,\u001b[0m \u001b[0mpreds\u001b[0m \u001b[0;34m=\u001b[0m \u001b[0mtorch\u001b[0m\u001b[0;34m.\u001b[0m\u001b[0mmax\u001b[0m\u001b[0;34m(\u001b[0m\u001b[0moutput\u001b[0m\u001b[0;34m.\u001b[0m\u001b[0mdata\u001b[0m\u001b[0;34m,\u001b[0m \u001b[0;36m1\u001b[0m\u001b[0;34m)\u001b[0m\u001b[0;34m\u001b[0m\u001b[0;34m\u001b[0m\u001b[0m\n",
            "\u001b[0;32m/usr/local/lib/python3.7/dist-packages/torch/_tensor.py\u001b[0m in \u001b[0;36mbackward\u001b[0;34m(self, gradient, retain_graph, create_graph, inputs)\u001b[0m\n\u001b[1;32m    394\u001b[0m                 \u001b[0mcreate_graph\u001b[0m\u001b[0;34m=\u001b[0m\u001b[0mcreate_graph\u001b[0m\u001b[0;34m,\u001b[0m\u001b[0;34m\u001b[0m\u001b[0;34m\u001b[0m\u001b[0m\n\u001b[1;32m    395\u001b[0m                 inputs=inputs)\n\u001b[0;32m--> 396\u001b[0;31m         \u001b[0mtorch\u001b[0m\u001b[0;34m.\u001b[0m\u001b[0mautograd\u001b[0m\u001b[0;34m.\u001b[0m\u001b[0mbackward\u001b[0m\u001b[0;34m(\u001b[0m\u001b[0mself\u001b[0m\u001b[0;34m,\u001b[0m \u001b[0mgradient\u001b[0m\u001b[0;34m,\u001b[0m \u001b[0mretain_graph\u001b[0m\u001b[0;34m,\u001b[0m \u001b[0mcreate_graph\u001b[0m\u001b[0;34m,\u001b[0m \u001b[0minputs\u001b[0m\u001b[0;34m=\u001b[0m\u001b[0minputs\u001b[0m\u001b[0;34m)\u001b[0m\u001b[0;34m\u001b[0m\u001b[0;34m\u001b[0m\u001b[0m\n\u001b[0m\u001b[1;32m    397\u001b[0m \u001b[0;34m\u001b[0m\u001b[0m\n\u001b[1;32m    398\u001b[0m     \u001b[0;32mdef\u001b[0m \u001b[0mregister_hook\u001b[0m\u001b[0;34m(\u001b[0m\u001b[0mself\u001b[0m\u001b[0;34m,\u001b[0m \u001b[0mhook\u001b[0m\u001b[0;34m)\u001b[0m\u001b[0;34m:\u001b[0m\u001b[0;34m\u001b[0m\u001b[0;34m\u001b[0m\u001b[0m\n",
            "\u001b[0;32m/usr/local/lib/python3.7/dist-packages/torch/autograd/__init__.py\u001b[0m in \u001b[0;36mbackward\u001b[0;34m(tensors, grad_tensors, retain_graph, create_graph, grad_variables, inputs)\u001b[0m\n\u001b[1;32m    173\u001b[0m     Variable._execution_engine.run_backward(  # Calls into the C++ engine to run the backward pass\n\u001b[1;32m    174\u001b[0m         \u001b[0mtensors\u001b[0m\u001b[0;34m,\u001b[0m \u001b[0mgrad_tensors_\u001b[0m\u001b[0;34m,\u001b[0m \u001b[0mretain_graph\u001b[0m\u001b[0;34m,\u001b[0m \u001b[0mcreate_graph\u001b[0m\u001b[0;34m,\u001b[0m \u001b[0minputs\u001b[0m\u001b[0;34m,\u001b[0m\u001b[0;34m\u001b[0m\u001b[0;34m\u001b[0m\u001b[0m\n\u001b[0;32m--> 175\u001b[0;31m         allow_unreachable=True, accumulate_grad=True)  # Calls into the C++ engine to run the backward pass\n\u001b[0m\u001b[1;32m    176\u001b[0m \u001b[0;34m\u001b[0m\u001b[0m\n\u001b[1;32m    177\u001b[0m def grad(\n",
            "\u001b[0;31mKeyboardInterrupt\u001b[0m: "
          ]
        }
      ]
    },
    {
      "cell_type": "code",
      "source": [
        "plt.plot(loss_list, label='trainloss')\n",
        "plt.plot(validation_loss, label='val_loss')\n",
        "plt.legend(['train', 'val'])\n",
        "plt.show()"
      ],
      "metadata": {
        "id": "SGLH8z8-JSTh",
        "colab": {
          "base_uri": "https://localhost:8080/",
          "height": 266
        },
        "outputId": "427e43c3-770a-40b2-ee66-fba38a2026e9"
      },
      "execution_count": null,
      "outputs": [
        {
          "output_type": "display_data",
          "data": {
            "text/plain": [
              "<Figure size 432x288 with 1 Axes>"
            ],
            "image/png": "[encoded data removed]"
          },
          "metadata": {
            "needs_background": "light"
          }
        }
      ]
    },
    {
      "cell_type": "code",
      "source": [
        "plt.plot(train_accuracy, label='trainaccuracy')\n",
        "plt.plot(validation_acc, label='val_acc')\n",
        "plt.legend(['train_acc', 'val_acc'])\n",
        "plt.show()"
      ],
      "metadata": {
        "id": "pE0Y0TZzJS7Z",
        "colab": {
          "base_uri": "https://localhost:8080/",
          "height": 265
        },
        "outputId": "c62e3d1e-e05e-4846-8616-da48d9766b54"
      },
      "execution_count": null,
      "outputs": [
        {
          "output_type": "display_data",
          "data": {
            "text/plain": [
              "<Figure size 432x288 with 1 Axes>"
            ],
            "image/png": "[encoded data removed]"
          },
          "metadata": {
            "needs_background": "light"
          }
        }
      ]
    },
    {
      "cell_type": "code",
      "source": [
        "#model = torch.load(PATH + 'mlp.pt')\n",
        "model.load_state_dict(copy.deepcopy(torch.load(PATH + 'fish_mlp_state_dict2.pt')))\n"
      ],
      "metadata": {
        "id": "TwI7l4_FJlHB",
        "colab": {
          "base_uri": "https://localhost:8080/"
        },
        "outputId": "1e068586-6965-439a-e775-f30e541ce882"
      },
      "execution_count": null,
      "outputs": [
        {
          "output_type": "execute_result",
          "data": {
            "text/plain": [
              "<All keys matched successfully>"
            ]
          },
          "metadata": {},
          "execution_count": 75
        }
      ]
    },
    {
      "cell_type": "code",
      "source": [
        "model.load_state_dict(copy.deepcopy(torch.load(PATH + 'osuleafgat_mlp_state_dictonly_rp_gr_grd.pt')))"
      ],
      "metadata": {
        "colab": {
          "base_uri": "https://localhost:8080/"
        },
        "id": "iiI8fVqgKR-e",
        "outputId": "1405c501-7e71-4cf6-b70a-0abb193c88a1"
      },
      "execution_count": null,
      "outputs": [
        {
          "output_type": "execute_result",
          "data": {
            "text/plain": [
              "<All keys matched successfully>"
            ]
          },
          "metadata": {},
          "execution_count": 78
        }
      ]
    },
    {
      "cell_type": "code",
      "source": [
        "correct = 0\n",
        "total = 0\n",
        "accuracy = []\n",
        "iter_acc = []\n",
        "test_loss = []\n",
        "b=0\n",
        "model.eval()\n",
        "with torch.no_grad():\n",
        "    for data in testloader :\n",
        "        b+=1\n",
        "        images, labels = data\n",
        "        outputs = model(images)\n",
        "        loss = criterion(outputs, labels)\n",
        "        _, predicted = torch.max(outputs.data, 1)\n",
        "        total += labels.size(0)\n",
        "        correct += (predicted == labels).sum().item()\n",
        "        iter_acc.append(b)\n",
        "        cost = 100*correct/total\n",
        "        accuracy.append(cost)\n",
        "        \n",
        "    test_loss.append(loss)\n",
        "    error_rate = 1-(correct/total)\n",
        "    test_acc = 100. * correct / len(testloader.dataset)\n",
        "print('accuracy of testimages: %d %%' %(100*correct/total))\n",
        "print('error rate : ', format(error_rate, \".3f\"))\n",
        "print(f\"Val_acc {test_acc:.4f}\")\n",
        "\n"
      ],
      "metadata": {
        "id": "70DlGMOMJgKg",
        "colab": {
          "base_uri": "https://localhost:8080/"
        },
        "outputId": "c8e44765-fc1b-452f-e835-f517bb7541dc"
      },
      "execution_count": null,
      "outputs": [
        {
          "output_type": "stream",
          "name": "stdout",
          "text": [
            "accuracy of testimages: 63 %\n",
            "error rate :  0.368\n",
            "Val_acc 63.2231\n"
          ]
        }
      ]
    },
    {
      "cell_type": "code",
      "source": [
        "val_correct = 0\n",
        "model.eval()\n",
        "with torch.no_grad():\n",
        "    for data in testloader:\n",
        "        val_input, val_target = data\n",
        "        val_outputs = model(val_input)\n",
        "        val_loss = criterion(val_outputs, val_target)\n",
        "        _, val_pred = torch.max(val_outputs, 1)\n",
        "        val_correct += val_pred.eq(val_target).sum().item()\n",
        "\n",
        "    val_acc = 100. * val_correct/len(testloader.dataset)\n",
        "    error_rate = 1-(val_correct/len(testloader.dataset))\n",
        "print(\"=============================================================\")\n",
        "print(f\"test acc {val_acc:.4f} | error rate {error_rate:.4f}\")"
      ],
      "metadata": {
        "colab": {
          "base_uri": "https://localhost:8080/"
        },
        "id": "u3rySzOQnLQi",
        "outputId": "78ce46e0-f4f5-48aa-e962-2964f7b8b79a"
      },
      "execution_count": null,
      "outputs": [
        {
          "output_type": "stream",
          "name": "stdout",
          "text": [
            "=============================================================\n",
            "test acc 59.3333 | error rate 0.4067\n"
          ]
        }
      ]
    },
    {
      "cell_type": "code",
      "source": [
        "torch.save(model.state_dict(), PATH + 'olive86_mlp_state_dict.pt')"
      ],
      "metadata": {
        "id": "d1D3BjdIyRxj"
      },
      "execution_count": null,
      "outputs": []
    }
  ]
}