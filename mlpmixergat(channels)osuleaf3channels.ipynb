{
  "nbformat": 4,
  "nbformat_minor": 0,
  "metadata": {
    "colab": {
      "name": "mlpmixergat(channels)osuleaf3channels.ipynb",
      "provenance": [],
      "collapsed_sections": [],
      "machine_shape": "hm",
      "authorship_tag": "ABX9TyN6K8sCi5y+Y+9134+B843z",
      "include_colab_link": true
    },
    "kernelspec": {
      "name": "python3",
      "display_name": "Python 3"
    },
    "language_info": {
      "name": "python"
    },
    "accelerator": "GPU",
    "gpuClass": "standard",
    "widgets": {
      "application/vnd.jupyter.widget-state+json": {
        "0665ef1ea54347b58c650f05f1fa360a": {
          "model_module": "@jupyter-widgets/controls",
          "model_name": "VBoxModel",
          "model_module_version": "1.5.0",
          "state": {
            "_dom_classes": [],
            "_model_module": "@jupyter-widgets/controls",
            "_model_module_version": "1.5.0",
            "_model_name": "VBoxModel",
            "_view_count": null,
            "_view_module": "@jupyter-widgets/controls",
            "_view_module_version": "1.5.0",
            "_view_name": "VBoxView",
            "box_style": "",
            "children": [
              "IPY_MODEL_b0741a6688604c7791fd1b2d1b5b42ac",
              "IPY_MODEL_32677a43b6dd403bb654cb92e4d86220"
            ],
            "layout": "IPY_MODEL_748b774a599b4bd091bade9695d82958"
          }
        },
        "b0741a6688604c7791fd1b2d1b5b42ac": {
          "model_module": "@jupyter-widgets/controls",
          "model_name": "LabelModel",
          "model_module_version": "1.5.0",
          "state": {
            "_dom_classes": [],
            "_model_module": "@jupyter-widgets/controls",
            "_model_module_version": "1.5.0",
            "_model_name": "LabelModel",
            "_view_count": null,
            "_view_module": "@jupyter-widgets/controls",
            "_view_module_version": "1.5.0",
            "_view_name": "LabelView",
            "description": "",
            "description_tooltip": null,
            "layout": "IPY_MODEL_35f7831ac5f64b36b5f3663be987a676",
            "placeholder": "​",
            "style": "IPY_MODEL_2f6c32d77708460399123952675aa558",
            "value": "0.229 MB of 0.229 MB uploaded (0.000 MB deduped)\r"
          }
        },
        "32677a43b6dd403bb654cb92e4d86220": {
          "model_module": "@jupyter-widgets/controls",
          "model_name": "FloatProgressModel",
          "model_module_version": "1.5.0",
          "state": {
            "_dom_classes": [],
            "_model_module": "@jupyter-widgets/controls",
            "_model_module_version": "1.5.0",
            "_model_name": "FloatProgressModel",
            "_view_count": null,
            "_view_module": "@jupyter-widgets/controls",
            "_view_module_version": "1.5.0",
            "_view_name": "ProgressView",
            "bar_style": "",
            "description": "",
            "description_tooltip": null,
            "layout": "IPY_MODEL_3eabf659ef0048c2aa56409e719711cd",
            "max": 1,
            "min": 0,
            "orientation": "horizontal",
            "style": "IPY_MODEL_ed503cc3ce9d4fa980dfae66de7a9b61",
            "value": 1
          }
        },
        "748b774a599b4bd091bade9695d82958": {
          "model_module": "@jupyter-widgets/base",
          "model_name": "LayoutModel",
          "model_module_version": "1.2.0",
          "state": {
            "_model_module": "@jupyter-widgets/base",
            "_model_module_version": "1.2.0",
            "_model_name": "LayoutModel",
            "_view_count": null,
            "_view_module": "@jupyter-widgets/base",
            "_view_module_version": "1.2.0",
            "_view_name": "LayoutView",
            "align_content": null,
            "align_items": null,
            "align_self": null,
            "border": null,
            "bottom": null,
            "display": null,
            "flex": null,
            "flex_flow": null,
            "grid_area": null,
            "grid_auto_columns": null,
            "grid_auto_flow": null,
            "grid_auto_rows": null,
            "grid_column": null,
            "grid_gap": null,
            "grid_row": null,
            "grid_template_areas": null,
            "grid_template_columns": null,
            "grid_template_rows": null,
            "height": null,
            "justify_content": null,
            "justify_items": null,
            "left": null,
            "margin": null,
            "max_height": null,
            "max_width": null,
            "min_height": null,
            "min_width": null,
            "object_fit": null,
            "object_position": null,
            "order": null,
            "overflow": null,
            "overflow_x": null,
            "overflow_y": null,
            "padding": null,
            "right": null,
            "top": null,
            "visibility": null,
            "width": null
          }
        },
        "35f7831ac5f64b36b5f3663be987a676": {
          "model_module": "@jupyter-widgets/base",
          "model_name": "LayoutModel",
          "model_module_version": "1.2.0",
          "state": {
            "_model_module": "@jupyter-widgets/base",
            "_model_module_version": "1.2.0",
            "_model_name": "LayoutModel",
            "_view_count": null,
            "_view_module": "@jupyter-widgets/base",
            "_view_module_version": "1.2.0",
            "_view_name": "LayoutView",
            "align_content": null,
            "align_items": null,
            "align_self": null,
            "border": null,
            "bottom": null,
            "display": null,
            "flex": null,
            "flex_flow": null,
            "grid_area": null,
            "grid_auto_columns": null,
            "grid_auto_flow": null,
            "grid_auto_rows": null,
            "grid_column": null,
            "grid_gap": null,
            "grid_row": null,
            "grid_template_areas": null,
            "grid_template_columns": null,
            "grid_template_rows": null,
            "height": null,
            "justify_content": null,
            "justify_items": null,
            "left": null,
            "margin": null,
            "max_height": null,
            "max_width": null,
            "min_height": null,
            "min_width": null,
            "object_fit": null,
            "object_position": null,
            "order": null,
            "overflow": null,
            "overflow_x": null,
            "overflow_y": null,
            "padding": null,
            "right": null,
            "top": null,
            "visibility": null,
            "width": null
          }
        },
        "2f6c32d77708460399123952675aa558": {
          "model_module": "@jupyter-widgets/controls",
          "model_name": "DescriptionStyleModel",
          "model_module_version": "1.5.0",
          "state": {
            "_model_module": "@jupyter-widgets/controls",
            "_model_module_version": "1.5.0",
            "_model_name": "DescriptionStyleModel",
            "_view_count": null,
            "_view_module": "@jupyter-widgets/base",
            "_view_module_version": "1.2.0",
            "_view_name": "StyleView",
            "description_width": ""
          }
        },
        "3eabf659ef0048c2aa56409e719711cd": {
          "model_module": "@jupyter-widgets/base",
          "model_name": "LayoutModel",
          "model_module_version": "1.2.0",
          "state": {
            "_model_module": "@jupyter-widgets/base",
            "_model_module_version": "1.2.0",
            "_model_name": "LayoutModel",
            "_view_count": null,
            "_view_module": "@jupyter-widgets/base",
            "_view_module_version": "1.2.0",
            "_view_name": "LayoutView",
            "align_content": null,
            "align_items": null,
            "align_self": null,
            "border": null,
            "bottom": null,
            "display": null,
            "flex": null,
            "flex_flow": null,
            "grid_area": null,
            "grid_auto_columns": null,
            "grid_auto_flow": null,
            "grid_auto_rows": null,
            "grid_column": null,
            "grid_gap": null,
            "grid_row": null,
            "grid_template_areas": null,
            "grid_template_columns": null,
            "grid_template_rows": null,
            "height": null,
            "justify_content": null,
            "justify_items": null,
            "left": null,
            "margin": null,
            "max_height": null,
            "max_width": null,
            "min_height": null,
            "min_width": null,
            "object_fit": null,
            "object_position": null,
            "order": null,
            "overflow": null,
            "overflow_x": null,
            "overflow_y": null,
            "padding": null,
            "right": null,
            "top": null,
            "visibility": null,
            "width": null
          }
        },
        "ed503cc3ce9d4fa980dfae66de7a9b61": {
          "model_module": "@jupyter-widgets/controls",
          "model_name": "ProgressStyleModel",
          "model_module_version": "1.5.0",
          "state": {
            "_model_module": "@jupyter-widgets/controls",
            "_model_module_version": "1.5.0",
            "_model_name": "ProgressStyleModel",
            "_view_count": null,
            "_view_module": "@jupyter-widgets/base",
            "_view_module_version": "1.2.0",
            "_view_name": "StyleView",
            "bar_color": null,
            "description_width": ""
          }
        },
        "e2166f422b404589be9b8a45d28fe473": {
          "model_module": "@jupyter-widgets/controls",
          "model_name": "VBoxModel",
          "model_module_version": "1.5.0",
          "state": {
            "_dom_classes": [],
            "_model_module": "@jupyter-widgets/controls",
            "_model_module_version": "1.5.0",
            "_model_name": "VBoxModel",
            "_view_count": null,
            "_view_module": "@jupyter-widgets/controls",
            "_view_module_version": "1.5.0",
            "_view_name": "VBoxView",
            "box_style": "",
            "children": [
              "IPY_MODEL_cda87ed54b8a46089abd6dfc1381ad85",
              "IPY_MODEL_8ce00e238b084cc89b2f293e6ef90e02"
            ],
            "layout": "IPY_MODEL_cc1760eeaf9a48fc9af75347fc4e590f"
          }
        },
        "cda87ed54b8a46089abd6dfc1381ad85": {
          "model_module": "@jupyter-widgets/controls",
          "model_name": "LabelModel",
          "model_module_version": "1.5.0",
          "state": {
            "_dom_classes": [],
            "_model_module": "@jupyter-widgets/controls",
            "_model_module_version": "1.5.0",
            "_model_name": "LabelModel",
            "_view_count": null,
            "_view_module": "@jupyter-widgets/controls",
            "_view_module_version": "1.5.0",
            "_view_name": "LabelView",
            "description": "",
            "description_tooltip": null,
            "layout": "IPY_MODEL_66a6dfaa64db4b3aae1f515cbd8661de",
            "placeholder": "​",
            "style": "IPY_MODEL_5258f8bd50ea43fda30792bb4db0d8f1",
            "value": "0.224 MB of 0.224 MB uploaded (0.000 MB deduped)\r"
          }
        },
        "8ce00e238b084cc89b2f293e6ef90e02": {
          "model_module": "@jupyter-widgets/controls",
          "model_name": "FloatProgressModel",
          "model_module_version": "1.5.0",
          "state": {
            "_dom_classes": [],
            "_model_module": "@jupyter-widgets/controls",
            "_model_module_version": "1.5.0",
            "_model_name": "FloatProgressModel",
            "_view_count": null,
            "_view_module": "@jupyter-widgets/controls",
            "_view_module_version": "1.5.0",
            "_view_name": "ProgressView",
            "bar_style": "",
            "description": "",
            "description_tooltip": null,
            "layout": "IPY_MODEL_78398a3716964f8e8c03b726f29a8836",
            "max": 1,
            "min": 0,
            "orientation": "horizontal",
            "style": "IPY_MODEL_43d3601b4b3c435aac34b1ab9fda9518",
            "value": 1
          }
        },
        "cc1760eeaf9a48fc9af75347fc4e590f": {
          "model_module": "@jupyter-widgets/base",
          "model_name": "LayoutModel",
          "model_module_version": "1.2.0",
          "state": {
            "_model_module": "@jupyter-widgets/base",
            "_model_module_version": "1.2.0",
            "_model_name": "LayoutModel",
            "_view_count": null,
            "_view_module": "@jupyter-widgets/base",
            "_view_module_version": "1.2.0",
            "_view_name": "LayoutView",
            "align_content": null,
            "align_items": null,
            "align_self": null,
            "border": null,
            "bottom": null,
            "display": null,
            "flex": null,
            "flex_flow": null,
            "grid_area": null,
            "grid_auto_columns": null,
            "grid_auto_flow": null,
            "grid_auto_rows": null,
            "grid_column": null,
            "grid_gap": null,
            "grid_row": null,
            "grid_template_areas": null,
            "grid_template_columns": null,
            "grid_template_rows": null,
            "height": null,
            "justify_content": null,
            "justify_items": null,
            "left": null,
            "margin": null,
            "max_height": null,
            "max_width": null,
            "min_height": null,
            "min_width": null,
            "object_fit": null,
            "object_position": null,
            "order": null,
            "overflow": null,
            "overflow_x": null,
            "overflow_y": null,
            "padding": null,
            "right": null,
            "top": null,
            "visibility": null,
            "width": null
          }
        },
        "66a6dfaa64db4b3aae1f515cbd8661de": {
          "model_module": "@jupyter-widgets/base",
          "model_name": "LayoutModel",
          "model_module_version": "1.2.0",
          "state": {
            "_model_module": "@jupyter-widgets/base",
            "_model_module_version": "1.2.0",
            "_model_name": "LayoutModel",
            "_view_count": null,
            "_view_module": "@jupyter-widgets/base",
            "_view_module_version": "1.2.0",
            "_view_name": "LayoutView",
            "align_content": null,
            "align_items": null,
            "align_self": null,
            "border": null,
            "bottom": null,
            "display": null,
            "flex": null,
            "flex_flow": null,
            "grid_area": null,
            "grid_auto_columns": null,
            "grid_auto_flow": null,
            "grid_auto_rows": null,
            "grid_column": null,
            "grid_gap": null,
            "grid_row": null,
            "grid_template_areas": null,
            "grid_template_columns": null,
            "grid_template_rows": null,
            "height": null,
            "justify_content": null,
            "justify_items": null,
            "left": null,
            "margin": null,
            "max_height": null,
            "max_width": null,
            "min_height": null,
            "min_width": null,
            "object_fit": null,
            "object_position": null,
            "order": null,
            "overflow": null,
            "overflow_x": null,
            "overflow_y": null,
            "padding": null,
            "right": null,
            "top": null,
            "visibility": null,
            "width": null
          }
        },
        "5258f8bd50ea43fda30792bb4db0d8f1": {
          "model_module": "@jupyter-widgets/controls",
          "model_name": "DescriptionStyleModel",
          "model_module_version": "1.5.0",
          "state": {
            "_model_module": "@jupyter-widgets/controls",
            "_model_module_version": "1.5.0",
            "_model_name": "DescriptionStyleModel",
            "_view_count": null,
            "_view_module": "@jupyter-widgets/base",
            "_view_module_version": "1.2.0",
            "_view_name": "StyleView",
            "description_width": ""
          }
        },
        "78398a3716964f8e8c03b726f29a8836": {
          "model_module": "@jupyter-widgets/base",
          "model_name": "LayoutModel",
          "model_module_version": "1.2.0",
          "state": {
            "_model_module": "@jupyter-widgets/base",
            "_model_module_version": "1.2.0",
            "_model_name": "LayoutModel",
            "_view_count": null,
            "_view_module": "@jupyter-widgets/base",
            "_view_module_version": "1.2.0",
            "_view_name": "LayoutView",
            "align_content": null,
            "align_items": null,
            "align_self": null,
            "border": null,
            "bottom": null,
            "display": null,
            "flex": null,
            "flex_flow": null,
            "grid_area": null,
            "grid_auto_columns": null,
            "grid_auto_flow": null,
            "grid_auto_rows": null,
            "grid_column": null,
            "grid_gap": null,
            "grid_row": null,
            "grid_template_areas": null,
            "grid_template_columns": null,
            "grid_template_rows": null,
            "height": null,
            "justify_content": null,
            "justify_items": null,
            "left": null,
            "margin": null,
            "max_height": null,
            "max_width": null,
            "min_height": null,
            "min_width": null,
            "object_fit": null,
            "object_position": null,
            "order": null,
            "overflow": null,
            "overflow_x": null,
            "overflow_y": null,
            "padding": null,
            "right": null,
            "top": null,
            "visibility": null,
            "width": null
          }
        },
        "43d3601b4b3c435aac34b1ab9fda9518": {
          "model_module": "@jupyter-widgets/controls",
          "model_name": "ProgressStyleModel",
          "model_module_version": "1.5.0",
          "state": {
            "_model_module": "@jupyter-widgets/controls",
            "_model_module_version": "1.5.0",
            "_model_name": "ProgressStyleModel",
            "_view_count": null,
            "_view_module": "@jupyter-widgets/base",
            "_view_module_version": "1.2.0",
            "_view_name": "StyleView",
            "bar_color": null,
            "description_width": ""
          }
        },
        "46fe9df6043447dfbf84d8b46fd78794": {
          "model_module": "@jupyter-widgets/controls",
          "model_name": "VBoxModel",
          "model_module_version": "1.5.0",
          "state": {
            "_dom_classes": [],
            "_model_module": "@jupyter-widgets/controls",
            "_model_module_version": "1.5.0",
            "_model_name": "VBoxModel",
            "_view_count": null,
            "_view_module": "@jupyter-widgets/controls",
            "_view_module_version": "1.5.0",
            "_view_name": "VBoxView",
            "box_style": "",
            "children": [
              "IPY_MODEL_a2e491abdd4c4114ab71a4bd6a1e5647",
              "IPY_MODEL_765a267c99ae4306be0ecf4c3fe983a1"
            ],
            "layout": "IPY_MODEL_4f1abd55df4742ec89c51e905d8bc7bc"
          }
        },
        "a2e491abdd4c4114ab71a4bd6a1e5647": {
          "model_module": "@jupyter-widgets/controls",
          "model_name": "LabelModel",
          "model_module_version": "1.5.0",
          "state": {
            "_dom_classes": [],
            "_model_module": "@jupyter-widgets/controls",
            "_model_module_version": "1.5.0",
            "_model_name": "LabelModel",
            "_view_count": null,
            "_view_module": "@jupyter-widgets/controls",
            "_view_module_version": "1.5.0",
            "_view_name": "LabelView",
            "description": "",
            "description_tooltip": null,
            "layout": "IPY_MODEL_1530df7664f24472a3ecf4ff3d634a8b",
            "placeholder": "​",
            "style": "IPY_MODEL_909c4ec5a91748298f0af7da2ebf493f",
            "value": "0.230 MB of 0.230 MB uploaded (0.000 MB deduped)\r"
          }
        },
        "765a267c99ae4306be0ecf4c3fe983a1": {
          "model_module": "@jupyter-widgets/controls",
          "model_name": "FloatProgressModel",
          "model_module_version": "1.5.0",
          "state": {
            "_dom_classes": [],
            "_model_module": "@jupyter-widgets/controls",
            "_model_module_version": "1.5.0",
            "_model_name": "FloatProgressModel",
            "_view_count": null,
            "_view_module": "@jupyter-widgets/controls",
            "_view_module_version": "1.5.0",
            "_view_name": "ProgressView",
            "bar_style": "",
            "description": "",
            "description_tooltip": null,
            "layout": "IPY_MODEL_e87880ddac694d01aaa2e1061fe4e07f",
            "max": 1,
            "min": 0,
            "orientation": "horizontal",
            "style": "IPY_MODEL_6bd37c868c3e437c919cbd11fcd39775",
            "value": 1
          }
        },
        "4f1abd55df4742ec89c51e905d8bc7bc": {
          "model_module": "@jupyter-widgets/base",
          "model_name": "LayoutModel",
          "model_module_version": "1.2.0",
          "state": {
            "_model_module": "@jupyter-widgets/base",
            "_model_module_version": "1.2.0",
            "_model_name": "LayoutModel",
            "_view_count": null,
            "_view_module": "@jupyter-widgets/base",
            "_view_module_version": "1.2.0",
            "_view_name": "LayoutView",
            "align_content": null,
            "align_items": null,
            "align_self": null,
            "border": null,
            "bottom": null,
            "display": null,
            "flex": null,
            "flex_flow": null,
            "grid_area": null,
            "grid_auto_columns": null,
            "grid_auto_flow": null,
            "grid_auto_rows": null,
            "grid_column": null,
            "grid_gap": null,
            "grid_row": null,
            "grid_template_areas": null,
            "grid_template_columns": null,
            "grid_template_rows": null,
            "height": null,
            "justify_content": null,
            "justify_items": null,
            "left": null,
            "margin": null,
            "max_height": null,
            "max_width": null,
            "min_height": null,
            "min_width": null,
            "object_fit": null,
            "object_position": null,
            "order": null,
            "overflow": null,
            "overflow_x": null,
            "overflow_y": null,
            "padding": null,
            "right": null,
            "top": null,
            "visibility": null,
            "width": null
          }
        },
        "1530df7664f24472a3ecf4ff3d634a8b": {
          "model_module": "@jupyter-widgets/base",
          "model_name": "LayoutModel",
          "model_module_version": "1.2.0",
          "state": {
            "_model_module": "@jupyter-widgets/base",
            "_model_module_version": "1.2.0",
            "_model_name": "LayoutModel",
            "_view_count": null,
            "_view_module": "@jupyter-widgets/base",
            "_view_module_version": "1.2.0",
            "_view_name": "LayoutView",
            "align_content": null,
            "align_items": null,
            "align_self": null,
            "border": null,
            "bottom": null,
            "display": null,
            "flex": null,
            "flex_flow": null,
            "grid_area": null,
            "grid_auto_columns": null,
            "grid_auto_flow": null,
            "grid_auto_rows": null,
            "grid_column": null,
            "grid_gap": null,
            "grid_row": null,
            "grid_template_areas": null,
            "grid_template_columns": null,
            "grid_template_rows": null,
            "height": null,
            "justify_content": null,
            "justify_items": null,
            "left": null,
            "margin": null,
            "max_height": null,
            "max_width": null,
            "min_height": null,
            "min_width": null,
            "object_fit": null,
            "object_position": null,
            "order": null,
            "overflow": null,
            "overflow_x": null,
            "overflow_y": null,
            "padding": null,
            "right": null,
            "top": null,
            "visibility": null,
            "width": null
          }
        },
        "909c4ec5a91748298f0af7da2ebf493f": {
          "model_module": "@jupyter-widgets/controls",
          "model_name": "DescriptionStyleModel",
          "model_module_version": "1.5.0",
          "state": {
            "_model_module": "@jupyter-widgets/controls",
            "_model_module_version": "1.5.0",
            "_model_name": "DescriptionStyleModel",
            "_view_count": null,
            "_view_module": "@jupyter-widgets/base",
            "_view_module_version": "1.2.0",
            "_view_name": "StyleView",
            "description_width": ""
          }
        },
        "e87880ddac694d01aaa2e1061fe4e07f": {
          "model_module": "@jupyter-widgets/base",
          "model_name": "LayoutModel",
          "model_module_version": "1.2.0",
          "state": {
            "_model_module": "@jupyter-widgets/base",
            "_model_module_version": "1.2.0",
            "_model_name": "LayoutModel",
            "_view_count": null,
            "_view_module": "@jupyter-widgets/base",
            "_view_module_version": "1.2.0",
            "_view_name": "LayoutView",
            "align_content": null,
            "align_items": null,
            "align_self": null,
            "border": null,
            "bottom": null,
            "display": null,
            "flex": null,
            "flex_flow": null,
            "grid_area": null,
            "grid_auto_columns": null,
            "grid_auto_flow": null,
            "grid_auto_rows": null,
            "grid_column": null,
            "grid_gap": null,
            "grid_row": null,
            "grid_template_areas": null,
            "grid_template_columns": null,
            "grid_template_rows": null,
            "height": null,
            "justify_content": null,
            "justify_items": null,
            "left": null,
            "margin": null,
            "max_height": null,
            "max_width": null,
            "min_height": null,
            "min_width": null,
            "object_fit": null,
            "object_position": null,
            "order": null,
            "overflow": null,
            "overflow_x": null,
            "overflow_y": null,
            "padding": null,
            "right": null,
            "top": null,
            "visibility": null,
            "width": null
          }
        },
        "6bd37c868c3e437c919cbd11fcd39775": {
          "model_module": "@jupyter-widgets/controls",
          "model_name": "ProgressStyleModel",
          "model_module_version": "1.5.0",
          "state": {
            "_model_module": "@jupyter-widgets/controls",
            "_model_module_version": "1.5.0",
            "_model_name": "ProgressStyleModel",
            "_view_count": null,
            "_view_module": "@jupyter-widgets/base",
            "_view_module_version": "1.2.0",
            "_view_name": "StyleView",
            "bar_color": null,
            "description_width": ""
          }
        },
        "3e07f81afc6d483e96cb1c45187467f3": {
          "model_module": "@jupyter-widgets/controls",
          "model_name": "VBoxModel",
          "model_module_version": "1.5.0",
          "state": {
            "_dom_classes": [],
            "_model_module": "@jupyter-widgets/controls",
            "_model_module_version": "1.5.0",
            "_model_name": "VBoxModel",
            "_view_count": null,
            "_view_module": "@jupyter-widgets/controls",
            "_view_module_version": "1.5.0",
            "_view_name": "VBoxView",
            "box_style": "",
            "children": [
              "IPY_MODEL_79dab3a1132644b99e51f8343da3d558",
              "IPY_MODEL_10db78747b3e4e628ed869ac7c54a3d4"
            ],
            "layout": "IPY_MODEL_9842490eb1df4ba3bcaff4300895217b"
          }
        },
        "79dab3a1132644b99e51f8343da3d558": {
          "model_module": "@jupyter-widgets/controls",
          "model_name": "LabelModel",
          "model_module_version": "1.5.0",
          "state": {
            "_dom_classes": [],
            "_model_module": "@jupyter-widgets/controls",
            "_model_module_version": "1.5.0",
            "_model_name": "LabelModel",
            "_view_count": null,
            "_view_module": "@jupyter-widgets/controls",
            "_view_module_version": "1.5.0",
            "_view_name": "LabelView",
            "description": "",
            "description_tooltip": null,
            "layout": "IPY_MODEL_b32541eb7378413f8a3d60b986a06a92",
            "placeholder": "​",
            "style": "IPY_MODEL_5efea6ca78b04fe0bcb23a64371d443a",
            "value": "0.403 MB of 0.403 MB uploaded (0.000 MB deduped)\r"
          }
        },
        "10db78747b3e4e628ed869ac7c54a3d4": {
          "model_module": "@jupyter-widgets/controls",
          "model_name": "FloatProgressModel",
          "model_module_version": "1.5.0",
          "state": {
            "_dom_classes": [],
            "_model_module": "@jupyter-widgets/controls",
            "_model_module_version": "1.5.0",
            "_model_name": "FloatProgressModel",
            "_view_count": null,
            "_view_module": "@jupyter-widgets/controls",
            "_view_module_version": "1.5.0",
            "_view_name": "ProgressView",
            "bar_style": "",
            "description": "",
            "description_tooltip": null,
            "layout": "IPY_MODEL_b758d19f63e845f2afe22089bd9e21ab",
            "max": 1,
            "min": 0,
            "orientation": "horizontal",
            "style": "IPY_MODEL_3bf99b14b1db4a0fab380451c90c322e",
            "value": 1
          }
        },
        "9842490eb1df4ba3bcaff4300895217b": {
          "model_module": "@jupyter-widgets/base",
          "model_name": "LayoutModel",
          "model_module_version": "1.2.0",
          "state": {
            "_model_module": "@jupyter-widgets/base",
            "_model_module_version": "1.2.0",
            "_model_name": "LayoutModel",
            "_view_count": null,
            "_view_module": "@jupyter-widgets/base",
            "_view_module_version": "1.2.0",
            "_view_name": "LayoutView",
            "align_content": null,
            "align_items": null,
            "align_self": null,
            "border": null,
            "bottom": null,
            "display": null,
            "flex": null,
            "flex_flow": null,
            "grid_area": null,
            "grid_auto_columns": null,
            "grid_auto_flow": null,
            "grid_auto_rows": null,
            "grid_column": null,
            "grid_gap": null,
            "grid_row": null,
            "grid_template_areas": null,
            "grid_template_columns": null,
            "grid_template_rows": null,
            "height": null,
            "justify_content": null,
            "justify_items": null,
            "left": null,
            "margin": null,
            "max_height": null,
            "max_width": null,
            "min_height": null,
            "min_width": null,
            "object_fit": null,
            "object_position": null,
            "order": null,
            "overflow": null,
            "overflow_x": null,
            "overflow_y": null,
            "padding": null,
            "right": null,
            "top": null,
            "visibility": null,
            "width": null
          }
        },
        "b32541eb7378413f8a3d60b986a06a92": {
          "model_module": "@jupyter-widgets/base",
          "model_name": "LayoutModel",
          "model_module_version": "1.2.0",
          "state": {
            "_model_module": "@jupyter-widgets/base",
            "_model_module_version": "1.2.0",
            "_model_name": "LayoutModel",
            "_view_count": null,
            "_view_module": "@jupyter-widgets/base",
            "_view_module_version": "1.2.0",
            "_view_name": "LayoutView",
            "align_content": null,
            "align_items": null,
            "align_self": null,
            "border": null,
            "bottom": null,
            "display": null,
            "flex": null,
            "flex_flow": null,
            "grid_area": null,
            "grid_auto_columns": null,
            "grid_auto_flow": null,
            "grid_auto_rows": null,
            "grid_column": null,
            "grid_gap": null,
            "grid_row": null,
            "grid_template_areas": null,
            "grid_template_columns": null,
            "grid_template_rows": null,
            "height": null,
            "justify_content": null,
            "justify_items": null,
            "left": null,
            "margin": null,
            "max_height": null,
            "max_width": null,
            "min_height": null,
            "min_width": null,
            "object_fit": null,
            "object_position": null,
            "order": null,
            "overflow": null,
            "overflow_x": null,
            "overflow_y": null,
            "padding": null,
            "right": null,
            "top": null,
            "visibility": null,
            "width": null
          }
        },
        "5efea6ca78b04fe0bcb23a64371d443a": {
          "model_module": "@jupyter-widgets/controls",
          "model_name": "DescriptionStyleModel",
          "model_module_version": "1.5.0",
          "state": {
            "_model_module": "@jupyter-widgets/controls",
            "_model_module_version": "1.5.0",
            "_model_name": "DescriptionStyleModel",
            "_view_count": null,
            "_view_module": "@jupyter-widgets/base",
            "_view_module_version": "1.2.0",
            "_view_name": "StyleView",
            "description_width": ""
          }
        },
        "b758d19f63e845f2afe22089bd9e21ab": {
          "model_module": "@jupyter-widgets/base",
          "model_name": "LayoutModel",
          "model_module_version": "1.2.0",
          "state": {
            "_model_module": "@jupyter-widgets/base",
            "_model_module_version": "1.2.0",
            "_model_name": "LayoutModel",
            "_view_count": null,
            "_view_module": "@jupyter-widgets/base",
            "_view_module_version": "1.2.0",
            "_view_name": "LayoutView",
            "align_content": null,
            "align_items": null,
            "align_self": null,
            "border": null,
            "bottom": null,
            "display": null,
            "flex": null,
            "flex_flow": null,
            "grid_area": null,
            "grid_auto_columns": null,
            "grid_auto_flow": null,
            "grid_auto_rows": null,
            "grid_column": null,
            "grid_gap": null,
            "grid_row": null,
            "grid_template_areas": null,
            "grid_template_columns": null,
            "grid_template_rows": null,
            "height": null,
            "justify_content": null,
            "justify_items": null,
            "left": null,
            "margin": null,
            "max_height": null,
            "max_width": null,
            "min_height": null,
            "min_width": null,
            "object_fit": null,
            "object_position": null,
            "order": null,
            "overflow": null,
            "overflow_x": null,
            "overflow_y": null,
            "padding": null,
            "right": null,
            "top": null,
            "visibility": null,
            "width": null
          }
        },
        "3bf99b14b1db4a0fab380451c90c322e": {
          "model_module": "@jupyter-widgets/controls",
          "model_name": "ProgressStyleModel",
          "model_module_version": "1.5.0",
          "state": {
            "_model_module": "@jupyter-widgets/controls",
            "_model_module_version": "1.5.0",
            "_model_name": "ProgressStyleModel",
            "_view_count": null,
            "_view_module": "@jupyter-widgets/base",
            "_view_module_version": "1.2.0",
            "_view_name": "StyleView",
            "bar_color": null,
            "description_width": ""
          }
        },
        "27e41e6fba144d1d89fa6208a79ec462": {
          "model_module": "@jupyter-widgets/controls",
          "model_name": "VBoxModel",
          "model_module_version": "1.5.0",
          "state": {
            "_dom_classes": [],
            "_model_module": "@jupyter-widgets/controls",
            "_model_module_version": "1.5.0",
            "_model_name": "VBoxModel",
            "_view_count": null,
            "_view_module": "@jupyter-widgets/controls",
            "_view_module_version": "1.5.0",
            "_view_name": "VBoxView",
            "box_style": "",
            "children": [
              "IPY_MODEL_cb350d8b50814210b0160dca43f3a87d",
              "IPY_MODEL_b48d3aff379e4dc89af954d7f6657a0a"
            ],
            "layout": "IPY_MODEL_74a8da4fb047474e863bf9d292de787a"
          }
        },
        "cb350d8b50814210b0160dca43f3a87d": {
          "model_module": "@jupyter-widgets/controls",
          "model_name": "LabelModel",
          "model_module_version": "1.5.0",
          "state": {
            "_dom_classes": [],
            "_model_module": "@jupyter-widgets/controls",
            "_model_module_version": "1.5.0",
            "_model_name": "LabelModel",
            "_view_count": null,
            "_view_module": "@jupyter-widgets/controls",
            "_view_module_version": "1.5.0",
            "_view_name": "LabelView",
            "description": "",
            "description_tooltip": null,
            "layout": "IPY_MODEL_dc50cb4eb4804b3097a2a2569d443756",
            "placeholder": "​",
            "style": "IPY_MODEL_2003dc5851ee43419aaa0186cf80c222",
            "value": "0.746 MB of 0.746 MB uploaded (0.000 MB deduped)\r"
          }
        },
        "b48d3aff379e4dc89af954d7f6657a0a": {
          "model_module": "@jupyter-widgets/controls",
          "model_name": "FloatProgressModel",
          "model_module_version": "1.5.0",
          "state": {
            "_dom_classes": [],
            "_model_module": "@jupyter-widgets/controls",
            "_model_module_version": "1.5.0",
            "_model_name": "FloatProgressModel",
            "_view_count": null,
            "_view_module": "@jupyter-widgets/controls",
            "_view_module_version": "1.5.0",
            "_view_name": "ProgressView",
            "bar_style": "",
            "description": "",
            "description_tooltip": null,
            "layout": "IPY_MODEL_6ff24e729be24b1fb7e6bb4187357a76",
            "max": 1,
            "min": 0,
            "orientation": "horizontal",
            "style": "IPY_MODEL_36406afbeed1425cb146b303895d3dec",
            "value": 1
          }
        },
        "74a8da4fb047474e863bf9d292de787a": {
          "model_module": "@jupyter-widgets/base",
          "model_name": "LayoutModel",
          "model_module_version": "1.2.0",
          "state": {
            "_model_module": "@jupyter-widgets/base",
            "_model_module_version": "1.2.0",
            "_model_name": "LayoutModel",
            "_view_count": null,
            "_view_module": "@jupyter-widgets/base",
            "_view_module_version": "1.2.0",
            "_view_name": "LayoutView",
            "align_content": null,
            "align_items": null,
            "align_self": null,
            "border": null,
            "bottom": null,
            "display": null,
            "flex": null,
            "flex_flow": null,
            "grid_area": null,
            "grid_auto_columns": null,
            "grid_auto_flow": null,
            "grid_auto_rows": null,
            "grid_column": null,
            "grid_gap": null,
            "grid_row": null,
            "grid_template_areas": null,
            "grid_template_columns": null,
            "grid_template_rows": null,
            "height": null,
            "justify_content": null,
            "justify_items": null,
            "left": null,
            "margin": null,
            "max_height": null,
            "max_width": null,
            "min_height": null,
            "min_width": null,
            "object_fit": null,
            "object_position": null,
            "order": null,
            "overflow": null,
            "overflow_x": null,
            "overflow_y": null,
            "padding": null,
            "right": null,
            "top": null,
            "visibility": null,
            "width": null
          }
        },
        "dc50cb4eb4804b3097a2a2569d443756": {
          "model_module": "@jupyter-widgets/base",
          "model_name": "LayoutModel",
          "model_module_version": "1.2.0",
          "state": {
            "_model_module": "@jupyter-widgets/base",
            "_model_module_version": "1.2.0",
            "_model_name": "LayoutModel",
            "_view_count": null,
            "_view_module": "@jupyter-widgets/base",
            "_view_module_version": "1.2.0",
            "_view_name": "LayoutView",
            "align_content": null,
            "align_items": null,
            "align_self": null,
            "border": null,
            "bottom": null,
            "display": null,
            "flex": null,
            "flex_flow": null,
            "grid_area": null,
            "grid_auto_columns": null,
            "grid_auto_flow": null,
            "grid_auto_rows": null,
            "grid_column": null,
            "grid_gap": null,
            "grid_row": null,
            "grid_template_areas": null,
            "grid_template_columns": null,
            "grid_template_rows": null,
            "height": null,
            "justify_content": null,
            "justify_items": null,
            "left": null,
            "margin": null,
            "max_height": null,
            "max_width": null,
            "min_height": null,
            "min_width": null,
            "object_fit": null,
            "object_position": null,
            "order": null,
            "overflow": null,
            "overflow_x": null,
            "overflow_y": null,
            "padding": null,
            "right": null,
            "top": null,
            "visibility": null,
            "width": null
          }
        },
        "2003dc5851ee43419aaa0186cf80c222": {
          "model_module": "@jupyter-widgets/controls",
          "model_name": "DescriptionStyleModel",
          "model_module_version": "1.5.0",
          "state": {
            "_model_module": "@jupyter-widgets/controls",
            "_model_module_version": "1.5.0",
            "_model_name": "DescriptionStyleModel",
            "_view_count": null,
            "_view_module": "@jupyter-widgets/base",
            "_view_module_version": "1.2.0",
            "_view_name": "StyleView",
            "description_width": ""
          }
        },
        "6ff24e729be24b1fb7e6bb4187357a76": {
          "model_module": "@jupyter-widgets/base",
          "model_name": "LayoutModel",
          "model_module_version": "1.2.0",
          "state": {
            "_model_module": "@jupyter-widgets/base",
            "_model_module_version": "1.2.0",
            "_model_name": "LayoutModel",
            "_view_count": null,
            "_view_module": "@jupyter-widgets/base",
            "_view_module_version": "1.2.0",
            "_view_name": "LayoutView",
            "align_content": null,
            "align_items": null,
            "align_self": null,
            "border": null,
            "bottom": null,
            "display": null,
            "flex": null,
            "flex_flow": null,
            "grid_area": null,
            "grid_auto_columns": null,
            "grid_auto_flow": null,
            "grid_auto_rows": null,
            "grid_column": null,
            "grid_gap": null,
            "grid_row": null,
            "grid_template_areas": null,
            "grid_template_columns": null,
            "grid_template_rows": null,
            "height": null,
            "justify_content": null,
            "justify_items": null,
            "left": null,
            "margin": null,
            "max_height": null,
            "max_width": null,
            "min_height": null,
            "min_width": null,
            "object_fit": null,
            "object_position": null,
            "order": null,
            "overflow": null,
            "overflow_x": null,
            "overflow_y": null,
            "padding": null,
            "right": null,
            "top": null,
            "visibility": null,
            "width": null
          }
        },
        "36406afbeed1425cb146b303895d3dec": {
          "model_module": "@jupyter-widgets/controls",
          "model_name": "ProgressStyleModel",
          "model_module_version": "1.5.0",
          "state": {
            "_model_module": "@jupyter-widgets/controls",
            "_model_module_version": "1.5.0",
            "_model_name": "ProgressStyleModel",
            "_view_count": null,
            "_view_module": "@jupyter-widgets/base",
            "_view_module_version": "1.2.0",
            "_view_name": "StyleView",
            "bar_color": null,
            "description_width": ""
          }
        },
        "e711491803b64778bb6476a2e2eb5e1a": {
          "model_module": "@jupyter-widgets/controls",
          "model_name": "VBoxModel",
          "model_module_version": "1.5.0",
          "state": {
            "_dom_classes": [],
            "_model_module": "@jupyter-widgets/controls",
            "_model_module_version": "1.5.0",
            "_model_name": "VBoxModel",
            "_view_count": null,
            "_view_module": "@jupyter-widgets/controls",
            "_view_module_version": "1.5.0",
            "_view_name": "VBoxView",
            "box_style": "",
            "children": [
              "IPY_MODEL_8ba28f746f314f70b8ff59bbabf02f28",
              "IPY_MODEL_b7513f2812a34a3997e99b8f2ecba34f"
            ],
            "layout": "IPY_MODEL_f6490ef875f545b6a987bf4921f4a4ff"
          }
        },
        "8ba28f746f314f70b8ff59bbabf02f28": {
          "model_module": "@jupyter-widgets/controls",
          "model_name": "LabelModel",
          "model_module_version": "1.5.0",
          "state": {
            "_dom_classes": [],
            "_model_module": "@jupyter-widgets/controls",
            "_model_module_version": "1.5.0",
            "_model_name": "LabelModel",
            "_view_count": null,
            "_view_module": "@jupyter-widgets/controls",
            "_view_module_version": "1.5.0",
            "_view_name": "LabelView",
            "description": "",
            "description_tooltip": null,
            "layout": "IPY_MODEL_9ae1a9f6464c49c6bdf8e90d20b101a1",
            "placeholder": "​",
            "style": "IPY_MODEL_638e9591722840e0a8a28629e49c4c46",
            "value": "0.406 MB of 0.406 MB uploaded (0.000 MB deduped)\r"
          }
        },
        "b7513f2812a34a3997e99b8f2ecba34f": {
          "model_module": "@jupyter-widgets/controls",
          "model_name": "FloatProgressModel",
          "model_module_version": "1.5.0",
          "state": {
            "_dom_classes": [],
            "_model_module": "@jupyter-widgets/controls",
            "_model_module_version": "1.5.0",
            "_model_name": "FloatProgressModel",
            "_view_count": null,
            "_view_module": "@jupyter-widgets/controls",
            "_view_module_version": "1.5.0",
            "_view_name": "ProgressView",
            "bar_style": "",
            "description": "",
            "description_tooltip": null,
            "layout": "IPY_MODEL_11ad6f11a4f74df58bdff73cd73eb610",
            "max": 1,
            "min": 0,
            "orientation": "horizontal",
            "style": "IPY_MODEL_5ecb5cdf395a4ea19cd7d99d96a3cff7",
            "value": 1
          }
        },
        "f6490ef875f545b6a987bf4921f4a4ff": {
          "model_module": "@jupyter-widgets/base",
          "model_name": "LayoutModel",
          "model_module_version": "1.2.0",
          "state": {
            "_model_module": "@jupyter-widgets/base",
            "_model_module_version": "1.2.0",
            "_model_name": "LayoutModel",
            "_view_count": null,
            "_view_module": "@jupyter-widgets/base",
            "_view_module_version": "1.2.0",
            "_view_name": "LayoutView",
            "align_content": null,
            "align_items": null,
            "align_self": null,
            "border": null,
            "bottom": null,
            "display": null,
            "flex": null,
            "flex_flow": null,
            "grid_area": null,
            "grid_auto_columns": null,
            "grid_auto_flow": null,
            "grid_auto_rows": null,
            "grid_column": null,
            "grid_gap": null,
            "grid_row": null,
            "grid_template_areas": null,
            "grid_template_columns": null,
            "grid_template_rows": null,
            "height": null,
            "justify_content": null,
            "justify_items": null,
            "left": null,
            "margin": null,
            "max_height": null,
            "max_width": null,
            "min_height": null,
            "min_width": null,
            "object_fit": null,
            "object_position": null,
            "order": null,
            "overflow": null,
            "overflow_x": null,
            "overflow_y": null,
            "padding": null,
            "right": null,
            "top": null,
            "visibility": null,
            "width": null
          }
        },
        "9ae1a9f6464c49c6bdf8e90d20b101a1": {
          "model_module": "@jupyter-widgets/base",
          "model_name": "LayoutModel",
          "model_module_version": "1.2.0",
          "state": {
            "_model_module": "@jupyter-widgets/base",
            "_model_module_version": "1.2.0",
            "_model_name": "LayoutModel",
            "_view_count": null,
            "_view_module": "@jupyter-widgets/base",
            "_view_module_version": "1.2.0",
            "_view_name": "LayoutView",
            "align_content": null,
            "align_items": null,
            "align_self": null,
            "border": null,
            "bottom": null,
            "display": null,
            "flex": null,
            "flex_flow": null,
            "grid_area": null,
            "grid_auto_columns": null,
            "grid_auto_flow": null,
            "grid_auto_rows": null,
            "grid_column": null,
            "grid_gap": null,
            "grid_row": null,
            "grid_template_areas": null,
            "grid_template_columns": null,
            "grid_template_rows": null,
            "height": null,
            "justify_content": null,
            "justify_items": null,
            "left": null,
            "margin": null,
            "max_height": null,
            "max_width": null,
            "min_height": null,
            "min_width": null,
            "object_fit": null,
            "object_position": null,
            "order": null,
            "overflow": null,
            "overflow_x": null,
            "overflow_y": null,
            "padding": null,
            "right": null,
            "top": null,
            "visibility": null,
            "width": null
          }
        },
        "638e9591722840e0a8a28629e49c4c46": {
          "model_module": "@jupyter-widgets/controls",
          "model_name": "DescriptionStyleModel",
          "model_module_version": "1.5.0",
          "state": {
            "_model_module": "@jupyter-widgets/controls",
            "_model_module_version": "1.5.0",
            "_model_name": "DescriptionStyleModel",
            "_view_count": null,
            "_view_module": "@jupyter-widgets/base",
            "_view_module_version": "1.2.0",
            "_view_name": "StyleView",
            "description_width": ""
          }
        },
        "11ad6f11a4f74df58bdff73cd73eb610": {
          "model_module": "@jupyter-widgets/base",
          "model_name": "LayoutModel",
          "model_module_version": "1.2.0",
          "state": {
            "_model_module": "@jupyter-widgets/base",
            "_model_module_version": "1.2.0",
            "_model_name": "LayoutModel",
            "_view_count": null,
            "_view_module": "@jupyter-widgets/base",
            "_view_module_version": "1.2.0",
            "_view_name": "LayoutView",
            "align_content": null,
            "align_items": null,
            "align_self": null,
            "border": null,
            "bottom": null,
            "display": null,
            "flex": null,
            "flex_flow": null,
            "grid_area": null,
            "grid_auto_columns": null,
            "grid_auto_flow": null,
            "grid_auto_rows": null,
            "grid_column": null,
            "grid_gap": null,
            "grid_row": null,
            "grid_template_areas": null,
            "grid_template_columns": null,
            "grid_template_rows": null,
            "height": null,
            "justify_content": null,
            "justify_items": null,
            "left": null,
            "margin": null,
            "max_height": null,
            "max_width": null,
            "min_height": null,
            "min_width": null,
            "object_fit": null,
            "object_position": null,
            "order": null,
            "overflow": null,
            "overflow_x": null,
            "overflow_y": null,
            "padding": null,
            "right": null,
            "top": null,
            "visibility": null,
            "width": null
          }
        },
        "5ecb5cdf395a4ea19cd7d99d96a3cff7": {
          "model_module": "@jupyter-widgets/controls",
          "model_name": "ProgressStyleModel",
          "model_module_version": "1.5.0",
          "state": {
            "_model_module": "@jupyter-widgets/controls",
            "_model_module_version": "1.5.0",
            "_model_name": "ProgressStyleModel",
            "_view_count": null,
            "_view_module": "@jupyter-widgets/base",
            "_view_module_version": "1.2.0",
            "_view_name": "StyleView",
            "bar_color": null,
            "description_width": ""
          }
        },
        "530249f0fe764dc3beff8c1fd5eb3584": {
          "model_module": "@jupyter-widgets/controls",
          "model_name": "VBoxModel",
          "model_module_version": "1.5.0",
          "state": {
            "_dom_classes": [],
            "_model_module": "@jupyter-widgets/controls",
            "_model_module_version": "1.5.0",
            "_model_name": "VBoxModel",
            "_view_count": null,
            "_view_module": "@jupyter-widgets/controls",
            "_view_module_version": "1.5.0",
            "_view_name": "VBoxView",
            "box_style": "",
            "children": [
              "IPY_MODEL_efa220c21d7f433fb59989dbe6697277",
              "IPY_MODEL_b48f524b62904a88b3ad028b3d08c0c9"
            ],
            "layout": "IPY_MODEL_0a2963b802904f7d828b400fc00522ef"
          }
        },
        "efa220c21d7f433fb59989dbe6697277": {
          "model_module": "@jupyter-widgets/controls",
          "model_name": "LabelModel",
          "model_module_version": "1.5.0",
          "state": {
            "_dom_classes": [],
            "_model_module": "@jupyter-widgets/controls",
            "_model_module_version": "1.5.0",
            "_model_name": "LabelModel",
            "_view_count": null,
            "_view_module": "@jupyter-widgets/controls",
            "_view_module_version": "1.5.0",
            "_view_name": "LabelView",
            "description": "",
            "description_tooltip": null,
            "layout": "IPY_MODEL_647c95850b2c490a9e0ef6a05ac0ed40",
            "placeholder": "​",
            "style": "IPY_MODEL_62e3f1e709c643bb9bce78984547128c",
            "value": "0.230 MB of 0.230 MB uploaded (0.000 MB deduped)\r"
          }
        },
        "b48f524b62904a88b3ad028b3d08c0c9": {
          "model_module": "@jupyter-widgets/controls",
          "model_name": "FloatProgressModel",
          "model_module_version": "1.5.0",
          "state": {
            "_dom_classes": [],
            "_model_module": "@jupyter-widgets/controls",
            "_model_module_version": "1.5.0",
            "_model_name": "FloatProgressModel",
            "_view_count": null,
            "_view_module": "@jupyter-widgets/controls",
            "_view_module_version": "1.5.0",
            "_view_name": "ProgressView",
            "bar_style": "",
            "description": "",
            "description_tooltip": null,
            "layout": "IPY_MODEL_ca1e60c7adfe4ed4a6b5f207c75e0c37",
            "max": 1,
            "min": 0,
            "orientation": "horizontal",
            "style": "IPY_MODEL_938ddf14867c4f7f82fb5b6150dd06c3",
            "value": 1
          }
        },
        "0a2963b802904f7d828b400fc00522ef": {
          "model_module": "@jupyter-widgets/base",
          "model_name": "LayoutModel",
          "model_module_version": "1.2.0",
          "state": {
            "_model_module": "@jupyter-widgets/base",
            "_model_module_version": "1.2.0",
            "_model_name": "LayoutModel",
            "_view_count": null,
            "_view_module": "@jupyter-widgets/base",
            "_view_module_version": "1.2.0",
            "_view_name": "LayoutView",
            "align_content": null,
            "align_items": null,
            "align_self": null,
            "border": null,
            "bottom": null,
            "display": null,
            "flex": null,
            "flex_flow": null,
            "grid_area": null,
            "grid_auto_columns": null,
            "grid_auto_flow": null,
            "grid_auto_rows": null,
            "grid_column": null,
            "grid_gap": null,
            "grid_row": null,
            "grid_template_areas": null,
            "grid_template_columns": null,
            "grid_template_rows": null,
            "height": null,
            "justify_content": null,
            "justify_items": null,
            "left": null,
            "margin": null,
            "max_height": null,
            "max_width": null,
            "min_height": null,
            "min_width": null,
            "object_fit": null,
            "object_position": null,
            "order": null,
            "overflow": null,
            "overflow_x": null,
            "overflow_y": null,
            "padding": null,
            "right": null,
            "top": null,
            "visibility": null,
            "width": null
          }
        },
        "647c95850b2c490a9e0ef6a05ac0ed40": {
          "model_module": "@jupyter-widgets/base",
          "model_name": "LayoutModel",
          "model_module_version": "1.2.0",
          "state": {
            "_model_module": "@jupyter-widgets/base",
            "_model_module_version": "1.2.0",
            "_model_name": "LayoutModel",
            "_view_count": null,
            "_view_module": "@jupyter-widgets/base",
            "_view_module_version": "1.2.0",
            "_view_name": "LayoutView",
            "align_content": null,
            "align_items": null,
            "align_self": null,
            "border": null,
            "bottom": null,
            "display": null,
            "flex": null,
            "flex_flow": null,
            "grid_area": null,
            "grid_auto_columns": null,
            "grid_auto_flow": null,
            "grid_auto_rows": null,
            "grid_column": null,
            "grid_gap": null,
            "grid_row": null,
            "grid_template_areas": null,
            "grid_template_columns": null,
            "grid_template_rows": null,
            "height": null,
            "justify_content": null,
            "justify_items": null,
            "left": null,
            "margin": null,
            "max_height": null,
            "max_width": null,
            "min_height": null,
            "min_width": null,
            "object_fit": null,
            "object_position": null,
            "order": null,
            "overflow": null,
            "overflow_x": null,
            "overflow_y": null,
            "padding": null,
            "right": null,
            "top": null,
            "visibility": null,
            "width": null
          }
        },
        "62e3f1e709c643bb9bce78984547128c": {
          "model_module": "@jupyter-widgets/controls",
          "model_name": "DescriptionStyleModel",
          "model_module_version": "1.5.0",
          "state": {
            "_model_module": "@jupyter-widgets/controls",
            "_model_module_version": "1.5.0",
            "_model_name": "DescriptionStyleModel",
            "_view_count": null,
            "_view_module": "@jupyter-widgets/base",
            "_view_module_version": "1.2.0",
            "_view_name": "StyleView",
            "description_width": ""
          }
        },
        "ca1e60c7adfe4ed4a6b5f207c75e0c37": {
          "model_module": "@jupyter-widgets/base",
          "model_name": "LayoutModel",
          "model_module_version": "1.2.0",
          "state": {
            "_model_module": "@jupyter-widgets/base",
            "_model_module_version": "1.2.0",
            "_model_name": "LayoutModel",
            "_view_count": null,
            "_view_module": "@jupyter-widgets/base",
            "_view_module_version": "1.2.0",
            "_view_name": "LayoutView",
            "align_content": null,
            "align_items": null,
            "align_self": null,
            "border": null,
            "bottom": null,
            "display": null,
            "flex": null,
            "flex_flow": null,
            "grid_area": null,
            "grid_auto_columns": null,
            "grid_auto_flow": null,
            "grid_auto_rows": null,
            "grid_column": null,
            "grid_gap": null,
            "grid_row": null,
            "grid_template_areas": null,
            "grid_template_columns": null,
            "grid_template_rows": null,
            "height": null,
            "justify_content": null,
            "justify_items": null,
            "left": null,
            "margin": null,
            "max_height": null,
            "max_width": null,
            "min_height": null,
            "min_width": null,
            "object_fit": null,
            "object_position": null,
            "order": null,
            "overflow": null,
            "overflow_x": null,
            "overflow_y": null,
            "padding": null,
            "right": null,
            "top": null,
            "visibility": null,
            "width": null
          }
        },
        "938ddf14867c4f7f82fb5b6150dd06c3": {
          "model_module": "@jupyter-widgets/controls",
          "model_name": "ProgressStyleModel",
          "model_module_version": "1.5.0",
          "state": {
            "_model_module": "@jupyter-widgets/controls",
            "_model_module_version": "1.5.0",
            "_model_name": "ProgressStyleModel",
            "_view_count": null,
            "_view_module": "@jupyter-widgets/base",
            "_view_module_version": "1.2.0",
            "_view_name": "StyleView",
            "bar_color": null,
            "description_width": ""
          }
        },
        "6a9af89dfaf945429ccf1f52bb5197d9": {
          "model_module": "@jupyter-widgets/controls",
          "model_name": "VBoxModel",
          "model_module_version": "1.5.0",
          "state": {
            "_dom_classes": [],
            "_model_module": "@jupyter-widgets/controls",
            "_model_module_version": "1.5.0",
            "_model_name": "VBoxModel",
            "_view_count": null,
            "_view_module": "@jupyter-widgets/controls",
            "_view_module_version": "1.5.0",
            "_view_name": "VBoxView",
            "box_style": "",
            "children": [
              "IPY_MODEL_5abddc1bea3f4d51be77746ca6ce501f",
              "IPY_MODEL_76350bc88dd449b6a71c58cbadd21e1b"
            ],
            "layout": "IPY_MODEL_95a27532daac47628ce8f9d759fb000b"
          }
        },
        "5abddc1bea3f4d51be77746ca6ce501f": {
          "model_module": "@jupyter-widgets/controls",
          "model_name": "LabelModel",
          "model_module_version": "1.5.0",
          "state": {
            "_dom_classes": [],
            "_model_module": "@jupyter-widgets/controls",
            "_model_module_version": "1.5.0",
            "_model_name": "LabelModel",
            "_view_count": null,
            "_view_module": "@jupyter-widgets/controls",
            "_view_module_version": "1.5.0",
            "_view_name": "LabelView",
            "description": "",
            "description_tooltip": null,
            "layout": "IPY_MODEL_b5db50972a1d48aeae27a822b57c65a8",
            "placeholder": "​",
            "style": "IPY_MODEL_109ae5c2f18a47efa68b390b81b33a47",
            "value": "0.230 MB of 0.230 MB uploaded (0.000 MB deduped)\r"
          }
        },
        "76350bc88dd449b6a71c58cbadd21e1b": {
          "model_module": "@jupyter-widgets/controls",
          "model_name": "FloatProgressModel",
          "model_module_version": "1.5.0",
          "state": {
            "_dom_classes": [],
            "_model_module": "@jupyter-widgets/controls",
            "_model_module_version": "1.5.0",
            "_model_name": "FloatProgressModel",
            "_view_count": null,
            "_view_module": "@jupyter-widgets/controls",
            "_view_module_version": "1.5.0",
            "_view_name": "ProgressView",
            "bar_style": "",
            "description": "",
            "description_tooltip": null,
            "layout": "IPY_MODEL_69ed483763ea46769c439f77ac65bed2",
            "max": 1,
            "min": 0,
            "orientation": "horizontal",
            "style": "IPY_MODEL_399d6f48c1a044f8ab589d5a780118a6",
            "value": 1
          }
        },
        "95a27532daac47628ce8f9d759fb000b": {
          "model_module": "@jupyter-widgets/base",
          "model_name": "LayoutModel",
          "model_module_version": "1.2.0",
          "state": {
            "_model_module": "@jupyter-widgets/base",
            "_model_module_version": "1.2.0",
            "_model_name": "LayoutModel",
            "_view_count": null,
            "_view_module": "@jupyter-widgets/base",
            "_view_module_version": "1.2.0",
            "_view_name": "LayoutView",
            "align_content": null,
            "align_items": null,
            "align_self": null,
            "border": null,
            "bottom": null,
            "display": null,
            "flex": null,
            "flex_flow": null,
            "grid_area": null,
            "grid_auto_columns": null,
            "grid_auto_flow": null,
            "grid_auto_rows": null,
            "grid_column": null,
            "grid_gap": null,
            "grid_row": null,
            "grid_template_areas": null,
            "grid_template_columns": null,
            "grid_template_rows": null,
            "height": null,
            "justify_content": null,
            "justify_items": null,
            "left": null,
            "margin": null,
            "max_height": null,
            "max_width": null,
            "min_height": null,
            "min_width": null,
            "object_fit": null,
            "object_position": null,
            "order": null,
            "overflow": null,
            "overflow_x": null,
            "overflow_y": null,
            "padding": null,
            "right": null,
            "top": null,
            "visibility": null,
            "width": null
          }
        },
        "b5db50972a1d48aeae27a822b57c65a8": {
          "model_module": "@jupyter-widgets/base",
          "model_name": "LayoutModel",
          "model_module_version": "1.2.0",
          "state": {
            "_model_module": "@jupyter-widgets/base",
            "_model_module_version": "1.2.0",
            "_model_name": "LayoutModel",
            "_view_count": null,
            "_view_module": "@jupyter-widgets/base",
            "_view_module_version": "1.2.0",
            "_view_name": "LayoutView",
            "align_content": null,
            "align_items": null,
            "align_self": null,
            "border": null,
            "bottom": null,
            "display": null,
            "flex": null,
            "flex_flow": null,
            "grid_area": null,
            "grid_auto_columns": null,
            "grid_auto_flow": null,
            "grid_auto_rows": null,
            "grid_column": null,
            "grid_gap": null,
            "grid_row": null,
            "grid_template_areas": null,
            "grid_template_columns": null,
            "grid_template_rows": null,
            "height": null,
            "justify_content": null,
            "justify_items": null,
            "left": null,
            "margin": null,
            "max_height": null,
            "max_width": null,
            "min_height": null,
            "min_width": null,
            "object_fit": null,
            "object_position": null,
            "order": null,
            "overflow": null,
            "overflow_x": null,
            "overflow_y": null,
            "padding": null,
            "right": null,
            "top": null,
            "visibility": null,
            "width": null
          }
        },
        "109ae5c2f18a47efa68b390b81b33a47": {
          "model_module": "@jupyter-widgets/controls",
          "model_name": "DescriptionStyleModel",
          "model_module_version": "1.5.0",
          "state": {
            "_model_module": "@jupyter-widgets/controls",
            "_model_module_version": "1.5.0",
            "_model_name": "DescriptionStyleModel",
            "_view_count": null,
            "_view_module": "@jupyter-widgets/base",
            "_view_module_version": "1.2.0",
            "_view_name": "StyleView",
            "description_width": ""
          }
        },
        "69ed483763ea46769c439f77ac65bed2": {
          "model_module": "@jupyter-widgets/base",
          "model_name": "LayoutModel",
          "model_module_version": "1.2.0",
          "state": {
            "_model_module": "@jupyter-widgets/base",
            "_model_module_version": "1.2.0",
            "_model_name": "LayoutModel",
            "_view_count": null,
            "_view_module": "@jupyter-widgets/base",
            "_view_module_version": "1.2.0",
            "_view_name": "LayoutView",
            "align_content": null,
            "align_items": null,
            "align_self": null,
            "border": null,
            "bottom": null,
            "display": null,
            "flex": null,
            "flex_flow": null,
            "grid_area": null,
            "grid_auto_columns": null,
            "grid_auto_flow": null,
            "grid_auto_rows": null,
            "grid_column": null,
            "grid_gap": null,
            "grid_row": null,
            "grid_template_areas": null,
            "grid_template_columns": null,
            "grid_template_rows": null,
            "height": null,
            "justify_content": null,
            "justify_items": null,
            "left": null,
            "margin": null,
            "max_height": null,
            "max_width": null,
            "min_height": null,
            "min_width": null,
            "object_fit": null,
            "object_position": null,
            "order": null,
            "overflow": null,
            "overflow_x": null,
            "overflow_y": null,
            "padding": null,
            "right": null,
            "top": null,
            "visibility": null,
            "width": null
          }
        },
        "399d6f48c1a044f8ab589d5a780118a6": {
          "model_module": "@jupyter-widgets/controls",
          "model_name": "ProgressStyleModel",
          "model_module_version": "1.5.0",
          "state": {
            "_model_module": "@jupyter-widgets/controls",
            "_model_module_version": "1.5.0",
            "_model_name": "ProgressStyleModel",
            "_view_count": null,
            "_view_module": "@jupyter-widgets/base",
            "_view_module_version": "1.2.0",
            "_view_name": "StyleView",
            "bar_color": null,
            "description_width": ""
          }
        },
        "65848e574a3f4e48be622c64180e3431": {
          "model_module": "@jupyter-widgets/controls",
          "model_name": "VBoxModel",
          "model_module_version": "1.5.0",
          "state": {
            "_dom_classes": [],
            "_model_module": "@jupyter-widgets/controls",
            "_model_module_version": "1.5.0",
            "_model_name": "VBoxModel",
            "_view_count": null,
            "_view_module": "@jupyter-widgets/controls",
            "_view_module_version": "1.5.0",
            "_view_name": "VBoxView",
            "box_style": "",
            "children": [
              "IPY_MODEL_62cacb5c132f4ace9bf8d656ae4ce234",
              "IPY_MODEL_026a7327e2f048a7ab9d1ff5aca9534c"
            ],
            "layout": "IPY_MODEL_ffc38ddc75d240ee8fae66af45312f75"
          }
        },
        "62cacb5c132f4ace9bf8d656ae4ce234": {
          "model_module": "@jupyter-widgets/controls",
          "model_name": "LabelModel",
          "model_module_version": "1.5.0",
          "state": {
            "_dom_classes": [],
            "_model_module": "@jupyter-widgets/controls",
            "_model_module_version": "1.5.0",
            "_model_name": "LabelModel",
            "_view_count": null,
            "_view_module": "@jupyter-widgets/controls",
            "_view_module_version": "1.5.0",
            "_view_name": "LabelView",
            "description": "",
            "description_tooltip": null,
            "layout": "IPY_MODEL_974917443a4f4dcba4b3bcbaf4b8d3e9",
            "placeholder": "​",
            "style": "IPY_MODEL_4f42f286556940deaa2e583836495245",
            "value": "0.397 MB of 0.397 MB uploaded (0.000 MB deduped)\r"
          }
        },
        "026a7327e2f048a7ab9d1ff5aca9534c": {
          "model_module": "@jupyter-widgets/controls",
          "model_name": "FloatProgressModel",
          "model_module_version": "1.5.0",
          "state": {
            "_dom_classes": [],
            "_model_module": "@jupyter-widgets/controls",
            "_model_module_version": "1.5.0",
            "_model_name": "FloatProgressModel",
            "_view_count": null,
            "_view_module": "@jupyter-widgets/controls",
            "_view_module_version": "1.5.0",
            "_view_name": "ProgressView",
            "bar_style": "",
            "description": "",
            "description_tooltip": null,
            "layout": "IPY_MODEL_fd62609b2f8e41a4819224197ce89222",
            "max": 1,
            "min": 0,
            "orientation": "horizontal",
            "style": "IPY_MODEL_c35bbe43a1f7405b8de8bc6fb70b98a4",
            "value": 1
          }
        },
        "ffc38ddc75d240ee8fae66af45312f75": {
          "model_module": "@jupyter-widgets/base",
          "model_name": "LayoutModel",
          "model_module_version": "1.2.0",
          "state": {
            "_model_module": "@jupyter-widgets/base",
            "_model_module_version": "1.2.0",
            "_model_name": "LayoutModel",
            "_view_count": null,
            "_view_module": "@jupyter-widgets/base",
            "_view_module_version": "1.2.0",
            "_view_name": "LayoutView",
            "align_content": null,
            "align_items": null,
            "align_self": null,
            "border": null,
            "bottom": null,
            "display": null,
            "flex": null,
            "flex_flow": null,
            "grid_area": null,
            "grid_auto_columns": null,
            "grid_auto_flow": null,
            "grid_auto_rows": null,
            "grid_column": null,
            "grid_gap": null,
            "grid_row": null,
            "grid_template_areas": null,
            "grid_template_columns": null,
            "grid_template_rows": null,
            "height": null,
            "justify_content": null,
            "justify_items": null,
            "left": null,
            "margin": null,
            "max_height": null,
            "max_width": null,
            "min_height": null,
            "min_width": null,
            "object_fit": null,
            "object_position": null,
            "order": null,
            "overflow": null,
            "overflow_x": null,
            "overflow_y": null,
            "padding": null,
            "right": null,
            "top": null,
            "visibility": null,
            "width": null
          }
        },
        "974917443a4f4dcba4b3bcbaf4b8d3e9": {
          "model_module": "@jupyter-widgets/base",
          "model_name": "LayoutModel",
          "model_module_version": "1.2.0",
          "state": {
            "_model_module": "@jupyter-widgets/base",
            "_model_module_version": "1.2.0",
            "_model_name": "LayoutModel",
            "_view_count": null,
            "_view_module": "@jupyter-widgets/base",
            "_view_module_version": "1.2.0",
            "_view_name": "LayoutView",
            "align_content": null,
            "align_items": null,
            "align_self": null,
            "border": null,
            "bottom": null,
            "display": null,
            "flex": null,
            "flex_flow": null,
            "grid_area": null,
            "grid_auto_columns": null,
            "grid_auto_flow": null,
            "grid_auto_rows": null,
            "grid_column": null,
            "grid_gap": null,
            "grid_row": null,
            "grid_template_areas": null,
            "grid_template_columns": null,
            "grid_template_rows": null,
            "height": null,
            "justify_content": null,
            "justify_items": null,
            "left": null,
            "margin": null,
            "max_height": null,
            "max_width": null,
            "min_height": null,
            "min_width": null,
            "object_fit": null,
            "object_position": null,
            "order": null,
            "overflow": null,
            "overflow_x": null,
            "overflow_y": null,
            "padding": null,
            "right": null,
            "top": null,
            "visibility": null,
            "width": null
          }
        },
        "4f42f286556940deaa2e583836495245": {
          "model_module": "@jupyter-widgets/controls",
          "model_name": "DescriptionStyleModel",
          "model_module_version": "1.5.0",
          "state": {
            "_model_module": "@jupyter-widgets/controls",
            "_model_module_version": "1.5.0",
            "_model_name": "DescriptionStyleModel",
            "_view_count": null,
            "_view_module": "@jupyter-widgets/base",
            "_view_module_version": "1.2.0",
            "_view_name": "StyleView",
            "description_width": ""
          }
        },
        "fd62609b2f8e41a4819224197ce89222": {
          "model_module": "@jupyter-widgets/base",
          "model_name": "LayoutModel",
          "model_module_version": "1.2.0",
          "state": {
            "_model_module": "@jupyter-widgets/base",
            "_model_module_version": "1.2.0",
            "_model_name": "LayoutModel",
            "_view_count": null,
            "_view_module": "@jupyter-widgets/base",
            "_view_module_version": "1.2.0",
            "_view_name": "LayoutView",
            "align_content": null,
            "align_items": null,
            "align_self": null,
            "border": null,
            "bottom": null,
            "display": null,
            "flex": null,
            "flex_flow": null,
            "grid_area": null,
            "grid_auto_columns": null,
            "grid_auto_flow": null,
            "grid_auto_rows": null,
            "grid_column": null,
            "grid_gap": null,
            "grid_row": null,
            "grid_template_areas": null,
            "grid_template_columns": null,
            "grid_template_rows": null,
            "height": null,
            "justify_content": null,
            "justify_items": null,
            "left": null,
            "margin": null,
            "max_height": null,
            "max_width": null,
            "min_height": null,
            "min_width": null,
            "object_fit": null,
            "object_position": null,
            "order": null,
            "overflow": null,
            "overflow_x": null,
            "overflow_y": null,
            "padding": null,
            "right": null,
            "top": null,
            "visibility": null,
            "width": null
          }
        },
        "c35bbe43a1f7405b8de8bc6fb70b98a4": {
          "model_module": "@jupyter-widgets/controls",
          "model_name": "ProgressStyleModel",
          "model_module_version": "1.5.0",
          "state": {
            "_model_module": "@jupyter-widgets/controls",
            "_model_module_version": "1.5.0",
            "_model_name": "ProgressStyleModel",
            "_view_count": null,
            "_view_module": "@jupyter-widgets/base",
            "_view_module_version": "1.2.0",
            "_view_name": "StyleView",
            "bar_color": null,
            "description_width": ""
          }
        },
        "011cfbe561ea4cdcbc23ca001e8ca9ff": {
          "model_module": "@jupyter-widgets/controls",
          "model_name": "VBoxModel",
          "model_module_version": "1.5.0",
          "state": {
            "_dom_classes": [],
            "_model_module": "@jupyter-widgets/controls",
            "_model_module_version": "1.5.0",
            "_model_name": "VBoxModel",
            "_view_count": null,
            "_view_module": "@jupyter-widgets/controls",
            "_view_module_version": "1.5.0",
            "_view_name": "VBoxView",
            "box_style": "",
            "children": [
              "IPY_MODEL_38d8a13d48c4489abf4e391be4e50703",
              "IPY_MODEL_64daf7639ce041f496fce36d4478bb8c"
            ],
            "layout": "IPY_MODEL_18dd2e9ca0b64e0f9fbe8faff7a4323f"
          }
        },
        "38d8a13d48c4489abf4e391be4e50703": {
          "model_module": "@jupyter-widgets/controls",
          "model_name": "LabelModel",
          "model_module_version": "1.5.0",
          "state": {
            "_dom_classes": [],
            "_model_module": "@jupyter-widgets/controls",
            "_model_module_version": "1.5.0",
            "_model_name": "LabelModel",
            "_view_count": null,
            "_view_module": "@jupyter-widgets/controls",
            "_view_module_version": "1.5.0",
            "_view_name": "LabelView",
            "description": "",
            "description_tooltip": null,
            "layout": "IPY_MODEL_8e4f9612dda846788869335b5e332686",
            "placeholder": "​",
            "style": "IPY_MODEL_eaeeda3c09bf4421b451e2b6d31eae83",
            "value": "0.760 MB of 0.760 MB uploaded (0.000 MB deduped)\r"
          }
        },
        "64daf7639ce041f496fce36d4478bb8c": {
          "model_module": "@jupyter-widgets/controls",
          "model_name": "FloatProgressModel",
          "model_module_version": "1.5.0",
          "state": {
            "_dom_classes": [],
            "_model_module": "@jupyter-widgets/controls",
            "_model_module_version": "1.5.0",
            "_model_name": "FloatProgressModel",
            "_view_count": null,
            "_view_module": "@jupyter-widgets/controls",
            "_view_module_version": "1.5.0",
            "_view_name": "ProgressView",
            "bar_style": "",
            "description": "",
            "description_tooltip": null,
            "layout": "IPY_MODEL_828983f0b0a84034b9390a4f7395b395",
            "max": 1,
            "min": 0,
            "orientation": "horizontal",
            "style": "IPY_MODEL_df86d601d6cb45c5b1d5bbf6a2ad2965",
            "value": 1
          }
        },
        "18dd2e9ca0b64e0f9fbe8faff7a4323f": {
          "model_module": "@jupyter-widgets/base",
          "model_name": "LayoutModel",
          "model_module_version": "1.2.0",
          "state": {
            "_model_module": "@jupyter-widgets/base",
            "_model_module_version": "1.2.0",
            "_model_name": "LayoutModel",
            "_view_count": null,
            "_view_module": "@jupyter-widgets/base",
            "_view_module_version": "1.2.0",
            "_view_name": "LayoutView",
            "align_content": null,
            "align_items": null,
            "align_self": null,
            "border": null,
            "bottom": null,
            "display": null,
            "flex": null,
            "flex_flow": null,
            "grid_area": null,
            "grid_auto_columns": null,
            "grid_auto_flow": null,
            "grid_auto_rows": null,
            "grid_column": null,
            "grid_gap": null,
            "grid_row": null,
            "grid_template_areas": null,
            "grid_template_columns": null,
            "grid_template_rows": null,
            "height": null,
            "justify_content": null,
            "justify_items": null,
            "left": null,
            "margin": null,
            "max_height": null,
            "max_width": null,
            "min_height": null,
            "min_width": null,
            "object_fit": null,
            "object_position": null,
            "order": null,
            "overflow": null,
            "overflow_x": null,
            "overflow_y": null,
            "padding": null,
            "right": null,
            "top": null,
            "visibility": null,
            "width": null
          }
        },
        "8e4f9612dda846788869335b5e332686": {
          "model_module": "@jupyter-widgets/base",
          "model_name": "LayoutModel",
          "model_module_version": "1.2.0",
          "state": {
            "_model_module": "@jupyter-widgets/base",
            "_model_module_version": "1.2.0",
            "_model_name": "LayoutModel",
            "_view_count": null,
            "_view_module": "@jupyter-widgets/base",
            "_view_module_version": "1.2.0",
            "_view_name": "LayoutView",
            "align_content": null,
            "align_items": null,
            "align_self": null,
            "border": null,
            "bottom": null,
            "display": null,
            "flex": null,
            "flex_flow": null,
            "grid_area": null,
            "grid_auto_columns": null,
            "grid_auto_flow": null,
            "grid_auto_rows": null,
            "grid_column": null,
            "grid_gap": null,
            "grid_row": null,
            "grid_template_areas": null,
            "grid_template_columns": null,
            "grid_template_rows": null,
            "height": null,
            "justify_content": null,
            "justify_items": null,
            "left": null,
            "margin": null,
            "max_height": null,
            "max_width": null,
            "min_height": null,
            "min_width": null,
            "object_fit": null,
            "object_position": null,
            "order": null,
            "overflow": null,
            "overflow_x": null,
            "overflow_y": null,
            "padding": null,
            "right": null,
            "top": null,
            "visibility": null,
            "width": null
          }
        },
        "eaeeda3c09bf4421b451e2b6d31eae83": {
          "model_module": "@jupyter-widgets/controls",
          "model_name": "DescriptionStyleModel",
          "model_module_version": "1.5.0",
          "state": {
            "_model_module": "@jupyter-widgets/controls",
            "_model_module_version": "1.5.0",
            "_model_name": "DescriptionStyleModel",
            "_view_count": null,
            "_view_module": "@jupyter-widgets/base",
            "_view_module_version": "1.2.0",
            "_view_name": "StyleView",
            "description_width": ""
          }
        },
        "828983f0b0a84034b9390a4f7395b395": {
          "model_module": "@jupyter-widgets/base",
          "model_name": "LayoutModel",
          "model_module_version": "1.2.0",
          "state": {
            "_model_module": "@jupyter-widgets/base",
            "_model_module_version": "1.2.0",
            "_model_name": "LayoutModel",
            "_view_count": null,
            "_view_module": "@jupyter-widgets/base",
            "_view_module_version": "1.2.0",
            "_view_name": "LayoutView",
            "align_content": null,
            "align_items": null,
            "align_self": null,
            "border": null,
            "bottom": null,
            "display": null,
            "flex": null,
            "flex_flow": null,
            "grid_area": null,
            "grid_auto_columns": null,
            "grid_auto_flow": null,
            "grid_auto_rows": null,
            "grid_column": null,
            "grid_gap": null,
            "grid_row": null,
            "grid_template_areas": null,
            "grid_template_columns": null,
            "grid_template_rows": null,
            "height": null,
            "justify_content": null,
            "justify_items": null,
            "left": null,
            "margin": null,
            "max_height": null,
            "max_width": null,
            "min_height": null,
            "min_width": null,
            "object_fit": null,
            "object_position": null,
            "order": null,
            "overflow": null,
            "overflow_x": null,
            "overflow_y": null,
            "padding": null,
            "right": null,
            "top": null,
            "visibility": null,
            "width": null
          }
        },
        "df86d601d6cb45c5b1d5bbf6a2ad2965": {
          "model_module": "@jupyter-widgets/controls",
          "model_name": "ProgressStyleModel",
          "model_module_version": "1.5.0",
          "state": {
            "_model_module": "@jupyter-widgets/controls",
            "_model_module_version": "1.5.0",
            "_model_name": "ProgressStyleModel",
            "_view_count": null,
            "_view_module": "@jupyter-widgets/base",
            "_view_module_version": "1.2.0",
            "_view_name": "StyleView",
            "bar_color": null,
            "description_width": ""
          }
        },
        "b0e0eb79c1154e22bdc8cf1664de33ab": {
          "model_module": "@jupyter-widgets/controls",
          "model_name": "VBoxModel",
          "model_module_version": "1.5.0",
          "state": {
            "_dom_classes": [],
            "_model_module": "@jupyter-widgets/controls",
            "_model_module_version": "1.5.0",
            "_model_name": "VBoxModel",
            "_view_count": null,
            "_view_module": "@jupyter-widgets/controls",
            "_view_module_version": "1.5.0",
            "_view_name": "VBoxView",
            "box_style": "",
            "children": [
              "IPY_MODEL_7ff64a1ef6a045039ba5baa28aab5277",
              "IPY_MODEL_5fd901dd6bdc419796e410018a872e42"
            ],
            "layout": "IPY_MODEL_92ddbf432be944c59cd2fb2b3789b70b"
          }
        },
        "7ff64a1ef6a045039ba5baa28aab5277": {
          "model_module": "@jupyter-widgets/controls",
          "model_name": "LabelModel",
          "model_module_version": "1.5.0",
          "state": {
            "_dom_classes": [],
            "_model_module": "@jupyter-widgets/controls",
            "_model_module_version": "1.5.0",
            "_model_name": "LabelModel",
            "_view_count": null,
            "_view_module": "@jupyter-widgets/controls",
            "_view_module_version": "1.5.0",
            "_view_name": "LabelView",
            "description": "",
            "description_tooltip": null,
            "layout": "IPY_MODEL_9bd27c5c2a40462280cc4bcdc6cf6f2a",
            "placeholder": "​",
            "style": "IPY_MODEL_92943b6f858a4140ab6d5e4b4e9407cd",
            "value": "0.759 MB of 0.759 MB uploaded (0.000 MB deduped)\r"
          }
        },
        "5fd901dd6bdc419796e410018a872e42": {
          "model_module": "@jupyter-widgets/controls",
          "model_name": "FloatProgressModel",
          "model_module_version": "1.5.0",
          "state": {
            "_dom_classes": [],
            "_model_module": "@jupyter-widgets/controls",
            "_model_module_version": "1.5.0",
            "_model_name": "FloatProgressModel",
            "_view_count": null,
            "_view_module": "@jupyter-widgets/controls",
            "_view_module_version": "1.5.0",
            "_view_name": "ProgressView",
            "bar_style": "",
            "description": "",
            "description_tooltip": null,
            "layout": "IPY_MODEL_54a63f04b3e549e8a5eefb2bdf1dc621",
            "max": 1,
            "min": 0,
            "orientation": "horizontal",
            "style": "IPY_MODEL_11356d1d15cd4a0b8bd93442c75443d8",
            "value": 1
          }
        },
        "92ddbf432be944c59cd2fb2b3789b70b": {
          "model_module": "@jupyter-widgets/base",
          "model_name": "LayoutModel",
          "model_module_version": "1.2.0",
          "state": {
            "_model_module": "@jupyter-widgets/base",
            "_model_module_version": "1.2.0",
            "_model_name": "LayoutModel",
            "_view_count": null,
            "_view_module": "@jupyter-widgets/base",
            "_view_module_version": "1.2.0",
            "_view_name": "LayoutView",
            "align_content": null,
            "align_items": null,
            "align_self": null,
            "border": null,
            "bottom": null,
            "display": null,
            "flex": null,
            "flex_flow": null,
            "grid_area": null,
            "grid_auto_columns": null,
            "grid_auto_flow": null,
            "grid_auto_rows": null,
            "grid_column": null,
            "grid_gap": null,
            "grid_row": null,
            "grid_template_areas": null,
            "grid_template_columns": null,
            "grid_template_rows": null,
            "height": null,
            "justify_content": null,
            "justify_items": null,
            "left": null,
            "margin": null,
            "max_height": null,
            "max_width": null,
            "min_height": null,
            "min_width": null,
            "object_fit": null,
            "object_position": null,
            "order": null,
            "overflow": null,
            "overflow_x": null,
            "overflow_y": null,
            "padding": null,
            "right": null,
            "top": null,
            "visibility": null,
            "width": null
          }
        },
        "9bd27c5c2a40462280cc4bcdc6cf6f2a": {
          "model_module": "@jupyter-widgets/base",
          "model_name": "LayoutModel",
          "model_module_version": "1.2.0",
          "state": {
            "_model_module": "@jupyter-widgets/base",
            "_model_module_version": "1.2.0",
            "_model_name": "LayoutModel",
            "_view_count": null,
            "_view_module": "@jupyter-widgets/base",
            "_view_module_version": "1.2.0",
            "_view_name": "LayoutView",
            "align_content": null,
            "align_items": null,
            "align_self": null,
            "border": null,
            "bottom": null,
            "display": null,
            "flex": null,
            "flex_flow": null,
            "grid_area": null,
            "grid_auto_columns": null,
            "grid_auto_flow": null,
            "grid_auto_rows": null,
            "grid_column": null,
            "grid_gap": null,
            "grid_row": null,
            "grid_template_areas": null,
            "grid_template_columns": null,
            "grid_template_rows": null,
            "height": null,
            "justify_content": null,
            "justify_items": null,
            "left": null,
            "margin": null,
            "max_height": null,
            "max_width": null,
            "min_height": null,
            "min_width": null,
            "object_fit": null,
            "object_position": null,
            "order": null,
            "overflow": null,
            "overflow_x": null,
            "overflow_y": null,
            "padding": null,
            "right": null,
            "top": null,
            "visibility": null,
            "width": null
          }
        },
        "92943b6f858a4140ab6d5e4b4e9407cd": {
          "model_module": "@jupyter-widgets/controls",
          "model_name": "DescriptionStyleModel",
          "model_module_version": "1.5.0",
          "state": {
            "_model_module": "@jupyter-widgets/controls",
            "_model_module_version": "1.5.0",
            "_model_name": "DescriptionStyleModel",
            "_view_count": null,
            "_view_module": "@jupyter-widgets/base",
            "_view_module_version": "1.2.0",
            "_view_name": "StyleView",
            "description_width": ""
          }
        },
        "54a63f04b3e549e8a5eefb2bdf1dc621": {
          "model_module": "@jupyter-widgets/base",
          "model_name": "LayoutModel",
          "model_module_version": "1.2.0",
          "state": {
            "_model_module": "@jupyter-widgets/base",
            "_model_module_version": "1.2.0",
            "_model_name": "LayoutModel",
            "_view_count": null,
            "_view_module": "@jupyter-widgets/base",
            "_view_module_version": "1.2.0",
            "_view_name": "LayoutView",
            "align_content": null,
            "align_items": null,
            "align_self": null,
            "border": null,
            "bottom": null,
            "display": null,
            "flex": null,
            "flex_flow": null,
            "grid_area": null,
            "grid_auto_columns": null,
            "grid_auto_flow": null,
            "grid_auto_rows": null,
            "grid_column": null,
            "grid_gap": null,
            "grid_row": null,
            "grid_template_areas": null,
            "grid_template_columns": null,
            "grid_template_rows": null,
            "height": null,
            "justify_content": null,
            "justify_items": null,
            "left": null,
            "margin": null,
            "max_height": null,
            "max_width": null,
            "min_height": null,
            "min_width": null,
            "object_fit": null,
            "object_position": null,
            "order": null,
            "overflow": null,
            "overflow_x": null,
            "overflow_y": null,
            "padding": null,
            "right": null,
            "top": null,
            "visibility": null,
            "width": null
          }
        },
        "11356d1d15cd4a0b8bd93442c75443d8": {
          "model_module": "@jupyter-widgets/controls",
          "model_name": "ProgressStyleModel",
          "model_module_version": "1.5.0",
          "state": {
            "_model_module": "@jupyter-widgets/controls",
            "_model_module_version": "1.5.0",
            "_model_name": "ProgressStyleModel",
            "_view_count": null,
            "_view_module": "@jupyter-widgets/base",
            "_view_module_version": "1.2.0",
            "_view_name": "StyleView",
            "bar_color": null,
            "description_width": ""
          }
        },
        "df3b15982ca34a5497ded0cc1bb25421": {
          "model_module": "@jupyter-widgets/controls",
          "model_name": "VBoxModel",
          "model_module_version": "1.5.0",
          "state": {
            "_dom_classes": [],
            "_model_module": "@jupyter-widgets/controls",
            "_model_module_version": "1.5.0",
            "_model_name": "VBoxModel",
            "_view_count": null,
            "_view_module": "@jupyter-widgets/controls",
            "_view_module_version": "1.5.0",
            "_view_name": "VBoxView",
            "box_style": "",
            "children": [
              "IPY_MODEL_22792f2536c74ae4b89ce12b74af0d7b",
              "IPY_MODEL_41662836dbc449dea56f61d555a04976"
            ],
            "layout": "IPY_MODEL_b3326d43603644b3a99ee726d5070b55"
          }
        },
        "22792f2536c74ae4b89ce12b74af0d7b": {
          "model_module": "@jupyter-widgets/controls",
          "model_name": "LabelModel",
          "model_module_version": "1.5.0",
          "state": {
            "_dom_classes": [],
            "_model_module": "@jupyter-widgets/controls",
            "_model_module_version": "1.5.0",
            "_model_name": "LabelModel",
            "_view_count": null,
            "_view_module": "@jupyter-widgets/controls",
            "_view_module_version": "1.5.0",
            "_view_name": "LabelView",
            "description": "",
            "description_tooltip": null,
            "layout": "IPY_MODEL_30569e14a3ed4b678b7063ef693253fa",
            "placeholder": "​",
            "style": "IPY_MODEL_c554c3e0cb8849f5a6097cb37e53ec9b",
            "value": "0.756 MB of 0.756 MB uploaded (0.000 MB deduped)\r"
          }
        },
        "41662836dbc449dea56f61d555a04976": {
          "model_module": "@jupyter-widgets/controls",
          "model_name": "FloatProgressModel",
          "model_module_version": "1.5.0",
          "state": {
            "_dom_classes": [],
            "_model_module": "@jupyter-widgets/controls",
            "_model_module_version": "1.5.0",
            "_model_name": "FloatProgressModel",
            "_view_count": null,
            "_view_module": "@jupyter-widgets/controls",
            "_view_module_version": "1.5.0",
            "_view_name": "ProgressView",
            "bar_style": "",
            "description": "",
            "description_tooltip": null,
            "layout": "IPY_MODEL_942a478bfbd24ca882fd0b1204339553",
            "max": 1,
            "min": 0,
            "orientation": "horizontal",
            "style": "IPY_MODEL_9ff793a4a3f5427087af1bfa5b7b706b",
            "value": 1
          }
        },
        "b3326d43603644b3a99ee726d5070b55": {
          "model_module": "@jupyter-widgets/base",
          "model_name": "LayoutModel",
          "model_module_version": "1.2.0",
          "state": {
            "_model_module": "@jupyter-widgets/base",
            "_model_module_version": "1.2.0",
            "_model_name": "LayoutModel",
            "_view_count": null,
            "_view_module": "@jupyter-widgets/base",
            "_view_module_version": "1.2.0",
            "_view_name": "LayoutView",
            "align_content": null,
            "align_items": null,
            "align_self": null,
            "border": null,
            "bottom": null,
            "display": null,
            "flex": null,
            "flex_flow": null,
            "grid_area": null,
            "grid_auto_columns": null,
            "grid_auto_flow": null,
            "grid_auto_rows": null,
            "grid_column": null,
            "grid_gap": null,
            "grid_row": null,
            "grid_template_areas": null,
            "grid_template_columns": null,
            "grid_template_rows": null,
            "height": null,
            "justify_content": null,
            "justify_items": null,
            "left": null,
            "margin": null,
            "max_height": null,
            "max_width": null,
            "min_height": null,
            "min_width": null,
            "object_fit": null,
            "object_position": null,
            "order": null,
            "overflow": null,
            "overflow_x": null,
            "overflow_y": null,
            "padding": null,
            "right": null,
            "top": null,
            "visibility": null,
            "width": null
          }
        },
        "30569e14a3ed4b678b7063ef693253fa": {
          "model_module": "@jupyter-widgets/base",
          "model_name": "LayoutModel",
          "model_module_version": "1.2.0",
          "state": {
            "_model_module": "@jupyter-widgets/base",
            "_model_module_version": "1.2.0",
            "_model_name": "LayoutModel",
            "_view_count": null,
            "_view_module": "@jupyter-widgets/base",
            "_view_module_version": "1.2.0",
            "_view_name": "LayoutView",
            "align_content": null,
            "align_items": null,
            "align_self": null,
            "border": null,
            "bottom": null,
            "display": null,
            "flex": null,
            "flex_flow": null,
            "grid_area": null,
            "grid_auto_columns": null,
            "grid_auto_flow": null,
            "grid_auto_rows": null,
            "grid_column": null,
            "grid_gap": null,
            "grid_row": null,
            "grid_template_areas": null,
            "grid_template_columns": null,
            "grid_template_rows": null,
            "height": null,
            "justify_content": null,
            "justify_items": null,
            "left": null,
            "margin": null,
            "max_height": null,
            "max_width": null,
            "min_height": null,
            "min_width": null,
            "object_fit": null,
            "object_position": null,
            "order": null,
            "overflow": null,
            "overflow_x": null,
            "overflow_y": null,
            "padding": null,
            "right": null,
            "top": null,
            "visibility": null,
            "width": null
          }
        },
        "c554c3e0cb8849f5a6097cb37e53ec9b": {
          "model_module": "@jupyter-widgets/controls",
          "model_name": "DescriptionStyleModel",
          "model_module_version": "1.5.0",
          "state": {
            "_model_module": "@jupyter-widgets/controls",
            "_model_module_version": "1.5.0",
            "_model_name": "DescriptionStyleModel",
            "_view_count": null,
            "_view_module": "@jupyter-widgets/base",
            "_view_module_version": "1.2.0",
            "_view_name": "StyleView",
            "description_width": ""
          }
        },
        "942a478bfbd24ca882fd0b1204339553": {
          "model_module": "@jupyter-widgets/base",
          "model_name": "LayoutModel",
          "model_module_version": "1.2.0",
          "state": {
            "_model_module": "@jupyter-widgets/base",
            "_model_module_version": "1.2.0",
            "_model_name": "LayoutModel",
            "_view_count": null,
            "_view_module": "@jupyter-widgets/base",
            "_view_module_version": "1.2.0",
            "_view_name": "LayoutView",
            "align_content": null,
            "align_items": null,
            "align_self": null,
            "border": null,
            "bottom": null,
            "display": null,
            "flex": null,
            "flex_flow": null,
            "grid_area": null,
            "grid_auto_columns": null,
            "grid_auto_flow": null,
            "grid_auto_rows": null,
            "grid_column": null,
            "grid_gap": null,
            "grid_row": null,
            "grid_template_areas": null,
            "grid_template_columns": null,
            "grid_template_rows": null,
            "height": null,
            "justify_content": null,
            "justify_items": null,
            "left": null,
            "margin": null,
            "max_height": null,
            "max_width": null,
            "min_height": null,
            "min_width": null,
            "object_fit": null,
            "object_position": null,
            "order": null,
            "overflow": null,
            "overflow_x": null,
            "overflow_y": null,
            "padding": null,
            "right": null,
            "top": null,
            "visibility": null,
            "width": null
          }
        },
        "9ff793a4a3f5427087af1bfa5b7b706b": {
          "model_module": "@jupyter-widgets/controls",
          "model_name": "ProgressStyleModel",
          "model_module_version": "1.5.0",
          "state": {
            "_model_module": "@jupyter-widgets/controls",
            "_model_module_version": "1.5.0",
            "_model_name": "ProgressStyleModel",
            "_view_count": null,
            "_view_module": "@jupyter-widgets/base",
            "_view_module_version": "1.2.0",
            "_view_name": "StyleView",
            "bar_color": null,
            "description_width": ""
          }
        },
        "7f5978345ce54c5ba30d0366c21d8071": {
          "model_module": "@jupyter-widgets/controls",
          "model_name": "VBoxModel",
          "model_module_version": "1.5.0",
          "state": {
            "_dom_classes": [],
            "_model_module": "@jupyter-widgets/controls",
            "_model_module_version": "1.5.0",
            "_model_name": "VBoxModel",
            "_view_count": null,
            "_view_module": "@jupyter-widgets/controls",
            "_view_module_version": "1.5.0",
            "_view_name": "VBoxView",
            "box_style": "",
            "children": [
              "IPY_MODEL_a20e223e281d4859bf05b422e8345b32",
              "IPY_MODEL_6a3a3076ba9148a4a40ff590519fd31c"
            ],
            "layout": "IPY_MODEL_c9d70270497a4987a0f7cb03080280d4"
          }
        },
        "a20e223e281d4859bf05b422e8345b32": {
          "model_module": "@jupyter-widgets/controls",
          "model_name": "LabelModel",
          "model_module_version": "1.5.0",
          "state": {
            "_dom_classes": [],
            "_model_module": "@jupyter-widgets/controls",
            "_model_module_version": "1.5.0",
            "_model_name": "LabelModel",
            "_view_count": null,
            "_view_module": "@jupyter-widgets/controls",
            "_view_module_version": "1.5.0",
            "_view_name": "LabelView",
            "description": "",
            "description_tooltip": null,
            "layout": "IPY_MODEL_27ec116cd0f641b192e965c47043ee6f",
            "placeholder": "​",
            "style": "IPY_MODEL_bc1d35db627d4b1e8ab9aa44136352ef",
            "value": "0.752 MB of 0.752 MB uploaded (0.000 MB deduped)\r"
          }
        },
        "6a3a3076ba9148a4a40ff590519fd31c": {
          "model_module": "@jupyter-widgets/controls",
          "model_name": "FloatProgressModel",
          "model_module_version": "1.5.0",
          "state": {
            "_dom_classes": [],
            "_model_module": "@jupyter-widgets/controls",
            "_model_module_version": "1.5.0",
            "_model_name": "FloatProgressModel",
            "_view_count": null,
            "_view_module": "@jupyter-widgets/controls",
            "_view_module_version": "1.5.0",
            "_view_name": "ProgressView",
            "bar_style": "",
            "description": "",
            "description_tooltip": null,
            "layout": "IPY_MODEL_4d04f5ab3ec144f5bd66ec4eda788a5c",
            "max": 1,
            "min": 0,
            "orientation": "horizontal",
            "style": "IPY_MODEL_6be261a0ae484faebd92e930c2ea0f97",
            "value": 1
          }
        },
        "c9d70270497a4987a0f7cb03080280d4": {
          "model_module": "@jupyter-widgets/base",
          "model_name": "LayoutModel",
          "model_module_version": "1.2.0",
          "state": {
            "_model_module": "@jupyter-widgets/base",
            "_model_module_version": "1.2.0",
            "_model_name": "LayoutModel",
            "_view_count": null,
            "_view_module": "@jupyter-widgets/base",
            "_view_module_version": "1.2.0",
            "_view_name": "LayoutView",
            "align_content": null,
            "align_items": null,
            "align_self": null,
            "border": null,
            "bottom": null,
            "display": null,
            "flex": null,
            "flex_flow": null,
            "grid_area": null,
            "grid_auto_columns": null,
            "grid_auto_flow": null,
            "grid_auto_rows": null,
            "grid_column": null,
            "grid_gap": null,
            "grid_row": null,
            "grid_template_areas": null,
            "grid_template_columns": null,
            "grid_template_rows": null,
            "height": null,
            "justify_content": null,
            "justify_items": null,
            "left": null,
            "margin": null,
            "max_height": null,
            "max_width": null,
            "min_height": null,
            "min_width": null,
            "object_fit": null,
            "object_position": null,
            "order": null,
            "overflow": null,
            "overflow_x": null,
            "overflow_y": null,
            "padding": null,
            "right": null,
            "top": null,
            "visibility": null,
            "width": null
          }
        },
        "27ec116cd0f641b192e965c47043ee6f": {
          "model_module": "@jupyter-widgets/base",
          "model_name": "LayoutModel",
          "model_module_version": "1.2.0",
          "state": {
            "_model_module": "@jupyter-widgets/base",
            "_model_module_version": "1.2.0",
            "_model_name": "LayoutModel",
            "_view_count": null,
            "_view_module": "@jupyter-widgets/base",
            "_view_module_version": "1.2.0",
            "_view_name": "LayoutView",
            "align_content": null,
            "align_items": null,
            "align_self": null,
            "border": null,
            "bottom": null,
            "display": null,
            "flex": null,
            "flex_flow": null,
            "grid_area": null,
            "grid_auto_columns": null,
            "grid_auto_flow": null,
            "grid_auto_rows": null,
            "grid_column": null,
            "grid_gap": null,
            "grid_row": null,
            "grid_template_areas": null,
            "grid_template_columns": null,
            "grid_template_rows": null,
            "height": null,
            "justify_content": null,
            "justify_items": null,
            "left": null,
            "margin": null,
            "max_height": null,
            "max_width": null,
            "min_height": null,
            "min_width": null,
            "object_fit": null,
            "object_position": null,
            "order": null,
            "overflow": null,
            "overflow_x": null,
            "overflow_y": null,
            "padding": null,
            "right": null,
            "top": null,
            "visibility": null,
            "width": null
          }
        },
        "bc1d35db627d4b1e8ab9aa44136352ef": {
          "model_module": "@jupyter-widgets/controls",
          "model_name": "DescriptionStyleModel",
          "model_module_version": "1.5.0",
          "state": {
            "_model_module": "@jupyter-widgets/controls",
            "_model_module_version": "1.5.0",
            "_model_name": "DescriptionStyleModel",
            "_view_count": null,
            "_view_module": "@jupyter-widgets/base",
            "_view_module_version": "1.2.0",
            "_view_name": "StyleView",
            "description_width": ""
          }
        },
        "4d04f5ab3ec144f5bd66ec4eda788a5c": {
          "model_module": "@jupyter-widgets/base",
          "model_name": "LayoutModel",
          "model_module_version": "1.2.0",
          "state": {
            "_model_module": "@jupyter-widgets/base",
            "_model_module_version": "1.2.0",
            "_model_name": "LayoutModel",
            "_view_count": null,
            "_view_module": "@jupyter-widgets/base",
            "_view_module_version": "1.2.0",
            "_view_name": "LayoutView",
            "align_content": null,
            "align_items": null,
            "align_self": null,
            "border": null,
            "bottom": null,
            "display": null,
            "flex": null,
            "flex_flow": null,
            "grid_area": null,
            "grid_auto_columns": null,
            "grid_auto_flow": null,
            "grid_auto_rows": null,
            "grid_column": null,
            "grid_gap": null,
            "grid_row": null,
            "grid_template_areas": null,
            "grid_template_columns": null,
            "grid_template_rows": null,
            "height": null,
            "justify_content": null,
            "justify_items": null,
            "left": null,
            "margin": null,
            "max_height": null,
            "max_width": null,
            "min_height": null,
            "min_width": null,
            "object_fit": null,
            "object_position": null,
            "order": null,
            "overflow": null,
            "overflow_x": null,
            "overflow_y": null,
            "padding": null,
            "right": null,
            "top": null,
            "visibility": null,
            "width": null
          }
        },
        "6be261a0ae484faebd92e930c2ea0f97": {
          "model_module": "@jupyter-widgets/controls",
          "model_name": "ProgressStyleModel",
          "model_module_version": "1.5.0",
          "state": {
            "_model_module": "@jupyter-widgets/controls",
            "_model_module_version": "1.5.0",
            "_model_name": "ProgressStyleModel",
            "_view_count": null,
            "_view_module": "@jupyter-widgets/base",
            "_view_module_version": "1.2.0",
            "_view_name": "StyleView",
            "bar_color": null,
            "description_width": ""
          }
        },
        "74c19cbad0de493e81ae1afcc217b723": {
          "model_module": "@jupyter-widgets/controls",
          "model_name": "VBoxModel",
          "model_module_version": "1.5.0",
          "state": {
            "_dom_classes": [],
            "_model_module": "@jupyter-widgets/controls",
            "_model_module_version": "1.5.0",
            "_model_name": "VBoxModel",
            "_view_count": null,
            "_view_module": "@jupyter-widgets/controls",
            "_view_module_version": "1.5.0",
            "_view_name": "VBoxView",
            "box_style": "",
            "children": [
              "IPY_MODEL_d624ad7008cf45b9b8673a09ffa1dc2c",
              "IPY_MODEL_2b6c3a9484864bfc965644f66245c936"
            ],
            "layout": "IPY_MODEL_3bb71002d33e43bc89365cfa7d2d6ca7"
          }
        },
        "d624ad7008cf45b9b8673a09ffa1dc2c": {
          "model_module": "@jupyter-widgets/controls",
          "model_name": "LabelModel",
          "model_module_version": "1.5.0",
          "state": {
            "_dom_classes": [],
            "_model_module": "@jupyter-widgets/controls",
            "_model_module_version": "1.5.0",
            "_model_name": "LabelModel",
            "_view_count": null,
            "_view_module": "@jupyter-widgets/controls",
            "_view_module_version": "1.5.0",
            "_view_name": "LabelView",
            "description": "",
            "description_tooltip": null,
            "layout": "IPY_MODEL_1e6b8ca8cd9148b1ac83a5005a070918",
            "placeholder": "​",
            "style": "IPY_MODEL_b7b4cfefc282466ab9a00ac2a0f0a5a0",
            "value": "0.224 MB of 0.224 MB uploaded (0.000 MB deduped)\r"
          }
        },
        "2b6c3a9484864bfc965644f66245c936": {
          "model_module": "@jupyter-widgets/controls",
          "model_name": "FloatProgressModel",
          "model_module_version": "1.5.0",
          "state": {
            "_dom_classes": [],
            "_model_module": "@jupyter-widgets/controls",
            "_model_module_version": "1.5.0",
            "_model_name": "FloatProgressModel",
            "_view_count": null,
            "_view_module": "@jupyter-widgets/controls",
            "_view_module_version": "1.5.0",
            "_view_name": "ProgressView",
            "bar_style": "",
            "description": "",
            "description_tooltip": null,
            "layout": "IPY_MODEL_b552766785564fc3924706f22e86ba61",
            "max": 1,
            "min": 0,
            "orientation": "horizontal",
            "style": "IPY_MODEL_cd6b33d02e464ad7af255a06c0e996cf",
            "value": 1
          }
        },
        "3bb71002d33e43bc89365cfa7d2d6ca7": {
          "model_module": "@jupyter-widgets/base",
          "model_name": "LayoutModel",
          "model_module_version": "1.2.0",
          "state": {
            "_model_module": "@jupyter-widgets/base",
            "_model_module_version": "1.2.0",
            "_model_name": "LayoutModel",
            "_view_count": null,
            "_view_module": "@jupyter-widgets/base",
            "_view_module_version": "1.2.0",
            "_view_name": "LayoutView",
            "align_content": null,
            "align_items": null,
            "align_self": null,
            "border": null,
            "bottom": null,
            "display": null,
            "flex": null,
            "flex_flow": null,
            "grid_area": null,
            "grid_auto_columns": null,
            "grid_auto_flow": null,
            "grid_auto_rows": null,
            "grid_column": null,
            "grid_gap": null,
            "grid_row": null,
            "grid_template_areas": null,
            "grid_template_columns": null,
            "grid_template_rows": null,
            "height": null,
            "justify_content": null,
            "justify_items": null,
            "left": null,
            "margin": null,
            "max_height": null,
            "max_width": null,
            "min_height": null,
            "min_width": null,
            "object_fit": null,
            "object_position": null,
            "order": null,
            "overflow": null,
            "overflow_x": null,
            "overflow_y": null,
            "padding": null,
            "right": null,
            "top": null,
            "visibility": null,
            "width": null
          }
        },
        "1e6b8ca8cd9148b1ac83a5005a070918": {
          "model_module": "@jupyter-widgets/base",
          "model_name": "LayoutModel",
          "model_module_version": "1.2.0",
          "state": {
            "_model_module": "@jupyter-widgets/base",
            "_model_module_version": "1.2.0",
            "_model_name": "LayoutModel",
            "_view_count": null,
            "_view_module": "@jupyter-widgets/base",
            "_view_module_version": "1.2.0",
            "_view_name": "LayoutView",
            "align_content": null,
            "align_items": null,
            "align_self": null,
            "border": null,
            "bottom": null,
            "display": null,
            "flex": null,
            "flex_flow": null,
            "grid_area": null,
            "grid_auto_columns": null,
            "grid_auto_flow": null,
            "grid_auto_rows": null,
            "grid_column": null,
            "grid_gap": null,
            "grid_row": null,
            "grid_template_areas": null,
            "grid_template_columns": null,
            "grid_template_rows": null,
            "height": null,
            "justify_content": null,
            "justify_items": null,
            "left": null,
            "margin": null,
            "max_height": null,
            "max_width": null,
            "min_height": null,
            "min_width": null,
            "object_fit": null,
            "object_position": null,
            "order": null,
            "overflow": null,
            "overflow_x": null,
            "overflow_y": null,
            "padding": null,
            "right": null,
            "top": null,
            "visibility": null,
            "width": null
          }
        },
        "b7b4cfefc282466ab9a00ac2a0f0a5a0": {
          "model_module": "@jupyter-widgets/controls",
          "model_name": "DescriptionStyleModel",
          "model_module_version": "1.5.0",
          "state": {
            "_model_module": "@jupyter-widgets/controls",
            "_model_module_version": "1.5.0",
            "_model_name": "DescriptionStyleModel",
            "_view_count": null,
            "_view_module": "@jupyter-widgets/base",
            "_view_module_version": "1.2.0",
            "_view_name": "StyleView",
            "description_width": ""
          }
        },
        "b552766785564fc3924706f22e86ba61": {
          "model_module": "@jupyter-widgets/base",
          "model_name": "LayoutModel",
          "model_module_version": "1.2.0",
          "state": {
            "_model_module": "@jupyter-widgets/base",
            "_model_module_version": "1.2.0",
            "_model_name": "LayoutModel",
            "_view_count": null,
            "_view_module": "@jupyter-widgets/base",
            "_view_module_version": "1.2.0",
            "_view_name": "LayoutView",
            "align_content": null,
            "align_items": null,
            "align_self": null,
            "border": null,
            "bottom": null,
            "display": null,
            "flex": null,
            "flex_flow": null,
            "grid_area": null,
            "grid_auto_columns": null,
            "grid_auto_flow": null,
            "grid_auto_rows": null,
            "grid_column": null,
            "grid_gap": null,
            "grid_row": null,
            "grid_template_areas": null,
            "grid_template_columns": null,
            "grid_template_rows": null,
            "height": null,
            "justify_content": null,
            "justify_items": null,
            "left": null,
            "margin": null,
            "max_height": null,
            "max_width": null,
            "min_height": null,
            "min_width": null,
            "object_fit": null,
            "object_position": null,
            "order": null,
            "overflow": null,
            "overflow_x": null,
            "overflow_y": null,
            "padding": null,
            "right": null,
            "top": null,
            "visibility": null,
            "width": null
          }
        },
        "cd6b33d02e464ad7af255a06c0e996cf": {
          "model_module": "@jupyter-widgets/controls",
          "model_name": "ProgressStyleModel",
          "model_module_version": "1.5.0",
          "state": {
            "_model_module": "@jupyter-widgets/controls",
            "_model_module_version": "1.5.0",
            "_model_name": "ProgressStyleModel",
            "_view_count": null,
            "_view_module": "@jupyter-widgets/base",
            "_view_module_version": "1.2.0",
            "_view_name": "StyleView",
            "bar_color": null,
            "description_width": ""
          }
        }
      }
    }
  },
  "cells": [
    {
      "cell_type": "markdown",
      "metadata": {
        "id": "view-in-github",
        "colab_type": "text"
      },
      "source": [
        "<a href=\"https://colab.research.google.com/github/sb2539/AI-study/blob/master/mlpmixergat(channels)osuleaf3channels.ipynb\" target=\"_parent\"><img src=\"https://colab.research.google.com/assets/colab-badge.svg\" alt=\"Open In Colab\"/></a>"
      ]
    },
    {
      "cell_type": "code",
      "execution_count": 1,
      "metadata": {
        "colab": {
          "base_uri": "https://localhost:8080/"
        },
        "id": "bTIe1y31K-1B",
        "outputId": "2eb41a65-f413-4847-9e4c-084c79f681c7"
      },
      "outputs": [
        {
          "output_type": "stream",
          "name": "stdout",
          "text": [
            "Looking in indexes: https://pypi.org/simple, https://us-python.pkg.dev/colab-wheels/public/simple/\n",
            "Collecting pyts\n",
            "  Downloading pyts-0.12.0-py3-none-any.whl (2.5 MB)\n",
            "\u001b[K     |████████████████████████████████| 2.5 MB 30.3 MB/s \n",
            "\u001b[?25hRequirement already satisfied: joblib>=0.12 in /usr/local/lib/python3.7/dist-packages (from pyts) (1.1.0)\n",
            "Requirement already satisfied: scikit-learn>=0.22.1 in /usr/local/lib/python3.7/dist-packages (from pyts) (1.0.2)\n",
            "Requirement already satisfied: scipy>=1.3.0 in /usr/local/lib/python3.7/dist-packages (from pyts) (1.7.3)\n",
            "Requirement already satisfied: numba>=0.48.0 in /usr/local/lib/python3.7/dist-packages (from pyts) (0.56.0)\n",
            "Requirement already satisfied: numpy>=1.17.5 in /usr/local/lib/python3.7/dist-packages (from pyts) (1.21.6)\n",
            "Requirement already satisfied: llvmlite<0.40,>=0.39.0dev0 in /usr/local/lib/python3.7/dist-packages (from numba>=0.48.0->pyts) (0.39.0)\n",
            "Requirement already satisfied: setuptools in /usr/local/lib/python3.7/dist-packages (from numba>=0.48.0->pyts) (57.4.0)\n",
            "Requirement already satisfied: importlib-metadata in /usr/local/lib/python3.7/dist-packages (from numba>=0.48.0->pyts) (4.12.0)\n",
            "Requirement already satisfied: threadpoolctl>=2.0.0 in /usr/local/lib/python3.7/dist-packages (from scikit-learn>=0.22.1->pyts) (3.1.0)\n",
            "Requirement already satisfied: zipp>=0.5 in /usr/local/lib/python3.7/dist-packages (from importlib-metadata->numba>=0.48.0->pyts) (3.8.1)\n",
            "Requirement already satisfied: typing-extensions>=3.6.4 in /usr/local/lib/python3.7/dist-packages (from importlib-metadata->numba>=0.48.0->pyts) (4.1.1)\n",
            "Installing collected packages: pyts\n",
            "Successfully installed pyts-0.12.0\n",
            "Looking in indexes: https://pypi.org/simple, https://us-python.pkg.dev/colab-wheels/public/simple/\n",
            "Collecting einops\n",
            "  Downloading einops-0.4.1-py3-none-any.whl (28 kB)\n",
            "Installing collected packages: einops\n",
            "Successfully installed einops-0.4.1\n",
            "Looking in indexes: https://pypi.org/simple, https://us-python.pkg.dev/colab-wheels/public/simple/\n",
            "Collecting wandb\n",
            "  Downloading wandb-0.13.1-py2.py3-none-any.whl (1.8 MB)\n",
            "\u001b[K     |████████████████████████████████| 1.8 MB 29.7 MB/s \n",
            "\u001b[?25hRequirement already satisfied: psutil>=5.0.0 in /usr/local/lib/python3.7/dist-packages (from wandb) (5.4.8)\n",
            "Collecting shortuuid>=0.5.0\n",
            "  Downloading shortuuid-1.0.9-py3-none-any.whl (9.4 kB)\n",
            "Requirement already satisfied: requests<3,>=2.0.0 in /usr/local/lib/python3.7/dist-packages (from wandb) (2.23.0)\n",
            "Collecting docker-pycreds>=0.4.0\n",
            "  Downloading docker_pycreds-0.4.0-py2.py3-none-any.whl (9.0 kB)\n",
            "Requirement already satisfied: protobuf<4.0dev,>=3.12.0 in /usr/local/lib/python3.7/dist-packages (from wandb) (3.17.3)\n",
            "Requirement already satisfied: promise<3,>=2.0 in /usr/local/lib/python3.7/dist-packages (from wandb) (2.3)\n",
            "Requirement already satisfied: PyYAML in /usr/local/lib/python3.7/dist-packages (from wandb) (3.13)\n",
            "Collecting sentry-sdk>=1.0.0\n",
            "  Downloading sentry_sdk-1.9.2-py2.py3-none-any.whl (157 kB)\n",
            "\u001b[K     |████████████████████████████████| 157 kB 66.0 MB/s \n",
            "\u001b[?25hCollecting setproctitle\n",
            "  Downloading setproctitle-1.3.1-cp37-cp37m-manylinux_2_5_x86_64.manylinux1_x86_64.manylinux_2_17_x86_64.manylinux2014_x86_64.whl (30 kB)\n",
            "Collecting pathtools\n",
            "  Downloading pathtools-0.1.2.tar.gz (11 kB)\n",
            "Requirement already satisfied: six>=1.13.0 in /usr/local/lib/python3.7/dist-packages (from wandb) (1.15.0)\n",
            "Collecting GitPython>=1.0.0\n",
            "  Downloading GitPython-3.1.27-py3-none-any.whl (181 kB)\n",
            "\u001b[K     |████████████████████████████████| 181 kB 68.9 MB/s \n",
            "\u001b[?25hRequirement already satisfied: Click!=8.0.0,>=7.0 in /usr/local/lib/python3.7/dist-packages (from wandb) (7.1.2)\n",
            "Requirement already satisfied: setuptools in /usr/local/lib/python3.7/dist-packages (from wandb) (57.4.0)\n",
            "Collecting gitdb<5,>=4.0.1\n",
            "  Downloading gitdb-4.0.9-py3-none-any.whl (63 kB)\n",
            "\u001b[K     |████████████████████████████████| 63 kB 1.9 MB/s \n",
            "\u001b[?25hRequirement already satisfied: typing-extensions>=3.7.4.3 in /usr/local/lib/python3.7/dist-packages (from GitPython>=1.0.0->wandb) (4.1.1)\n",
            "Collecting smmap<6,>=3.0.1\n",
            "  Downloading smmap-5.0.0-py3-none-any.whl (24 kB)\n",
            "Requirement already satisfied: chardet<4,>=3.0.2 in /usr/local/lib/python3.7/dist-packages (from requests<3,>=2.0.0->wandb) (3.0.4)\n",
            "Requirement already satisfied: certifi>=2017.4.17 in /usr/local/lib/python3.7/dist-packages (from requests<3,>=2.0.0->wandb) (2022.6.15)\n",
            "Requirement already satisfied: urllib3!=1.25.0,!=1.25.1,<1.26,>=1.21.1 in /usr/local/lib/python3.7/dist-packages (from requests<3,>=2.0.0->wandb) (1.24.3)\n",
            "Requirement already satisfied: idna<3,>=2.5 in /usr/local/lib/python3.7/dist-packages (from requests<3,>=2.0.0->wandb) (2.10)\n",
            "Collecting sentry-sdk>=1.0.0\n",
            "  Downloading sentry_sdk-1.9.1-py2.py3-none-any.whl (157 kB)\n",
            "\u001b[K     |████████████████████████████████| 157 kB 64.0 MB/s \n",
            "\u001b[?25h  Downloading sentry_sdk-1.9.0-py2.py3-none-any.whl (156 kB)\n",
            "\u001b[K     |████████████████████████████████| 156 kB 68.9 MB/s \n",
            "\u001b[?25hBuilding wheels for collected packages: pathtools\n",
            "  Building wheel for pathtools (setup.py) ... \u001b[?25l\u001b[?25hdone\n",
            "  Created wheel for pathtools: filename=pathtools-0.1.2-py3-none-any.whl size=8806 sha256=8aafa9b7060b900ab1998fdeb33b8d0a8a070f4154eaf0740ca4ca0e004a7a1b\n",
            "  Stored in directory: /root/.cache/pip/wheels/3e/31/09/fa59cef12cdcfecc627b3d24273699f390e71828921b2cbba2\n",
            "Successfully built pathtools\n",
            "Installing collected packages: smmap, gitdb, shortuuid, setproctitle, sentry-sdk, pathtools, GitPython, docker-pycreds, wandb\n",
            "Successfully installed GitPython-3.1.27 docker-pycreds-0.4.0 gitdb-4.0.9 pathtools-0.1.2 sentry-sdk-1.9.0 setproctitle-1.3.1 shortuuid-1.0.9 smmap-5.0.0 wandb-0.13.1\n"
          ]
        }
      ],
      "source": [
        "!pip install pyts\n",
        "!pip install einops\n",
        "!pip install wandb"
      ]
    },
    {
      "cell_type": "code",
      "source": [
        "from google.colab import drive\n",
        "drive.mount('/gdrive')"
      ],
      "metadata": {
        "colab": {
          "base_uri": "https://localhost:8080/"
        },
        "id": "zLsBbl6dLMII",
        "outputId": "484545a9-8c2a-4b28-83ea-1c707474ee77"
      },
      "execution_count": 2,
      "outputs": [
        {
          "output_type": "stream",
          "name": "stdout",
          "text": [
            "Mounted at /gdrive\n"
          ]
        }
      ]
    },
    {
      "cell_type": "code",
      "source": [
        "import torch\n",
        "import torch.nn as nn\n",
        "import torch.nn.functional as F\n",
        "import torch.optim as optim\n",
        "import torchvision\n",
        "import torchvision.transforms as transforms\n",
        "from torch.utils.data import Dataset, DataLoader\n",
        "import matplotlib.pyplot as plt\n",
        "import pylab as plt\n",
        "import numpy as np\n",
        "import pandas as pd\n",
        "from pyts.image import RecurrencePlot, GramianAngularField, MarkovTransitionField\n",
        "from pyts.datasets import fetch_ucr_dataset, ucr_dataset_list\n",
        "from PIL import Image\n",
        "from skimage.transform import resize\n",
        "import os\n",
        "from torch.utils.tensorboard import SummaryWriter\n",
        "from einops.layers.torch import Rearrange, Reduce\n",
        "import copy\n",
        "import wandb"
      ],
      "metadata": {
        "id": "Xpbft3svLSCR"
      },
      "execution_count": 3,
      "outputs": []
    },
    {
      "cell_type": "code",
      "source": [
        "!wandb login"
      ],
      "metadata": {
        "colab": {
          "base_uri": "https://localhost:8080/"
        },
        "id": "1mlVyqYT5w43",
        "outputId": "5566b4f3-62b0-4435-e942-59baba6b85fa"
      },
      "execution_count": 4,
      "outputs": [
        {
          "output_type": "stream",
          "name": "stdout",
          "text": [
            "\u001b[34m\u001b[1mwandb\u001b[0m: Logging into wandb.ai. (Learn how to deploy a W&B server locally: https://wandb.me/wandb-server)\n",
            "\u001b[34m\u001b[1mwandb\u001b[0m: You can find your API key in your browser here: https://wandb.ai/authorize\n",
            "\u001b[34m\u001b[1mwandb\u001b[0m: Paste an API key from your profile and hit enter, or press ctrl+c to quit: \n",
            "\u001b[34m\u001b[1mwandb\u001b[0m: Appending key for api.wandb.ai to your netrc file: /root/.netrc\n"
          ]
        }
      ]
    },
    {
      "cell_type": "code",
      "source": [
        "wandb.login()"
      ],
      "metadata": {
        "colab": {
          "base_uri": "https://localhost:8080/"
        },
        "id": "U1EUSPYu3aKQ",
        "outputId": "13eed181-9f8a-47bf-f0b2-9f3c554454f5"
      },
      "execution_count": 5,
      "outputs": [
        {
          "output_type": "stream",
          "name": "stderr",
          "text": [
            "\u001b[34m\u001b[1mwandb\u001b[0m: Currently logged in as: \u001b[33msb2539\u001b[0m. Use \u001b[1m`wandb login --relogin`\u001b[0m to force relogin\n"
          ]
        },
        {
          "output_type": "execute_result",
          "data": {
            "text/plain": [
              "True"
            ]
          },
          "metadata": {},
          "execution_count": 5
        }
      ]
    },
    {
      "cell_type": "markdown",
      "source": [
        "# syntcontrol\n"
      ],
      "metadata": {
        "id": "gPAB0le07xGL"
      }
    },
    {
      "cell_type": "code",
      "source": [
        "wa = fetch_ucr_dataset('OSULeaf', use_cache=False, data_home = None, return_X_y=False)\n",
        "wa_train = wa.data_train\n",
        "wa_target_train = wa.target_train\n",
        "wa_test = wa.data_test\n",
        "wa_target_test = wa.target_test"
      ],
      "metadata": {
        "id": "E0ENdJ6n7zsT"
      },
      "execution_count": 6,
      "outputs": []
    },
    {
      "cell_type": "code",
      "source": [
        "wa_test"
      ],
      "metadata": {
        "id": "4EuKIa6PODi5"
      },
      "execution_count": null,
      "outputs": []
    },
    {
      "cell_type": "code",
      "source": [
        "wa_target_val = wa_target_test[:100]\n",
        "wa_val = wa_test[:100,:]"
      ],
      "metadata": {
        "id": "n40LZp9jImYA"
      },
      "execution_count": null,
      "outputs": []
    },
    {
      "cell_type": "code",
      "source": [
        "wa_target_test"
      ],
      "metadata": {
        "id": "9B_pQ-DezQj2"
      },
      "execution_count": null,
      "outputs": []
    },
    {
      "cell_type": "code",
      "source": [
        "rp = RecurrencePlot(dimension = 3,time_delay=4)\n",
        "wa_train_rp = rp.transform(wa_train)\n",
        "wa_test_rp = rp.transform(wa_test)"
      ],
      "metadata": {
        "id": "wlyQPw2a8iVy"
      },
      "execution_count": 7,
      "outputs": []
    },
    {
      "cell_type": "code",
      "source": [
        "gr_d = GramianAngularField(method='difference')\n",
        "wa_train_gr_d = gr_d.transform(wa_train)\n",
        "wa_test_gr_d = gr_d.transform(wa_test)\n",
        "gr = GramianAngularField()\n",
        "wa_train_gr = gr.transform(wa_train)\n",
        "wa_test_gr = gr.transform(wa_test)"
      ],
      "metadata": {
        "id": "1bLJl2dS8jvS"
      },
      "execution_count": 8,
      "outputs": []
    },
    {
      "cell_type": "code",
      "source": [
        "mk = MarkovTransitionField()\n",
        "wa_train_mk = mk.transform(wa_train)\n",
        "wa_test_mk = mk.transform(wa_test)"
      ],
      "metadata": {
        "id": "HWouqeAG8lYn"
      },
      "execution_count": 9,
      "outputs": []
    },
    {
      "cell_type": "code",
      "source": [
        "wa_train_rp = resize(wa_train_rp, ((200,96,96)))\n",
        "wa_test_rp = resize(wa_test_rp, ((242,96,96)))\n",
        "wa_train_gr = resize(wa_train_gr, ((200,96,96)))\n",
        "wa_test_gr = resize(wa_test_gr, ((242,96,96)))\n",
        "wa_train_gr_d = resize(wa_train_gr_d, ((200,96,96)))\n",
        "wa_test_gr_d = resize(wa_test_gr_d, ((242,96,96)))\n",
        "wa_train_mk = resize(wa_train_mk, ((200,96,96)))\n",
        "wa_test_mk = resize(wa_test_mk, ((242,96,96)))"
      ],
      "metadata": {
        "id": "owlw5Nd88n-i"
      },
      "execution_count": 10,
      "outputs": []
    },
    {
      "cell_type": "code",
      "source": [
        "wa_train_all = np.stack([wa_train_rp, wa_train_gr, wa_train_gr_d, wa_train_mk], 1)\n",
        "wa_test_all = np.stack([wa_test_rp, wa_test_gr, wa_test_gr_d, wa_test_mk], 1)"
      ],
      "metadata": {
        "id": "xcmS8-i98pwu"
      },
      "execution_count": 11,
      "outputs": []
    },
    {
      "cell_type": "code",
      "source": [
        "wa_train_all = np.stack([wa_train_rp, wa_train_gr,wa_train_gr_d], 1)\n",
        "wa_test_all = np.stack([wa_test_rp, wa_test_gr, wa_test_gr_d], 1)"
      ],
      "metadata": {
        "id": "3nbdKNF-USLc"
      },
      "execution_count": null,
      "outputs": []
    },
    {
      "cell_type": "code",
      "source": [
        "train_data = CustomDataset(wa_train_all, wa_target_train)\n",
        "trainloader = DataLoader(train_data, batch_size = 5, shuffle = True)\n",
        "test_data = CustomDataset(wa_test_all, wa_target_test)\n",
        "testloader = DataLoader(test_data, batch_size = 5, shuffle = False )"
      ],
      "metadata": {
        "id": "TKHLBNnv8qUq"
      },
      "execution_count": 13,
      "outputs": []
    },
    {
      "cell_type": "code",
      "source": [
        "val_data = CustomDataset(val_all,wa_target_val)\n",
        "valloader = DataLoader(val_data, batch_size = 5, shuffle = False)"
      ],
      "metadata": {
        "id": "e_rasrAJbysP"
      },
      "execution_count": null,
      "outputs": []
    },
    {
      "cell_type": "code",
      "source": [
        "wa_train_rp = resize(wa_train_rp, ((300,56,56)))\n",
        "wa_test_rp = resize(wa_test_rp, ((300,56,56)))\n",
        "wa_train_rp = wa_train_rp.reshape(300, 1, 56, 56)\n",
        "wa_test_rp = wa_test_rp.reshape(300, 1, 56, 56)\n",
        "train_data = CustomDataset(wa_train_rp, wa_target_train)\n",
        "trainloader = DataLoader(train_data, batch_size = 10, shuffle = True)\n",
        "test_data = CustomDataset(wa_test_rp, wa_target_test)\n",
        "testloader = DataLoader(test_data, batch_size = 10, shuffle = False )"
      ],
      "metadata": {
        "id": "nwhvHDq9IYlw"
      },
      "execution_count": null,
      "outputs": []
    },
    {
      "cell_type": "markdown",
      "source": [
        "# customdata"
      ],
      "metadata": {
        "id": "qUH-vl5mrSMD"
      }
    },
    {
      "cell_type": "code",
      "source": [
        "class CustomDataset(Dataset):\n",
        "    def __init__(self, rpimage, target_image):\n",
        "        self.x_data = torch.FloatTensor(rpimage)\n",
        "        self.y_data = torch.LongTensor(target_image)\n",
        "        self.y_data = self.y_data-1\n",
        "    def __len__(self):\n",
        "        return len(self.y_data)\n",
        "\n",
        "    def __getitem__(self, idx):\n",
        "        return self.x_data[idx], self.y_data[idx]"
      ],
      "metadata": {
        "id": "M1OwVFoOLqaw"
      },
      "execution_count": 12,
      "outputs": []
    },
    {
      "cell_type": "markdown",
      "source": [
        "# mlp"
      ],
      "metadata": {
        "id": "OF0y02jaLt06"
      }
    },
    {
      "cell_type": "code",
      "source": [
        "class MLP(nn.Module):\n",
        "    def __init__(self, dim, hidden_dim, dropout=0.):\n",
        "        super(MLP, self).__init__()\n",
        "        self.net = nn.Sequential(\n",
        "            nn.Linear(dim, hidden_dim),\n",
        "            nn.GELU(),\n",
        "            nn.Dropout(dropout),\n",
        "            nn.Linear(hidden_dim, dim),\n",
        "            nn.Dropout(dropout)\n",
        "        )\n",
        "    def forward(self, x):\n",
        "        return self.net(x)"
      ],
      "metadata": {
        "id": "mfT_BLwGLwiI"
      },
      "execution_count": 14,
      "outputs": []
    },
    {
      "cell_type": "code",
      "source": [
        "class MixerBlock(nn.Module):\n",
        "    def __init__(self, dim, num_patch, token_dim, channel_dim, dropout = 0.):\n",
        "        super(MixerBlock, self).__init__()\n",
        "\n",
        "        self.token_mix = nn.Sequential(\n",
        "            nn.LayerNorm(dim),\n",
        "            Rearrange('b n d -> b d n'), #(n_samples, n_patches, dim) -> (n_samples, dim, n_patches)\n",
        "            MLP(num_patch, token_dim, dropout),\n",
        "            Rearrange('b d n -> b n d')  # 원상복구\n",
        "        )\n",
        "\n",
        "        self.channel_mix = nn.Sequential(\n",
        "            nn.LayerNorm(dim),\n",
        "            MLP(dim, channel_dim, dropout),\n",
        "        )\n",
        "\n",
        "    def forward(self, x):\n",
        "        x = x + self.token_mix(x)  # skip connection 부분\n",
        "        x = x + self.channel_mix(x) # skip connection 부분\n",
        "        return x"
      ],
      "metadata": {
        "id": "8UbnEZTHL4II"
      },
      "execution_count": 15,
      "outputs": []
    },
    {
      "cell_type": "code",
      "source": [
        "class AttentionLayer(nn.Module):\n",
        "    def __init__(self, in_channels, num_patch, image_size, dropout, alpha, use_bias = False):\n",
        "        super(AttentionLayer, self). __init__()\n",
        "        self.n_features = in_channels  # 4\n",
        "        self.num_nodes = in_channels   # 4\n",
        "        self.dim = image_size    # 64 \n",
        "        self.use_bias = use_bias\n",
        "        lin_input_dim = num_patch    # 64\n",
        "        a_input_dim = 2 * self.dim   # 128\n",
        "\n",
        "        self.lin = nn.Linear(num_patch, self.dim) # (144,64)\n",
        "        self.a = nn.Parameter(torch.empty((a_input_dim, 1))) #(64)\n",
        "        nn.init.xavier_uniform_(self.a.data, gain=1.414)\n",
        "\n",
        "        if self.use_bias:\n",
        "            self.bias = nn.Parameter(torch.empty(num_patch, num_patch))\n",
        "\n",
        "        self.leakyrelu = nn.LeakyReLU(alpha)\n",
        "        self.sigmoid = nn.Sigmoid()\n",
        "\n",
        "    def forward(self, x):\n",
        "        Wx = self.lin(x)  # (5, 4, 64)\n",
        "        a_input = self._make_attention_input(Wx) #(5, 4, 4, 128)\n",
        "        e = self.leakyrelu(torch.matmul(a_input, self.a)).squeeze(3) #(5, 4,4,1)\n",
        "        if self.use_bias:\n",
        "            e+=self.bias\n",
        "\n",
        "        attention = torch.softmax(e, dim = 2)\n",
        "        h = self.sigmoid(torch.matmul(attention, x)) # (5, 4, 4) * (5, 4, 64)\n",
        "        return h # (5, 4, 64)\n",
        "        \n",
        "    def _make_attention_input(self, v):\n",
        "        K = self.num_nodes\n",
        "        blocks_repeating = v.repeat_interleave(K, dim = 1)\n",
        "        blocks_alternating = v.repeat(1, K, 1)\n",
        "        combined = torch.cat((blocks_repeating, blocks_alternating), dim = 2)\n",
        "\n",
        "        return combined.view(v.size(0), K, K, 2 * self.dim)"
      ],
      "metadata": {
        "id": "wDCZBW94gYlK"
      },
      "execution_count": 41,
      "outputs": []
    },
    {
      "cell_type": "code",
      "source": [
        "tp = torch.rand(5, 64, 64, 64)\n",
        "ta = torch.rand(64,64)"
      ],
      "metadata": {
        "id": "bC4vwXch-CpS"
      },
      "execution_count": 17,
      "outputs": []
    },
    {
      "cell_type": "code",
      "source": [
        "tre = torch.matmul(tp, ta)\n",
        "tre.shape"
      ],
      "metadata": {
        "colab": {
          "base_uri": "https://localhost:8080/"
        },
        "id": "69XuOppk-z8w",
        "outputId": "9c863bc2-be3d-4db8-f8a2-6560f96bda0f"
      },
      "execution_count": 18,
      "outputs": [
        {
          "output_type": "execute_result",
          "data": {
            "text/plain": [
              "torch.Size([5, 64, 64, 64])"
            ]
          },
          "metadata": {},
          "execution_count": 18
        }
      ]
    },
    {
      "cell_type": "code",
      "source": [
        "class MLPMixer(nn.Module):\n",
        "    def __init__(self, in_channels, dim, num_classes, patch_size, image_size, depth, token_dim, channel_dim, dropout = 0., alpha = 0.2):\n",
        "        super(MLPMixer, self).__init__()\n",
        "        self.dropout = dropout\n",
        "        assert image_size % patch_size == 0 # 이미지 사이즈가 패치 사이즈로 나누어져야 함\n",
        "        self.num_patch = (image_size // patch_size) **2 # num_patch = 64 , img_size = 64, patch_size = 8\n",
        "        self.channel_gat = AttentionLayer(in_channels, self.num_patch, image_size, alpha)\n",
        "        self.patch_embedding = nn.Sequential(\n",
        "            nn.Conv2d(in_channels, in_channels, patch_size, patch_size), # (in_channel = 4, out_channel=4, kernel = 8, stride =  8)\n",
        "            Rearrange('b c h w -> b c (h w)') #(5, 4, 12, 12) -> (5, 4, 144)\n",
        "        )                                     # 64 * 512 matrix 만들어짐\n",
        "        self.lin = nn.Sequential(\n",
        "            Rearrange('b c p -> b p c'),\n",
        "            nn.Linear(in_channels ,dim)\n",
        "        )\n",
        "        self.mixer_blocks = nn.ModuleList([])\n",
        "        for _ in range(depth):     # depth = 8 만큼 \n",
        "            self.mixer_blocks.append(\n",
        "                MixerBlock(dim, self.num_patch, token_dim, channel_dim, dropout) #(512, 64, 256, 2048 )\n",
        "            )\n",
        "\n",
        "        self.layer_norm = nn.LayerNorm(dim)\n",
        "        self.mlp_head = nn.Linear(dim, num_classes)\n",
        "\n",
        "    def forward(self, x): # 입력 (5, 4, 64, 64)\n",
        "        x = self.patch_embedding(x)  # (5, 3, 64) before (5, 64, 3)\n",
        "        x = self.channel_gat(x) #(5, 4, 144)\n",
        "        x = self.lin(x)\n",
        "        for mixer_block in self.mixer_blocks:\n",
        "            x = mixer_block(x) # (1, 64, 512)\n",
        "        x = self.layer_norm(x)\n",
        "        x = x.mean(dim = 1) # global average pooling (1, 512)\n",
        "        x = self.mlp_head(x) # (1, 5)\n",
        "        return x"
      ],
      "metadata": {
        "id": "SZqQv9DtL8Sw"
      },
      "execution_count": 42,
      "outputs": []
    },
    {
      "cell_type": "code",
      "source": [
        ""
      ],
      "metadata": {
        "id": "mitpjIK5ZDSA"
      },
      "execution_count": null,
      "outputs": []
    },
    {
      "cell_type": "markdown",
      "source": [
        "# weight & bias"
      ],
      "metadata": {
        "id": "s6s3FOnM1VrD"
      }
    },
    {
      "cell_type": "code",
      "source": [
        "PATH = \"/gdrive/MyDrive/model/\"\n",
        "global best_acc \n",
        "best_acc = 0"
      ],
      "metadata": {
        "id": "UpFdNq141CsT"
      },
      "execution_count": 18,
      "outputs": []
    },
    {
      "cell_type": "code",
      "source": [
        "def build_optimizer(network, optimizer, learning_rate):\n",
        "    if optimizer == \"sgd\":\n",
        "        optimizer = optim.SGD(network.parameters(),\n",
        "                              lr=learning_rate, momentum=0.9)\n",
        "    elif optimizer == \"adam\":\n",
        "        optimizer = optim.Adam(network.parameters(),\n",
        "                               lr=learning_rate)\n",
        "    return optimizer"
      ],
      "metadata": {
        "id": "dKsQu39V2Mtw"
      },
      "execution_count": 19,
      "outputs": []
    },
    {
      "cell_type": "code",
      "source": [
        "def train(model, trainloader, testloader, criterion, optimizer, config, wandb):\n",
        "    global best_acc\n",
        "    model.train()\n",
        "    wandb.watch(model, criterion, log=\"all\", log_freq=10)\n",
        "    for epoch in range(config.epochs):\n",
        "        cumu_loss = 0\n",
        "        correct = 0\n",
        "        val_correct = 0\n",
        "        target_loss = 0\n",
        "        for data in trainloader:\n",
        "            input, target  = data\n",
        "\n",
        "            output = model(input)\n",
        "            loss = criterion(output, target)\n",
        "            cumu_loss += loss.item()\n",
        "            pred = output.max(1, keepdim=True)[1]\n",
        "            correct += pred.eq(target.view_as(pred)).sum().item()\n",
        "            optimizer.zero_grad()\n",
        "            loss.backward()\n",
        "            optimizer.step()\n",
        "        else :\n",
        "            with torch.no_grad():\n",
        "                for data in testloader:\n",
        "                    input, target = data\n",
        "                    output = model(input)\n",
        "                    target_loss += criterion(output, target).item()\n",
        "                    pred = output.max(1, keepdim=True)[1]\n",
        "                    val_correct += pred.eq(target.view_as(pred)).sum().item()\n",
        "\n",
        "        val_loss = target_loss / len(testloader)\n",
        "        avg_loss = cumu_loss / len(trainloader)\n",
        "        train_acc = 100. * correct / len(trainloader.dataset)\n",
        "        val_acc = 100. * val_correct / len(testloader.dataset)\n",
        "        if val_acc > best_acc:\n",
        "            best_acc = val_acc\n",
        "            torch.save(model.state_dict(), PATH + 'osuleafgatchannel_mlp_state_dictonly_rp_gr_grd_mk.pt')\n",
        "            print(\"saved\")\n",
        "        wandb.log({\"train_loss\": avg_loss, \"train_acc\":train_acc}, step=epoch)  \n",
        "        print(f\"TRAIN: EPOCH {epoch + 1:04d} / {config.epochs:04d} | Epoch LOSS {avg_loss:.4f} | Epoch ACC {train_acc:.4f} | Val Loss {val_loss:.4f} | Val_acc {val_acc:.4f}\")"
      ],
      "metadata": {
        "id": "a6GLZ6LgUsKc"
      },
      "execution_count": 20,
      "outputs": []
    },
    {
      "cell_type": "code",
      "source": [
        "def test(model, loader, criterion, wandb):\n",
        "    model.eval()\n",
        "\n",
        "    with torch.no_grad():\n",
        "        correct, target_loss = 0, 0\n",
        "        for data in loader:\n",
        "            input, target = data\n",
        "            output = model(input)\n",
        "            \n",
        "            target_loss += criterion(output, target).item()\n",
        "            \n",
        "            pred = output.max(1, keepdim=True)[1]\n",
        "            correct += pred.eq(target.view_as(pred)).sum().item()\n",
        "            \n",
        "    \n",
        "    test_loss = target_loss / len(loader)\n",
        "    test_acc = 100. * correct / len(loader.dataset)\n",
        "    print(f\"test: LOSS {test_loss:.4f} | Accuracy {test_acc:.4f} \")\n",
        "    wandb.log({\n",
        "        \"test_acc\": test_acc,\n",
        "        \"test_loss\": test_loss})"
      ],
      "metadata": {
        "id": "xYxCoaSNUt-O"
      },
      "execution_count": 21,
      "outputs": []
    },
    {
      "cell_type": "code",
      "source": [
        "sweep_config = {\n",
        "    'name' : 'osu_rp_gr_grd-gat_channel-sweep',\n",
        "    'method' : 'random',\n",
        "    'metric' : {\n",
        "        'name': 'test_acc',\n",
        "        'goal': 'maximize'\n",
        "    },\n",
        "    'parameters':{\n",
        "        'optimizer':{\n",
        "            'values':['adam']\n",
        "        },\n",
        "        'dropout':{\n",
        "            'values':[0.]\n",
        "        },\n",
        "        'learning_rate':{\n",
        "            'distribution':'uniform',\n",
        "            'min':0.0001,\n",
        "            'max':0.001\n",
        "        },\n",
        "        'epochs':{\n",
        "            'values': [50]\n",
        "        },\n",
        "        'hidden_size':{\n",
        "            'values': [64, 128, 256, 512]\n",
        "        },\n",
        "        'patch_size':{\n",
        "            'values': [4, 8, 16]\n",
        "        },\n",
        "        'number_of_layers':{\n",
        "            'values':[4,8,16]\n",
        "        },\n",
        "        'token_dim':{\n",
        "            'values':[32, 64, 128, 256, 512]\n",
        "        },\n",
        "        'channel_dim':{\n",
        "            'values':[32, 64, 128, 256, 512]\n",
        "        },\n",
        "        'alpha':{\n",
        "            'values':[0.2]\n",
        "        }\n",
        "    }\n",
        "}"
      ],
      "metadata": {
        "id": "-7aCb7xO1Ycn"
      },
      "execution_count": 48,
      "outputs": []
    },
    {
      "cell_type": "code",
      "source": [
        "def run_sweeep(config=None):\n",
        "    wandb.init(config=config, entity='sb2539')\n",
        "    w_config = wandb.config\n",
        "    criterion = nn.CrossEntropyLoss()\n",
        "    in_channels = 3\n",
        "    num_classes = 6\n",
        "    resolution = 96\n",
        "    model = MLPMixer(\n",
        "        in_channels = in_channels,\n",
        "        dim = w_config.hidden_size,\n",
        "        num_classes = num_classes,\n",
        "        patch_size = w_config.patch_size,\n",
        "        image_size = resolution,\n",
        "        depth = w_config.number_of_layers,\n",
        "        token_dim = w_config.token_dim,\n",
        "        channel_dim = w_config.channel_dim,\n",
        "        dropout = w_config.dropout,\n",
        "        alpha = w_config.alpha\n",
        "    )\n",
        "    optimizer = build_optimizer(model, w_config.optimizer, w_config.learning_rate)\n",
        "\n",
        "    train(model, trainloader, testloader, criterion, optimizer,  w_config, wandb)\n",
        "    test(model, testloader, criterion, wandb)"
      ],
      "metadata": {
        "id": "80yDPyS3UoPw"
      },
      "execution_count": 49,
      "outputs": []
    },
    {
      "cell_type": "code",
      "source": [
        "sweep_id = wandb.sweep(sweep_config, project=\"osuleaf_mlp_gat_channel_rp_gr_grd\", entity='sb2539')\n",
        "wandb.agent(sweep_id, run_sweeep, count=100)"
      ],
      "metadata": {
        "colab": {
          "base_uri": "https://localhost:8080/",
          "height": 1000,
          "referenced_widgets": [
            "0665ef1ea54347b58c650f05f1fa360a",
            "b0741a6688604c7791fd1b2d1b5b42ac",
            "32677a43b6dd403bb654cb92e4d86220",
            "748b774a599b4bd091bade9695d82958",
            "35f7831ac5f64b36b5f3663be987a676",
            "2f6c32d77708460399123952675aa558",
            "3eabf659ef0048c2aa56409e719711cd",
            "ed503cc3ce9d4fa980dfae66de7a9b61",
            "e2166f422b404589be9b8a45d28fe473",
            "cda87ed54b8a46089abd6dfc1381ad85",
            "8ce00e238b084cc89b2f293e6ef90e02",
            "cc1760eeaf9a48fc9af75347fc4e590f",
            "66a6dfaa64db4b3aae1f515cbd8661de",
            "5258f8bd50ea43fda30792bb4db0d8f1",
            "78398a3716964f8e8c03b726f29a8836",
            "43d3601b4b3c435aac34b1ab9fda9518",
            "46fe9df6043447dfbf84d8b46fd78794",
            "a2e491abdd4c4114ab71a4bd6a1e5647",
            "765a267c99ae4306be0ecf4c3fe983a1",
            "4f1abd55df4742ec89c51e905d8bc7bc",
            "1530df7664f24472a3ecf4ff3d634a8b",
            "909c4ec5a91748298f0af7da2ebf493f",
            "e87880ddac694d01aaa2e1061fe4e07f",
            "6bd37c868c3e437c919cbd11fcd39775",
            "3e07f81afc6d483e96cb1c45187467f3",
            "79dab3a1132644b99e51f8343da3d558",
            "10db78747b3e4e628ed869ac7c54a3d4",
            "9842490eb1df4ba3bcaff4300895217b",
            "b32541eb7378413f8a3d60b986a06a92",
            "5efea6ca78b04fe0bcb23a64371d443a",
            "b758d19f63e845f2afe22089bd9e21ab",
            "3bf99b14b1db4a0fab380451c90c322e",
            "27e41e6fba144d1d89fa6208a79ec462",
            "cb350d8b50814210b0160dca43f3a87d",
            "b48d3aff379e4dc89af954d7f6657a0a",
            "74a8da4fb047474e863bf9d292de787a",
            "dc50cb4eb4804b3097a2a2569d443756",
            "2003dc5851ee43419aaa0186cf80c222",
            "6ff24e729be24b1fb7e6bb4187357a76",
            "36406afbeed1425cb146b303895d3dec",
            "e711491803b64778bb6476a2e2eb5e1a",
            "8ba28f746f314f70b8ff59bbabf02f28",
            "b7513f2812a34a3997e99b8f2ecba34f",
            "f6490ef875f545b6a987bf4921f4a4ff",
            "9ae1a9f6464c49c6bdf8e90d20b101a1",
            "638e9591722840e0a8a28629e49c4c46",
            "11ad6f11a4f74df58bdff73cd73eb610",
            "5ecb5cdf395a4ea19cd7d99d96a3cff7",
            "530249f0fe764dc3beff8c1fd5eb3584",
            "efa220c21d7f433fb59989dbe6697277",
            "b48f524b62904a88b3ad028b3d08c0c9",
            "0a2963b802904f7d828b400fc00522ef",
            "647c95850b2c490a9e0ef6a05ac0ed40",
            "62e3f1e709c643bb9bce78984547128c",
            "ca1e60c7adfe4ed4a6b5f207c75e0c37",
            "938ddf14867c4f7f82fb5b6150dd06c3",
            "6a9af89dfaf945429ccf1f52bb5197d9",
            "5abddc1bea3f4d51be77746ca6ce501f",
            "76350bc88dd449b6a71c58cbadd21e1b",
            "95a27532daac47628ce8f9d759fb000b",
            "b5db50972a1d48aeae27a822b57c65a8",
            "109ae5c2f18a47efa68b390b81b33a47",
            "69ed483763ea46769c439f77ac65bed2",
            "399d6f48c1a044f8ab589d5a780118a6",
            "65848e574a3f4e48be622c64180e3431",
            "62cacb5c132f4ace9bf8d656ae4ce234",
            "026a7327e2f048a7ab9d1ff5aca9534c",
            "ffc38ddc75d240ee8fae66af45312f75",
            "974917443a4f4dcba4b3bcbaf4b8d3e9",
            "4f42f286556940deaa2e583836495245",
            "fd62609b2f8e41a4819224197ce89222",
            "c35bbe43a1f7405b8de8bc6fb70b98a4",
            "011cfbe561ea4cdcbc23ca001e8ca9ff",
            "38d8a13d48c4489abf4e391be4e50703",
            "64daf7639ce041f496fce36d4478bb8c",
            "18dd2e9ca0b64e0f9fbe8faff7a4323f",
            "8e4f9612dda846788869335b5e332686",
            "eaeeda3c09bf4421b451e2b6d31eae83",
            "828983f0b0a84034b9390a4f7395b395",
            "df86d601d6cb45c5b1d5bbf6a2ad2965",
            "b0e0eb79c1154e22bdc8cf1664de33ab",
            "7ff64a1ef6a045039ba5baa28aab5277",
            "5fd901dd6bdc419796e410018a872e42",
            "92ddbf432be944c59cd2fb2b3789b70b",
            "9bd27c5c2a40462280cc4bcdc6cf6f2a",
            "92943b6f858a4140ab6d5e4b4e9407cd",
            "54a63f04b3e549e8a5eefb2bdf1dc621",
            "11356d1d15cd4a0b8bd93442c75443d8",
            "df3b15982ca34a5497ded0cc1bb25421",
            "22792f2536c74ae4b89ce12b74af0d7b",
            "41662836dbc449dea56f61d555a04976",
            "b3326d43603644b3a99ee726d5070b55",
            "30569e14a3ed4b678b7063ef693253fa",
            "c554c3e0cb8849f5a6097cb37e53ec9b",
            "942a478bfbd24ca882fd0b1204339553",
            "9ff793a4a3f5427087af1bfa5b7b706b",
            "7f5978345ce54c5ba30d0366c21d8071",
            "a20e223e281d4859bf05b422e8345b32",
            "6a3a3076ba9148a4a40ff590519fd31c",
            "c9d70270497a4987a0f7cb03080280d4",
            "27ec116cd0f641b192e965c47043ee6f",
            "bc1d35db627d4b1e8ab9aa44136352ef",
            "4d04f5ab3ec144f5bd66ec4eda788a5c",
            "6be261a0ae484faebd92e930c2ea0f97",
            "74c19cbad0de493e81ae1afcc217b723",
            "d624ad7008cf45b9b8673a09ffa1dc2c",
            "2b6c3a9484864bfc965644f66245c936",
            "3bb71002d33e43bc89365cfa7d2d6ca7",
            "1e6b8ca8cd9148b1ac83a5005a070918",
            "b7b4cfefc282466ab9a00ac2a0f0a5a0",
            "b552766785564fc3924706f22e86ba61",
            "cd6b33d02e464ad7af255a06c0e996cf"
          ]
        },
        "id": "nFlBNYfcW31d",
        "outputId": "aa4f9df2-724c-4db3-8274-4c6176e2741c"
      },
      "execution_count": 47,
      "outputs": [
        {
          "output_type": "stream",
          "name": "stdout",
          "text": [
            "Create sweep with ID: irqvhxia\n",
            "Sweep URL: https://wandb.ai/sb2539/osuleaf_mlp_gat_channel_rp_gr_grd_mk/sweeps/irqvhxia\n"
          ]
        },
        {
          "output_type": "stream",
          "name": "stderr",
          "text": [
            "\u001b[34m\u001b[1mwandb\u001b[0m: Agent Starting Run: sdjfnnai with config:\n",
            "\u001b[34m\u001b[1mwandb\u001b[0m: \talpha: 0.2\n",
            "\u001b[34m\u001b[1mwandb\u001b[0m: \tchannel_dim: 256\n",
            "\u001b[34m\u001b[1mwandb\u001b[0m: \tdropout: 0\n",
            "\u001b[34m\u001b[1mwandb\u001b[0m: \tepochs: 50\n",
            "\u001b[34m\u001b[1mwandb\u001b[0m: \thidden_size: 64\n",
            "\u001b[34m\u001b[1mwandb\u001b[0m: \tlearning_rate: 0.0006750402005868284\n",
            "\u001b[34m\u001b[1mwandb\u001b[0m: \tnumber_of_layers: 4\n",
            "\u001b[34m\u001b[1mwandb\u001b[0m: \toptimizer: adam\n",
            "\u001b[34m\u001b[1mwandb\u001b[0m: \tpatch_size: 16\n",
            "\u001b[34m\u001b[1mwandb\u001b[0m: \ttoken_dim: 256\n",
            "\u001b[34m\u001b[1mwandb\u001b[0m: \u001b[33mWARNING\u001b[0m Ignored wandb.init() arg entity when running a sweep.\n"
          ]
        },
        {
          "output_type": "display_data",
          "data": {
            "text/plain": [
              "<IPython.core.display.HTML object>"
            ],
            "text/html": [
              "Tracking run with wandb version 0.13.1"
            ]
          },
          "metadata": {}
        },
        {
          "output_type": "display_data",
          "data": {
            "text/plain": [
              "<IPython.core.display.HTML object>"
            ],
            "text/html": [
              "Run data is saved locally in <code>/content/wandb/run-20220808_040006-sdjfnnai</code>"
            ]
          },
          "metadata": {}
        },
        {
          "output_type": "display_data",
          "data": {
            "text/plain": [
              "<IPython.core.display.HTML object>"
            ],
            "text/html": [
              "Syncing run <strong><a href=\"https://wandb.ai/sb2539/osuleaf_mlp_gat_channel_rp_gr_grd_mk/runs/sdjfnnai\" target=\"_blank\">soft-sweep-1</a></strong> to <a href=\"https://wandb.ai/sb2539/osuleaf_mlp_gat_channel_rp_gr_grd_mk\" target=\"_blank\">Weights & Biases</a> (<a href=\"https://wandb.me/run\" target=\"_blank\">docs</a>)<br/>Sweep page:  <a href=\"https://wandb.ai/sb2539/osuleaf_mlp_gat_channel_rp_gr_grd_mk/sweeps/irqvhxia\" target=\"_blank\">https://wandb.ai/sb2539/osuleaf_mlp_gat_channel_rp_gr_grd_mk/sweeps/irqvhxia</a>"
            ]
          },
          "metadata": {}
        },
        {
          "output_type": "stream",
          "name": "stdout",
          "text": [
            "TRAIN: EPOCH 0001 / 0050 | Epoch LOSS 1.7953 | Epoch ACC 23.5000 | Val Loss 1.7532 | Val_acc 18.1818\n",
            "saved\n",
            "TRAIN: EPOCH 0002 / 0050 | Epoch LOSS 1.5994 | Epoch ACC 37.5000 | Val Loss 1.6607 | Val_acc 27.6860\n",
            "saved\n",
            "TRAIN: EPOCH 0003 / 0050 | Epoch LOSS 1.3360 | Epoch ACC 41.5000 | Val Loss 1.4475 | Val_acc 31.8182\n",
            "saved\n",
            "TRAIN: EPOCH 0004 / 0050 | Epoch LOSS 1.2377 | Epoch ACC 41.5000 | Val Loss 1.4377 | Val_acc 41.7355\n",
            "TRAIN: EPOCH 0005 / 0050 | Epoch LOSS 1.4578 | Epoch ACC 39.5000 | Val Loss 1.3945 | Val_acc 30.9917\n",
            "TRAIN: EPOCH 0006 / 0050 | Epoch LOSS 1.3104 | Epoch ACC 39.0000 | Val Loss 1.4054 | Val_acc 35.9504\n",
            "TRAIN: EPOCH 0007 / 0050 | Epoch LOSS 1.2475 | Epoch ACC 40.0000 | Val Loss 1.3950 | Val_acc 33.4711\n",
            "TRAIN: EPOCH 0008 / 0050 | Epoch LOSS 1.2076 | Epoch ACC 44.5000 | Val Loss 1.4671 | Val_acc 35.1240\n",
            "TRAIN: EPOCH 0009 / 0050 | Epoch LOSS 1.2826 | Epoch ACC 44.0000 | Val Loss 1.4341 | Val_acc 34.2975\n",
            "TRAIN: EPOCH 0010 / 0050 | Epoch LOSS 1.2771 | Epoch ACC 41.5000 | Val Loss 1.4120 | Val_acc 33.0579\n",
            "TRAIN: EPOCH 0011 / 0050 | Epoch LOSS 1.1949 | Epoch ACC 43.5000 | Val Loss 1.3608 | Val_acc 37.1901\n",
            "TRAIN: EPOCH 0012 / 0050 | Epoch LOSS 1.1467 | Epoch ACC 43.0000 | Val Loss 1.3481 | Val_acc 36.7769\n",
            "TRAIN: EPOCH 0013 / 0050 | Epoch LOSS 1.0767 | Epoch ACC 49.0000 | Val Loss 1.4458 | Val_acc 33.0579\n",
            "TRAIN: EPOCH 0014 / 0050 | Epoch LOSS 1.0464 | Epoch ACC 50.5000 | Val Loss 1.4667 | Val_acc 38.0165\n",
            "TRAIN: EPOCH 0015 / 0050 | Epoch LOSS 0.9968 | Epoch ACC 50.0000 | Val Loss 1.5090 | Val_acc 37.6033\n",
            "TRAIN: EPOCH 0016 / 0050 | Epoch LOSS 0.9291 | Epoch ACC 54.5000 | Val Loss 1.6125 | Val_acc 41.3223\n",
            "TRAIN: EPOCH 0017 / 0050 | Epoch LOSS 0.9716 | Epoch ACC 59.0000 | Val Loss 1.4731 | Val_acc 35.1240\n",
            "TRAIN: EPOCH 0018 / 0050 | Epoch LOSS 0.9034 | Epoch ACC 59.0000 | Val Loss 1.6441 | Val_acc 39.6694\n",
            "TRAIN: EPOCH 0019 / 0050 | Epoch LOSS 0.9176 | Epoch ACC 58.0000 | Val Loss 1.6303 | Val_acc 35.9504\n",
            "TRAIN: EPOCH 0020 / 0050 | Epoch LOSS 0.8969 | Epoch ACC 58.0000 | Val Loss 1.5017 | Val_acc 41.3223\n",
            "TRAIN: EPOCH 0021 / 0050 | Epoch LOSS 0.7940 | Epoch ACC 62.5000 | Val Loss 1.4359 | Val_acc 38.0165\n",
            "TRAIN: EPOCH 0022 / 0050 | Epoch LOSS 0.7383 | Epoch ACC 63.5000 | Val Loss 1.5193 | Val_acc 41.7355\n",
            "saved\n",
            "TRAIN: EPOCH 0023 / 0050 | Epoch LOSS 0.6625 | Epoch ACC 76.5000 | Val Loss 1.8469 | Val_acc 42.9752\n",
            "saved\n",
            "TRAIN: EPOCH 0024 / 0050 | Epoch LOSS 0.6225 | Epoch ACC 77.5000 | Val Loss 1.5426 | Val_acc 48.3471\n",
            "TRAIN: EPOCH 0025 / 0050 | Epoch LOSS 0.4552 | Epoch ACC 81.5000 | Val Loss 1.8324 | Val_acc 45.0413\n",
            "TRAIN: EPOCH 0026 / 0050 | Epoch LOSS 0.4316 | Epoch ACC 83.5000 | Val Loss 1.7499 | Val_acc 47.1074\n",
            "saved\n",
            "TRAIN: EPOCH 0027 / 0050 | Epoch LOSS 0.3758 | Epoch ACC 86.5000 | Val Loss 1.6871 | Val_acc 49.5868\n",
            "TRAIN: EPOCH 0028 / 0050 | Epoch LOSS 0.4933 | Epoch ACC 78.0000 | Val Loss 1.6536 | Val_acc 48.3471\n",
            "saved\n",
            "TRAIN: EPOCH 0029 / 0050 | Epoch LOSS 0.3893 | Epoch ACC 84.5000 | Val Loss 1.6480 | Val_acc 52.0661\n",
            "saved\n",
            "TRAIN: EPOCH 0030 / 0050 | Epoch LOSS 0.3636 | Epoch ACC 84.5000 | Val Loss 1.6917 | Val_acc 52.4793\n",
            "TRAIN: EPOCH 0031 / 0050 | Epoch LOSS 0.2419 | Epoch ACC 91.0000 | Val Loss 2.0005 | Val_acc 49.1736\n",
            "TRAIN: EPOCH 0032 / 0050 | Epoch LOSS 0.2184 | Epoch ACC 93.0000 | Val Loss 2.0584 | Val_acc 49.5868\n",
            "TRAIN: EPOCH 0033 / 0050 | Epoch LOSS 0.1743 | Epoch ACC 94.0000 | Val Loss 1.9783 | Val_acc 50.0000\n",
            "TRAIN: EPOCH 0034 / 0050 | Epoch LOSS 0.1313 | Epoch ACC 96.5000 | Val Loss 2.0384 | Val_acc 50.8264\n",
            "TRAIN: EPOCH 0035 / 0050 | Epoch LOSS 0.1512 | Epoch ACC 97.0000 | Val Loss 2.1986 | Val_acc 47.9339\n",
            "TRAIN: EPOCH 0036 / 0050 | Epoch LOSS 0.2076 | Epoch ACC 92.0000 | Val Loss 2.2039 | Val_acc 43.8017\n",
            "TRAIN: EPOCH 0037 / 0050 | Epoch LOSS 0.3220 | Epoch ACC 88.5000 | Val Loss 1.9194 | Val_acc 50.8264\n",
            "TRAIN: EPOCH 0038 / 0050 | Epoch LOSS 0.2633 | Epoch ACC 92.0000 | Val Loss 2.0859 | Val_acc 48.7603\n",
            "TRAIN: EPOCH 0039 / 0050 | Epoch LOSS 0.2020 | Epoch ACC 94.0000 | Val Loss 1.9372 | Val_acc 50.4132\n",
            "TRAIN: EPOCH 0040 / 0050 | Epoch LOSS 0.1285 | Epoch ACC 96.0000 | Val Loss 2.4485 | Val_acc 50.4132\n",
            "TRAIN: EPOCH 0041 / 0050 | Epoch LOSS 0.2201 | Epoch ACC 93.0000 | Val Loss 2.0520 | Val_acc 50.4132\n",
            "TRAIN: EPOCH 0042 / 0050 | Epoch LOSS 0.2913 | Epoch ACC 91.5000 | Val Loss 2.3865 | Val_acc 46.2810\n",
            "TRAIN: EPOCH 0043 / 0050 | Epoch LOSS 0.4350 | Epoch ACC 85.5000 | Val Loss 2.0912 | Val_acc 47.1074\n",
            "TRAIN: EPOCH 0044 / 0050 | Epoch LOSS 0.1589 | Epoch ACC 94.5000 | Val Loss 2.0857 | Val_acc 49.5868\n",
            "TRAIN: EPOCH 0045 / 0050 | Epoch LOSS 0.0575 | Epoch ACC 99.0000 | Val Loss 2.2098 | Val_acc 50.4132\n",
            "TRAIN: EPOCH 0046 / 0050 | Epoch LOSS 0.0319 | Epoch ACC 99.5000 | Val Loss 2.2731 | Val_acc 49.5868\n",
            "TRAIN: EPOCH 0047 / 0050 | Epoch LOSS 0.0210 | Epoch ACC 100.0000 | Val Loss 2.3473 | Val_acc 51.6529\n",
            "TRAIN: EPOCH 0048 / 0050 | Epoch LOSS 0.0160 | Epoch ACC 100.0000 | Val Loss 2.4331 | Val_acc 50.4132\n",
            "TRAIN: EPOCH 0049 / 0050 | Epoch LOSS 0.0116 | Epoch ACC 100.0000 | Val Loss 2.4636 | Val_acc 52.0661\n",
            "saved\n",
            "TRAIN: EPOCH 0050 / 0050 | Epoch LOSS 0.0097 | Epoch ACC 100.0000 | Val Loss 2.4909 | Val_acc 52.8926\n",
            "test: LOSS 2.4909 | Accuracy 52.8926 \n"
          ]
        },
        {
          "output_type": "display_data",
          "data": {
            "text/plain": [
              "<IPython.core.display.HTML object>"
            ],
            "text/html": [
              "Waiting for W&B process to finish... <strong style=\"color:green\">(success).</strong>"
            ]
          },
          "metadata": {}
        },
        {
          "output_type": "display_data",
          "data": {
            "text/plain": [
              "VBox(children=(Label(value='0.001 MB of 0.001 MB uploaded (0.000 MB deduped)\\r'), FloatProgress(value=1.0, max…"
            ],
            "application/vnd.jupyter.widget-view+json": {
              "version_major": 2,
              "version_minor": 0,
              "model_id": "0665ef1ea54347b58c650f05f1fa360a"
            }
          },
          "metadata": {}
        },
        {
          "output_type": "display_data",
          "data": {
            "text/plain": [
              "<IPython.core.display.HTML object>"
            ],
            "text/html": [
              "<style>\n",
              "    table.wandb td:nth-child(1) { padding: 0 10px; text-align: left ; width: auto;} td:nth-child(2) {text-align: left ; width: 100%}\n",
              "    .wandb-row { display: flex; flex-direction: row; flex-wrap: wrap; justify-content: flex-start; width: 100% }\n",
              "    .wandb-col { display: flex; flex-direction: column; flex-basis: 100%; flex: 1; padding: 10px; }\n",
              "    </style>\n",
              "<div class=\"wandb-row\"><div class=\"wandb-col\"><h3>Run history:</h3><br/><table class=\"wandb\"><tr><td>test_acc</td><td>▁</td></tr><tr><td>test_loss</td><td>▁</td></tr><tr><td>train_acc</td><td>▁▂▃▃▂▃▃▃▃▃▃▃▄▄▄▄▅▅▆▆▆▇▆▇▇▇▇█▇▇▇▇▇▇▇▇████</td></tr><tr><td>train_loss</td><td>█▇▆▆▆▆▆▆▆▅▅▅▅▅▅▅▄▄▄▃▃▂▃▂▂▂▂▁▂▂▂▂▂▂▃▂▁▁▁▁</td></tr></table><br/></div><div class=\"wandb-col\"><h3>Run summary:</h3><br/><table class=\"wandb\"><tr><td>test_acc</td><td>52.89256</td></tr><tr><td>test_loss</td><td>2.4909</td></tr><tr><td>train_acc</td><td>100.0</td></tr><tr><td>train_loss</td><td>0.00969</td></tr></table><br/></div></div>"
            ]
          },
          "metadata": {}
        },
        {
          "output_type": "display_data",
          "data": {
            "text/plain": [
              "<IPython.core.display.HTML object>"
            ],
            "text/html": [
              "Synced <strong style=\"color:#cdcd00\">soft-sweep-1</strong>: <a href=\"https://wandb.ai/sb2539/osuleaf_mlp_gat_channel_rp_gr_grd_mk/runs/sdjfnnai\" target=\"_blank\">https://wandb.ai/sb2539/osuleaf_mlp_gat_channel_rp_gr_grd_mk/runs/sdjfnnai</a><br/>Synced 5 W&B file(s), 0 media file(s), 0 artifact file(s) and 0 other file(s)"
            ]
          },
          "metadata": {}
        },
        {
          "output_type": "display_data",
          "data": {
            "text/plain": [
              "<IPython.core.display.HTML object>"
            ],
            "text/html": [
              "Find logs at: <code>./wandb/run-20220808_040006-sdjfnnai/logs</code>"
            ]
          },
          "metadata": {}
        },
        {
          "output_type": "stream",
          "name": "stderr",
          "text": [
            "\u001b[34m\u001b[1mwandb\u001b[0m: Agent Starting Run: goq8w3gx with config:\n",
            "\u001b[34m\u001b[1mwandb\u001b[0m: \talpha: 0.2\n",
            "\u001b[34m\u001b[1mwandb\u001b[0m: \tchannel_dim: 64\n",
            "\u001b[34m\u001b[1mwandb\u001b[0m: \tdropout: 0\n",
            "\u001b[34m\u001b[1mwandb\u001b[0m: \tepochs: 50\n",
            "\u001b[34m\u001b[1mwandb\u001b[0m: \thidden_size: 128\n",
            "\u001b[34m\u001b[1mwandb\u001b[0m: \tlearning_rate: 0.0007488398901811529\n",
            "\u001b[34m\u001b[1mwandb\u001b[0m: \tnumber_of_layers: 4\n",
            "\u001b[34m\u001b[1mwandb\u001b[0m: \toptimizer: sgd\n",
            "\u001b[34m\u001b[1mwandb\u001b[0m: \tpatch_size: 8\n",
            "\u001b[34m\u001b[1mwandb\u001b[0m: \ttoken_dim: 64\n",
            "\u001b[34m\u001b[1mwandb\u001b[0m: \u001b[33mWARNING\u001b[0m Ignored wandb.init() arg entity when running a sweep.\n"
          ]
        },
        {
          "output_type": "display_data",
          "data": {
            "text/plain": [
              "<IPython.core.display.HTML object>"
            ],
            "text/html": [
              "Tracking run with wandb version 0.13.1"
            ]
          },
          "metadata": {}
        },
        {
          "output_type": "display_data",
          "data": {
            "text/plain": [
              "<IPython.core.display.HTML object>"
            ],
            "text/html": [
              "Run data is saved locally in <code>/content/wandb/run-20220808_040130-goq8w3gx</code>"
            ]
          },
          "metadata": {}
        },
        {
          "output_type": "display_data",
          "data": {
            "text/plain": [
              "<IPython.core.display.HTML object>"
            ],
            "text/html": [
              "Syncing run <strong><a href=\"https://wandb.ai/sb2539/osuleaf_mlp_gat_channel_rp_gr_grd_mk/runs/goq8w3gx\" target=\"_blank\">eager-sweep-2</a></strong> to <a href=\"https://wandb.ai/sb2539/osuleaf_mlp_gat_channel_rp_gr_grd_mk\" target=\"_blank\">Weights & Biases</a> (<a href=\"https://wandb.me/run\" target=\"_blank\">docs</a>)<br/>Sweep page:  <a href=\"https://wandb.ai/sb2539/osuleaf_mlp_gat_channel_rp_gr_grd_mk/sweeps/irqvhxia\" target=\"_blank\">https://wandb.ai/sb2539/osuleaf_mlp_gat_channel_rp_gr_grd_mk/sweeps/irqvhxia</a>"
            ]
          },
          "metadata": {}
        },
        {
          "output_type": "stream",
          "name": "stdout",
          "text": [
            "TRAIN: EPOCH 0001 / 0050 | Epoch LOSS 1.7839 | Epoch ACC 21.5000 | Val Loss 1.8496 | Val_acc 18.1818\n",
            "TRAIN: EPOCH 0002 / 0050 | Epoch LOSS 1.7555 | Epoch ACC 27.5000 | Val Loss 1.7651 | Val_acc 18.1818\n",
            "TRAIN: EPOCH 0003 / 0050 | Epoch LOSS 1.6915 | Epoch ACC 29.5000 | Val Loss 1.6644 | Val_acc 32.2314\n",
            "TRAIN: EPOCH 0004 / 0050 | Epoch LOSS 1.6389 | Epoch ACC 31.0000 | Val Loss 1.6080 | Val_acc 28.5124\n",
            "TRAIN: EPOCH 0005 / 0050 | Epoch LOSS 1.4315 | Epoch ACC 35.5000 | Val Loss 1.4683 | Val_acc 31.4050\n",
            "TRAIN: EPOCH 0006 / 0050 | Epoch LOSS 1.2970 | Epoch ACC 42.0000 | Val Loss 1.8855 | Val_acc 19.0083\n",
            "TRAIN: EPOCH 0007 / 0050 | Epoch LOSS 1.5730 | Epoch ACC 36.0000 | Val Loss 1.5644 | Val_acc 32.6446\n",
            "TRAIN: EPOCH 0008 / 0050 | Epoch LOSS 1.3623 | Epoch ACC 42.5000 | Val Loss 1.4502 | Val_acc 30.5785\n",
            "TRAIN: EPOCH 0009 / 0050 | Epoch LOSS 1.2804 | Epoch ACC 41.5000 | Val Loss 1.4521 | Val_acc 35.9504\n",
            "TRAIN: EPOCH 0010 / 0050 | Epoch LOSS 1.2561 | Epoch ACC 38.0000 | Val Loss 1.4363 | Val_acc 38.8430\n",
            "TRAIN: EPOCH 0011 / 0050 | Epoch LOSS 1.2855 | Epoch ACC 39.5000 | Val Loss 1.3745 | Val_acc 33.0579\n",
            "TRAIN: EPOCH 0012 / 0050 | Epoch LOSS 1.2493 | Epoch ACC 40.5000 | Val Loss 1.3247 | Val_acc 34.7107\n",
            "TRAIN: EPOCH 0013 / 0050 | Epoch LOSS 1.1883 | Epoch ACC 40.5000 | Val Loss 1.3534 | Val_acc 33.0579\n",
            "TRAIN: EPOCH 0014 / 0050 | Epoch LOSS 1.1980 | Epoch ACC 45.0000 | Val Loss 1.3451 | Val_acc 38.8430\n",
            "TRAIN: EPOCH 0015 / 0050 | Epoch LOSS 1.2888 | Epoch ACC 42.0000 | Val Loss 1.8940 | Val_acc 32.2314\n",
            "TRAIN: EPOCH 0016 / 0050 | Epoch LOSS 1.5883 | Epoch ACC 33.0000 | Val Loss 1.3870 | Val_acc 35.9504\n",
            "TRAIN: EPOCH 0017 / 0050 | Epoch LOSS 1.2246 | Epoch ACC 43.0000 | Val Loss 1.3544 | Val_acc 30.5785\n",
            "TRAIN: EPOCH 0018 / 0050 | Epoch LOSS 1.1744 | Epoch ACC 42.5000 | Val Loss 1.3186 | Val_acc 37.1901\n",
            "TRAIN: EPOCH 0019 / 0050 | Epoch LOSS 1.1709 | Epoch ACC 43.5000 | Val Loss 1.2896 | Val_acc 37.6033\n",
            "TRAIN: EPOCH 0020 / 0050 | Epoch LOSS 1.1336 | Epoch ACC 47.0000 | Val Loss 1.3373 | Val_acc 38.0165\n",
            "TRAIN: EPOCH 0021 / 0050 | Epoch LOSS 1.1816 | Epoch ACC 45.0000 | Val Loss 1.4483 | Val_acc 35.5372\n",
            "TRAIN: EPOCH 0022 / 0050 | Epoch LOSS 1.1441 | Epoch ACC 45.0000 | Val Loss 1.3689 | Val_acc 38.0165\n",
            "TRAIN: EPOCH 0023 / 0050 | Epoch LOSS 1.0976 | Epoch ACC 47.5000 | Val Loss 1.2760 | Val_acc 44.6281\n",
            "TRAIN: EPOCH 0024 / 0050 | Epoch LOSS 1.1089 | Epoch ACC 46.5000 | Val Loss 1.3170 | Val_acc 38.0165\n",
            "TRAIN: EPOCH 0025 / 0050 | Epoch LOSS 1.1072 | Epoch ACC 43.5000 | Val Loss 1.3990 | Val_acc 42.1488\n",
            "TRAIN: EPOCH 0026 / 0050 | Epoch LOSS 1.0800 | Epoch ACC 49.0000 | Val Loss 1.4730 | Val_acc 36.7769\n",
            "TRAIN: EPOCH 0027 / 0050 | Epoch LOSS 1.0803 | Epoch ACC 50.5000 | Val Loss 1.2714 | Val_acc 45.0413\n",
            "TRAIN: EPOCH 0028 / 0050 | Epoch LOSS 1.0436 | Epoch ACC 49.5000 | Val Loss 1.2717 | Val_acc 42.5620\n",
            "TRAIN: EPOCH 0029 / 0050 | Epoch LOSS 1.0031 | Epoch ACC 56.5000 | Val Loss 1.3723 | Val_acc 39.6694\n",
            "TRAIN: EPOCH 0030 / 0050 | Epoch LOSS 1.0986 | Epoch ACC 48.5000 | Val Loss 1.4869 | Val_acc 38.0165\n",
            "TRAIN: EPOCH 0031 / 0050 | Epoch LOSS 1.3656 | Epoch ACC 42.0000 | Val Loss 1.3907 | Val_acc 41.7355\n",
            "TRAIN: EPOCH 0032 / 0050 | Epoch LOSS 1.1495 | Epoch ACC 45.0000 | Val Loss 1.2652 | Val_acc 39.2562\n",
            "TRAIN: EPOCH 0033 / 0050 | Epoch LOSS 1.0520 | Epoch ACC 54.0000 | Val Loss 1.2288 | Val_acc 42.5620\n",
            "TRAIN: EPOCH 0034 / 0050 | Epoch LOSS 0.9977 | Epoch ACC 49.5000 | Val Loss 1.3059 | Val_acc 42.5620\n",
            "TRAIN: EPOCH 0035 / 0050 | Epoch LOSS 0.9894 | Epoch ACC 55.0000 | Val Loss 1.2689 | Val_acc 43.3884\n",
            "TRAIN: EPOCH 0036 / 0050 | Epoch LOSS 0.9456 | Epoch ACC 66.5000 | Val Loss 1.2605 | Val_acc 48.3471\n",
            "TRAIN: EPOCH 0037 / 0050 | Epoch LOSS 0.9064 | Epoch ACC 64.5000 | Val Loss 1.2634 | Val_acc 45.0413\n",
            "TRAIN: EPOCH 0038 / 0050 | Epoch LOSS 0.8959 | Epoch ACC 63.5000 | Val Loss 1.3189 | Val_acc 45.0413\n",
            "TRAIN: EPOCH 0039 / 0050 | Epoch LOSS 0.8095 | Epoch ACC 75.0000 | Val Loss 1.2430 | Val_acc 42.5620\n",
            "TRAIN: EPOCH 0040 / 0050 | Epoch LOSS 0.7290 | Epoch ACC 74.5000 | Val Loss 1.2550 | Val_acc 47.1074\n",
            "TRAIN: EPOCH 0041 / 0050 | Epoch LOSS 0.7017 | Epoch ACC 75.0000 | Val Loss 1.2351 | Val_acc 45.4545\n",
            "TRAIN: EPOCH 0042 / 0050 | Epoch LOSS 0.6154 | Epoch ACC 79.0000 | Val Loss 1.2283 | Val_acc 52.0661\n",
            "TRAIN: EPOCH 0043 / 0050 | Epoch LOSS 0.6301 | Epoch ACC 77.5000 | Val Loss 1.3368 | Val_acc 47.1074\n",
            "TRAIN: EPOCH 0044 / 0050 | Epoch LOSS 0.5939 | Epoch ACC 77.5000 | Val Loss 1.3232 | Val_acc 47.5207\n",
            "TRAIN: EPOCH 0045 / 0050 | Epoch LOSS 0.4906 | Epoch ACC 82.0000 | Val Loss 1.2801 | Val_acc 49.5868\n",
            "TRAIN: EPOCH 0046 / 0050 | Epoch LOSS 0.4215 | Epoch ACC 87.5000 | Val Loss 1.3764 | Val_acc 48.3471\n",
            "TRAIN: EPOCH 0047 / 0050 | Epoch LOSS 0.4269 | Epoch ACC 86.0000 | Val Loss 1.3632 | Val_acc 49.1736\n",
            "TRAIN: EPOCH 0048 / 0050 | Epoch LOSS 0.4021 | Epoch ACC 86.5000 | Val Loss 1.5105 | Val_acc 46.2810\n",
            "TRAIN: EPOCH 0049 / 0050 | Epoch LOSS 0.5036 | Epoch ACC 82.5000 | Val Loss 1.3860 | Val_acc 51.2397\n",
            "TRAIN: EPOCH 0050 / 0050 | Epoch LOSS 1.1497 | Epoch ACC 64.5000 | Val Loss 1.8375 | Val_acc 21.4876\n",
            "test: LOSS 1.8375 | Accuracy 21.4876 \n"
          ]
        },
        {
          "output_type": "display_data",
          "data": {
            "text/plain": [
              "<IPython.core.display.HTML object>"
            ],
            "text/html": [
              "Waiting for W&B process to finish... <strong style=\"color:green\">(success).</strong>"
            ]
          },
          "metadata": {}
        },
        {
          "output_type": "display_data",
          "data": {
            "text/plain": [
              "VBox(children=(Label(value='0.001 MB of 0.001 MB uploaded (0.000 MB deduped)\\r'), FloatProgress(value=1.0, max…"
            ],
            "application/vnd.jupyter.widget-view+json": {
              "version_major": 2,
              "version_minor": 0,
              "model_id": "e2166f422b404589be9b8a45d28fe473"
            }
          },
          "metadata": {}
        },
        {
          "output_type": "display_data",
          "data": {
            "text/plain": [
              "<IPython.core.display.HTML object>"
            ],
            "text/html": [
              "<style>\n",
              "    table.wandb td:nth-child(1) { padding: 0 10px; text-align: left ; width: auto;} td:nth-child(2) {text-align: left ; width: 100%}\n",
              "    .wandb-row { display: flex; flex-direction: row; flex-wrap: wrap; justify-content: flex-start; width: 100% }\n",
              "    .wandb-col { display: flex; flex-direction: column; flex-basis: 100%; flex: 1; padding: 10px; }\n",
              "    </style>\n",
              "<div class=\"wandb-row\"><div class=\"wandb-col\"><h3>Run history:</h3><br/><table class=\"wandb\"><tr><td>test_acc</td><td>▁</td></tr><tr><td>test_loss</td><td>▁</td></tr><tr><td>train_acc</td><td>▁▂▂▂▃▃▃▃▃▃▃▃▂▃▃▃▃▃▄▄▄▄▄▅▃▃▄▄▆▆▅▇▇▇▇▇███▆</td></tr><tr><td>train_loss</td><td>███▇▆▇▆▅▅▅▅▅▇▅▅▅▅▅▅▅▄▄▄▄▆▅▄▄▄▄▄▃▃▂▂▂▁▁▁▅</td></tr></table><br/></div><div class=\"wandb-col\"><h3>Run summary:</h3><br/><table class=\"wandb\"><tr><td>test_acc</td><td>21.4876</td></tr><tr><td>test_loss</td><td>1.83754</td></tr><tr><td>train_acc</td><td>64.5</td></tr><tr><td>train_loss</td><td>1.14972</td></tr></table><br/></div></div>"
            ]
          },
          "metadata": {}
        },
        {
          "output_type": "display_data",
          "data": {
            "text/plain": [
              "<IPython.core.display.HTML object>"
            ],
            "text/html": [
              "Synced <strong style=\"color:#cdcd00\">eager-sweep-2</strong>: <a href=\"https://wandb.ai/sb2539/osuleaf_mlp_gat_channel_rp_gr_grd_mk/runs/goq8w3gx\" target=\"_blank\">https://wandb.ai/sb2539/osuleaf_mlp_gat_channel_rp_gr_grd_mk/runs/goq8w3gx</a><br/>Synced 5 W&B file(s), 0 media file(s), 0 artifact file(s) and 0 other file(s)"
            ]
          },
          "metadata": {}
        },
        {
          "output_type": "display_data",
          "data": {
            "text/plain": [
              "<IPython.core.display.HTML object>"
            ],
            "text/html": [
              "Find logs at: <code>./wandb/run-20220808_040130-goq8w3gx/logs</code>"
            ]
          },
          "metadata": {}
        },
        {
          "output_type": "stream",
          "name": "stderr",
          "text": [
            "\u001b[34m\u001b[1mwandb\u001b[0m: Agent Starting Run: 4j350vft with config:\n",
            "\u001b[34m\u001b[1mwandb\u001b[0m: \talpha: 0.2\n",
            "\u001b[34m\u001b[1mwandb\u001b[0m: \tchannel_dim: 128\n",
            "\u001b[34m\u001b[1mwandb\u001b[0m: \tdropout: 0\n",
            "\u001b[34m\u001b[1mwandb\u001b[0m: \tepochs: 50\n",
            "\u001b[34m\u001b[1mwandb\u001b[0m: \thidden_size: 128\n",
            "\u001b[34m\u001b[1mwandb\u001b[0m: \tlearning_rate: 0.0005733429205254941\n",
            "\u001b[34m\u001b[1mwandb\u001b[0m: \tnumber_of_layers: 4\n",
            "\u001b[34m\u001b[1mwandb\u001b[0m: \toptimizer: adam\n",
            "\u001b[34m\u001b[1mwandb\u001b[0m: \tpatch_size: 4\n",
            "\u001b[34m\u001b[1mwandb\u001b[0m: \ttoken_dim: 128\n",
            "\u001b[34m\u001b[1mwandb\u001b[0m: \u001b[33mWARNING\u001b[0m Ignored wandb.init() arg entity when running a sweep.\n"
          ]
        },
        {
          "output_type": "display_data",
          "data": {
            "text/plain": [
              "<IPython.core.display.HTML object>"
            ],
            "text/html": [
              "Tracking run with wandb version 0.13.1"
            ]
          },
          "metadata": {}
        },
        {
          "output_type": "display_data",
          "data": {
            "text/plain": [
              "<IPython.core.display.HTML object>"
            ],
            "text/html": [
              "Run data is saved locally in <code>/content/wandb/run-20220808_040313-4j350vft</code>"
            ]
          },
          "metadata": {}
        },
        {
          "output_type": "display_data",
          "data": {
            "text/plain": [
              "<IPython.core.display.HTML object>"
            ],
            "text/html": [
              "Syncing run <strong><a href=\"https://wandb.ai/sb2539/osuleaf_mlp_gat_channel_rp_gr_grd_mk/runs/4j350vft\" target=\"_blank\">trim-sweep-3</a></strong> to <a href=\"https://wandb.ai/sb2539/osuleaf_mlp_gat_channel_rp_gr_grd_mk\" target=\"_blank\">Weights & Biases</a> (<a href=\"https://wandb.me/run\" target=\"_blank\">docs</a>)<br/>Sweep page:  <a href=\"https://wandb.ai/sb2539/osuleaf_mlp_gat_channel_rp_gr_grd_mk/sweeps/irqvhxia\" target=\"_blank\">https://wandb.ai/sb2539/osuleaf_mlp_gat_channel_rp_gr_grd_mk/sweeps/irqvhxia</a>"
            ]
          },
          "metadata": {}
        },
        {
          "output_type": "stream",
          "name": "stdout",
          "text": [
            "TRAIN: EPOCH 0001 / 0050 | Epoch LOSS 1.7798 | Epoch ACC 22.0000 | Val Loss 1.7834 | Val_acc 18.1818\n",
            "TRAIN: EPOCH 0002 / 0050 | Epoch LOSS 1.7592 | Epoch ACC 26.5000 | Val Loss 1.7742 | Val_acc 18.1818\n",
            "TRAIN: EPOCH 0003 / 0050 | Epoch LOSS 1.7456 | Epoch ACC 26.5000 | Val Loss 1.7883 | Val_acc 18.1818\n",
            "TRAIN: EPOCH 0004 / 0050 | Epoch LOSS 1.7513 | Epoch ACC 26.5000 | Val Loss 1.8016 | Val_acc 18.1818\n",
            "TRAIN: EPOCH 0005 / 0050 | Epoch LOSS 1.7640 | Epoch ACC 26.5000 | Val Loss 1.7852 | Val_acc 18.1818\n",
            "TRAIN: EPOCH 0006 / 0050 | Epoch LOSS 1.7440 | Epoch ACC 26.5000 | Val Loss 1.7800 | Val_acc 18.1818\n",
            "TRAIN: EPOCH 0007 / 0050 | Epoch LOSS 1.7453 | Epoch ACC 26.5000 | Val Loss 1.7898 | Val_acc 18.1818\n",
            "TRAIN: EPOCH 0008 / 0050 | Epoch LOSS 1.7506 | Epoch ACC 26.5000 | Val Loss 1.7925 | Val_acc 18.1818\n",
            "TRAIN: EPOCH 0009 / 0050 | Epoch LOSS 1.7497 | Epoch ACC 26.5000 | Val Loss 1.7837 | Val_acc 18.1818\n",
            "TRAIN: EPOCH 0010 / 0050 | Epoch LOSS 1.7420 | Epoch ACC 26.5000 | Val Loss 1.7905 | Val_acc 18.1818\n",
            "TRAIN: EPOCH 0011 / 0050 | Epoch LOSS 1.7419 | Epoch ACC 26.5000 | Val Loss 1.7953 | Val_acc 18.1818\n",
            "TRAIN: EPOCH 0012 / 0050 | Epoch LOSS 1.7398 | Epoch ACC 26.5000 | Val Loss 1.7843 | Val_acc 18.1818\n",
            "TRAIN: EPOCH 0013 / 0050 | Epoch LOSS 1.7388 | Epoch ACC 26.5000 | Val Loss 1.7900 | Val_acc 18.1818\n",
            "TRAIN: EPOCH 0014 / 0050 | Epoch LOSS 1.7426 | Epoch ACC 26.5000 | Val Loss 1.7928 | Val_acc 18.1818\n",
            "TRAIN: EPOCH 0015 / 0050 | Epoch LOSS 1.7450 | Epoch ACC 26.5000 | Val Loss 1.7912 | Val_acc 18.1818\n",
            "TRAIN: EPOCH 0016 / 0050 | Epoch LOSS 1.7406 | Epoch ACC 26.5000 | Val Loss 1.7812 | Val_acc 18.1818\n",
            "TRAIN: EPOCH 0017 / 0050 | Epoch LOSS 1.7380 | Epoch ACC 26.5000 | Val Loss 1.7949 | Val_acc 18.1818\n",
            "TRAIN: EPOCH 0018 / 0050 | Epoch LOSS 1.7383 | Epoch ACC 26.5000 | Val Loss 1.7896 | Val_acc 18.1818\n",
            "TRAIN: EPOCH 0019 / 0050 | Epoch LOSS 1.7389 | Epoch ACC 26.5000 | Val Loss 1.7878 | Val_acc 18.1818\n",
            "TRAIN: EPOCH 0020 / 0050 | Epoch LOSS 1.7414 | Epoch ACC 26.5000 | Val Loss 1.7917 | Val_acc 18.1818\n",
            "TRAIN: EPOCH 0021 / 0050 | Epoch LOSS 1.7115 | Epoch ACC 28.0000 | Val Loss 1.6688 | Val_acc 26.0331\n",
            "TRAIN: EPOCH 0022 / 0050 | Epoch LOSS 1.4296 | Epoch ACC 44.0000 | Val Loss 1.4245 | Val_acc 35.9504\n",
            "TRAIN: EPOCH 0023 / 0050 | Epoch LOSS 1.2096 | Epoch ACC 43.0000 | Val Loss 1.4810 | Val_acc 32.2314\n",
            "TRAIN: EPOCH 0024 / 0050 | Epoch LOSS 1.1267 | Epoch ACC 45.0000 | Val Loss 1.3124 | Val_acc 38.8430\n",
            "TRAIN: EPOCH 0025 / 0050 | Epoch LOSS 1.0814 | Epoch ACC 43.0000 | Val Loss 1.4108 | Val_acc 37.6033\n",
            "TRAIN: EPOCH 0026 / 0050 | Epoch LOSS 0.8972 | Epoch ACC 53.5000 | Val Loss 1.5477 | Val_acc 35.5372\n",
            "TRAIN: EPOCH 0027 / 0050 | Epoch LOSS 0.8025 | Epoch ACC 60.0000 | Val Loss 1.4469 | Val_acc 47.1074\n",
            "TRAIN: EPOCH 0028 / 0050 | Epoch LOSS 0.6742 | Epoch ACC 71.0000 | Val Loss 1.4838 | Val_acc 47.1074\n",
            "TRAIN: EPOCH 0029 / 0050 | Epoch LOSS 0.5509 | Epoch ACC 76.0000 | Val Loss 1.6347 | Val_acc 45.4545\n",
            "saved\n",
            "TRAIN: EPOCH 0030 / 0050 | Epoch LOSS 0.4900 | Epoch ACC 77.5000 | Val Loss 1.5788 | Val_acc 53.7190\n",
            "TRAIN: EPOCH 0031 / 0050 | Epoch LOSS 0.4334 | Epoch ACC 83.0000 | Val Loss 1.7256 | Val_acc 47.1074\n",
            "saved\n",
            "TRAIN: EPOCH 0032 / 0050 | Epoch LOSS 0.3741 | Epoch ACC 87.5000 | Val Loss 1.5332 | Val_acc 54.1322\n",
            "TRAIN: EPOCH 0033 / 0050 | Epoch LOSS 0.2313 | Epoch ACC 92.0000 | Val Loss 1.8246 | Val_acc 52.8926\n",
            "TRAIN: EPOCH 0034 / 0050 | Epoch LOSS 0.1558 | Epoch ACC 95.5000 | Val Loss 1.8321 | Val_acc 50.8264\n",
            "TRAIN: EPOCH 0035 / 0050 | Epoch LOSS 0.1937 | Epoch ACC 95.0000 | Val Loss 1.9011 | Val_acc 52.0661\n",
            "TRAIN: EPOCH 0036 / 0050 | Epoch LOSS 0.1359 | Epoch ACC 95.0000 | Val Loss 1.9975 | Val_acc 52.8926\n",
            "TRAIN: EPOCH 0037 / 0050 | Epoch LOSS 0.0704 | Epoch ACC 98.5000 | Val Loss 2.2458 | Val_acc 50.4132\n",
            "TRAIN: EPOCH 0038 / 0050 | Epoch LOSS 0.0884 | Epoch ACC 96.5000 | Val Loss 2.1612 | Val_acc 52.4793\n",
            "TRAIN: EPOCH 0039 / 0050 | Epoch LOSS 0.0587 | Epoch ACC 98.5000 | Val Loss 2.2893 | Val_acc 49.5868\n",
            "TRAIN: EPOCH 0040 / 0050 | Epoch LOSS 0.0276 | Epoch ACC 99.5000 | Val Loss 2.3750 | Val_acc 50.0000\n",
            "TRAIN: EPOCH 0041 / 0050 | Epoch LOSS 0.0345 | Epoch ACC 99.0000 | Val Loss 2.4486 | Val_acc 49.5868\n",
            "TRAIN: EPOCH 0042 / 0050 | Epoch LOSS 0.0144 | Epoch ACC 100.0000 | Val Loss 2.5300 | Val_acc 49.5868\n",
            "TRAIN: EPOCH 0043 / 0050 | Epoch LOSS 0.0446 | Epoch ACC 98.0000 | Val Loss 2.4149 | Val_acc 51.2397\n",
            "TRAIN: EPOCH 0044 / 0050 | Epoch LOSS 0.2478 | Epoch ACC 90.5000 | Val Loss 2.1838 | Val_acc 49.5868\n",
            "TRAIN: EPOCH 0045 / 0050 | Epoch LOSS 0.0910 | Epoch ACC 97.5000 | Val Loss 2.2556 | Val_acc 50.8264\n",
            "TRAIN: EPOCH 0046 / 0050 | Epoch LOSS 0.0308 | Epoch ACC 99.5000 | Val Loss 2.3737 | Val_acc 50.8264\n",
            "TRAIN: EPOCH 0047 / 0050 | Epoch LOSS 0.0109 | Epoch ACC 100.0000 | Val Loss 2.5668 | Val_acc 50.4132\n",
            "TRAIN: EPOCH 0048 / 0050 | Epoch LOSS 0.0067 | Epoch ACC 100.0000 | Val Loss 2.5926 | Val_acc 48.7603\n",
            "TRAIN: EPOCH 0049 / 0050 | Epoch LOSS 0.0047 | Epoch ACC 100.0000 | Val Loss 2.6277 | Val_acc 49.1736\n",
            "TRAIN: EPOCH 0050 / 0050 | Epoch LOSS 0.0038 | Epoch ACC 100.0000 | Val Loss 2.6763 | Val_acc 49.1736\n",
            "test: LOSS 2.6763 | Accuracy 49.1736 \n"
          ]
        },
        {
          "output_type": "display_data",
          "data": {
            "text/plain": [
              "<IPython.core.display.HTML object>"
            ],
            "text/html": [
              "Waiting for W&B process to finish... <strong style=\"color:green\">(success).</strong>"
            ]
          },
          "metadata": {}
        },
        {
          "output_type": "display_data",
          "data": {
            "text/plain": [
              "VBox(children=(Label(value='0.001 MB of 0.001 MB uploaded (0.000 MB deduped)\\r'), FloatProgress(value=1.0, max…"
            ],
            "application/vnd.jupyter.widget-view+json": {
              "version_major": 2,
              "version_minor": 0,
              "model_id": "46fe9df6043447dfbf84d8b46fd78794"
            }
          },
          "metadata": {}
        },
        {
          "output_type": "display_data",
          "data": {
            "text/plain": [
              "<IPython.core.display.HTML object>"
            ],
            "text/html": [
              "<style>\n",
              "    table.wandb td:nth-child(1) { padding: 0 10px; text-align: left ; width: auto;} td:nth-child(2) {text-align: left ; width: 100%}\n",
              "    .wandb-row { display: flex; flex-direction: row; flex-wrap: wrap; justify-content: flex-start; width: 100% }\n",
              "    .wandb-col { display: flex; flex-direction: column; flex-basis: 100%; flex: 1; padding: 10px; }\n",
              "    </style>\n",
              "<div class=\"wandb-row\"><div class=\"wandb-col\"><h3>Run history:</h3><br/><table class=\"wandb\"><tr><td>test_acc</td><td>▁</td></tr><tr><td>test_loss</td><td>▁</td></tr><tr><td>train_acc</td><td>▁▁▁▁▁▁▁▁▁▁▁▁▁▁▁▁▂▃▃▃▄▄▅▆▆▇▇████████▇████</td></tr><tr><td>train_loss</td><td>█████████████████▇▆▅▅▄▄▃▃▂▂▂▂▁▁▁▁▁▁▂▁▁▁▁</td></tr></table><br/></div><div class=\"wandb-col\"><h3>Run summary:</h3><br/><table class=\"wandb\"><tr><td>test_acc</td><td>49.17355</td></tr><tr><td>test_loss</td><td>2.67632</td></tr><tr><td>train_acc</td><td>100.0</td></tr><tr><td>train_loss</td><td>0.00385</td></tr></table><br/></div></div>"
            ]
          },
          "metadata": {}
        },
        {
          "output_type": "display_data",
          "data": {
            "text/plain": [
              "<IPython.core.display.HTML object>"
            ],
            "text/html": [
              "Synced <strong style=\"color:#cdcd00\">trim-sweep-3</strong>: <a href=\"https://wandb.ai/sb2539/osuleaf_mlp_gat_channel_rp_gr_grd_mk/runs/4j350vft\" target=\"_blank\">https://wandb.ai/sb2539/osuleaf_mlp_gat_channel_rp_gr_grd_mk/runs/4j350vft</a><br/>Synced 5 W&B file(s), 0 media file(s), 0 artifact file(s) and 0 other file(s)"
            ]
          },
          "metadata": {}
        },
        {
          "output_type": "display_data",
          "data": {
            "text/plain": [
              "<IPython.core.display.HTML object>"
            ],
            "text/html": [
              "Find logs at: <code>./wandb/run-20220808_040313-4j350vft/logs</code>"
            ]
          },
          "metadata": {}
        },
        {
          "output_type": "stream",
          "name": "stderr",
          "text": [
            "\u001b[34m\u001b[1mwandb\u001b[0m: Agent Starting Run: 4ezutpao with config:\n",
            "\u001b[34m\u001b[1mwandb\u001b[0m: \talpha: 0.2\n",
            "\u001b[34m\u001b[1mwandb\u001b[0m: \tchannel_dim: 256\n",
            "\u001b[34m\u001b[1mwandb\u001b[0m: \tdropout: 0\n",
            "\u001b[34m\u001b[1mwandb\u001b[0m: \tepochs: 50\n",
            "\u001b[34m\u001b[1mwandb\u001b[0m: \thidden_size: 64\n",
            "\u001b[34m\u001b[1mwandb\u001b[0m: \tlearning_rate: 0.0008751483269980246\n",
            "\u001b[34m\u001b[1mwandb\u001b[0m: \tnumber_of_layers: 8\n",
            "\u001b[34m\u001b[1mwandb\u001b[0m: \toptimizer: adam\n",
            "\u001b[34m\u001b[1mwandb\u001b[0m: \tpatch_size: 8\n",
            "\u001b[34m\u001b[1mwandb\u001b[0m: \ttoken_dim: 32\n",
            "\u001b[34m\u001b[1mwandb\u001b[0m: \u001b[33mWARNING\u001b[0m Ignored wandb.init() arg entity when running a sweep.\n"
          ]
        },
        {
          "output_type": "display_data",
          "data": {
            "text/plain": [
              "<IPython.core.display.HTML object>"
            ],
            "text/html": [
              "Tracking run with wandb version 0.13.1"
            ]
          },
          "metadata": {}
        },
        {
          "output_type": "display_data",
          "data": {
            "text/plain": [
              "<IPython.core.display.HTML object>"
            ],
            "text/html": [
              "Run data is saved locally in <code>/content/wandb/run-20220808_040723-4ezutpao</code>"
            ]
          },
          "metadata": {}
        },
        {
          "output_type": "display_data",
          "data": {
            "text/plain": [
              "<IPython.core.display.HTML object>"
            ],
            "text/html": [
              "Syncing run <strong><a href=\"https://wandb.ai/sb2539/osuleaf_mlp_gat_channel_rp_gr_grd_mk/runs/4ezutpao\" target=\"_blank\">dark-sweep-4</a></strong> to <a href=\"https://wandb.ai/sb2539/osuleaf_mlp_gat_channel_rp_gr_grd_mk\" target=\"_blank\">Weights & Biases</a> (<a href=\"https://wandb.me/run\" target=\"_blank\">docs</a>)<br/>Sweep page:  <a href=\"https://wandb.ai/sb2539/osuleaf_mlp_gat_channel_rp_gr_grd_mk/sweeps/irqvhxia\" target=\"_blank\">https://wandb.ai/sb2539/osuleaf_mlp_gat_channel_rp_gr_grd_mk/sweeps/irqvhxia</a>"
            ]
          },
          "metadata": {}
        },
        {
          "output_type": "stream",
          "name": "stdout",
          "text": [
            "TRAIN: EPOCH 0001 / 0050 | Epoch LOSS 1.8289 | Epoch ACC 22.5000 | Val Loss 1.8128 | Val_acc 18.1818\n",
            "TRAIN: EPOCH 0002 / 0050 | Epoch LOSS 1.7525 | Epoch ACC 26.5000 | Val Loss 1.7988 | Val_acc 18.1818\n",
            "TRAIN: EPOCH 0003 / 0050 | Epoch LOSS 1.7463 | Epoch ACC 26.5000 | Val Loss 1.7860 | Val_acc 18.1818\n",
            "TRAIN: EPOCH 0004 / 0050 | Epoch LOSS 1.7483 | Epoch ACC 26.5000 | Val Loss 1.7826 | Val_acc 18.1818\n",
            "TRAIN: EPOCH 0005 / 0050 | Epoch LOSS 1.7458 | Epoch ACC 26.5000 | Val Loss 1.7818 | Val_acc 18.1818\n",
            "TRAIN: EPOCH 0006 / 0050 | Epoch LOSS 1.7192 | Epoch ACC 26.5000 | Val Loss 1.6628 | Val_acc 18.1818\n",
            "TRAIN: EPOCH 0007 / 0050 | Epoch LOSS 1.4640 | Epoch ACC 38.0000 | Val Loss 1.5352 | Val_acc 32.2314\n",
            "TRAIN: EPOCH 0008 / 0050 | Epoch LOSS 1.4359 | Epoch ACC 32.5000 | Val Loss 1.5953 | Val_acc 28.5124\n",
            "TRAIN: EPOCH 0009 / 0050 | Epoch LOSS 1.3631 | Epoch ACC 42.0000 | Val Loss 1.4110 | Val_acc 31.4050\n",
            "TRAIN: EPOCH 0010 / 0050 | Epoch LOSS 1.1809 | Epoch ACC 40.5000 | Val Loss 1.3335 | Val_acc 32.2314\n",
            "TRAIN: EPOCH 0011 / 0050 | Epoch LOSS 1.1720 | Epoch ACC 43.5000 | Val Loss 1.3461 | Val_acc 38.8430\n",
            "TRAIN: EPOCH 0012 / 0050 | Epoch LOSS 1.1686 | Epoch ACC 45.5000 | Val Loss 1.3228 | Val_acc 40.9091\n",
            "TRAIN: EPOCH 0013 / 0050 | Epoch LOSS 1.1159 | Epoch ACC 43.5000 | Val Loss 1.3601 | Val_acc 42.5620\n",
            "TRAIN: EPOCH 0014 / 0050 | Epoch LOSS 1.0921 | Epoch ACC 49.0000 | Val Loss 1.3207 | Val_acc 38.8430\n",
            "TRAIN: EPOCH 0015 / 0050 | Epoch LOSS 1.0049 | Epoch ACC 51.5000 | Val Loss 1.4079 | Val_acc 35.5372\n",
            "TRAIN: EPOCH 0016 / 0050 | Epoch LOSS 1.0022 | Epoch ACC 47.0000 | Val Loss 1.2754 | Val_acc 41.3223\n",
            "TRAIN: EPOCH 0017 / 0050 | Epoch LOSS 0.9302 | Epoch ACC 52.0000 | Val Loss 1.2989 | Val_acc 42.1488\n",
            "TRAIN: EPOCH 0018 / 0050 | Epoch LOSS 0.8837 | Epoch ACC 61.0000 | Val Loss 1.4286 | Val_acc 42.5620\n",
            "TRAIN: EPOCH 0019 / 0050 | Epoch LOSS 0.8464 | Epoch ACC 63.5000 | Val Loss 1.2518 | Val_acc 46.6942\n",
            "TRAIN: EPOCH 0020 / 0050 | Epoch LOSS 0.8658 | Epoch ACC 63.0000 | Val Loss 1.3703 | Val_acc 43.8017\n",
            "TRAIN: EPOCH 0021 / 0050 | Epoch LOSS 0.7588 | Epoch ACC 66.0000 | Val Loss 1.2208 | Val_acc 48.7603\n",
            "TRAIN: EPOCH 0022 / 0050 | Epoch LOSS 0.6376 | Epoch ACC 72.0000 | Val Loss 1.3230 | Val_acc 47.9339\n",
            "TRAIN: EPOCH 0023 / 0050 | Epoch LOSS 0.5097 | Epoch ACC 79.5000 | Val Loss 1.4871 | Val_acc 49.1736\n",
            "TRAIN: EPOCH 0024 / 0050 | Epoch LOSS 0.5023 | Epoch ACC 76.5000 | Val Loss 1.3784 | Val_acc 54.1322\n",
            "TRAIN: EPOCH 0025 / 0050 | Epoch LOSS 0.7966 | Epoch ACC 68.5000 | Val Loss 1.5976 | Val_acc 42.1488\n",
            "TRAIN: EPOCH 0026 / 0050 | Epoch LOSS 0.7909 | Epoch ACC 69.0000 | Val Loss 1.3366 | Val_acc 42.9752\n",
            "TRAIN: EPOCH 0027 / 0050 | Epoch LOSS 0.5761 | Epoch ACC 78.0000 | Val Loss 1.3562 | Val_acc 42.5620\n",
            "TRAIN: EPOCH 0028 / 0050 | Epoch LOSS 0.6070 | Epoch ACC 76.0000 | Val Loss 1.6640 | Val_acc 45.0413\n",
            "TRAIN: EPOCH 0029 / 0050 | Epoch LOSS 0.4527 | Epoch ACC 83.0000 | Val Loss 1.5251 | Val_acc 48.7603\n",
            "TRAIN: EPOCH 0030 / 0050 | Epoch LOSS 0.3140 | Epoch ACC 88.5000 | Val Loss 1.5753 | Val_acc 53.3058\n",
            "TRAIN: EPOCH 0031 / 0050 | Epoch LOSS 0.2416 | Epoch ACC 91.5000 | Val Loss 1.8042 | Val_acc 49.1736\n",
            "TRAIN: EPOCH 0032 / 0050 | Epoch LOSS 0.1875 | Epoch ACC 93.5000 | Val Loss 1.8003 | Val_acc 51.6529\n",
            "TRAIN: EPOCH 0033 / 0050 | Epoch LOSS 0.1670 | Epoch ACC 94.0000 | Val Loss 1.9486 | Val_acc 50.0000\n",
            "TRAIN: EPOCH 0034 / 0050 | Epoch LOSS 0.1356 | Epoch ACC 94.5000 | Val Loss 1.9619 | Val_acc 49.5868\n",
            "TRAIN: EPOCH 0035 / 0050 | Epoch LOSS 0.1305 | Epoch ACC 93.5000 | Val Loss 1.9380 | Val_acc 51.2397\n",
            "TRAIN: EPOCH 0036 / 0050 | Epoch LOSS 0.1186 | Epoch ACC 96.5000 | Val Loss 1.9914 | Val_acc 51.6529\n",
            "TRAIN: EPOCH 0037 / 0050 | Epoch LOSS 0.1401 | Epoch ACC 95.0000 | Val Loss 2.1121 | Val_acc 51.6529\n",
            "TRAIN: EPOCH 0038 / 0050 | Epoch LOSS 0.1375 | Epoch ACC 96.0000 | Val Loss 1.8264 | Val_acc 53.3058\n",
            "TRAIN: EPOCH 0039 / 0050 | Epoch LOSS 0.2435 | Epoch ACC 90.5000 | Val Loss 1.7684 | Val_acc 54.1322\n",
            "TRAIN: EPOCH 0040 / 0050 | Epoch LOSS 0.2124 | Epoch ACC 93.5000 | Val Loss 1.8261 | Val_acc 51.2397\n",
            "TRAIN: EPOCH 0041 / 0050 | Epoch LOSS 0.1974 | Epoch ACC 93.5000 | Val Loss 2.1056 | Val_acc 45.0413\n",
            "TRAIN: EPOCH 0042 / 0050 | Epoch LOSS 0.6875 | Epoch ACC 77.0000 | Val Loss 1.7968 | Val_acc 37.1901\n",
            "TRAIN: EPOCH 0043 / 0050 | Epoch LOSS 0.6981 | Epoch ACC 72.0000 | Val Loss 1.4283 | Val_acc 46.2810\n",
            "TRAIN: EPOCH 0044 / 0050 | Epoch LOSS 0.4377 | Epoch ACC 79.5000 | Val Loss 1.5150 | Val_acc 53.3058\n",
            "TRAIN: EPOCH 0045 / 0050 | Epoch LOSS 0.3928 | Epoch ACC 85.0000 | Val Loss 1.6044 | Val_acc 50.4132\n",
            "saved\n",
            "TRAIN: EPOCH 0046 / 0050 | Epoch LOSS 0.2583 | Epoch ACC 91.0000 | Val Loss 1.6494 | Val_acc 56.6116\n",
            "TRAIN: EPOCH 0047 / 0050 | Epoch LOSS 0.1495 | Epoch ACC 96.0000 | Val Loss 2.0627 | Val_acc 50.0000\n",
            "saved\n",
            "TRAIN: EPOCH 0048 / 0050 | Epoch LOSS 0.2369 | Epoch ACC 94.0000 | Val Loss 1.5832 | Val_acc 57.4380\n",
            "TRAIN: EPOCH 0049 / 0050 | Epoch LOSS 0.0797 | Epoch ACC 98.0000 | Val Loss 1.8348 | Val_acc 54.9587\n",
            "TRAIN: EPOCH 0050 / 0050 | Epoch LOSS 0.0364 | Epoch ACC 99.0000 | Val Loss 2.0464 | Val_acc 55.3719\n",
            "test: LOSS 2.0464 | Accuracy 55.3719 \n"
          ]
        },
        {
          "output_type": "display_data",
          "data": {
            "text/plain": [
              "<IPython.core.display.HTML object>"
            ],
            "text/html": [
              "Waiting for W&B process to finish... <strong style=\"color:green\">(success).</strong>"
            ]
          },
          "metadata": {}
        },
        {
          "output_type": "display_data",
          "data": {
            "text/plain": [
              "VBox(children=(Label(value='0.001 MB of 0.001 MB uploaded (0.000 MB deduped)\\r'), FloatProgress(value=1.0, max…"
            ],
            "application/vnd.jupyter.widget-view+json": {
              "version_major": 2,
              "version_minor": 0,
              "model_id": "3e07f81afc6d483e96cb1c45187467f3"
            }
          },
          "metadata": {}
        },
        {
          "output_type": "display_data",
          "data": {
            "text/plain": [
              "<IPython.core.display.HTML object>"
            ],
            "text/html": [
              "<style>\n",
              "    table.wandb td:nth-child(1) { padding: 0 10px; text-align: left ; width: auto;} td:nth-child(2) {text-align: left ; width: 100%}\n",
              "    .wandb-row { display: flex; flex-direction: row; flex-wrap: wrap; justify-content: flex-start; width: 100% }\n",
              "    .wandb-col { display: flex; flex-direction: column; flex-basis: 100%; flex: 1; padding: 10px; }\n",
              "    </style>\n",
              "<div class=\"wandb-row\"><div class=\"wandb-col\"><h3>Run history:</h3><br/><table class=\"wandb\"><tr><td>test_acc</td><td>▁</td></tr><tr><td>test_loss</td><td>▁</td></tr><tr><td>train_acc</td><td>▁▁▁▁▁▂▂▃▃▃▃▃▃▄▅▅▅▆▆▆▅▆▆▇▇▇█████▇▇▆▆▆▇███</td></tr><tr><td>train_loss</td><td>█████▇▆▆▅▅▅▅▅▄▄▄▄▃▃▃▄▃▃▃▂▂▂▁▁▁▁▂▂▄▄▃▂▁▂▁</td></tr></table><br/></div><div class=\"wandb-col\"><h3>Run summary:</h3><br/><table class=\"wandb\"><tr><td>test_acc</td><td>55.3719</td></tr><tr><td>test_loss</td><td>2.04636</td></tr><tr><td>train_acc</td><td>99.0</td></tr><tr><td>train_loss</td><td>0.03645</td></tr></table><br/></div></div>"
            ]
          },
          "metadata": {}
        },
        {
          "output_type": "display_data",
          "data": {
            "text/plain": [
              "<IPython.core.display.HTML object>"
            ],
            "text/html": [
              "Synced <strong style=\"color:#cdcd00\">dark-sweep-4</strong>: <a href=\"https://wandb.ai/sb2539/osuleaf_mlp_gat_channel_rp_gr_grd_mk/runs/4ezutpao\" target=\"_blank\">https://wandb.ai/sb2539/osuleaf_mlp_gat_channel_rp_gr_grd_mk/runs/4ezutpao</a><br/>Synced 5 W&B file(s), 0 media file(s), 0 artifact file(s) and 0 other file(s)"
            ]
          },
          "metadata": {}
        },
        {
          "output_type": "display_data",
          "data": {
            "text/plain": [
              "<IPython.core.display.HTML object>"
            ],
            "text/html": [
              "Find logs at: <code>./wandb/run-20220808_040723-4ezutpao/logs</code>"
            ]
          },
          "metadata": {}
        },
        {
          "output_type": "stream",
          "name": "stderr",
          "text": [
            "\u001b[34m\u001b[1mwandb\u001b[0m: Agent Starting Run: vdvuya2b with config:\n",
            "\u001b[34m\u001b[1mwandb\u001b[0m: \talpha: 0.2\n",
            "\u001b[34m\u001b[1mwandb\u001b[0m: \tchannel_dim: 32\n",
            "\u001b[34m\u001b[1mwandb\u001b[0m: \tdropout: 0\n",
            "\u001b[34m\u001b[1mwandb\u001b[0m: \tepochs: 50\n",
            "\u001b[34m\u001b[1mwandb\u001b[0m: \thidden_size: 128\n",
            "\u001b[34m\u001b[1mwandb\u001b[0m: \tlearning_rate: 0.0003277522035784304\n",
            "\u001b[34m\u001b[1mwandb\u001b[0m: \tnumber_of_layers: 16\n",
            "\u001b[34m\u001b[1mwandb\u001b[0m: \toptimizer: sgd\n",
            "\u001b[34m\u001b[1mwandb\u001b[0m: \tpatch_size: 8\n",
            "\u001b[34m\u001b[1mwandb\u001b[0m: \ttoken_dim: 32\n",
            "\u001b[34m\u001b[1mwandb\u001b[0m: \u001b[33mWARNING\u001b[0m Ignored wandb.init() arg entity when running a sweep.\n"
          ]
        },
        {
          "output_type": "display_data",
          "data": {
            "text/plain": [
              "<IPython.core.display.HTML object>"
            ],
            "text/html": [
              "Tracking run with wandb version 0.13.1"
            ]
          },
          "metadata": {}
        },
        {
          "output_type": "display_data",
          "data": {
            "text/plain": [
              "<IPython.core.display.HTML object>"
            ],
            "text/html": [
              "Run data is saved locally in <code>/content/wandb/run-20220808_041008-vdvuya2b</code>"
            ]
          },
          "metadata": {}
        },
        {
          "output_type": "display_data",
          "data": {
            "text/plain": [
              "<IPython.core.display.HTML object>"
            ],
            "text/html": [
              "Syncing run <strong><a href=\"https://wandb.ai/sb2539/osuleaf_mlp_gat_channel_rp_gr_grd_mk/runs/vdvuya2b\" target=\"_blank\">dashing-sweep-5</a></strong> to <a href=\"https://wandb.ai/sb2539/osuleaf_mlp_gat_channel_rp_gr_grd_mk\" target=\"_blank\">Weights & Biases</a> (<a href=\"https://wandb.me/run\" target=\"_blank\">docs</a>)<br/>Sweep page:  <a href=\"https://wandb.ai/sb2539/osuleaf_mlp_gat_channel_rp_gr_grd_mk/sweeps/irqvhxia\" target=\"_blank\">https://wandb.ai/sb2539/osuleaf_mlp_gat_channel_rp_gr_grd_mk/sweeps/irqvhxia</a>"
            ]
          },
          "metadata": {}
        },
        {
          "output_type": "stream",
          "name": "stdout",
          "text": [
            "TRAIN: EPOCH 0001 / 0050 | Epoch LOSS 1.7755 | Epoch ACC 23.5000 | Val Loss 1.7869 | Val_acc 18.1818\n",
            "TRAIN: EPOCH 0002 / 0050 | Epoch LOSS 1.7561 | Epoch ACC 26.5000 | Val Loss 1.8033 | Val_acc 18.1818\n",
            "TRAIN: EPOCH 0003 / 0050 | Epoch LOSS 1.7512 | Epoch ACC 26.5000 | Val Loss 1.7865 | Val_acc 18.1818\n",
            "TRAIN: EPOCH 0004 / 0050 | Epoch LOSS 1.7569 | Epoch ACC 23.0000 | Val Loss 1.8053 | Val_acc 18.1818\n",
            "TRAIN: EPOCH 0005 / 0050 | Epoch LOSS 1.7683 | Epoch ACC 24.0000 | Val Loss 1.7855 | Val_acc 18.1818\n",
            "TRAIN: EPOCH 0006 / 0050 | Epoch LOSS 1.7548 | Epoch ACC 26.5000 | Val Loss 1.7903 | Val_acc 18.1818\n",
            "TRAIN: EPOCH 0007 / 0050 | Epoch LOSS 1.7634 | Epoch ACC 26.5000 | Val Loss 1.8013 | Val_acc 18.1818\n",
            "TRAIN: EPOCH 0008 / 0050 | Epoch LOSS 1.7605 | Epoch ACC 26.5000 | Val Loss 1.7790 | Val_acc 18.1818\n",
            "TRAIN: EPOCH 0009 / 0050 | Epoch LOSS 1.7514 | Epoch ACC 20.5000 | Val Loss 1.8011 | Val_acc 18.1818\n",
            "TRAIN: EPOCH 0010 / 0050 | Epoch LOSS 1.7508 | Epoch ACC 26.5000 | Val Loss 1.8051 | Val_acc 18.1818\n",
            "TRAIN: EPOCH 0011 / 0050 | Epoch LOSS 1.7479 | Epoch ACC 26.5000 | Val Loss 1.7839 | Val_acc 18.1818\n",
            "TRAIN: EPOCH 0012 / 0050 | Epoch LOSS 1.7533 | Epoch ACC 26.5000 | Val Loss 1.8136 | Val_acc 18.1818\n",
            "TRAIN: EPOCH 0013 / 0050 | Epoch LOSS 1.7384 | Epoch ACC 26.5000 | Val Loss 1.7875 | Val_acc 18.1818\n",
            "TRAIN: EPOCH 0014 / 0050 | Epoch LOSS 1.7340 | Epoch ACC 26.5000 | Val Loss 1.7897 | Val_acc 18.1818\n",
            "TRAIN: EPOCH 0015 / 0050 | Epoch LOSS 1.7336 | Epoch ACC 25.5000 | Val Loss 1.7741 | Val_acc 18.1818\n",
            "TRAIN: EPOCH 0016 / 0050 | Epoch LOSS 1.7159 | Epoch ACC 26.5000 | Val Loss 1.7626 | Val_acc 18.5950\n",
            "TRAIN: EPOCH 0017 / 0050 | Epoch LOSS 1.6790 | Epoch ACC 27.5000 | Val Loss 1.7250 | Val_acc 28.0992\n",
            "TRAIN: EPOCH 0018 / 0050 | Epoch LOSS 1.6198 | Epoch ACC 33.0000 | Val Loss 1.6829 | Val_acc 29.3388\n",
            "TRAIN: EPOCH 0019 / 0050 | Epoch LOSS 1.5438 | Epoch ACC 33.5000 | Val Loss 1.6358 | Val_acc 25.6198\n",
            "TRAIN: EPOCH 0020 / 0050 | Epoch LOSS 1.4721 | Epoch ACC 36.0000 | Val Loss 1.5976 | Val_acc 27.2727\n",
            "TRAIN: EPOCH 0021 / 0050 | Epoch LOSS 1.4288 | Epoch ACC 38.5000 | Val Loss 1.5317 | Val_acc 37.6033\n",
            "TRAIN: EPOCH 0022 / 0050 | Epoch LOSS 1.3091 | Epoch ACC 42.0000 | Val Loss 1.4651 | Val_acc 31.4050\n",
            "TRAIN: EPOCH 0023 / 0050 | Epoch LOSS 1.2830 | Epoch ACC 41.5000 | Val Loss 1.4511 | Val_acc 35.5372\n",
            "TRAIN: EPOCH 0024 / 0050 | Epoch LOSS 1.2273 | Epoch ACC 45.5000 | Val Loss 1.4096 | Val_acc 30.9917\n",
            "TRAIN: EPOCH 0025 / 0050 | Epoch LOSS 1.2019 | Epoch ACC 41.0000 | Val Loss 1.3842 | Val_acc 38.0165\n",
            "TRAIN: EPOCH 0026 / 0050 | Epoch LOSS 1.1690 | Epoch ACC 43.0000 | Val Loss 1.5720 | Val_acc 30.1653\n",
            "TRAIN: EPOCH 0027 / 0050 | Epoch LOSS 1.1791 | Epoch ACC 44.5000 | Val Loss 1.3696 | Val_acc 35.9504\n",
            "TRAIN: EPOCH 0028 / 0050 | Epoch LOSS 1.1937 | Epoch ACC 43.5000 | Val Loss 1.3775 | Val_acc 37.6033\n",
            "TRAIN: EPOCH 0029 / 0050 | Epoch LOSS 1.2383 | Epoch ACC 42.5000 | Val Loss 1.3151 | Val_acc 40.0826\n",
            "TRAIN: EPOCH 0030 / 0050 | Epoch LOSS 1.2159 | Epoch ACC 45.0000 | Val Loss 1.3287 | Val_acc 39.6694\n",
            "TRAIN: EPOCH 0031 / 0050 | Epoch LOSS 1.1468 | Epoch ACC 45.5000 | Val Loss 1.3684 | Val_acc 38.0165\n",
            "TRAIN: EPOCH 0032 / 0050 | Epoch LOSS 1.1617 | Epoch ACC 44.0000 | Val Loss 1.3408 | Val_acc 36.3636\n",
            "TRAIN: EPOCH 0033 / 0050 | Epoch LOSS 1.1337 | Epoch ACC 44.5000 | Val Loss 1.3409 | Val_acc 36.3636\n",
            "TRAIN: EPOCH 0034 / 0050 | Epoch LOSS 1.1316 | Epoch ACC 44.5000 | Val Loss 1.3236 | Val_acc 37.6033\n",
            "TRAIN: EPOCH 0035 / 0050 | Epoch LOSS 1.0901 | Epoch ACC 45.5000 | Val Loss 1.3786 | Val_acc 38.4298\n",
            "TRAIN: EPOCH 0036 / 0050 | Epoch LOSS 1.1154 | Epoch ACC 47.0000 | Val Loss 1.3481 | Val_acc 39.6694\n",
            "TRAIN: EPOCH 0037 / 0050 | Epoch LOSS 1.0894 | Epoch ACC 46.0000 | Val Loss 1.3257 | Val_acc 39.2562\n",
            "TRAIN: EPOCH 0038 / 0050 | Epoch LOSS 1.0762 | Epoch ACC 47.5000 | Val Loss 1.3684 | Val_acc 38.8430\n",
            "TRAIN: EPOCH 0039 / 0050 | Epoch LOSS 1.0758 | Epoch ACC 47.5000 | Val Loss 1.3486 | Val_acc 33.0579\n",
            "TRAIN: EPOCH 0040 / 0050 | Epoch LOSS 1.0438 | Epoch ACC 50.5000 | Val Loss 1.3420 | Val_acc 42.1488\n",
            "TRAIN: EPOCH 0041 / 0050 | Epoch LOSS 1.0471 | Epoch ACC 50.5000 | Val Loss 1.3965 | Val_acc 38.4298\n",
            "TRAIN: EPOCH 0042 / 0050 | Epoch LOSS 1.0394 | Epoch ACC 49.5000 | Val Loss 1.3253 | Val_acc 40.9091\n",
            "TRAIN: EPOCH 0043 / 0050 | Epoch LOSS 0.9986 | Epoch ACC 51.0000 | Val Loss 1.4739 | Val_acc 36.7769\n",
            "TRAIN: EPOCH 0044 / 0050 | Epoch LOSS 1.0762 | Epoch ACC 51.5000 | Val Loss 1.4341 | Val_acc 37.1901\n",
            "TRAIN: EPOCH 0045 / 0050 | Epoch LOSS 1.1287 | Epoch ACC 47.5000 | Val Loss 1.3273 | Val_acc 43.8017\n",
            "TRAIN: EPOCH 0046 / 0050 | Epoch LOSS 0.9961 | Epoch ACC 54.5000 | Val Loss 1.3382 | Val_acc 41.7355\n",
            "TRAIN: EPOCH 0047 / 0050 | Epoch LOSS 1.0079 | Epoch ACC 50.5000 | Val Loss 1.3661 | Val_acc 40.4959\n",
            "TRAIN: EPOCH 0048 / 0050 | Epoch LOSS 1.0947 | Epoch ACC 50.0000 | Val Loss 1.3392 | Val_acc 34.2975\n",
            "TRAIN: EPOCH 0049 / 0050 | Epoch LOSS 1.1219 | Epoch ACC 48.0000 | Val Loss 1.5612 | Val_acc 40.0826\n",
            "TRAIN: EPOCH 0050 / 0050 | Epoch LOSS 1.0827 | Epoch ACC 50.5000 | Val Loss 1.3357 | Val_acc 44.2149\n",
            "test: LOSS 1.3357 | Accuracy 44.2149 \n"
          ]
        },
        {
          "output_type": "display_data",
          "data": {
            "text/plain": [
              "<IPython.core.display.HTML object>"
            ],
            "text/html": [
              "Waiting for W&B process to finish... <strong style=\"color:green\">(success).</strong>"
            ]
          },
          "metadata": {}
        },
        {
          "output_type": "display_data",
          "data": {
            "text/plain": [
              "VBox(children=(Label(value='0.001 MB of 0.001 MB uploaded (0.000 MB deduped)\\r'), FloatProgress(value=1.0, max…"
            ],
            "application/vnd.jupyter.widget-view+json": {
              "version_major": 2,
              "version_minor": 0,
              "model_id": "27e41e6fba144d1d89fa6208a79ec462"
            }
          },
          "metadata": {}
        },
        {
          "output_type": "display_data",
          "data": {
            "text/plain": [
              "<IPython.core.display.HTML object>"
            ],
            "text/html": [
              "<style>\n",
              "    table.wandb td:nth-child(1) { padding: 0 10px; text-align: left ; width: auto;} td:nth-child(2) {text-align: left ; width: 100%}\n",
              "    .wandb-row { display: flex; flex-direction: row; flex-wrap: wrap; justify-content: flex-start; width: 100% }\n",
              "    .wandb-col { display: flex; flex-direction: column; flex-basis: 100%; flex: 1; padding: 10px; }\n",
              "    </style>\n",
              "<div class=\"wandb-row\"><div class=\"wandb-col\"><h3>Run history:</h3><br/><table class=\"wandb\"><tr><td>test_acc</td><td>▁</td></tr><tr><td>test_loss</td><td>▁</td></tr><tr><td>train_acc</td><td>▂▂▂▂▂▂▂▁▂▂▂▂▂▂▄▄▅▅▅▆▆▆▆▆▆▆▆▆▆▆▇▇▇▇▇▇█▇▇▇</td></tr><tr><td>train_loss</td><td>████████████▇▇▇▆▅▄▄▃▃▃▃▃▂▂▂▂▂▂▂▂▁▁▁▂▁▁▂▂</td></tr></table><br/></div><div class=\"wandb-col\"><h3>Run summary:</h3><br/><table class=\"wandb\"><tr><td>test_acc</td><td>44.21488</td></tr><tr><td>test_loss</td><td>1.33566</td></tr><tr><td>train_acc</td><td>50.5</td></tr><tr><td>train_loss</td><td>1.0827</td></tr></table><br/></div></div>"
            ]
          },
          "metadata": {}
        },
        {
          "output_type": "display_data",
          "data": {
            "text/plain": [
              "<IPython.core.display.HTML object>"
            ],
            "text/html": [
              "Synced <strong style=\"color:#cdcd00\">dashing-sweep-5</strong>: <a href=\"https://wandb.ai/sb2539/osuleaf_mlp_gat_channel_rp_gr_grd_mk/runs/vdvuya2b\" target=\"_blank\">https://wandb.ai/sb2539/osuleaf_mlp_gat_channel_rp_gr_grd_mk/runs/vdvuya2b</a><br/>Synced 5 W&B file(s), 0 media file(s), 0 artifact file(s) and 0 other file(s)"
            ]
          },
          "metadata": {}
        },
        {
          "output_type": "display_data",
          "data": {
            "text/plain": [
              "<IPython.core.display.HTML object>"
            ],
            "text/html": [
              "Find logs at: <code>./wandb/run-20220808_041008-vdvuya2b/logs</code>"
            ]
          },
          "metadata": {}
        },
        {
          "output_type": "stream",
          "name": "stderr",
          "text": [
            "\u001b[34m\u001b[1mwandb\u001b[0m: Agent Starting Run: ckjdopre with config:\n",
            "\u001b[34m\u001b[1mwandb\u001b[0m: \talpha: 0.2\n",
            "\u001b[34m\u001b[1mwandb\u001b[0m: \tchannel_dim: 32\n",
            "\u001b[34m\u001b[1mwandb\u001b[0m: \tdropout: 0\n",
            "\u001b[34m\u001b[1mwandb\u001b[0m: \tepochs: 50\n",
            "\u001b[34m\u001b[1mwandb\u001b[0m: \thidden_size: 64\n",
            "\u001b[34m\u001b[1mwandb\u001b[0m: \tlearning_rate: 0.0003548231333300887\n",
            "\u001b[34m\u001b[1mwandb\u001b[0m: \tnumber_of_layers: 8\n",
            "\u001b[34m\u001b[1mwandb\u001b[0m: \toptimizer: adam\n",
            "\u001b[34m\u001b[1mwandb\u001b[0m: \tpatch_size: 4\n",
            "\u001b[34m\u001b[1mwandb\u001b[0m: \ttoken_dim: 256\n",
            "\u001b[34m\u001b[1mwandb\u001b[0m: \u001b[33mWARNING\u001b[0m Ignored wandb.init() arg entity when running a sweep.\n"
          ]
        },
        {
          "output_type": "display_data",
          "data": {
            "text/plain": [
              "<IPython.core.display.HTML object>"
            ],
            "text/html": [
              "Tracking run with wandb version 0.13.1"
            ]
          },
          "metadata": {}
        },
        {
          "output_type": "display_data",
          "data": {
            "text/plain": [
              "<IPython.core.display.HTML object>"
            ],
            "text/html": [
              "Run data is saved locally in <code>/content/wandb/run-20220808_041441-ckjdopre</code>"
            ]
          },
          "metadata": {}
        },
        {
          "output_type": "display_data",
          "data": {
            "text/plain": [
              "<IPython.core.display.HTML object>"
            ],
            "text/html": [
              "Syncing run <strong><a href=\"https://wandb.ai/sb2539/osuleaf_mlp_gat_channel_rp_gr_grd_mk/runs/ckjdopre\" target=\"_blank\">celestial-sweep-6</a></strong> to <a href=\"https://wandb.ai/sb2539/osuleaf_mlp_gat_channel_rp_gr_grd_mk\" target=\"_blank\">Weights & Biases</a> (<a href=\"https://wandb.me/run\" target=\"_blank\">docs</a>)<br/>Sweep page:  <a href=\"https://wandb.ai/sb2539/osuleaf_mlp_gat_channel_rp_gr_grd_mk/sweeps/irqvhxia\" target=\"_blank\">https://wandb.ai/sb2539/osuleaf_mlp_gat_channel_rp_gr_grd_mk/sweeps/irqvhxia</a>"
            ]
          },
          "metadata": {}
        },
        {
          "output_type": "stream",
          "name": "stdout",
          "text": [
            "TRAIN: EPOCH 0001 / 0050 | Epoch LOSS 1.7694 | Epoch ACC 24.5000 | Val Loss 1.7902 | Val_acc 30.1653\n",
            "TRAIN: EPOCH 0002 / 0050 | Epoch LOSS 1.5725 | Epoch ACC 38.0000 | Val Loss 1.5254 | Val_acc 30.1653\n",
            "TRAIN: EPOCH 0003 / 0050 | Epoch LOSS 1.3344 | Epoch ACC 41.0000 | Val Loss 1.4395 | Val_acc 37.1901\n",
            "TRAIN: EPOCH 0004 / 0050 | Epoch LOSS 1.1535 | Epoch ACC 51.5000 | Val Loss 1.3725 | Val_acc 37.6033\n",
            "TRAIN: EPOCH 0005 / 0050 | Epoch LOSS 1.0037 | Epoch ACC 53.5000 | Val Loss 1.2775 | Val_acc 44.2149\n",
            "TRAIN: EPOCH 0006 / 0050 | Epoch LOSS 0.8783 | Epoch ACC 63.5000 | Val Loss 1.2778 | Val_acc 49.1736\n",
            "TRAIN: EPOCH 0007 / 0050 | Epoch LOSS 0.8305 | Epoch ACC 68.0000 | Val Loss 1.2458 | Val_acc 48.7603\n",
            "TRAIN: EPOCH 0008 / 0050 | Epoch LOSS 0.6498 | Epoch ACC 76.0000 | Val Loss 1.3360 | Val_acc 50.4132\n",
            "TRAIN: EPOCH 0009 / 0050 | Epoch LOSS 0.5930 | Epoch ACC 75.0000 | Val Loss 1.3383 | Val_acc 45.8678\n",
            "TRAIN: EPOCH 0010 / 0050 | Epoch LOSS 0.5316 | Epoch ACC 78.0000 | Val Loss 1.3157 | Val_acc 50.4132\n",
            "TRAIN: EPOCH 0011 / 0050 | Epoch LOSS 0.5426 | Epoch ACC 79.0000 | Val Loss 1.2520 | Val_acc 55.7851\n",
            "TRAIN: EPOCH 0012 / 0050 | Epoch LOSS 0.4286 | Epoch ACC 84.0000 | Val Loss 1.1917 | Val_acc 56.1983\n",
            "TRAIN: EPOCH 0013 / 0050 | Epoch LOSS 0.3334 | Epoch ACC 89.0000 | Val Loss 1.2705 | Val_acc 56.6116\n",
            "TRAIN: EPOCH 0014 / 0050 | Epoch LOSS 0.3021 | Epoch ACC 89.5000 | Val Loss 1.4577 | Val_acc 54.5455\n",
            "TRAIN: EPOCH 0015 / 0050 | Epoch LOSS 0.2760 | Epoch ACC 92.0000 | Val Loss 1.4581 | Val_acc 52.8926\n",
            "TRAIN: EPOCH 0016 / 0050 | Epoch LOSS 0.2832 | Epoch ACC 88.5000 | Val Loss 1.3561 | Val_acc 54.1322\n",
            "saved\n",
            "TRAIN: EPOCH 0017 / 0050 | Epoch LOSS 0.2401 | Epoch ACC 90.5000 | Val Loss 1.3919 | Val_acc 58.6777\n",
            "TRAIN: EPOCH 0018 / 0050 | Epoch LOSS 0.1592 | Epoch ACC 96.5000 | Val Loss 1.5935 | Val_acc 57.4380\n",
            "TRAIN: EPOCH 0019 / 0050 | Epoch LOSS 0.1077 | Epoch ACC 97.5000 | Val Loss 1.5214 | Val_acc 54.1322\n",
            "TRAIN: EPOCH 0020 / 0050 | Epoch LOSS 0.2019 | Epoch ACC 94.5000 | Val Loss 1.7105 | Val_acc 55.3719\n",
            "TRAIN: EPOCH 0021 / 0050 | Epoch LOSS 0.2172 | Epoch ACC 93.5000 | Val Loss 1.3731 | Val_acc 55.7851\n",
            "TRAIN: EPOCH 0022 / 0050 | Epoch LOSS 0.1810 | Epoch ACC 95.0000 | Val Loss 1.8554 | Val_acc 53.7190\n",
            "TRAIN: EPOCH 0023 / 0050 | Epoch LOSS 0.0626 | Epoch ACC 99.0000 | Val Loss 1.9814 | Val_acc 53.3058\n",
            "TRAIN: EPOCH 0024 / 0050 | Epoch LOSS 0.1685 | Epoch ACC 95.5000 | Val Loss 1.8645 | Val_acc 54.1322\n",
            "TRAIN: EPOCH 0025 / 0050 | Epoch LOSS 0.1272 | Epoch ACC 95.5000 | Val Loss 1.7746 | Val_acc 53.7190\n",
            "TRAIN: EPOCH 0026 / 0050 | Epoch LOSS 0.0914 | Epoch ACC 96.5000 | Val Loss 1.7706 | Val_acc 54.5455\n",
            "TRAIN: EPOCH 0027 / 0050 | Epoch LOSS 0.1149 | Epoch ACC 96.5000 | Val Loss 1.8846 | Val_acc 54.9587\n",
            "TRAIN: EPOCH 0028 / 0050 | Epoch LOSS 0.0596 | Epoch ACC 99.5000 | Val Loss 2.1021 | Val_acc 51.6529\n",
            "TRAIN: EPOCH 0029 / 0050 | Epoch LOSS 0.0157 | Epoch ACC 100.0000 | Val Loss 2.1341 | Val_acc 53.3058\n",
            "TRAIN: EPOCH 0030 / 0050 | Epoch LOSS 0.0112 | Epoch ACC 100.0000 | Val Loss 2.1683 | Val_acc 54.1322\n",
            "TRAIN: EPOCH 0031 / 0050 | Epoch LOSS 0.0098 | Epoch ACC 100.0000 | Val Loss 2.1950 | Val_acc 53.7190\n",
            "TRAIN: EPOCH 0032 / 0050 | Epoch LOSS 0.0087 | Epoch ACC 100.0000 | Val Loss 2.2169 | Val_acc 53.7190\n",
            "TRAIN: EPOCH 0033 / 0050 | Epoch LOSS 0.0080 | Epoch ACC 100.0000 | Val Loss 2.2455 | Val_acc 54.1322\n",
            "TRAIN: EPOCH 0034 / 0050 | Epoch LOSS 0.0073 | Epoch ACC 100.0000 | Val Loss 2.2634 | Val_acc 54.5455\n",
            "TRAIN: EPOCH 0035 / 0050 | Epoch LOSS 0.0068 | Epoch ACC 100.0000 | Val Loss 2.2862 | Val_acc 54.5455\n",
            "TRAIN: EPOCH 0036 / 0050 | Epoch LOSS 0.0064 | Epoch ACC 100.0000 | Val Loss 2.3040 | Val_acc 54.9587\n",
            "TRAIN: EPOCH 0037 / 0050 | Epoch LOSS 0.0060 | Epoch ACC 100.0000 | Val Loss 2.3212 | Val_acc 55.3719\n",
            "TRAIN: EPOCH 0038 / 0050 | Epoch LOSS 0.0056 | Epoch ACC 100.0000 | Val Loss 2.3345 | Val_acc 55.3719\n",
            "TRAIN: EPOCH 0039 / 0050 | Epoch LOSS 0.0053 | Epoch ACC 100.0000 | Val Loss 2.3519 | Val_acc 55.3719\n",
            "TRAIN: EPOCH 0040 / 0050 | Epoch LOSS 0.0051 | Epoch ACC 100.0000 | Val Loss 2.3661 | Val_acc 55.3719\n",
            "TRAIN: EPOCH 0041 / 0050 | Epoch LOSS 0.0048 | Epoch ACC 100.0000 | Val Loss 2.3827 | Val_acc 55.3719\n",
            "TRAIN: EPOCH 0042 / 0050 | Epoch LOSS 0.0046 | Epoch ACC 100.0000 | Val Loss 2.3922 | Val_acc 55.3719\n",
            "TRAIN: EPOCH 0043 / 0050 | Epoch LOSS 0.0044 | Epoch ACC 100.0000 | Val Loss 2.4068 | Val_acc 55.3719\n",
            "TRAIN: EPOCH 0044 / 0050 | Epoch LOSS 0.0042 | Epoch ACC 100.0000 | Val Loss 2.4218 | Val_acc 55.3719\n",
            "TRAIN: EPOCH 0045 / 0050 | Epoch LOSS 0.0040 | Epoch ACC 100.0000 | Val Loss 2.4347 | Val_acc 55.3719\n",
            "TRAIN: EPOCH 0046 / 0050 | Epoch LOSS 0.0038 | Epoch ACC 100.0000 | Val Loss 2.4487 | Val_acc 55.3719\n",
            "TRAIN: EPOCH 0047 / 0050 | Epoch LOSS 0.0037 | Epoch ACC 100.0000 | Val Loss 2.4598 | Val_acc 55.7851\n",
            "TRAIN: EPOCH 0048 / 0050 | Epoch LOSS 0.0035 | Epoch ACC 100.0000 | Val Loss 2.4723 | Val_acc 55.3719\n",
            "TRAIN: EPOCH 0049 / 0050 | Epoch LOSS 0.0034 | Epoch ACC 100.0000 | Val Loss 2.4829 | Val_acc 55.7851\n",
            "TRAIN: EPOCH 0050 / 0050 | Epoch LOSS 0.0033 | Epoch ACC 100.0000 | Val Loss 2.4939 | Val_acc 55.7851\n",
            "test: LOSS 2.4939 | Accuracy 55.7851 \n"
          ]
        },
        {
          "output_type": "display_data",
          "data": {
            "text/plain": [
              "<IPython.core.display.HTML object>"
            ],
            "text/html": [
              "Waiting for W&B process to finish... <strong style=\"color:green\">(success).</strong>"
            ]
          },
          "metadata": {}
        },
        {
          "output_type": "display_data",
          "data": {
            "text/plain": [
              "VBox(children=(Label(value='0.001 MB of 0.001 MB uploaded (0.000 MB deduped)\\r'), FloatProgress(value=1.0, max…"
            ],
            "application/vnd.jupyter.widget-view+json": {
              "version_major": 2,
              "version_minor": 0,
              "model_id": "e711491803b64778bb6476a2e2eb5e1a"
            }
          },
          "metadata": {}
        },
        {
          "output_type": "display_data",
          "data": {
            "text/plain": [
              "<IPython.core.display.HTML object>"
            ],
            "text/html": [
              "<style>\n",
              "    table.wandb td:nth-child(1) { padding: 0 10px; text-align: left ; width: auto;} td:nth-child(2) {text-align: left ; width: 100%}\n",
              "    .wandb-row { display: flex; flex-direction: row; flex-wrap: wrap; justify-content: flex-start; width: 100% }\n",
              "    .wandb-col { display: flex; flex-direction: column; flex-basis: 100%; flex: 1; padding: 10px; }\n",
              "    </style>\n",
              "<div class=\"wandb-row\"><div class=\"wandb-col\"><h3>Run history:</h3><br/><table class=\"wandb\"><tr><td>test_acc</td><td>▁</td></tr><tr><td>test_loss</td><td>▁</td></tr><tr><td>train_acc</td><td>▁▂▃▄▅▅▆▆▆▇▇▇▇▇██▇███████████████████████</td></tr><tr><td>train_loss</td><td>█▇▆▆▄▄▄▃▃▃▂▂▂▂▂▁▂▂▁▂▁▁▁▁▁▁▁▁▁▁▁▁▁▁▁▁▁▁▁▁</td></tr></table><br/></div><div class=\"wandb-col\"><h3>Run summary:</h3><br/><table class=\"wandb\"><tr><td>test_acc</td><td>55.78512</td></tr><tr><td>test_loss</td><td>2.49394</td></tr><tr><td>train_acc</td><td>100.0</td></tr><tr><td>train_loss</td><td>0.00329</td></tr></table><br/></div></div>"
            ]
          },
          "metadata": {}
        },
        {
          "output_type": "display_data",
          "data": {
            "text/plain": [
              "<IPython.core.display.HTML object>"
            ],
            "text/html": [
              "Synced <strong style=\"color:#cdcd00\">celestial-sweep-6</strong>: <a href=\"https://wandb.ai/sb2539/osuleaf_mlp_gat_channel_rp_gr_grd_mk/runs/ckjdopre\" target=\"_blank\">https://wandb.ai/sb2539/osuleaf_mlp_gat_channel_rp_gr_grd_mk/runs/ckjdopre</a><br/>Synced 5 W&B file(s), 0 media file(s), 0 artifact file(s) and 0 other file(s)"
            ]
          },
          "metadata": {}
        },
        {
          "output_type": "display_data",
          "data": {
            "text/plain": [
              "<IPython.core.display.HTML object>"
            ],
            "text/html": [
              "Find logs at: <code>./wandb/run-20220808_041441-ckjdopre/logs</code>"
            ]
          },
          "metadata": {}
        },
        {
          "output_type": "stream",
          "name": "stderr",
          "text": [
            "\u001b[34m\u001b[1mwandb\u001b[0m: Agent Starting Run: ykhnfrrm with config:\n",
            "\u001b[34m\u001b[1mwandb\u001b[0m: \talpha: 0.2\n",
            "\u001b[34m\u001b[1mwandb\u001b[0m: \tchannel_dim: 256\n",
            "\u001b[34m\u001b[1mwandb\u001b[0m: \tdropout: 0\n",
            "\u001b[34m\u001b[1mwandb\u001b[0m: \tepochs: 50\n",
            "\u001b[34m\u001b[1mwandb\u001b[0m: \thidden_size: 64\n",
            "\u001b[34m\u001b[1mwandb\u001b[0m: \tlearning_rate: 0.00030468372939782435\n",
            "\u001b[34m\u001b[1mwandb\u001b[0m: \tnumber_of_layers: 4\n",
            "\u001b[34m\u001b[1mwandb\u001b[0m: \toptimizer: adam\n",
            "\u001b[34m\u001b[1mwandb\u001b[0m: \tpatch_size: 4\n",
            "\u001b[34m\u001b[1mwandb\u001b[0m: \ttoken_dim: 32\n",
            "\u001b[34m\u001b[1mwandb\u001b[0m: \u001b[33mWARNING\u001b[0m Ignored wandb.init() arg entity when running a sweep.\n"
          ]
        },
        {
          "output_type": "display_data",
          "data": {
            "text/plain": [
              "<IPython.core.display.HTML object>"
            ],
            "text/html": [
              "Tracking run with wandb version 0.13.1"
            ]
          },
          "metadata": {}
        },
        {
          "output_type": "display_data",
          "data": {
            "text/plain": [
              "<IPython.core.display.HTML object>"
            ],
            "text/html": [
              "Run data is saved locally in <code>/content/wandb/run-20220808_042028-ykhnfrrm</code>"
            ]
          },
          "metadata": {}
        },
        {
          "output_type": "display_data",
          "data": {
            "text/plain": [
              "<IPython.core.display.HTML object>"
            ],
            "text/html": [
              "Syncing run <strong><a href=\"https://wandb.ai/sb2539/osuleaf_mlp_gat_channel_rp_gr_grd_mk/runs/ykhnfrrm\" target=\"_blank\">cerulean-sweep-7</a></strong> to <a href=\"https://wandb.ai/sb2539/osuleaf_mlp_gat_channel_rp_gr_grd_mk\" target=\"_blank\">Weights & Biases</a> (<a href=\"https://wandb.me/run\" target=\"_blank\">docs</a>)<br/>Sweep page:  <a href=\"https://wandb.ai/sb2539/osuleaf_mlp_gat_channel_rp_gr_grd_mk/sweeps/irqvhxia\" target=\"_blank\">https://wandb.ai/sb2539/osuleaf_mlp_gat_channel_rp_gr_grd_mk/sweeps/irqvhxia</a>"
            ]
          },
          "metadata": {}
        },
        {
          "output_type": "stream",
          "name": "stdout",
          "text": [
            "TRAIN: EPOCH 0001 / 0050 | Epoch LOSS 1.7927 | Epoch ACC 24.0000 | Val Loss 1.7922 | Val_acc 18.1818\n",
            "TRAIN: EPOCH 0002 / 0050 | Epoch LOSS 1.7521 | Epoch ACC 25.0000 | Val Loss 1.7874 | Val_acc 18.1818\n",
            "TRAIN: EPOCH 0003 / 0050 | Epoch LOSS 1.7468 | Epoch ACC 26.5000 | Val Loss 1.7817 | Val_acc 18.1818\n",
            "TRAIN: EPOCH 0004 / 0050 | Epoch LOSS 1.7448 | Epoch ACC 26.5000 | Val Loss 1.7949 | Val_acc 18.1818\n",
            "TRAIN: EPOCH 0005 / 0050 | Epoch LOSS 1.7401 | Epoch ACC 26.5000 | Val Loss 1.8095 | Val_acc 18.1818\n",
            "TRAIN: EPOCH 0006 / 0050 | Epoch LOSS 1.7499 | Epoch ACC 26.5000 | Val Loss 1.7868 | Val_acc 18.1818\n",
            "TRAIN: EPOCH 0007 / 0050 | Epoch LOSS 1.7427 | Epoch ACC 26.5000 | Val Loss 1.7942 | Val_acc 18.1818\n",
            "TRAIN: EPOCH 0008 / 0050 | Epoch LOSS 1.7130 | Epoch ACC 27.5000 | Val Loss 1.7064 | Val_acc 34.2975\n",
            "TRAIN: EPOCH 0009 / 0050 | Epoch LOSS 1.5000 | Epoch ACC 41.0000 | Val Loss 1.8569 | Val_acc 26.4463\n",
            "TRAIN: EPOCH 0010 / 0050 | Epoch LOSS 1.3017 | Epoch ACC 47.5000 | Val Loss 1.3377 | Val_acc 40.4959\n",
            "TRAIN: EPOCH 0011 / 0050 | Epoch LOSS 1.3298 | Epoch ACC 46.0000 | Val Loss 1.3181 | Val_acc 45.0413\n",
            "TRAIN: EPOCH 0012 / 0050 | Epoch LOSS 1.0396 | Epoch ACC 59.5000 | Val Loss 1.3037 | Val_acc 47.1074\n",
            "TRAIN: EPOCH 0013 / 0050 | Epoch LOSS 1.0570 | Epoch ACC 56.5000 | Val Loss 1.3041 | Val_acc 47.9339\n",
            "TRAIN: EPOCH 0014 / 0050 | Epoch LOSS 0.8590 | Epoch ACC 70.5000 | Val Loss 1.2932 | Val_acc 48.7603\n",
            "TRAIN: EPOCH 0015 / 0050 | Epoch LOSS 0.7926 | Epoch ACC 73.0000 | Val Loss 1.3863 | Val_acc 48.3471\n",
            "TRAIN: EPOCH 0016 / 0050 | Epoch LOSS 0.6946 | Epoch ACC 74.5000 | Val Loss 1.3699 | Val_acc 49.1736\n",
            "TRAIN: EPOCH 0017 / 0050 | Epoch LOSS 0.5853 | Epoch ACC 78.5000 | Val Loss 1.4805 | Val_acc 45.4545\n",
            "TRAIN: EPOCH 0018 / 0050 | Epoch LOSS 0.4967 | Epoch ACC 82.5000 | Val Loss 1.5640 | Val_acc 46.6942\n",
            "TRAIN: EPOCH 0019 / 0050 | Epoch LOSS 0.4870 | Epoch ACC 81.5000 | Val Loss 1.6849 | Val_acc 45.4545\n",
            "TRAIN: EPOCH 0020 / 0050 | Epoch LOSS 0.4635 | Epoch ACC 82.5000 | Val Loss 1.4302 | Val_acc 48.3471\n",
            "TRAIN: EPOCH 0021 / 0050 | Epoch LOSS 0.5054 | Epoch ACC 81.5000 | Val Loss 1.8364 | Val_acc 42.9752\n",
            "TRAIN: EPOCH 0022 / 0050 | Epoch LOSS 0.7361 | Epoch ACC 73.5000 | Val Loss 1.6437 | Val_acc 43.8017\n",
            "TRAIN: EPOCH 0023 / 0050 | Epoch LOSS 0.5292 | Epoch ACC 78.5000 | Val Loss 1.6168 | Val_acc 47.9339\n",
            "TRAIN: EPOCH 0024 / 0050 | Epoch LOSS 0.4432 | Epoch ACC 82.5000 | Val Loss 1.7021 | Val_acc 44.6281\n",
            "TRAIN: EPOCH 0025 / 0050 | Epoch LOSS 0.3496 | Epoch ACC 85.5000 | Val Loss 1.8062 | Val_acc 46.2810\n",
            "TRAIN: EPOCH 0026 / 0050 | Epoch LOSS 0.3288 | Epoch ACC 86.0000 | Val Loss 1.7554 | Val_acc 48.3471\n",
            "TRAIN: EPOCH 0027 / 0050 | Epoch LOSS 0.2961 | Epoch ACC 88.5000 | Val Loss 1.9018 | Val_acc 45.8678\n",
            "TRAIN: EPOCH 0028 / 0050 | Epoch LOSS 0.3320 | Epoch ACC 83.0000 | Val Loss 1.9328 | Val_acc 45.4545\n",
            "TRAIN: EPOCH 0029 / 0050 | Epoch LOSS 0.2733 | Epoch ACC 88.0000 | Val Loss 1.9614 | Val_acc 46.2810\n",
            "TRAIN: EPOCH 0030 / 0050 | Epoch LOSS 0.2392 | Epoch ACC 91.0000 | Val Loss 1.9484 | Val_acc 45.4545\n",
            "TRAIN: EPOCH 0031 / 0050 | Epoch LOSS 0.2476 | Epoch ACC 91.0000 | Val Loss 1.9727 | Val_acc 47.9339\n",
            "TRAIN: EPOCH 0032 / 0050 | Epoch LOSS 0.1937 | Epoch ACC 93.5000 | Val Loss 2.0515 | Val_acc 48.7603\n",
            "TRAIN: EPOCH 0033 / 0050 | Epoch LOSS 0.1804 | Epoch ACC 94.0000 | Val Loss 1.9218 | Val_acc 54.1322\n",
            "TRAIN: EPOCH 0034 / 0050 | Epoch LOSS 0.1111 | Epoch ACC 97.5000 | Val Loss 2.1175 | Val_acc 48.3471\n",
            "TRAIN: EPOCH 0035 / 0050 | Epoch LOSS 0.0998 | Epoch ACC 97.5000 | Val Loss 2.0180 | Val_acc 52.8926\n",
            "TRAIN: EPOCH 0036 / 0050 | Epoch LOSS 0.1172 | Epoch ACC 96.5000 | Val Loss 1.9806 | Val_acc 47.1074\n",
            "TRAIN: EPOCH 0037 / 0050 | Epoch LOSS 0.1490 | Epoch ACC 96.0000 | Val Loss 1.8585 | Val_acc 52.8926\n",
            "TRAIN: EPOCH 0038 / 0050 | Epoch LOSS 0.0575 | Epoch ACC 98.5000 | Val Loss 2.1531 | Val_acc 48.7603\n",
            "TRAIN: EPOCH 0039 / 0050 | Epoch LOSS 0.0475 | Epoch ACC 99.5000 | Val Loss 2.0154 | Val_acc 52.4793\n",
            "TRAIN: EPOCH 0040 / 0050 | Epoch LOSS 0.0881 | Epoch ACC 97.5000 | Val Loss 2.0541 | Val_acc 52.0661\n",
            "TRAIN: EPOCH 0041 / 0050 | Epoch LOSS 0.0698 | Epoch ACC 97.5000 | Val Loss 2.1032 | Val_acc 52.4793\n",
            "TRAIN: EPOCH 0042 / 0050 | Epoch LOSS 0.0764 | Epoch ACC 97.5000 | Val Loss 2.4516 | Val_acc 50.4132\n",
            "TRAIN: EPOCH 0043 / 0050 | Epoch LOSS 0.1520 | Epoch ACC 95.5000 | Val Loss 2.3275 | Val_acc 50.4132\n",
            "TRAIN: EPOCH 0044 / 0050 | Epoch LOSS 0.1852 | Epoch ACC 95.5000 | Val Loss 2.1062 | Val_acc 54.9587\n",
            "TRAIN: EPOCH 0045 / 0050 | Epoch LOSS 0.1210 | Epoch ACC 97.0000 | Val Loss 2.2400 | Val_acc 51.6529\n",
            "TRAIN: EPOCH 0046 / 0050 | Epoch LOSS 0.0534 | Epoch ACC 99.0000 | Val Loss 2.5091 | Val_acc 48.7603\n",
            "TRAIN: EPOCH 0047 / 0050 | Epoch LOSS 0.0310 | Epoch ACC 99.5000 | Val Loss 2.5085 | Val_acc 51.2397\n",
            "TRAIN: EPOCH 0048 / 0050 | Epoch LOSS 0.0256 | Epoch ACC 99.5000 | Val Loss 2.5290 | Val_acc 51.2397\n",
            "TRAIN: EPOCH 0049 / 0050 | Epoch LOSS 0.0242 | Epoch ACC 99.5000 | Val Loss 2.5186 | Val_acc 51.2397\n",
            "TRAIN: EPOCH 0050 / 0050 | Epoch LOSS 0.0218 | Epoch ACC 99.5000 | Val Loss 2.5906 | Val_acc 50.8264\n",
            "test: LOSS 2.5906 | Accuracy 50.8264 \n"
          ]
        },
        {
          "output_type": "display_data",
          "data": {
            "text/plain": [
              "<IPython.core.display.HTML object>"
            ],
            "text/html": [
              "Waiting for W&B process to finish... <strong style=\"color:green\">(success).</strong>"
            ]
          },
          "metadata": {}
        },
        {
          "output_type": "display_data",
          "data": {
            "text/plain": [
              "VBox(children=(Label(value='0.001 MB of 0.001 MB uploaded (0.000 MB deduped)\\r'), FloatProgress(value=1.0, max…"
            ],
            "application/vnd.jupyter.widget-view+json": {
              "version_major": 2,
              "version_minor": 0,
              "model_id": "530249f0fe764dc3beff8c1fd5eb3584"
            }
          },
          "metadata": {}
        },
        {
          "output_type": "display_data",
          "data": {
            "text/plain": [
              "<IPython.core.display.HTML object>"
            ],
            "text/html": [
              "<style>\n",
              "    table.wandb td:nth-child(1) { padding: 0 10px; text-align: left ; width: auto;} td:nth-child(2) {text-align: left ; width: 100%}\n",
              "    .wandb-row { display: flex; flex-direction: row; flex-wrap: wrap; justify-content: flex-start; width: 100% }\n",
              "    .wandb-col { display: flex; flex-direction: column; flex-basis: 100%; flex: 1; padding: 10px; }\n",
              "    </style>\n",
              "<div class=\"wandb-row\"><div class=\"wandb-col\"><h3>Run history:</h3><br/><table class=\"wandb\"><tr><td>test_acc</td><td>▁</td></tr><tr><td>test_loss</td><td>▁</td></tr><tr><td>train_acc</td><td>▁▁▁▁▁▁▁▃▃▄▄▅▆▆▆▆▆▆▆▆▇▇▆▇▇▇▇█████████████</td></tr><tr><td>train_loss</td><td>███████▇▆▅▅▄▄▃▃▃▃▄▃▃▂▂▂▂▂▂▂▁▁▂▁▁▁▁▂▂▁▁▁▁</td></tr></table><br/></div><div class=\"wandb-col\"><h3>Run summary:</h3><br/><table class=\"wandb\"><tr><td>test_acc</td><td>50.82645</td></tr><tr><td>test_loss</td><td>2.59063</td></tr><tr><td>train_acc</td><td>99.5</td></tr><tr><td>train_loss</td><td>0.02177</td></tr></table><br/></div></div>"
            ]
          },
          "metadata": {}
        },
        {
          "output_type": "display_data",
          "data": {
            "text/plain": [
              "<IPython.core.display.HTML object>"
            ],
            "text/html": [
              "Synced <strong style=\"color:#cdcd00\">cerulean-sweep-7</strong>: <a href=\"https://wandb.ai/sb2539/osuleaf_mlp_gat_channel_rp_gr_grd_mk/runs/ykhnfrrm\" target=\"_blank\">https://wandb.ai/sb2539/osuleaf_mlp_gat_channel_rp_gr_grd_mk/runs/ykhnfrrm</a><br/>Synced 5 W&B file(s), 0 media file(s), 0 artifact file(s) and 0 other file(s)"
            ]
          },
          "metadata": {}
        },
        {
          "output_type": "display_data",
          "data": {
            "text/plain": [
              "<IPython.core.display.HTML object>"
            ],
            "text/html": [
              "Find logs at: <code>./wandb/run-20220808_042028-ykhnfrrm/logs</code>"
            ]
          },
          "metadata": {}
        },
        {
          "output_type": "stream",
          "name": "stderr",
          "text": [
            "\u001b[34m\u001b[1mwandb\u001b[0m: Agent Starting Run: qp3t31vw with config:\n",
            "\u001b[34m\u001b[1mwandb\u001b[0m: \talpha: 0.2\n",
            "\u001b[34m\u001b[1mwandb\u001b[0m: \tchannel_dim: 256\n",
            "\u001b[34m\u001b[1mwandb\u001b[0m: \tdropout: 0\n",
            "\u001b[34m\u001b[1mwandb\u001b[0m: \tepochs: 50\n",
            "\u001b[34m\u001b[1mwandb\u001b[0m: \thidden_size: 128\n",
            "\u001b[34m\u001b[1mwandb\u001b[0m: \tlearning_rate: 0.000921892622560296\n",
            "\u001b[34m\u001b[1mwandb\u001b[0m: \tnumber_of_layers: 4\n",
            "\u001b[34m\u001b[1mwandb\u001b[0m: \toptimizer: sgd\n",
            "\u001b[34m\u001b[1mwandb\u001b[0m: \tpatch_size: 8\n",
            "\u001b[34m\u001b[1mwandb\u001b[0m: \ttoken_dim: 64\n",
            "\u001b[34m\u001b[1mwandb\u001b[0m: \u001b[33mWARNING\u001b[0m Ignored wandb.init() arg entity when running a sweep.\n"
          ]
        },
        {
          "output_type": "display_data",
          "data": {
            "text/plain": [
              "<IPython.core.display.HTML object>"
            ],
            "text/html": [
              "Tracking run with wandb version 0.13.1"
            ]
          },
          "metadata": {}
        },
        {
          "output_type": "display_data",
          "data": {
            "text/plain": [
              "<IPython.core.display.HTML object>"
            ],
            "text/html": [
              "Run data is saved locally in <code>/content/wandb/run-20220808_042344-qp3t31vw</code>"
            ]
          },
          "metadata": {}
        },
        {
          "output_type": "display_data",
          "data": {
            "text/plain": [
              "<IPython.core.display.HTML object>"
            ],
            "text/html": [
              "Syncing run <strong><a href=\"https://wandb.ai/sb2539/osuleaf_mlp_gat_channel_rp_gr_grd_mk/runs/qp3t31vw\" target=\"_blank\">autumn-sweep-8</a></strong> to <a href=\"https://wandb.ai/sb2539/osuleaf_mlp_gat_channel_rp_gr_grd_mk\" target=\"_blank\">Weights & Biases</a> (<a href=\"https://wandb.me/run\" target=\"_blank\">docs</a>)<br/>Sweep page:  <a href=\"https://wandb.ai/sb2539/osuleaf_mlp_gat_channel_rp_gr_grd_mk/sweeps/irqvhxia\" target=\"_blank\">https://wandb.ai/sb2539/osuleaf_mlp_gat_channel_rp_gr_grd_mk/sweeps/irqvhxia</a>"
            ]
          },
          "metadata": {}
        },
        {
          "output_type": "stream",
          "name": "stdout",
          "text": [
            "TRAIN: EPOCH 0001 / 0050 | Epoch LOSS 1.8441 | Epoch ACC 16.0000 | Val Loss 1.7894 | Val_acc 18.1818\n",
            "TRAIN: EPOCH 0002 / 0050 | Epoch LOSS 1.8074 | Epoch ACC 21.0000 | Val Loss 1.7897 | Val_acc 18.1818\n",
            "TRAIN: EPOCH 0003 / 0050 | Epoch LOSS 1.7852 | Epoch ACC 24.5000 | Val Loss 1.7897 | Val_acc 19.0083\n",
            "TRAIN: EPOCH 0004 / 0050 | Epoch LOSS 1.7398 | Epoch ACC 28.0000 | Val Loss 1.7195 | Val_acc 25.6198\n",
            "TRAIN: EPOCH 0005 / 0050 | Epoch LOSS 1.6144 | Epoch ACC 29.0000 | Val Loss 1.5315 | Val_acc 28.0992\n",
            "TRAIN: EPOCH 0006 / 0050 | Epoch LOSS 1.7313 | Epoch ACC 28.5000 | Val Loss 1.7979 | Val_acc 18.1818\n",
            "TRAIN: EPOCH 0007 / 0050 | Epoch LOSS 1.7599 | Epoch ACC 23.5000 | Val Loss 1.8402 | Val_acc 18.1818\n",
            "TRAIN: EPOCH 0008 / 0050 | Epoch LOSS 1.7261 | Epoch ACC 25.5000 | Val Loss 1.7226 | Val_acc 33.0579\n",
            "TRAIN: EPOCH 0009 / 0050 | Epoch LOSS 1.6789 | Epoch ACC 31.5000 | Val Loss 1.6951 | Val_acc 21.9008\n",
            "TRAIN: EPOCH 0010 / 0050 | Epoch LOSS 1.6151 | Epoch ACC 35.0000 | Val Loss 1.6544 | Val_acc 28.5124\n",
            "TRAIN: EPOCH 0011 / 0050 | Epoch LOSS 1.5278 | Epoch ACC 37.0000 | Val Loss 1.4996 | Val_acc 34.7107\n",
            "TRAIN: EPOCH 0012 / 0050 | Epoch LOSS 1.3670 | Epoch ACC 45.5000 | Val Loss 1.4020 | Val_acc 38.4298\n",
            "TRAIN: EPOCH 0013 / 0050 | Epoch LOSS 1.2817 | Epoch ACC 45.0000 | Val Loss 1.2958 | Val_acc 40.4959\n",
            "TRAIN: EPOCH 0014 / 0050 | Epoch LOSS 1.2221 | Epoch ACC 46.0000 | Val Loss 1.2412 | Val_acc 38.8430\n",
            "TRAIN: EPOCH 0015 / 0050 | Epoch LOSS 1.1496 | Epoch ACC 50.0000 | Val Loss 1.2375 | Val_acc 33.0579\n",
            "TRAIN: EPOCH 0016 / 0050 | Epoch LOSS 1.1037 | Epoch ACC 50.5000 | Val Loss 1.2244 | Val_acc 38.4298\n",
            "TRAIN: EPOCH 0017 / 0050 | Epoch LOSS 1.0587 | Epoch ACC 52.5000 | Val Loss 1.2178 | Val_acc 33.4711\n",
            "TRAIN: EPOCH 0018 / 0050 | Epoch LOSS 1.0506 | Epoch ACC 51.5000 | Val Loss 1.2046 | Val_acc 36.7769\n",
            "TRAIN: EPOCH 0019 / 0050 | Epoch LOSS 1.0139 | Epoch ACC 54.5000 | Val Loss 1.1546 | Val_acc 45.4545\n",
            "TRAIN: EPOCH 0020 / 0050 | Epoch LOSS 0.8941 | Epoch ACC 61.0000 | Val Loss 1.2208 | Val_acc 44.2149\n",
            "TRAIN: EPOCH 0021 / 0050 | Epoch LOSS 0.8002 | Epoch ACC 69.0000 | Val Loss 1.1801 | Val_acc 42.9752\n",
            "TRAIN: EPOCH 0022 / 0050 | Epoch LOSS 0.7626 | Epoch ACC 64.0000 | Val Loss 1.1986 | Val_acc 41.7355\n",
            "TRAIN: EPOCH 0023 / 0050 | Epoch LOSS 0.7209 | Epoch ACC 69.5000 | Val Loss 1.1749 | Val_acc 48.3471\n",
            "TRAIN: EPOCH 0024 / 0050 | Epoch LOSS 0.6012 | Epoch ACC 77.5000 | Val Loss 1.2145 | Val_acc 48.3471\n",
            "TRAIN: EPOCH 0025 / 0050 | Epoch LOSS 0.5064 | Epoch ACC 83.0000 | Val Loss 1.3121 | Val_acc 49.5868\n",
            "TRAIN: EPOCH 0026 / 0050 | Epoch LOSS 0.4226 | Epoch ACC 83.5000 | Val Loss 1.2917 | Val_acc 51.6529\n",
            "TRAIN: EPOCH 0027 / 0050 | Epoch LOSS 0.4076 | Epoch ACC 86.5000 | Val Loss 1.4474 | Val_acc 46.6942\n",
            "TRAIN: EPOCH 0028 / 0050 | Epoch LOSS 0.3856 | Epoch ACC 86.0000 | Val Loss 1.4919 | Val_acc 48.7603\n",
            "TRAIN: EPOCH 0029 / 0050 | Epoch LOSS 0.2968 | Epoch ACC 89.5000 | Val Loss 1.4985 | Val_acc 48.3471\n",
            "TRAIN: EPOCH 0030 / 0050 | Epoch LOSS 0.2266 | Epoch ACC 92.0000 | Val Loss 1.7037 | Val_acc 48.3471\n",
            "TRAIN: EPOCH 0031 / 0050 | Epoch LOSS 0.2141 | Epoch ACC 93.0000 | Val Loss 1.6598 | Val_acc 48.7603\n",
            "TRAIN: EPOCH 0032 / 0050 | Epoch LOSS 0.1632 | Epoch ACC 96.0000 | Val Loss 1.8209 | Val_acc 47.9339\n",
            "TRAIN: EPOCH 0033 / 0050 | Epoch LOSS 0.0890 | Epoch ACC 98.5000 | Val Loss 1.8422 | Val_acc 47.9339\n",
            "TRAIN: EPOCH 0034 / 0050 | Epoch LOSS 0.0511 | Epoch ACC 99.0000 | Val Loss 2.0163 | Val_acc 50.4132\n",
            "TRAIN: EPOCH 0035 / 0050 | Epoch LOSS 0.0756 | Epoch ACC 98.5000 | Val Loss 1.9116 | Val_acc 47.9339\n",
            "TRAIN: EPOCH 0036 / 0050 | Epoch LOSS 0.0658 | Epoch ACC 98.5000 | Val Loss 1.9386 | Val_acc 50.4132\n",
            "TRAIN: EPOCH 0037 / 0050 | Epoch LOSS 0.0316 | Epoch ACC 100.0000 | Val Loss 2.0769 | Val_acc 48.3471\n",
            "TRAIN: EPOCH 0038 / 0050 | Epoch LOSS 0.0180 | Epoch ACC 100.0000 | Val Loss 2.2570 | Val_acc 49.1736\n",
            "TRAIN: EPOCH 0039 / 0050 | Epoch LOSS 0.0106 | Epoch ACC 100.0000 | Val Loss 2.3078 | Val_acc 48.7603\n",
            "TRAIN: EPOCH 0040 / 0050 | Epoch LOSS 0.0090 | Epoch ACC 100.0000 | Val Loss 2.3580 | Val_acc 48.3471\n",
            "TRAIN: EPOCH 0041 / 0050 | Epoch LOSS 0.0077 | Epoch ACC 100.0000 | Val Loss 2.3693 | Val_acc 48.3471\n",
            "TRAIN: EPOCH 0042 / 0050 | Epoch LOSS 0.0069 | Epoch ACC 100.0000 | Val Loss 2.4137 | Val_acc 47.9339\n",
            "TRAIN: EPOCH 0043 / 0050 | Epoch LOSS 0.0063 | Epoch ACC 100.0000 | Val Loss 2.4491 | Val_acc 48.3471\n",
            "TRAIN: EPOCH 0044 / 0050 | Epoch LOSS 0.0057 | Epoch ACC 100.0000 | Val Loss 2.4581 | Val_acc 48.3471\n",
            "TRAIN: EPOCH 0045 / 0050 | Epoch LOSS 0.0052 | Epoch ACC 100.0000 | Val Loss 2.4920 | Val_acc 48.3471\n",
            "TRAIN: EPOCH 0046 / 0050 | Epoch LOSS 0.0049 | Epoch ACC 100.0000 | Val Loss 2.5109 | Val_acc 48.7603\n",
            "TRAIN: EPOCH 0047 / 0050 | Epoch LOSS 0.0046 | Epoch ACC 100.0000 | Val Loss 2.5337 | Val_acc 48.7603\n",
            "TRAIN: EPOCH 0048 / 0050 | Epoch LOSS 0.0043 | Epoch ACC 100.0000 | Val Loss 2.5486 | Val_acc 48.7603\n",
            "TRAIN: EPOCH 0049 / 0050 | Epoch LOSS 0.0040 | Epoch ACC 100.0000 | Val Loss 2.5669 | Val_acc 48.7603\n",
            "TRAIN: EPOCH 0050 / 0050 | Epoch LOSS 0.0038 | Epoch ACC 100.0000 | Val Loss 2.5875 | Val_acc 48.3471\n",
            "test: LOSS 2.5875 | Accuracy 48.3471 \n"
          ]
        },
        {
          "output_type": "display_data",
          "data": {
            "text/plain": [
              "<IPython.core.display.HTML object>"
            ],
            "text/html": [
              "Waiting for W&B process to finish... <strong style=\"color:green\">(success).</strong>"
            ]
          },
          "metadata": {}
        },
        {
          "output_type": "display_data",
          "data": {
            "text/plain": [
              "VBox(children=(Label(value='0.001 MB of 0.001 MB uploaded (0.000 MB deduped)\\r'), FloatProgress(value=1.0, max…"
            ],
            "application/vnd.jupyter.widget-view+json": {
              "version_major": 2,
              "version_minor": 0,
              "model_id": "6a9af89dfaf945429ccf1f52bb5197d9"
            }
          },
          "metadata": {}
        },
        {
          "output_type": "display_data",
          "data": {
            "text/plain": [
              "<IPython.core.display.HTML object>"
            ],
            "text/html": [
              "<style>\n",
              "    table.wandb td:nth-child(1) { padding: 0 10px; text-align: left ; width: auto;} td:nth-child(2) {text-align: left ; width: 100%}\n",
              "    .wandb-row { display: flex; flex-direction: row; flex-wrap: wrap; justify-content: flex-start; width: 100% }\n",
              "    .wandb-col { display: flex; flex-direction: column; flex-basis: 100%; flex: 1; padding: 10px; }\n",
              "    </style>\n",
              "<div class=\"wandb-row\"><div class=\"wandb-col\"><h3>Run history:</h3><br/><table class=\"wandb\"><tr><td>test_acc</td><td>▁</td></tr><tr><td>test_loss</td><td>▁</td></tr><tr><td>train_acc</td><td>▁▁▂▂▂▂▂▂▃▃▃▃▄▄▄▄▅▅▅▆▇▇▇▇▇███████████████</td></tr><tr><td>train_loss</td><td>███████▇▇▆▆▆▅▅▅▅▄▄▄▃▃▃▂▂▂▂▁▁▁▁▁▁▁▁▁▁▁▁▁▁</td></tr></table><br/></div><div class=\"wandb-col\"><h3>Run summary:</h3><br/><table class=\"wandb\"><tr><td>test_acc</td><td>48.34711</td></tr><tr><td>test_loss</td><td>2.58749</td></tr><tr><td>train_acc</td><td>100.0</td></tr><tr><td>train_loss</td><td>0.00381</td></tr></table><br/></div></div>"
            ]
          },
          "metadata": {}
        },
        {
          "output_type": "display_data",
          "data": {
            "text/plain": [
              "<IPython.core.display.HTML object>"
            ],
            "text/html": [
              "Synced <strong style=\"color:#cdcd00\">autumn-sweep-8</strong>: <a href=\"https://wandb.ai/sb2539/osuleaf_mlp_gat_channel_rp_gr_grd_mk/runs/qp3t31vw\" target=\"_blank\">https://wandb.ai/sb2539/osuleaf_mlp_gat_channel_rp_gr_grd_mk/runs/qp3t31vw</a><br/>Synced 5 W&B file(s), 0 media file(s), 0 artifact file(s) and 0 other file(s)"
            ]
          },
          "metadata": {}
        },
        {
          "output_type": "display_data",
          "data": {
            "text/plain": [
              "<IPython.core.display.HTML object>"
            ],
            "text/html": [
              "Find logs at: <code>./wandb/run-20220808_042344-qp3t31vw/logs</code>"
            ]
          },
          "metadata": {}
        },
        {
          "output_type": "stream",
          "name": "stderr",
          "text": [
            "\u001b[34m\u001b[1mwandb\u001b[0m: Agent Starting Run: hn41u6i9 with config:\n",
            "\u001b[34m\u001b[1mwandb\u001b[0m: \talpha: 0.2\n",
            "\u001b[34m\u001b[1mwandb\u001b[0m: \tchannel_dim: 32\n",
            "\u001b[34m\u001b[1mwandb\u001b[0m: \tdropout: 0\n",
            "\u001b[34m\u001b[1mwandb\u001b[0m: \tepochs: 50\n",
            "\u001b[34m\u001b[1mwandb\u001b[0m: \thidden_size: 128\n",
            "\u001b[34m\u001b[1mwandb\u001b[0m: \tlearning_rate: 0.0005268641042854052\n",
            "\u001b[34m\u001b[1mwandb\u001b[0m: \tnumber_of_layers: 8\n",
            "\u001b[34m\u001b[1mwandb\u001b[0m: \toptimizer: sgd\n",
            "\u001b[34m\u001b[1mwandb\u001b[0m: \tpatch_size: 8\n",
            "\u001b[34m\u001b[1mwandb\u001b[0m: \ttoken_dim: 32\n",
            "\u001b[34m\u001b[1mwandb\u001b[0m: \u001b[33mWARNING\u001b[0m Ignored wandb.init() arg entity when running a sweep.\n"
          ]
        },
        {
          "output_type": "display_data",
          "data": {
            "text/plain": [
              "<IPython.core.display.HTML object>"
            ],
            "text/html": [
              "Tracking run with wandb version 0.13.1"
            ]
          },
          "metadata": {}
        },
        {
          "output_type": "display_data",
          "data": {
            "text/plain": [
              "<IPython.core.display.HTML object>"
            ],
            "text/html": [
              "Run data is saved locally in <code>/content/wandb/run-20220808_042550-hn41u6i9</code>"
            ]
          },
          "metadata": {}
        },
        {
          "output_type": "display_data",
          "data": {
            "text/plain": [
              "<IPython.core.display.HTML object>"
            ],
            "text/html": [
              "Syncing run <strong><a href=\"https://wandb.ai/sb2539/osuleaf_mlp_gat_channel_rp_gr_grd_mk/runs/hn41u6i9\" target=\"_blank\">avid-sweep-9</a></strong> to <a href=\"https://wandb.ai/sb2539/osuleaf_mlp_gat_channel_rp_gr_grd_mk\" target=\"_blank\">Weights & Biases</a> (<a href=\"https://wandb.me/run\" target=\"_blank\">docs</a>)<br/>Sweep page:  <a href=\"https://wandb.ai/sb2539/osuleaf_mlp_gat_channel_rp_gr_grd_mk/sweeps/irqvhxia\" target=\"_blank\">https://wandb.ai/sb2539/osuleaf_mlp_gat_channel_rp_gr_grd_mk/sweeps/irqvhxia</a>"
            ]
          },
          "metadata": {}
        },
        {
          "output_type": "stream",
          "name": "stdout",
          "text": [
            "TRAIN: EPOCH 0001 / 0050 | Epoch LOSS 1.7900 | Epoch ACC 21.5000 | Val Loss 1.8107 | Val_acc 18.1818\n",
            "TRAIN: EPOCH 0002 / 0050 | Epoch LOSS 1.7646 | Epoch ACC 26.5000 | Val Loss 1.8132 | Val_acc 18.1818\n",
            "TRAIN: EPOCH 0003 / 0050 | Epoch LOSS 1.7616 | Epoch ACC 26.5000 | Val Loss 1.7855 | Val_acc 18.1818\n",
            "TRAIN: EPOCH 0004 / 0050 | Epoch LOSS 1.7659 | Epoch ACC 22.5000 | Val Loss 1.8263 | Val_acc 18.1818\n",
            "TRAIN: EPOCH 0005 / 0050 | Epoch LOSS 1.7601 | Epoch ACC 23.0000 | Val Loss 1.7823 | Val_acc 18.1818\n",
            "TRAIN: EPOCH 0006 / 0050 | Epoch LOSS 1.7498 | Epoch ACC 26.5000 | Val Loss 1.7939 | Val_acc 18.1818\n",
            "TRAIN: EPOCH 0007 / 0050 | Epoch LOSS 1.7406 | Epoch ACC 26.5000 | Val Loss 1.7945 | Val_acc 18.1818\n",
            "TRAIN: EPOCH 0008 / 0050 | Epoch LOSS 1.7373 | Epoch ACC 26.5000 | Val Loss 1.8075 | Val_acc 18.1818\n",
            "TRAIN: EPOCH 0009 / 0050 | Epoch LOSS 1.7336 | Epoch ACC 26.5000 | Val Loss 1.7822 | Val_acc 18.1818\n",
            "TRAIN: EPOCH 0010 / 0050 | Epoch LOSS 1.7337 | Epoch ACC 26.5000 | Val Loss 1.8025 | Val_acc 18.1818\n",
            "TRAIN: EPOCH 0011 / 0050 | Epoch LOSS 1.7251 | Epoch ACC 26.5000 | Val Loss 1.7747 | Val_acc 18.1818\n",
            "TRAIN: EPOCH 0012 / 0050 | Epoch LOSS 1.7192 | Epoch ACC 26.5000 | Val Loss 1.7705 | Val_acc 18.1818\n",
            "TRAIN: EPOCH 0013 / 0050 | Epoch LOSS 1.7060 | Epoch ACC 26.5000 | Val Loss 1.7584 | Val_acc 21.9008\n",
            "TRAIN: EPOCH 0014 / 0050 | Epoch LOSS 1.6883 | Epoch ACC 32.0000 | Val Loss 1.7269 | Val_acc 28.5124\n",
            "TRAIN: EPOCH 0015 / 0050 | Epoch LOSS 1.6566 | Epoch ACC 31.5000 | Val Loss 1.6741 | Val_acc 35.5372\n",
            "TRAIN: EPOCH 0016 / 0050 | Epoch LOSS 1.5722 | Epoch ACC 40.0000 | Val Loss 1.5949 | Val_acc 35.9504\n",
            "TRAIN: EPOCH 0017 / 0050 | Epoch LOSS 1.4364 | Epoch ACC 42.0000 | Val Loss 1.4713 | Val_acc 35.5372\n",
            "TRAIN: EPOCH 0018 / 0050 | Epoch LOSS 1.3198 | Epoch ACC 41.0000 | Val Loss 1.4356 | Val_acc 35.5372\n",
            "TRAIN: EPOCH 0019 / 0050 | Epoch LOSS 1.2524 | Epoch ACC 43.0000 | Val Loss 1.3510 | Val_acc 37.1901\n",
            "TRAIN: EPOCH 0020 / 0050 | Epoch LOSS 1.2006 | Epoch ACC 45.0000 | Val Loss 1.3234 | Val_acc 37.1901\n",
            "TRAIN: EPOCH 0021 / 0050 | Epoch LOSS 1.1758 | Epoch ACC 46.0000 | Val Loss 1.3338 | Val_acc 36.3636\n",
            "TRAIN: EPOCH 0022 / 0050 | Epoch LOSS 1.1707 | Epoch ACC 45.5000 | Val Loss 1.2999 | Val_acc 38.4298\n",
            "TRAIN: EPOCH 0023 / 0050 | Epoch LOSS 1.1521 | Epoch ACC 48.0000 | Val Loss 1.3117 | Val_acc 33.8843\n",
            "TRAIN: EPOCH 0024 / 0050 | Epoch LOSS 1.1020 | Epoch ACC 47.5000 | Val Loss 1.2910 | Val_acc 37.6033\n",
            "TRAIN: EPOCH 0025 / 0050 | Epoch LOSS 1.0883 | Epoch ACC 50.5000 | Val Loss 1.2568 | Val_acc 40.4959\n",
            "TRAIN: EPOCH 0026 / 0050 | Epoch LOSS 1.0892 | Epoch ACC 49.5000 | Val Loss 1.2477 | Val_acc 38.0165\n",
            "TRAIN: EPOCH 0027 / 0050 | Epoch LOSS 1.0657 | Epoch ACC 52.5000 | Val Loss 1.2666 | Val_acc 38.4298\n",
            "TRAIN: EPOCH 0028 / 0050 | Epoch LOSS 1.0583 | Epoch ACC 50.0000 | Val Loss 1.2287 | Val_acc 39.2562\n",
            "TRAIN: EPOCH 0029 / 0050 | Epoch LOSS 1.0046 | Epoch ACC 54.0000 | Val Loss 1.2048 | Val_acc 46.2810\n",
            "TRAIN: EPOCH 0030 / 0050 | Epoch LOSS 0.9576 | Epoch ACC 58.5000 | Val Loss 1.2457 | Val_acc 40.4959\n",
            "TRAIN: EPOCH 0031 / 0050 | Epoch LOSS 0.9343 | Epoch ACC 60.5000 | Val Loss 1.2187 | Val_acc 46.2810\n",
            "TRAIN: EPOCH 0032 / 0050 | Epoch LOSS 0.8908 | Epoch ACC 66.5000 | Val Loss 1.1825 | Val_acc 43.3884\n",
            "TRAIN: EPOCH 0033 / 0050 | Epoch LOSS 0.8370 | Epoch ACC 66.5000 | Val Loss 1.3332 | Val_acc 38.8430\n",
            "TRAIN: EPOCH 0034 / 0050 | Epoch LOSS 0.7987 | Epoch ACC 69.0000 | Val Loss 1.3083 | Val_acc 44.2149\n",
            "TRAIN: EPOCH 0035 / 0050 | Epoch LOSS 0.7613 | Epoch ACC 71.0000 | Val Loss 1.2903 | Val_acc 45.0413\n",
            "TRAIN: EPOCH 0036 / 0050 | Epoch LOSS 0.7152 | Epoch ACC 72.0000 | Val Loss 1.3750 | Val_acc 43.3884\n",
            "TRAIN: EPOCH 0037 / 0050 | Epoch LOSS 0.6261 | Epoch ACC 77.5000 | Val Loss 1.2324 | Val_acc 50.4132\n",
            "TRAIN: EPOCH 0038 / 0050 | Epoch LOSS 0.5697 | Epoch ACC 78.0000 | Val Loss 1.2302 | Val_acc 52.8926\n",
            "TRAIN: EPOCH 0039 / 0050 | Epoch LOSS 0.4728 | Epoch ACC 84.0000 | Val Loss 1.3634 | Val_acc 51.2397\n",
            "TRAIN: EPOCH 0040 / 0050 | Epoch LOSS 0.4172 | Epoch ACC 88.5000 | Val Loss 1.4089 | Val_acc 50.8264\n",
            "TRAIN: EPOCH 0041 / 0050 | Epoch LOSS 0.3889 | Epoch ACC 86.0000 | Val Loss 1.4176 | Val_acc 54.1322\n",
            "TRAIN: EPOCH 0042 / 0050 | Epoch LOSS 0.3431 | Epoch ACC 90.0000 | Val Loss 1.4449 | Val_acc 47.9339\n",
            "TRAIN: EPOCH 0043 / 0050 | Epoch LOSS 0.3225 | Epoch ACC 90.0000 | Val Loss 1.5603 | Val_acc 47.9339\n",
            "TRAIN: EPOCH 0044 / 0050 | Epoch LOSS 0.2833 | Epoch ACC 90.5000 | Val Loss 1.4905 | Val_acc 52.0661\n",
            "TRAIN: EPOCH 0045 / 0050 | Epoch LOSS 0.2341 | Epoch ACC 92.5000 | Val Loss 1.6366 | Val_acc 50.0000\n",
            "TRAIN: EPOCH 0046 / 0050 | Epoch LOSS 0.2198 | Epoch ACC 95.5000 | Val Loss 1.7415 | Val_acc 47.9339\n",
            "TRAIN: EPOCH 0047 / 0050 | Epoch LOSS 0.2193 | Epoch ACC 93.5000 | Val Loss 1.6184 | Val_acc 52.8926\n",
            "TRAIN: EPOCH 0048 / 0050 | Epoch LOSS 0.1679 | Epoch ACC 98.0000 | Val Loss 1.7532 | Val_acc 50.4132\n",
            "TRAIN: EPOCH 0049 / 0050 | Epoch LOSS 0.1310 | Epoch ACC 98.0000 | Val Loss 1.8447 | Val_acc 52.4793\n",
            "TRAIN: EPOCH 0050 / 0050 | Epoch LOSS 0.0987 | Epoch ACC 99.0000 | Val Loss 1.8622 | Val_acc 53.3058\n",
            "test: LOSS 1.8622 | Accuracy 53.3058 \n"
          ]
        },
        {
          "output_type": "display_data",
          "data": {
            "text/plain": [
              "<IPython.core.display.HTML object>"
            ],
            "text/html": [
              "Waiting for W&B process to finish... <strong style=\"color:green\">(success).</strong>"
            ]
          },
          "metadata": {}
        },
        {
          "output_type": "display_data",
          "data": {
            "text/plain": [
              "VBox(children=(Label(value='0.001 MB of 0.001 MB uploaded (0.000 MB deduped)\\r'), FloatProgress(value=1.0, max…"
            ],
            "application/vnd.jupyter.widget-view+json": {
              "version_major": 2,
              "version_minor": 0,
              "model_id": "65848e574a3f4e48be622c64180e3431"
            }
          },
          "metadata": {}
        },
        {
          "output_type": "display_data",
          "data": {
            "text/plain": [
              "<IPython.core.display.HTML object>"
            ],
            "text/html": [
              "<style>\n",
              "    table.wandb td:nth-child(1) { padding: 0 10px; text-align: left ; width: auto;} td:nth-child(2) {text-align: left ; width: 100%}\n",
              "    .wandb-row { display: flex; flex-direction: row; flex-wrap: wrap; justify-content: flex-start; width: 100% }\n",
              "    .wandb-col { display: flex; flex-direction: column; flex-basis: 100%; flex: 1; padding: 10px; }\n",
              "    </style>\n",
              "<div class=\"wandb-row\"><div class=\"wandb-col\"><h3>Run history:</h3><br/><table class=\"wandb\"><tr><td>test_acc</td><td>▁</td></tr><tr><td>test_loss</td><td>▁</td></tr><tr><td>train_acc</td><td>▁▁▁▁▁▁▁▁▁▁▁▂▃▃▃▃▃▃▃▃▄▄▄▄▅▅▅▅▆▆▆▇▇▇▇▇████</td></tr><tr><td>train_loss</td><td>████████████▇▇▆▆▅▅▅▅▅▅▅▅▄▄▄▄▄▃▃▃▂▂▂▂▂▁▁▁</td></tr></table><br/></div><div class=\"wandb-col\"><h3>Run summary:</h3><br/><table class=\"wandb\"><tr><td>test_acc</td><td>53.30579</td></tr><tr><td>test_loss</td><td>1.86224</td></tr><tr><td>train_acc</td><td>99.0</td></tr><tr><td>train_loss</td><td>0.09871</td></tr></table><br/></div></div>"
            ]
          },
          "metadata": {}
        },
        {
          "output_type": "display_data",
          "data": {
            "text/plain": [
              "<IPython.core.display.HTML object>"
            ],
            "text/html": [
              "Synced <strong style=\"color:#cdcd00\">avid-sweep-9</strong>: <a href=\"https://wandb.ai/sb2539/osuleaf_mlp_gat_channel_rp_gr_grd_mk/runs/hn41u6i9\" target=\"_blank\">https://wandb.ai/sb2539/osuleaf_mlp_gat_channel_rp_gr_grd_mk/runs/hn41u6i9</a><br/>Synced 5 W&B file(s), 0 media file(s), 0 artifact file(s) and 0 other file(s)"
            ]
          },
          "metadata": {}
        },
        {
          "output_type": "display_data",
          "data": {
            "text/plain": [
              "<IPython.core.display.HTML object>"
            ],
            "text/html": [
              "Find logs at: <code>./wandb/run-20220808_042550-hn41u6i9/logs</code>"
            ]
          },
          "metadata": {}
        },
        {
          "output_type": "stream",
          "name": "stderr",
          "text": [
            "\u001b[34m\u001b[1mwandb\u001b[0m: Agent Starting Run: 0hopg8zg with config:\n",
            "\u001b[34m\u001b[1mwandb\u001b[0m: \talpha: 0.2\n",
            "\u001b[34m\u001b[1mwandb\u001b[0m: \tchannel_dim: 64\n",
            "\u001b[34m\u001b[1mwandb\u001b[0m: \tdropout: 0\n",
            "\u001b[34m\u001b[1mwandb\u001b[0m: \tepochs: 50\n",
            "\u001b[34m\u001b[1mwandb\u001b[0m: \thidden_size: 128\n",
            "\u001b[34m\u001b[1mwandb\u001b[0m: \tlearning_rate: 0.0007188970019724419\n",
            "\u001b[34m\u001b[1mwandb\u001b[0m: \tnumber_of_layers: 16\n",
            "\u001b[34m\u001b[1mwandb\u001b[0m: \toptimizer: sgd\n",
            "\u001b[34m\u001b[1mwandb\u001b[0m: \tpatch_size: 4\n",
            "\u001b[34m\u001b[1mwandb\u001b[0m: \ttoken_dim: 32\n",
            "\u001b[34m\u001b[1mwandb\u001b[0m: \u001b[33mWARNING\u001b[0m Ignored wandb.init() arg entity when running a sweep.\n"
          ]
        },
        {
          "output_type": "display_data",
          "data": {
            "text/plain": [
              "<IPython.core.display.HTML object>"
            ],
            "text/html": [
              "Tracking run with wandb version 0.13.1"
            ]
          },
          "metadata": {}
        },
        {
          "output_type": "display_data",
          "data": {
            "text/plain": [
              "<IPython.core.display.HTML object>"
            ],
            "text/html": [
              "Run data is saved locally in <code>/content/wandb/run-20220808_042822-0hopg8zg</code>"
            ]
          },
          "metadata": {}
        },
        {
          "output_type": "display_data",
          "data": {
            "text/plain": [
              "<IPython.core.display.HTML object>"
            ],
            "text/html": [
              "Syncing run <strong><a href=\"https://wandb.ai/sb2539/osuleaf_mlp_gat_channel_rp_gr_grd_mk/runs/0hopg8zg\" target=\"_blank\">jolly-sweep-10</a></strong> to <a href=\"https://wandb.ai/sb2539/osuleaf_mlp_gat_channel_rp_gr_grd_mk\" target=\"_blank\">Weights & Biases</a> (<a href=\"https://wandb.me/run\" target=\"_blank\">docs</a>)<br/>Sweep page:  <a href=\"https://wandb.ai/sb2539/osuleaf_mlp_gat_channel_rp_gr_grd_mk/sweeps/irqvhxia\" target=\"_blank\">https://wandb.ai/sb2539/osuleaf_mlp_gat_channel_rp_gr_grd_mk/sweeps/irqvhxia</a>"
            ]
          },
          "metadata": {}
        },
        {
          "output_type": "stream",
          "name": "stdout",
          "text": [
            "TRAIN: EPOCH 0001 / 0050 | Epoch LOSS 1.7793 | Epoch ACC 22.5000 | Val Loss 1.8016 | Val_acc 13.2231\n",
            "TRAIN: EPOCH 0002 / 0050 | Epoch LOSS 1.7703 | Epoch ACC 22.5000 | Val Loss 1.8173 | Val_acc 18.1818\n",
            "TRAIN: EPOCH 0003 / 0050 | Epoch LOSS 1.7637 | Epoch ACC 23.5000 | Val Loss 1.8096 | Val_acc 18.1818\n",
            "TRAIN: EPOCH 0004 / 0050 | Epoch LOSS 1.7467 | Epoch ACC 24.5000 | Val Loss 1.7975 | Val_acc 18.1818\n",
            "TRAIN: EPOCH 0005 / 0050 | Epoch LOSS 1.7611 | Epoch ACC 26.5000 | Val Loss 1.7798 | Val_acc 18.1818\n",
            "TRAIN: EPOCH 0006 / 0050 | Epoch LOSS 1.7456 | Epoch ACC 26.5000 | Val Loss 1.8098 | Val_acc 18.1818\n",
            "TRAIN: EPOCH 0007 / 0050 | Epoch LOSS 1.7456 | Epoch ACC 22.5000 | Val Loss 1.7974 | Val_acc 18.1818\n",
            "TRAIN: EPOCH 0008 / 0050 | Epoch LOSS 1.7545 | Epoch ACC 21.5000 | Val Loss 1.8301 | Val_acc 18.1818\n",
            "TRAIN: EPOCH 0009 / 0050 | Epoch LOSS 1.7443 | Epoch ACC 26.5000 | Val Loss 1.7847 | Val_acc 18.1818\n",
            "TRAIN: EPOCH 0010 / 0050 | Epoch LOSS 1.7382 | Epoch ACC 24.0000 | Val Loss 1.8148 | Val_acc 18.1818\n",
            "TRAIN: EPOCH 0011 / 0050 | Epoch LOSS 1.7395 | Epoch ACC 26.5000 | Val Loss 1.7870 | Val_acc 19.8347\n",
            "TRAIN: EPOCH 0012 / 0050 | Epoch LOSS 1.7435 | Epoch ACC 29.5000 | Val Loss 1.7722 | Val_acc 18.5950\n",
            "TRAIN: EPOCH 0013 / 0050 | Epoch LOSS 1.7238 | Epoch ACC 26.5000 | Val Loss 1.7601 | Val_acc 18.1818\n",
            "TRAIN: EPOCH 0014 / 0050 | Epoch LOSS 1.7121 | Epoch ACC 26.5000 | Val Loss 1.7409 | Val_acc 18.1818\n",
            "TRAIN: EPOCH 0015 / 0050 | Epoch LOSS 1.6517 | Epoch ACC 30.0000 | Val Loss 1.6955 | Val_acc 34.2975\n",
            "TRAIN: EPOCH 0016 / 0050 | Epoch LOSS 1.5521 | Epoch ACC 41.0000 | Val Loss 1.5775 | Val_acc 28.5124\n",
            "TRAIN: EPOCH 0017 / 0050 | Epoch LOSS 1.3965 | Epoch ACC 42.5000 | Val Loss 1.4590 | Val_acc 35.9504\n",
            "TRAIN: EPOCH 0018 / 0050 | Epoch LOSS 1.2611 | Epoch ACC 47.5000 | Val Loss 1.3919 | Val_acc 34.7107\n",
            "TRAIN: EPOCH 0019 / 0050 | Epoch LOSS 1.1956 | Epoch ACC 47.0000 | Val Loss 1.3299 | Val_acc 34.7107\n",
            "TRAIN: EPOCH 0020 / 0050 | Epoch LOSS 1.1196 | Epoch ACC 52.0000 | Val Loss 1.3152 | Val_acc 40.0826\n",
            "TRAIN: EPOCH 0021 / 0050 | Epoch LOSS 1.0960 | Epoch ACC 47.5000 | Val Loss 1.3766 | Val_acc 35.9504\n",
            "TRAIN: EPOCH 0022 / 0050 | Epoch LOSS 1.0388 | Epoch ACC 50.0000 | Val Loss 1.3356 | Val_acc 38.8430\n",
            "TRAIN: EPOCH 0023 / 0050 | Epoch LOSS 1.0241 | Epoch ACC 52.0000 | Val Loss 1.3024 | Val_acc 41.3223\n",
            "TRAIN: EPOCH 0024 / 0050 | Epoch LOSS 0.9123 | Epoch ACC 60.0000 | Val Loss 1.3628 | Val_acc 34.7107\n",
            "TRAIN: EPOCH 0025 / 0050 | Epoch LOSS 0.9095 | Epoch ACC 58.0000 | Val Loss 1.3811 | Val_acc 35.5372\n",
            "TRAIN: EPOCH 0026 / 0050 | Epoch LOSS 0.8955 | Epoch ACC 58.5000 | Val Loss 1.3128 | Val_acc 44.2149\n",
            "TRAIN: EPOCH 0027 / 0050 | Epoch LOSS 0.8070 | Epoch ACC 64.5000 | Val Loss 1.3850 | Val_acc 45.0413\n",
            "TRAIN: EPOCH 0028 / 0050 | Epoch LOSS 0.7508 | Epoch ACC 63.0000 | Val Loss 1.4534 | Val_acc 43.3884\n",
            "TRAIN: EPOCH 0029 / 0050 | Epoch LOSS 0.6832 | Epoch ACC 69.0000 | Val Loss 1.4284 | Val_acc 41.3223\n",
            "TRAIN: EPOCH 0030 / 0050 | Epoch LOSS 0.6422 | Epoch ACC 70.0000 | Val Loss 1.4845 | Val_acc 44.6281\n",
            "TRAIN: EPOCH 0031 / 0050 | Epoch LOSS 0.5877 | Epoch ACC 71.5000 | Val Loss 1.3843 | Val_acc 45.8678\n",
            "TRAIN: EPOCH 0032 / 0050 | Epoch LOSS 0.5568 | Epoch ACC 77.0000 | Val Loss 1.4101 | Val_acc 42.9752\n",
            "TRAIN: EPOCH 0033 / 0050 | Epoch LOSS 0.5078 | Epoch ACC 77.0000 | Val Loss 1.4136 | Val_acc 42.9752\n",
            "TRAIN: EPOCH 0034 / 0050 | Epoch LOSS 0.4384 | Epoch ACC 87.0000 | Val Loss 1.5519 | Val_acc 45.4545\n",
            "TRAIN: EPOCH 0035 / 0050 | Epoch LOSS 0.3765 | Epoch ACC 87.5000 | Val Loss 1.4950 | Val_acc 47.9339\n",
            "TRAIN: EPOCH 0036 / 0050 | Epoch LOSS 0.3267 | Epoch ACC 90.5000 | Val Loss 1.5714 | Val_acc 47.1074\n",
            "TRAIN: EPOCH 0037 / 0050 | Epoch LOSS 0.3248 | Epoch ACC 88.5000 | Val Loss 1.7019 | Val_acc 46.6942\n",
            "TRAIN: EPOCH 0038 / 0050 | Epoch LOSS 0.2430 | Epoch ACC 93.0000 | Val Loss 1.6896 | Val_acc 50.0000\n",
            "TRAIN: EPOCH 0039 / 0050 | Epoch LOSS 0.2345 | Epoch ACC 91.5000 | Val Loss 1.6877 | Val_acc 51.2397\n",
            "TRAIN: EPOCH 0040 / 0050 | Epoch LOSS 0.2055 | Epoch ACC 94.0000 | Val Loss 1.7356 | Val_acc 50.4132\n",
            "TRAIN: EPOCH 0041 / 0050 | Epoch LOSS 0.2217 | Epoch ACC 91.5000 | Val Loss 1.8744 | Val_acc 47.9339\n",
            "TRAIN: EPOCH 0042 / 0050 | Epoch LOSS 0.1848 | Epoch ACC 93.5000 | Val Loss 1.8281 | Val_acc 47.1074\n",
            "TRAIN: EPOCH 0043 / 0050 | Epoch LOSS 0.3249 | Epoch ACC 89.0000 | Val Loss 1.5725 | Val_acc 47.9339\n",
            "TRAIN: EPOCH 0044 / 0050 | Epoch LOSS 0.2910 | Epoch ACC 89.5000 | Val Loss 1.7624 | Val_acc 47.5207\n",
            "TRAIN: EPOCH 0045 / 0050 | Epoch LOSS 0.3382 | Epoch ACC 87.0000 | Val Loss 1.8218 | Val_acc 50.0000\n",
            "TRAIN: EPOCH 0046 / 0050 | Epoch LOSS 0.2218 | Epoch ACC 92.0000 | Val Loss 1.8395 | Val_acc 47.5207\n",
            "TRAIN: EPOCH 0047 / 0050 | Epoch LOSS 0.1353 | Epoch ACC 96.5000 | Val Loss 2.0780 | Val_acc 47.1074\n",
            "TRAIN: EPOCH 0048 / 0050 | Epoch LOSS 0.1133 | Epoch ACC 96.5000 | Val Loss 2.0101 | Val_acc 51.6529\n",
            "TRAIN: EPOCH 0049 / 0050 | Epoch LOSS 0.0661 | Epoch ACC 99.0000 | Val Loss 2.1845 | Val_acc 50.4132\n",
            "TRAIN: EPOCH 0050 / 0050 | Epoch LOSS 0.0667 | Epoch ACC 98.5000 | Val Loss 2.1577 | Val_acc 48.3471\n",
            "test: LOSS 2.1577 | Accuracy 48.3471 \n"
          ]
        },
        {
          "output_type": "display_data",
          "data": {
            "text/plain": [
              "<IPython.core.display.HTML object>"
            ],
            "text/html": [
              "Waiting for W&B process to finish... <strong style=\"color:green\">(success).</strong>"
            ]
          },
          "metadata": {}
        },
        {
          "output_type": "display_data",
          "data": {
            "text/plain": [
              "VBox(children=(Label(value='0.001 MB of 0.001 MB uploaded (0.000 MB deduped)\\r'), FloatProgress(value=1.0, max…"
            ],
            "application/vnd.jupyter.widget-view+json": {
              "version_major": 2,
              "version_minor": 0,
              "model_id": "011cfbe561ea4cdcbc23ca001e8ca9ff"
            }
          },
          "metadata": {}
        },
        {
          "output_type": "display_data",
          "data": {
            "text/plain": [
              "<IPython.core.display.HTML object>"
            ],
            "text/html": [
              "<style>\n",
              "    table.wandb td:nth-child(1) { padding: 0 10px; text-align: left ; width: auto;} td:nth-child(2) {text-align: left ; width: 100%}\n",
              "    .wandb-row { display: flex; flex-direction: row; flex-wrap: wrap; justify-content: flex-start; width: 100% }\n",
              "    .wandb-col { display: flex; flex-direction: column; flex-basis: 100%; flex: 1; padding: 10px; }\n",
              "    </style>\n",
              "<div class=\"wandb-row\"><div class=\"wandb-col\"><h3>Run history:</h3><br/><table class=\"wandb\"><tr><td>test_acc</td><td>▁</td></tr><tr><td>test_loss</td><td>▁</td></tr><tr><td>train_acc</td><td>▁▁▁▁▁▁▁▁▁▂▁▁▃▃▃▃▃▄▄▅▄▅▅▅▆▆▆▇▇▇▇▇▇█▇▇▇███</td></tr><tr><td>train_loss</td><td>████████████▇▆▆▆▅▅▅▄▄▄▄▄▃▃▃▃▂▂▂▂▂▁▂▂▂▁▁▁</td></tr></table><br/></div><div class=\"wandb-col\"><h3>Run summary:</h3><br/><table class=\"wandb\"><tr><td>test_acc</td><td>48.34711</td></tr><tr><td>test_loss</td><td>2.15771</td></tr><tr><td>train_acc</td><td>98.5</td></tr><tr><td>train_loss</td><td>0.06671</td></tr></table><br/></div></div>"
            ]
          },
          "metadata": {}
        },
        {
          "output_type": "display_data",
          "data": {
            "text/plain": [
              "<IPython.core.display.HTML object>"
            ],
            "text/html": [
              "Synced <strong style=\"color:#cdcd00\">jolly-sweep-10</strong>: <a href=\"https://wandb.ai/sb2539/osuleaf_mlp_gat_channel_rp_gr_grd_mk/runs/0hopg8zg\" target=\"_blank\">https://wandb.ai/sb2539/osuleaf_mlp_gat_channel_rp_gr_grd_mk/runs/0hopg8zg</a><br/>Synced 5 W&B file(s), 0 media file(s), 0 artifact file(s) and 0 other file(s)"
            ]
          },
          "metadata": {}
        },
        {
          "output_type": "display_data",
          "data": {
            "text/plain": [
              "<IPython.core.display.HTML object>"
            ],
            "text/html": [
              "Find logs at: <code>./wandb/run-20220808_042822-0hopg8zg/logs</code>"
            ]
          },
          "metadata": {}
        },
        {
          "output_type": "stream",
          "name": "stderr",
          "text": [
            "\u001b[34m\u001b[1mwandb\u001b[0m: Agent Starting Run: jbqgn45z with config:\n",
            "\u001b[34m\u001b[1mwandb\u001b[0m: \talpha: 0.2\n",
            "\u001b[34m\u001b[1mwandb\u001b[0m: \tchannel_dim: 256\n",
            "\u001b[34m\u001b[1mwandb\u001b[0m: \tdropout: 0\n",
            "\u001b[34m\u001b[1mwandb\u001b[0m: \tepochs: 50\n",
            "\u001b[34m\u001b[1mwandb\u001b[0m: \thidden_size: 128\n",
            "\u001b[34m\u001b[1mwandb\u001b[0m: \tlearning_rate: 0.0007033957519279656\n",
            "\u001b[34m\u001b[1mwandb\u001b[0m: \tnumber_of_layers: 16\n",
            "\u001b[34m\u001b[1mwandb\u001b[0m: \toptimizer: adam\n",
            "\u001b[34m\u001b[1mwandb\u001b[0m: \tpatch_size: 8\n",
            "\u001b[34m\u001b[1mwandb\u001b[0m: \ttoken_dim: 128\n",
            "\u001b[34m\u001b[1mwandb\u001b[0m: \u001b[33mWARNING\u001b[0m Ignored wandb.init() arg entity when running a sweep.\n"
          ]
        },
        {
          "output_type": "display_data",
          "data": {
            "text/plain": [
              "<IPython.core.display.HTML object>"
            ],
            "text/html": [
              "Tracking run with wandb version 0.13.1"
            ]
          },
          "metadata": {}
        },
        {
          "output_type": "display_data",
          "data": {
            "text/plain": [
              "<IPython.core.display.HTML object>"
            ],
            "text/html": [
              "Run data is saved locally in <code>/content/wandb/run-20220808_043843-jbqgn45z</code>"
            ]
          },
          "metadata": {}
        },
        {
          "output_type": "display_data",
          "data": {
            "text/plain": [
              "<IPython.core.display.HTML object>"
            ],
            "text/html": [
              "Syncing run <strong><a href=\"https://wandb.ai/sb2539/osuleaf_mlp_gat_channel_rp_gr_grd_mk/runs/jbqgn45z\" target=\"_blank\">hardy-sweep-11</a></strong> to <a href=\"https://wandb.ai/sb2539/osuleaf_mlp_gat_channel_rp_gr_grd_mk\" target=\"_blank\">Weights & Biases</a> (<a href=\"https://wandb.me/run\" target=\"_blank\">docs</a>)<br/>Sweep page:  <a href=\"https://wandb.ai/sb2539/osuleaf_mlp_gat_channel_rp_gr_grd_mk/sweeps/irqvhxia\" target=\"_blank\">https://wandb.ai/sb2539/osuleaf_mlp_gat_channel_rp_gr_grd_mk/sweeps/irqvhxia</a>"
            ]
          },
          "metadata": {}
        },
        {
          "output_type": "stream",
          "name": "stdout",
          "text": [
            "TRAIN: EPOCH 0001 / 0050 | Epoch LOSS 1.8433 | Epoch ACC 22.5000 | Val Loss 1.7834 | Val_acc 18.1818\n",
            "TRAIN: EPOCH 0002 / 0050 | Epoch LOSS 1.7614 | Epoch ACC 22.5000 | Val Loss 1.7612 | Val_acc 18.1818\n",
            "TRAIN: EPOCH 0003 / 0050 | Epoch LOSS 1.7554 | Epoch ACC 23.0000 | Val Loss 1.7888 | Val_acc 18.1818\n",
            "TRAIN: EPOCH 0004 / 0050 | Epoch LOSS 1.6431 | Epoch ACC 28.0000 | Val Loss 1.5549 | Val_acc 30.5785\n",
            "TRAIN: EPOCH 0005 / 0050 | Epoch LOSS 1.3193 | Epoch ACC 42.0000 | Val Loss 1.5441 | Val_acc 26.4463\n",
            "TRAIN: EPOCH 0006 / 0050 | Epoch LOSS 1.2322 | Epoch ACC 45.0000 | Val Loss 1.3800 | Val_acc 33.8843\n",
            "TRAIN: EPOCH 0007 / 0050 | Epoch LOSS 1.2186 | Epoch ACC 42.5000 | Val Loss 1.3370 | Val_acc 34.7107\n",
            "TRAIN: EPOCH 0008 / 0050 | Epoch LOSS 1.0911 | Epoch ACC 50.5000 | Val Loss 1.3321 | Val_acc 33.4711\n",
            "TRAIN: EPOCH 0009 / 0050 | Epoch LOSS 1.0477 | Epoch ACC 51.0000 | Val Loss 1.4073 | Val_acc 36.7769\n",
            "TRAIN: EPOCH 0010 / 0050 | Epoch LOSS 1.0535 | Epoch ACC 47.0000 | Val Loss 1.4603 | Val_acc 40.4959\n",
            "TRAIN: EPOCH 0011 / 0050 | Epoch LOSS 0.9747 | Epoch ACC 56.0000 | Val Loss 1.3439 | Val_acc 38.0165\n",
            "TRAIN: EPOCH 0012 / 0050 | Epoch LOSS 0.8668 | Epoch ACC 61.0000 | Val Loss 1.4900 | Val_acc 45.4545\n",
            "TRAIN: EPOCH 0013 / 0050 | Epoch LOSS 0.8902 | Epoch ACC 61.5000 | Val Loss 1.6213 | Val_acc 44.2149\n",
            "TRAIN: EPOCH 0014 / 0050 | Epoch LOSS 0.7234 | Epoch ACC 68.0000 | Val Loss 1.3503 | Val_acc 48.7603\n",
            "TRAIN: EPOCH 0015 / 0050 | Epoch LOSS 0.6183 | Epoch ACC 71.5000 | Val Loss 1.5134 | Val_acc 50.0000\n",
            "TRAIN: EPOCH 0016 / 0050 | Epoch LOSS 0.5289 | Epoch ACC 75.0000 | Val Loss 1.6819 | Val_acc 48.3471\n",
            "TRAIN: EPOCH 0017 / 0050 | Epoch LOSS 0.4957 | Epoch ACC 77.0000 | Val Loss 1.7797 | Val_acc 47.5207\n",
            "TRAIN: EPOCH 0018 / 0050 | Epoch LOSS 0.4783 | Epoch ACC 80.5000 | Val Loss 1.6769 | Val_acc 44.2149\n",
            "TRAIN: EPOCH 0019 / 0050 | Epoch LOSS 0.5030 | Epoch ACC 79.0000 | Val Loss 1.6700 | Val_acc 47.9339\n",
            "TRAIN: EPOCH 0020 / 0050 | Epoch LOSS 0.4345 | Epoch ACC 81.0000 | Val Loss 1.8012 | Val_acc 50.4132\n",
            "TRAIN: EPOCH 0021 / 0050 | Epoch LOSS 0.4017 | Epoch ACC 83.0000 | Val Loss 1.8441 | Val_acc 47.5207\n",
            "TRAIN: EPOCH 0022 / 0050 | Epoch LOSS 0.3761 | Epoch ACC 85.5000 | Val Loss 1.9310 | Val_acc 50.4132\n",
            "TRAIN: EPOCH 0023 / 0050 | Epoch LOSS 0.2724 | Epoch ACC 89.5000 | Val Loss 1.9619 | Val_acc 54.1322\n",
            "TRAIN: EPOCH 0024 / 0050 | Epoch LOSS 0.2282 | Epoch ACC 91.0000 | Val Loss 1.8793 | Val_acc 57.8512\n",
            "TRAIN: EPOCH 0025 / 0050 | Epoch LOSS 0.1767 | Epoch ACC 94.5000 | Val Loss 2.1760 | Val_acc 52.0661\n",
            "TRAIN: EPOCH 0026 / 0050 | Epoch LOSS 0.1053 | Epoch ACC 97.5000 | Val Loss 2.0868 | Val_acc 54.9587\n",
            "TRAIN: EPOCH 0027 / 0050 | Epoch LOSS 0.1513 | Epoch ACC 95.5000 | Val Loss 2.1005 | Val_acc 55.3719\n",
            "TRAIN: EPOCH 0028 / 0050 | Epoch LOSS 0.0773 | Epoch ACC 97.5000 | Val Loss 2.1705 | Val_acc 56.1983\n",
            "TRAIN: EPOCH 0029 / 0050 | Epoch LOSS 0.0782 | Epoch ACC 97.5000 | Val Loss 2.6220 | Val_acc 50.0000\n",
            "TRAIN: EPOCH 0030 / 0050 | Epoch LOSS 0.5083 | Epoch ACC 82.5000 | Val Loss 2.0511 | Val_acc 47.1074\n",
            "TRAIN: EPOCH 0031 / 0050 | Epoch LOSS 0.3636 | Epoch ACC 87.5000 | Val Loss 1.9851 | Val_acc 51.6529\n",
            "TRAIN: EPOCH 0032 / 0050 | Epoch LOSS 0.1494 | Epoch ACC 95.5000 | Val Loss 2.1540 | Val_acc 51.6529\n",
            "TRAIN: EPOCH 0033 / 0050 | Epoch LOSS 0.1151 | Epoch ACC 97.0000 | Val Loss 2.2173 | Val_acc 51.6529\n",
            "TRAIN: EPOCH 0034 / 0050 | Epoch LOSS 0.0529 | Epoch ACC 99.0000 | Val Loss 2.3692 | Val_acc 51.6529\n",
            "TRAIN: EPOCH 0035 / 0050 | Epoch LOSS 0.0293 | Epoch ACC 99.5000 | Val Loss 2.4766 | Val_acc 51.2397\n",
            "TRAIN: EPOCH 0036 / 0050 | Epoch LOSS 0.0145 | Epoch ACC 100.0000 | Val Loss 2.6392 | Val_acc 53.3058\n",
            "TRAIN: EPOCH 0037 / 0050 | Epoch LOSS 0.0077 | Epoch ACC 100.0000 | Val Loss 2.6778 | Val_acc 53.7190\n",
            "TRAIN: EPOCH 0038 / 0050 | Epoch LOSS 0.0060 | Epoch ACC 100.0000 | Val Loss 2.7124 | Val_acc 53.3058\n",
            "TRAIN: EPOCH 0039 / 0050 | Epoch LOSS 0.0050 | Epoch ACC 100.0000 | Val Loss 2.7435 | Val_acc 52.8926\n",
            "TRAIN: EPOCH 0040 / 0050 | Epoch LOSS 0.0044 | Epoch ACC 100.0000 | Val Loss 2.7750 | Val_acc 53.3058\n",
            "TRAIN: EPOCH 0041 / 0050 | Epoch LOSS 0.0039 | Epoch ACC 100.0000 | Val Loss 2.8007 | Val_acc 53.3058\n",
            "TRAIN: EPOCH 0042 / 0050 | Epoch LOSS 0.0035 | Epoch ACC 100.0000 | Val Loss 2.8261 | Val_acc 53.7190\n",
            "TRAIN: EPOCH 0043 / 0050 | Epoch LOSS 0.0031 | Epoch ACC 100.0000 | Val Loss 2.8511 | Val_acc 53.7190\n",
            "TRAIN: EPOCH 0044 / 0050 | Epoch LOSS 0.0029 | Epoch ACC 100.0000 | Val Loss 2.8709 | Val_acc 53.7190\n",
            "TRAIN: EPOCH 0045 / 0050 | Epoch LOSS 0.0026 | Epoch ACC 100.0000 | Val Loss 2.8906 | Val_acc 53.7190\n",
            "TRAIN: EPOCH 0046 / 0050 | Epoch LOSS 0.0024 | Epoch ACC 100.0000 | Val Loss 2.9130 | Val_acc 53.7190\n",
            "TRAIN: EPOCH 0047 / 0050 | Epoch LOSS 0.0022 | Epoch ACC 100.0000 | Val Loss 2.9295 | Val_acc 53.7190\n",
            "TRAIN: EPOCH 0048 / 0050 | Epoch LOSS 0.0021 | Epoch ACC 100.0000 | Val Loss 2.9507 | Val_acc 53.7190\n",
            "TRAIN: EPOCH 0049 / 0050 | Epoch LOSS 0.0019 | Epoch ACC 100.0000 | Val Loss 2.9677 | Val_acc 53.7190\n",
            "TRAIN: EPOCH 0050 / 0050 | Epoch LOSS 0.0018 | Epoch ACC 100.0000 | Val Loss 2.9836 | Val_acc 53.7190\n",
            "test: LOSS 2.9836 | Accuracy 53.7190 \n"
          ]
        },
        {
          "output_type": "display_data",
          "data": {
            "text/plain": [
              "<IPython.core.display.HTML object>"
            ],
            "text/html": [
              "Waiting for W&B process to finish... <strong style=\"color:green\">(success).</strong>"
            ]
          },
          "metadata": {}
        },
        {
          "output_type": "display_data",
          "data": {
            "text/plain": [
              "VBox(children=(Label(value='0.001 MB of 0.001 MB uploaded (0.000 MB deduped)\\r'), FloatProgress(value=1.0, max…"
            ],
            "application/vnd.jupyter.widget-view+json": {
              "version_major": 2,
              "version_minor": 0,
              "model_id": "b0e0eb79c1154e22bdc8cf1664de33ab"
            }
          },
          "metadata": {}
        },
        {
          "output_type": "display_data",
          "data": {
            "text/plain": [
              "<IPython.core.display.HTML object>"
            ],
            "text/html": [
              "<style>\n",
              "    table.wandb td:nth-child(1) { padding: 0 10px; text-align: left ; width: auto;} td:nth-child(2) {text-align: left ; width: 100%}\n",
              "    .wandb-row { display: flex; flex-direction: row; flex-wrap: wrap; justify-content: flex-start; width: 100% }\n",
              "    .wandb-col { display: flex; flex-direction: column; flex-basis: 100%; flex: 1; padding: 10px; }\n",
              "    </style>\n",
              "<div class=\"wandb-row\"><div class=\"wandb-col\"><h3>Run history:</h3><br/><table class=\"wandb\"><tr><td>test_acc</td><td>▁</td></tr><tr><td>test_loss</td><td>▁</td></tr><tr><td>train_acc</td><td>▁▁▁▁▃▃▄▄▄▄▅▅▆▆▆▆▆▇▇▇████▇███████████████</td></tr><tr><td>train_loss</td><td>███▇▆▆▅▅▅▄▄▄▃▃▃▃▃▂▂▂▁▂▁▁▂▂▁▁▁▁▁▁▁▁▁▁▁▁▁▁</td></tr></table><br/></div><div class=\"wandb-col\"><h3>Run summary:</h3><br/><table class=\"wandb\"><tr><td>test_acc</td><td>53.71901</td></tr><tr><td>test_loss</td><td>2.98365</td></tr><tr><td>train_acc</td><td>100.0</td></tr><tr><td>train_loss</td><td>0.00181</td></tr></table><br/></div></div>"
            ]
          },
          "metadata": {}
        },
        {
          "output_type": "display_data",
          "data": {
            "text/plain": [
              "<IPython.core.display.HTML object>"
            ],
            "text/html": [
              "Synced <strong style=\"color:#cdcd00\">hardy-sweep-11</strong>: <a href=\"https://wandb.ai/sb2539/osuleaf_mlp_gat_channel_rp_gr_grd_mk/runs/jbqgn45z\" target=\"_blank\">https://wandb.ai/sb2539/osuleaf_mlp_gat_channel_rp_gr_grd_mk/runs/jbqgn45z</a><br/>Synced 5 W&B file(s), 0 media file(s), 0 artifact file(s) and 0 other file(s)"
            ]
          },
          "metadata": {}
        },
        {
          "output_type": "display_data",
          "data": {
            "text/plain": [
              "<IPython.core.display.HTML object>"
            ],
            "text/html": [
              "Find logs at: <code>./wandb/run-20220808_043843-jbqgn45z/logs</code>"
            ]
          },
          "metadata": {}
        },
        {
          "output_type": "stream",
          "name": "stderr",
          "text": [
            "\u001b[34m\u001b[1mwandb\u001b[0m: Sweep Agent: Waiting for job.\n",
            "\u001b[34m\u001b[1mwandb\u001b[0m: Job received.\n",
            "\u001b[34m\u001b[1mwandb\u001b[0m: Agent Starting Run: 90lon9p7 with config:\n",
            "\u001b[34m\u001b[1mwandb\u001b[0m: \talpha: 0.2\n",
            "\u001b[34m\u001b[1mwandb\u001b[0m: \tchannel_dim: 64\n",
            "\u001b[34m\u001b[1mwandb\u001b[0m: \tdropout: 0\n",
            "\u001b[34m\u001b[1mwandb\u001b[0m: \tepochs: 50\n",
            "\u001b[34m\u001b[1mwandb\u001b[0m: \thidden_size: 64\n",
            "\u001b[34m\u001b[1mwandb\u001b[0m: \tlearning_rate: 0.0005571826342387707\n",
            "\u001b[34m\u001b[1mwandb\u001b[0m: \tnumber_of_layers: 16\n",
            "\u001b[34m\u001b[1mwandb\u001b[0m: \toptimizer: adam\n",
            "\u001b[34m\u001b[1mwandb\u001b[0m: \tpatch_size: 8\n",
            "\u001b[34m\u001b[1mwandb\u001b[0m: \ttoken_dim: 64\n",
            "\u001b[34m\u001b[1mwandb\u001b[0m: \u001b[33mWARNING\u001b[0m Ignored wandb.init() arg entity when running a sweep.\n"
          ]
        },
        {
          "output_type": "display_data",
          "data": {
            "text/plain": [
              "<IPython.core.display.HTML object>"
            ],
            "text/html": [
              "Tracking run with wandb version 0.13.1"
            ]
          },
          "metadata": {}
        },
        {
          "output_type": "display_data",
          "data": {
            "text/plain": [
              "<IPython.core.display.HTML object>"
            ],
            "text/html": [
              "Run data is saved locally in <code>/content/wandb/run-20220808_044631-90lon9p7</code>"
            ]
          },
          "metadata": {}
        },
        {
          "output_type": "display_data",
          "data": {
            "text/plain": [
              "<IPython.core.display.HTML object>"
            ],
            "text/html": [
              "Syncing run <strong><a href=\"https://wandb.ai/sb2539/osuleaf_mlp_gat_channel_rp_gr_grd_mk/runs/90lon9p7\" target=\"_blank\">northern-sweep-12</a></strong> to <a href=\"https://wandb.ai/sb2539/osuleaf_mlp_gat_channel_rp_gr_grd_mk\" target=\"_blank\">Weights & Biases</a> (<a href=\"https://wandb.me/run\" target=\"_blank\">docs</a>)<br/>Sweep page:  <a href=\"https://wandb.ai/sb2539/osuleaf_mlp_gat_channel_rp_gr_grd_mk/sweeps/irqvhxia\" target=\"_blank\">https://wandb.ai/sb2539/osuleaf_mlp_gat_channel_rp_gr_grd_mk/sweeps/irqvhxia</a>"
            ]
          },
          "metadata": {}
        },
        {
          "output_type": "stream",
          "name": "stdout",
          "text": [
            "TRAIN: EPOCH 0001 / 0050 | Epoch LOSS 1.7869 | Epoch ACC 25.0000 | Val Loss 1.7844 | Val_acc 18.1818\n",
            "TRAIN: EPOCH 0002 / 0050 | Epoch LOSS 1.7451 | Epoch ACC 26.5000 | Val Loss 1.7510 | Val_acc 18.1818\n",
            "TRAIN: EPOCH 0003 / 0050 | Epoch LOSS 1.4994 | Epoch ACC 37.5000 | Val Loss 1.3561 | Val_acc 36.3636\n",
            "TRAIN: EPOCH 0004 / 0050 | Epoch LOSS 1.2623 | Epoch ACC 42.0000 | Val Loss 1.3908 | Val_acc 37.1901\n",
            "TRAIN: EPOCH 0005 / 0050 | Epoch LOSS 1.1788 | Epoch ACC 46.5000 | Val Loss 1.2860 | Val_acc 36.3636\n",
            "TRAIN: EPOCH 0006 / 0050 | Epoch LOSS 1.0671 | Epoch ACC 49.0000 | Val Loss 1.2998 | Val_acc 41.3223\n",
            "TRAIN: EPOCH 0007 / 0050 | Epoch LOSS 0.9216 | Epoch ACC 58.5000 | Val Loss 1.5021 | Val_acc 38.0165\n",
            "TRAIN: EPOCH 0008 / 0050 | Epoch LOSS 1.0161 | Epoch ACC 55.0000 | Val Loss 1.3666 | Val_acc 42.9752\n",
            "TRAIN: EPOCH 0009 / 0050 | Epoch LOSS 0.8344 | Epoch ACC 63.0000 | Val Loss 1.2961 | Val_acc 40.0826\n",
            "TRAIN: EPOCH 0010 / 0050 | Epoch LOSS 0.8323 | Epoch ACC 58.5000 | Val Loss 1.5434 | Val_acc 40.9091\n",
            "TRAIN: EPOCH 0011 / 0050 | Epoch LOSS 0.7377 | Epoch ACC 65.0000 | Val Loss 1.4574 | Val_acc 39.6694\n",
            "TRAIN: EPOCH 0012 / 0050 | Epoch LOSS 0.7340 | Epoch ACC 65.5000 | Val Loss 1.3742 | Val_acc 47.1074\n",
            "TRAIN: EPOCH 0013 / 0050 | Epoch LOSS 0.6052 | Epoch ACC 65.0000 | Val Loss 1.3973 | Val_acc 43.3884\n",
            "TRAIN: EPOCH 0014 / 0050 | Epoch LOSS 0.5176 | Epoch ACC 74.0000 | Val Loss 1.4863 | Val_acc 47.1074\n",
            "TRAIN: EPOCH 0015 / 0050 | Epoch LOSS 0.4538 | Epoch ACC 82.0000 | Val Loss 1.4555 | Val_acc 47.9339\n",
            "TRAIN: EPOCH 0016 / 0050 | Epoch LOSS 0.3959 | Epoch ACC 86.0000 | Val Loss 1.7870 | Val_acc 45.8678\n",
            "TRAIN: EPOCH 0017 / 0050 | Epoch LOSS 0.4230 | Epoch ACC 84.5000 | Val Loss 1.3543 | Val_acc 51.6529\n",
            "TRAIN: EPOCH 0018 / 0050 | Epoch LOSS 0.3265 | Epoch ACC 90.0000 | Val Loss 1.5377 | Val_acc 49.5868\n",
            "TRAIN: EPOCH 0019 / 0050 | Epoch LOSS 0.2835 | Epoch ACC 89.5000 | Val Loss 1.5036 | Val_acc 52.0661\n",
            "TRAIN: EPOCH 0020 / 0050 | Epoch LOSS 0.2059 | Epoch ACC 94.0000 | Val Loss 1.7329 | Val_acc 49.1736\n",
            "TRAIN: EPOCH 0021 / 0050 | Epoch LOSS 0.2002 | Epoch ACC 93.0000 | Val Loss 1.6804 | Val_acc 51.6529\n",
            "TRAIN: EPOCH 0022 / 0050 | Epoch LOSS 0.1574 | Epoch ACC 95.0000 | Val Loss 2.0950 | Val_acc 47.1074\n",
            "TRAIN: EPOCH 0023 / 0050 | Epoch LOSS 0.2287 | Epoch ACC 92.5000 | Val Loss 1.8964 | Val_acc 48.3471\n",
            "TRAIN: EPOCH 0024 / 0050 | Epoch LOSS 0.2093 | Epoch ACC 93.5000 | Val Loss 1.7581 | Val_acc 52.8926\n",
            "TRAIN: EPOCH 0025 / 0050 | Epoch LOSS 0.0823 | Epoch ACC 98.5000 | Val Loss 1.9334 | Val_acc 55.7851\n",
            "TRAIN: EPOCH 0026 / 0050 | Epoch LOSS 0.1376 | Epoch ACC 95.5000 | Val Loss 1.7651 | Val_acc 50.8264\n",
            "TRAIN: EPOCH 0027 / 0050 | Epoch LOSS 0.0953 | Epoch ACC 97.5000 | Val Loss 1.8280 | Val_acc 52.8926\n",
            "TRAIN: EPOCH 0028 / 0050 | Epoch LOSS 0.0478 | Epoch ACC 98.5000 | Val Loss 1.9959 | Val_acc 52.0661\n",
            "TRAIN: EPOCH 0029 / 0050 | Epoch LOSS 0.0247 | Epoch ACC 99.5000 | Val Loss 2.1458 | Val_acc 53.3058\n",
            "TRAIN: EPOCH 0030 / 0050 | Epoch LOSS 0.0441 | Epoch ACC 99.5000 | Val Loss 2.0182 | Val_acc 54.9587\n",
            "TRAIN: EPOCH 0031 / 0050 | Epoch LOSS 0.0140 | Epoch ACC 100.0000 | Val Loss 2.0805 | Val_acc 53.3058\n",
            "TRAIN: EPOCH 0032 / 0050 | Epoch LOSS 0.0101 | Epoch ACC 100.0000 | Val Loss 2.1759 | Val_acc 53.3058\n",
            "TRAIN: EPOCH 0033 / 0050 | Epoch LOSS 0.0081 | Epoch ACC 100.0000 | Val Loss 2.1833 | Val_acc 53.7190\n",
            "TRAIN: EPOCH 0034 / 0050 | Epoch LOSS 0.0072 | Epoch ACC 100.0000 | Val Loss 2.1996 | Val_acc 54.5455\n",
            "TRAIN: EPOCH 0035 / 0050 | Epoch LOSS 0.0065 | Epoch ACC 100.0000 | Val Loss 2.2230 | Val_acc 54.1322\n",
            "TRAIN: EPOCH 0036 / 0050 | Epoch LOSS 0.0060 | Epoch ACC 100.0000 | Val Loss 2.2445 | Val_acc 54.1322\n",
            "TRAIN: EPOCH 0037 / 0050 | Epoch LOSS 0.0055 | Epoch ACC 100.0000 | Val Loss 2.2597 | Val_acc 54.1322\n",
            "TRAIN: EPOCH 0038 / 0050 | Epoch LOSS 0.0051 | Epoch ACC 100.0000 | Val Loss 2.2829 | Val_acc 54.1322\n",
            "TRAIN: EPOCH 0039 / 0050 | Epoch LOSS 0.0048 | Epoch ACC 100.0000 | Val Loss 2.2996 | Val_acc 54.1322\n",
            "TRAIN: EPOCH 0040 / 0050 | Epoch LOSS 0.0044 | Epoch ACC 100.0000 | Val Loss 2.3183 | Val_acc 54.1322\n",
            "TRAIN: EPOCH 0041 / 0050 | Epoch LOSS 0.0042 | Epoch ACC 100.0000 | Val Loss 2.3326 | Val_acc 53.7190\n",
            "TRAIN: EPOCH 0042 / 0050 | Epoch LOSS 0.0039 | Epoch ACC 100.0000 | Val Loss 2.3540 | Val_acc 53.7190\n",
            "TRAIN: EPOCH 0043 / 0050 | Epoch LOSS 0.0037 | Epoch ACC 100.0000 | Val Loss 2.3702 | Val_acc 53.7190\n",
            "TRAIN: EPOCH 0044 / 0050 | Epoch LOSS 0.0035 | Epoch ACC 100.0000 | Val Loss 2.3835 | Val_acc 53.7190\n",
            "TRAIN: EPOCH 0045 / 0050 | Epoch LOSS 0.0033 | Epoch ACC 100.0000 | Val Loss 2.3980 | Val_acc 53.7190\n",
            "TRAIN: EPOCH 0046 / 0050 | Epoch LOSS 0.0031 | Epoch ACC 100.0000 | Val Loss 2.4129 | Val_acc 53.7190\n",
            "TRAIN: EPOCH 0047 / 0050 | Epoch LOSS 0.0030 | Epoch ACC 100.0000 | Val Loss 2.4293 | Val_acc 53.7190\n",
            "TRAIN: EPOCH 0048 / 0050 | Epoch LOSS 0.0028 | Epoch ACC 100.0000 | Val Loss 2.4443 | Val_acc 53.7190\n",
            "TRAIN: EPOCH 0049 / 0050 | Epoch LOSS 0.0027 | Epoch ACC 100.0000 | Val Loss 2.4559 | Val_acc 53.7190\n",
            "TRAIN: EPOCH 0050 / 0050 | Epoch LOSS 0.0026 | Epoch ACC 100.0000 | Val Loss 2.4710 | Val_acc 53.7190\n",
            "test: LOSS 2.4710 | Accuracy 53.7190 \n"
          ]
        },
        {
          "output_type": "display_data",
          "data": {
            "text/plain": [
              "<IPython.core.display.HTML object>"
            ],
            "text/html": [
              "Waiting for W&B process to finish... <strong style=\"color:green\">(success).</strong>"
            ]
          },
          "metadata": {}
        },
        {
          "output_type": "display_data",
          "data": {
            "text/plain": [
              "VBox(children=(Label(value='0.001 MB of 0.001 MB uploaded (0.000 MB deduped)\\r'), FloatProgress(value=1.0, max…"
            ],
            "application/vnd.jupyter.widget-view+json": {
              "version_major": 2,
              "version_minor": 0,
              "model_id": "df3b15982ca34a5497ded0cc1bb25421"
            }
          },
          "metadata": {}
        },
        {
          "output_type": "display_data",
          "data": {
            "text/plain": [
              "<IPython.core.display.HTML object>"
            ],
            "text/html": [
              "<style>\n",
              "    table.wandb td:nth-child(1) { padding: 0 10px; text-align: left ; width: auto;} td:nth-child(2) {text-align: left ; width: 100%}\n",
              "    .wandb-row { display: flex; flex-direction: row; flex-wrap: wrap; justify-content: flex-start; width: 100% }\n",
              "    .wandb-col { display: flex; flex-direction: column; flex-basis: 100%; flex: 1; padding: 10px; }\n",
              "    </style>\n",
              "<div class=\"wandb-row\"><div class=\"wandb-col\"><h3>Run history:</h3><br/><table class=\"wandb\"><tr><td>test_acc</td><td>▁</td></tr><tr><td>test_loss</td><td>▁</td></tr><tr><td>train_acc</td><td>▁▁▂▃▃▄▄▅▅▅▅▆▇▇▇▇▇█▇▇████████████████████</td></tr><tr><td>train_loss</td><td>██▇▆▅▅▅▄▄▄▃▃▃▃▂▂▂▂▂▂▂▁▁▁▁▁▁▁▁▁▁▁▁▁▁▁▁▁▁▁</td></tr></table><br/></div><div class=\"wandb-col\"><h3>Run summary:</h3><br/><table class=\"wandb\"><tr><td>test_acc</td><td>53.71901</td></tr><tr><td>test_loss</td><td>2.47096</td></tr><tr><td>train_acc</td><td>100.0</td></tr><tr><td>train_loss</td><td>0.00256</td></tr></table><br/></div></div>"
            ]
          },
          "metadata": {}
        },
        {
          "output_type": "display_data",
          "data": {
            "text/plain": [
              "<IPython.core.display.HTML object>"
            ],
            "text/html": [
              "Synced <strong style=\"color:#cdcd00\">northern-sweep-12</strong>: <a href=\"https://wandb.ai/sb2539/osuleaf_mlp_gat_channel_rp_gr_grd_mk/runs/90lon9p7\" target=\"_blank\">https://wandb.ai/sb2539/osuleaf_mlp_gat_channel_rp_gr_grd_mk/runs/90lon9p7</a><br/>Synced 5 W&B file(s), 0 media file(s), 0 artifact file(s) and 0 other file(s)"
            ]
          },
          "metadata": {}
        },
        {
          "output_type": "display_data",
          "data": {
            "text/plain": [
              "<IPython.core.display.HTML object>"
            ],
            "text/html": [
              "Find logs at: <code>./wandb/run-20220808_044631-90lon9p7/logs</code>"
            ]
          },
          "metadata": {}
        },
        {
          "output_type": "stream",
          "name": "stderr",
          "text": [
            "\u001b[34m\u001b[1mwandb\u001b[0m: Agent Starting Run: celrvruw with config:\n",
            "\u001b[34m\u001b[1mwandb\u001b[0m: \talpha: 0.2\n",
            "\u001b[34m\u001b[1mwandb\u001b[0m: \tchannel_dim: 64\n",
            "\u001b[34m\u001b[1mwandb\u001b[0m: \tdropout: 0\n",
            "\u001b[34m\u001b[1mwandb\u001b[0m: \tepochs: 50\n",
            "\u001b[34m\u001b[1mwandb\u001b[0m: \thidden_size: 64\n",
            "\u001b[34m\u001b[1mwandb\u001b[0m: \tlearning_rate: 0.0008486086203016983\n",
            "\u001b[34m\u001b[1mwandb\u001b[0m: \tnumber_of_layers: 16\n",
            "\u001b[34m\u001b[1mwandb\u001b[0m: \toptimizer: adam\n",
            "\u001b[34m\u001b[1mwandb\u001b[0m: \tpatch_size: 16\n",
            "\u001b[34m\u001b[1mwandb\u001b[0m: \ttoken_dim: 128\n",
            "\u001b[34m\u001b[1mwandb\u001b[0m: \u001b[33mWARNING\u001b[0m Ignored wandb.init() arg entity when running a sweep.\n"
          ]
        },
        {
          "output_type": "display_data",
          "data": {
            "text/plain": [
              "<IPython.core.display.HTML object>"
            ],
            "text/html": [
              "Tracking run with wandb version 0.13.1"
            ]
          },
          "metadata": {}
        },
        {
          "output_type": "display_data",
          "data": {
            "text/plain": [
              "<IPython.core.display.HTML object>"
            ],
            "text/html": [
              "Run data is saved locally in <code>/content/wandb/run-20220808_045024-celrvruw</code>"
            ]
          },
          "metadata": {}
        },
        {
          "output_type": "display_data",
          "data": {
            "text/plain": [
              "<IPython.core.display.HTML object>"
            ],
            "text/html": [
              "Syncing run <strong><a href=\"https://wandb.ai/sb2539/osuleaf_mlp_gat_channel_rp_gr_grd_mk/runs/celrvruw\" target=\"_blank\">sandy-sweep-13</a></strong> to <a href=\"https://wandb.ai/sb2539/osuleaf_mlp_gat_channel_rp_gr_grd_mk\" target=\"_blank\">Weights & Biases</a> (<a href=\"https://wandb.me/run\" target=\"_blank\">docs</a>)<br/>Sweep page:  <a href=\"https://wandb.ai/sb2539/osuleaf_mlp_gat_channel_rp_gr_grd_mk/sweeps/irqvhxia\" target=\"_blank\">https://wandb.ai/sb2539/osuleaf_mlp_gat_channel_rp_gr_grd_mk/sweeps/irqvhxia</a>"
            ]
          },
          "metadata": {}
        },
        {
          "output_type": "stream",
          "name": "stdout",
          "text": [
            "TRAIN: EPOCH 0001 / 0050 | Epoch LOSS 1.8009 | Epoch ACC 19.0000 | Val Loss 1.8076 | Val_acc 18.1818\n",
            "TRAIN: EPOCH 0002 / 0050 | Epoch LOSS 1.7623 | Epoch ACC 26.5000 | Val Loss 1.7869 | Val_acc 18.1818\n",
            "TRAIN: EPOCH 0003 / 0050 | Epoch LOSS 1.7448 | Epoch ACC 26.5000 | Val Loss 1.7958 | Val_acc 18.1818\n",
            "TRAIN: EPOCH 0004 / 0050 | Epoch LOSS 1.7464 | Epoch ACC 26.5000 | Val Loss 1.7933 | Val_acc 18.1818\n",
            "TRAIN: EPOCH 0005 / 0050 | Epoch LOSS 1.6809 | Epoch ACC 29.0000 | Val Loss 1.6970 | Val_acc 26.4463\n",
            "TRAIN: EPOCH 0006 / 0050 | Epoch LOSS 1.5135 | Epoch ACC 33.0000 | Val Loss 2.0568 | Val_acc 16.5289\n",
            "TRAIN: EPOCH 0007 / 0050 | Epoch LOSS 1.5413 | Epoch ACC 35.0000 | Val Loss 1.6228 | Val_acc 26.8595\n",
            "TRAIN: EPOCH 0008 / 0050 | Epoch LOSS 1.3986 | Epoch ACC 39.5000 | Val Loss 1.6049 | Val_acc 32.6446\n",
            "TRAIN: EPOCH 0009 / 0050 | Epoch LOSS 1.3070 | Epoch ACC 41.5000 | Val Loss 1.4804 | Val_acc 38.0165\n",
            "TRAIN: EPOCH 0010 / 0050 | Epoch LOSS 1.3863 | Epoch ACC 47.5000 | Val Loss 1.4808 | Val_acc 30.9917\n",
            "TRAIN: EPOCH 0011 / 0050 | Epoch LOSS 1.2265 | Epoch ACC 40.5000 | Val Loss 1.4219 | Val_acc 38.4298\n",
            "TRAIN: EPOCH 0012 / 0050 | Epoch LOSS 1.1392 | Epoch ACC 52.0000 | Val Loss 1.5056 | Val_acc 39.6694\n",
            "TRAIN: EPOCH 0013 / 0050 | Epoch LOSS 1.1643 | Epoch ACC 49.0000 | Val Loss 1.4817 | Val_acc 36.3636\n",
            "TRAIN: EPOCH 0014 / 0050 | Epoch LOSS 1.0398 | Epoch ACC 56.5000 | Val Loss 1.3893 | Val_acc 45.8678\n",
            "TRAIN: EPOCH 0015 / 0050 | Epoch LOSS 0.9575 | Epoch ACC 59.5000 | Val Loss 1.4105 | Val_acc 40.9091\n",
            "TRAIN: EPOCH 0016 / 0050 | Epoch LOSS 0.8698 | Epoch ACC 65.0000 | Val Loss 1.6447 | Val_acc 42.5620\n",
            "TRAIN: EPOCH 0017 / 0050 | Epoch LOSS 0.9487 | Epoch ACC 58.5000 | Val Loss 1.3947 | Val_acc 43.8017\n",
            "TRAIN: EPOCH 0018 / 0050 | Epoch LOSS 0.9126 | Epoch ACC 64.0000 | Val Loss 1.4812 | Val_acc 44.2149\n",
            "TRAIN: EPOCH 0019 / 0050 | Epoch LOSS 0.8302 | Epoch ACC 69.0000 | Val Loss 1.4310 | Val_acc 51.2397\n",
            "TRAIN: EPOCH 0020 / 0050 | Epoch LOSS 0.7811 | Epoch ACC 69.0000 | Val Loss 1.5330 | Val_acc 43.8017\n",
            "TRAIN: EPOCH 0021 / 0050 | Epoch LOSS 0.7801 | Epoch ACC 69.5000 | Val Loss 1.3913 | Val_acc 50.0000\n",
            "TRAIN: EPOCH 0022 / 0050 | Epoch LOSS 0.7531 | Epoch ACC 70.5000 | Val Loss 1.3785 | Val_acc 46.6942\n",
            "TRAIN: EPOCH 0023 / 0050 | Epoch LOSS 0.7655 | Epoch ACC 67.5000 | Val Loss 1.5337 | Val_acc 47.5207\n",
            "TRAIN: EPOCH 0024 / 0050 | Epoch LOSS 0.6361 | Epoch ACC 73.5000 | Val Loss 1.4983 | Val_acc 48.3471\n",
            "TRAIN: EPOCH 0025 / 0050 | Epoch LOSS 0.5513 | Epoch ACC 77.0000 | Val Loss 1.5522 | Val_acc 48.3471\n",
            "TRAIN: EPOCH 0026 / 0050 | Epoch LOSS 0.5291 | Epoch ACC 80.0000 | Val Loss 1.5951 | Val_acc 50.4132\n",
            "TRAIN: EPOCH 0027 / 0050 | Epoch LOSS 0.6297 | Epoch ACC 75.5000 | Val Loss 1.8001 | Val_acc 47.5207\n",
            "TRAIN: EPOCH 0028 / 0050 | Epoch LOSS 0.8200 | Epoch ACC 67.0000 | Val Loss 1.6421 | Val_acc 47.5207\n",
            "TRAIN: EPOCH 0029 / 0050 | Epoch LOSS 0.6647 | Epoch ACC 72.0000 | Val Loss 1.6059 | Val_acc 46.2810\n",
            "TRAIN: EPOCH 0030 / 0050 | Epoch LOSS 0.5568 | Epoch ACC 77.0000 | Val Loss 1.7014 | Val_acc 46.6942\n",
            "TRAIN: EPOCH 0031 / 0050 | Epoch LOSS 0.5340 | Epoch ACC 79.5000 | Val Loss 1.6784 | Val_acc 48.3471\n",
            "TRAIN: EPOCH 0032 / 0050 | Epoch LOSS 0.4986 | Epoch ACC 81.5000 | Val Loss 1.6552 | Val_acc 45.8678\n",
            "TRAIN: EPOCH 0033 / 0050 | Epoch LOSS 0.5346 | Epoch ACC 82.0000 | Val Loss 1.6329 | Val_acc 47.1074\n",
            "TRAIN: EPOCH 0034 / 0050 | Epoch LOSS 0.6373 | Epoch ACC 78.5000 | Val Loss 1.4494 | Val_acc 49.1736\n",
            "TRAIN: EPOCH 0035 / 0050 | Epoch LOSS 0.5011 | Epoch ACC 80.0000 | Val Loss 1.5372 | Val_acc 46.2810\n",
            "TRAIN: EPOCH 0036 / 0050 | Epoch LOSS 0.3757 | Epoch ACC 89.0000 | Val Loss 1.6897 | Val_acc 47.9339\n",
            "TRAIN: EPOCH 0037 / 0050 | Epoch LOSS 0.2628 | Epoch ACC 91.0000 | Val Loss 1.8753 | Val_acc 46.6942\n",
            "TRAIN: EPOCH 0038 / 0050 | Epoch LOSS 0.2690 | Epoch ACC 91.5000 | Val Loss 2.0001 | Val_acc 44.2149\n",
            "TRAIN: EPOCH 0039 / 0050 | Epoch LOSS 0.3463 | Epoch ACC 89.0000 | Val Loss 2.1987 | Val_acc 42.1488\n",
            "TRAIN: EPOCH 0040 / 0050 | Epoch LOSS 0.5016 | Epoch ACC 83.0000 | Val Loss 1.9013 | Val_acc 46.6942\n",
            "TRAIN: EPOCH 0041 / 0050 | Epoch LOSS 0.6251 | Epoch ACC 79.0000 | Val Loss 1.8078 | Val_acc 46.2810\n",
            "TRAIN: EPOCH 0042 / 0050 | Epoch LOSS 0.4049 | Epoch ACC 86.5000 | Val Loss 1.7582 | Val_acc 46.2810\n",
            "TRAIN: EPOCH 0043 / 0050 | Epoch LOSS 0.2905 | Epoch ACC 92.0000 | Val Loss 1.9242 | Val_acc 43.3884\n",
            "TRAIN: EPOCH 0044 / 0050 | Epoch LOSS 0.3139 | Epoch ACC 89.5000 | Val Loss 2.1012 | Val_acc 43.3884\n",
            "TRAIN: EPOCH 0045 / 0050 | Epoch LOSS 0.6868 | Epoch ACC 76.0000 | Val Loss 1.7653 | Val_acc 46.6942\n",
            "TRAIN: EPOCH 0046 / 0050 | Epoch LOSS 0.4642 | Epoch ACC 84.5000 | Val Loss 1.9517 | Val_acc 39.2562\n",
            "TRAIN: EPOCH 0047 / 0050 | Epoch LOSS 0.4172 | Epoch ACC 85.5000 | Val Loss 1.7343 | Val_acc 45.8678\n",
            "TRAIN: EPOCH 0048 / 0050 | Epoch LOSS 0.2619 | Epoch ACC 92.0000 | Val Loss 1.9520 | Val_acc 42.9752\n",
            "TRAIN: EPOCH 0049 / 0050 | Epoch LOSS 0.3131 | Epoch ACC 90.5000 | Val Loss 1.8834 | Val_acc 48.3471\n",
            "TRAIN: EPOCH 0050 / 0050 | Epoch LOSS 0.2172 | Epoch ACC 94.0000 | Val Loss 1.9139 | Val_acc 47.1074\n",
            "test: LOSS 1.9139 | Accuracy 47.1074 \n"
          ]
        },
        {
          "output_type": "display_data",
          "data": {
            "text/plain": [
              "<IPython.core.display.HTML object>"
            ],
            "text/html": [
              "Waiting for W&B process to finish... <strong style=\"color:green\">(success).</strong>"
            ]
          },
          "metadata": {}
        },
        {
          "output_type": "display_data",
          "data": {
            "text/plain": [
              "VBox(children=(Label(value='0.001 MB of 0.001 MB uploaded (0.000 MB deduped)\\r'), FloatProgress(value=1.0, max…"
            ],
            "application/vnd.jupyter.widget-view+json": {
              "version_major": 2,
              "version_minor": 0,
              "model_id": "7f5978345ce54c5ba30d0366c21d8071"
            }
          },
          "metadata": {}
        },
        {
          "output_type": "display_data",
          "data": {
            "text/plain": [
              "<IPython.core.display.HTML object>"
            ],
            "text/html": [
              "<style>\n",
              "    table.wandb td:nth-child(1) { padding: 0 10px; text-align: left ; width: auto;} td:nth-child(2) {text-align: left ; width: 100%}\n",
              "    .wandb-row { display: flex; flex-direction: row; flex-wrap: wrap; justify-content: flex-start; width: 100% }\n",
              "    .wandb-col { display: flex; flex-direction: column; flex-basis: 100%; flex: 1; padding: 10px; }\n",
              "    </style>\n",
              "<div class=\"wandb-row\"><div class=\"wandb-col\"><h3>Run history:</h3><br/><table class=\"wandb\"><tr><td>test_acc</td><td>▁</td></tr><tr><td>test_loss</td><td>▁</td></tr><tr><td>train_acc</td><td>▁▂▂▂▂▂▃▃▃▄▄▅▅▅▅▆▆▆▆▆▇▆▅▆▇▇▇▇████▇▇██▇▇██</td></tr><tr><td>train_loss</td><td>████▇▇▆▆▅▅▅▅▄▄▄▄▃▃▃▃▂▃▄▃▂▂▂▃▂▁▁▂▃▂▁▁▂▂▁▁</td></tr></table><br/></div><div class=\"wandb-col\"><h3>Run summary:</h3><br/><table class=\"wandb\"><tr><td>test_acc</td><td>47.10744</td></tr><tr><td>test_loss</td><td>1.91389</td></tr><tr><td>train_acc</td><td>94.0</td></tr><tr><td>train_loss</td><td>0.21719</td></tr></table><br/></div></div>"
            ]
          },
          "metadata": {}
        },
        {
          "output_type": "display_data",
          "data": {
            "text/plain": [
              "<IPython.core.display.HTML object>"
            ],
            "text/html": [
              "Synced <strong style=\"color:#cdcd00\">sandy-sweep-13</strong>: <a href=\"https://wandb.ai/sb2539/osuleaf_mlp_gat_channel_rp_gr_grd_mk/runs/celrvruw\" target=\"_blank\">https://wandb.ai/sb2539/osuleaf_mlp_gat_channel_rp_gr_grd_mk/runs/celrvruw</a><br/>Synced 5 W&B file(s), 0 media file(s), 0 artifact file(s) and 0 other file(s)"
            ]
          },
          "metadata": {}
        },
        {
          "output_type": "display_data",
          "data": {
            "text/plain": [
              "<IPython.core.display.HTML object>"
            ],
            "text/html": [
              "Find logs at: <code>./wandb/run-20220808_045024-celrvruw/logs</code>"
            ]
          },
          "metadata": {}
        },
        {
          "output_type": "stream",
          "name": "stderr",
          "text": [
            "\u001b[34m\u001b[1mwandb\u001b[0m: Agent Starting Run: p27j6qv0 with config:\n",
            "\u001b[34m\u001b[1mwandb\u001b[0m: \talpha: 0.2\n",
            "\u001b[34m\u001b[1mwandb\u001b[0m: \tchannel_dim: 256\n",
            "\u001b[34m\u001b[1mwandb\u001b[0m: \tdropout: 0\n",
            "\u001b[34m\u001b[1mwandb\u001b[0m: \tepochs: 50\n",
            "\u001b[34m\u001b[1mwandb\u001b[0m: \thidden_size: 64\n",
            "\u001b[34m\u001b[1mwandb\u001b[0m: \tlearning_rate: 0.0005082197751402019\n",
            "\u001b[34m\u001b[1mwandb\u001b[0m: \tnumber_of_layers: 4\n",
            "\u001b[34m\u001b[1mwandb\u001b[0m: \toptimizer: sgd\n",
            "\u001b[34m\u001b[1mwandb\u001b[0m: \tpatch_size: 16\n",
            "\u001b[34m\u001b[1mwandb\u001b[0m: \ttoken_dim: 32\n",
            "\u001b[34m\u001b[1mwandb\u001b[0m: \u001b[33mWARNING\u001b[0m Ignored wandb.init() arg entity when running a sweep.\n"
          ]
        },
        {
          "output_type": "display_data",
          "data": {
            "text/plain": [
              "<IPython.core.display.HTML object>"
            ],
            "text/html": [
              "Tracking run with wandb version 0.13.1"
            ]
          },
          "metadata": {}
        },
        {
          "output_type": "display_data",
          "data": {
            "text/plain": [
              "<IPython.core.display.HTML object>"
            ],
            "text/html": [
              "Run data is saved locally in <code>/content/wandb/run-20220808_045338-p27j6qv0</code>"
            ]
          },
          "metadata": {}
        },
        {
          "output_type": "display_data",
          "data": {
            "text/plain": [
              "<IPython.core.display.HTML object>"
            ],
            "text/html": [
              "Syncing run <strong><a href=\"https://wandb.ai/sb2539/osuleaf_mlp_gat_channel_rp_gr_grd_mk/runs/p27j6qv0\" target=\"_blank\">clear-sweep-14</a></strong> to <a href=\"https://wandb.ai/sb2539/osuleaf_mlp_gat_channel_rp_gr_grd_mk\" target=\"_blank\">Weights & Biases</a> (<a href=\"https://wandb.me/run\" target=\"_blank\">docs</a>)<br/>Sweep page:  <a href=\"https://wandb.ai/sb2539/osuleaf_mlp_gat_channel_rp_gr_grd_mk/sweeps/irqvhxia\" target=\"_blank\">https://wandb.ai/sb2539/osuleaf_mlp_gat_channel_rp_gr_grd_mk/sweeps/irqvhxia</a>"
            ]
          },
          "metadata": {}
        },
        {
          "output_type": "stream",
          "name": "stdout",
          "text": [
            "TRAIN: EPOCH 0001 / 0050 | Epoch LOSS 1.7994 | Epoch ACC 19.5000 | Val Loss 1.7813 | Val_acc 18.1818\n",
            "TRAIN: EPOCH 0002 / 0050 | Epoch LOSS 1.7693 | Epoch ACC 23.0000 | Val Loss 1.8243 | Val_acc 18.1818\n",
            "TRAIN: EPOCH 0003 / 0050 | Epoch LOSS 1.7503 | Epoch ACC 23.0000 | Val Loss 1.7806 | Val_acc 18.1818\n",
            "TRAIN: EPOCH 0004 / 0050 | Epoch LOSS 1.7574 | Epoch ACC 26.5000 | Val Loss 1.7738 | Val_acc 19.0083\n",
            "TRAIN: EPOCH 0005 / 0050 | Epoch LOSS 1.7520 | Epoch ACC 24.0000 | Val Loss 1.7737 | Val_acc 18.1818\n",
            "TRAIN: EPOCH 0006 / 0050 | Epoch LOSS 1.7268 | Epoch ACC 28.0000 | Val Loss 1.7806 | Val_acc 18.5950\n",
            "TRAIN: EPOCH 0007 / 0050 | Epoch LOSS 1.6729 | Epoch ACC 31.5000 | Val Loss 1.7284 | Val_acc 24.7934\n",
            "TRAIN: EPOCH 0008 / 0050 | Epoch LOSS 1.5598 | Epoch ACC 39.5000 | Val Loss 1.6134 | Val_acc 29.7521\n",
            "TRAIN: EPOCH 0009 / 0050 | Epoch LOSS 1.3954 | Epoch ACC 37.5000 | Val Loss 1.5539 | Val_acc 32.2314\n",
            "TRAIN: EPOCH 0010 / 0050 | Epoch LOSS 1.2802 | Epoch ACC 45.0000 | Val Loss 1.4594 | Val_acc 35.5372\n",
            "TRAIN: EPOCH 0011 / 0050 | Epoch LOSS 1.2416 | Epoch ACC 40.5000 | Val Loss 1.4437 | Val_acc 35.9504\n",
            "TRAIN: EPOCH 0012 / 0050 | Epoch LOSS 1.2210 | Epoch ACC 49.5000 | Val Loss 1.3889 | Val_acc 35.9504\n",
            "TRAIN: EPOCH 0013 / 0050 | Epoch LOSS 1.1543 | Epoch ACC 47.0000 | Val Loss 1.3428 | Val_acc 33.8843\n",
            "TRAIN: EPOCH 0014 / 0050 | Epoch LOSS 1.1178 | Epoch ACC 49.5000 | Val Loss 1.3458 | Val_acc 40.0826\n",
            "TRAIN: EPOCH 0015 / 0050 | Epoch LOSS 1.1133 | Epoch ACC 51.0000 | Val Loss 1.3603 | Val_acc 39.2562\n",
            "TRAIN: EPOCH 0016 / 0050 | Epoch LOSS 1.0728 | Epoch ACC 48.5000 | Val Loss 1.3800 | Val_acc 38.4298\n",
            "TRAIN: EPOCH 0017 / 0050 | Epoch LOSS 1.0954 | Epoch ACC 48.0000 | Val Loss 1.3692 | Val_acc 41.7355\n",
            "TRAIN: EPOCH 0018 / 0050 | Epoch LOSS 1.0876 | Epoch ACC 46.0000 | Val Loss 1.4544 | Val_acc 38.0165\n",
            "TRAIN: EPOCH 0019 / 0050 | Epoch LOSS 1.0664 | Epoch ACC 49.0000 | Val Loss 1.5984 | Val_acc 35.1240\n",
            "TRAIN: EPOCH 0020 / 0050 | Epoch LOSS 1.1107 | Epoch ACC 52.5000 | Val Loss 1.3023 | Val_acc 44.2149\n",
            "TRAIN: EPOCH 0021 / 0050 | Epoch LOSS 1.0057 | Epoch ACC 57.5000 | Val Loss 1.3018 | Val_acc 42.1488\n",
            "TRAIN: EPOCH 0022 / 0050 | Epoch LOSS 0.9676 | Epoch ACC 55.0000 | Val Loss 1.4601 | Val_acc 37.1901\n",
            "TRAIN: EPOCH 0023 / 0050 | Epoch LOSS 0.9048 | Epoch ACC 59.0000 | Val Loss 1.3733 | Val_acc 44.2149\n",
            "TRAIN: EPOCH 0024 / 0050 | Epoch LOSS 0.8344 | Epoch ACC 59.5000 | Val Loss 1.3137 | Val_acc 43.3884\n",
            "TRAIN: EPOCH 0025 / 0050 | Epoch LOSS 0.7991 | Epoch ACC 64.0000 | Val Loss 1.2715 | Val_acc 46.2810\n",
            "TRAIN: EPOCH 0026 / 0050 | Epoch LOSS 0.7855 | Epoch ACC 67.5000 | Val Loss 1.3712 | Val_acc 47.9339\n",
            "TRAIN: EPOCH 0027 / 0050 | Epoch LOSS 0.7574 | Epoch ACC 68.5000 | Val Loss 1.3293 | Val_acc 46.2810\n",
            "TRAIN: EPOCH 0028 / 0050 | Epoch LOSS 0.6869 | Epoch ACC 72.0000 | Val Loss 1.3390 | Val_acc 46.2810\n",
            "TRAIN: EPOCH 0029 / 0050 | Epoch LOSS 0.6924 | Epoch ACC 68.0000 | Val Loss 1.3577 | Val_acc 47.9339\n",
            "TRAIN: EPOCH 0030 / 0050 | Epoch LOSS 0.6939 | Epoch ACC 67.5000 | Val Loss 1.3839 | Val_acc 50.0000\n",
            "TRAIN: EPOCH 0031 / 0050 | Epoch LOSS 1.3008 | Epoch ACC 51.5000 | Val Loss 1.3712 | Val_acc 40.4959\n",
            "TRAIN: EPOCH 0032 / 0050 | Epoch LOSS 1.0262 | Epoch ACC 58.0000 | Val Loss 1.2827 | Val_acc 50.4132\n",
            "TRAIN: EPOCH 0033 / 0050 | Epoch LOSS 0.8106 | Epoch ACC 67.0000 | Val Loss 1.3035 | Val_acc 46.2810\n",
            "TRAIN: EPOCH 0034 / 0050 | Epoch LOSS 0.7501 | Epoch ACC 66.5000 | Val Loss 1.4022 | Val_acc 44.2149\n",
            "TRAIN: EPOCH 0035 / 0050 | Epoch LOSS 0.7530 | Epoch ACC 70.5000 | Val Loss 1.3658 | Val_acc 42.1488\n",
            "TRAIN: EPOCH 0036 / 0050 | Epoch LOSS 0.7162 | Epoch ACC 70.5000 | Val Loss 1.3386 | Val_acc 45.4545\n",
            "TRAIN: EPOCH 0037 / 0050 | Epoch LOSS 0.5968 | Epoch ACC 77.0000 | Val Loss 1.4028 | Val_acc 43.3884\n",
            "TRAIN: EPOCH 0038 / 0050 | Epoch LOSS 0.6206 | Epoch ACC 75.5000 | Val Loss 1.4931 | Val_acc 43.8017\n",
            "TRAIN: EPOCH 0039 / 0050 | Epoch LOSS 0.5202 | Epoch ACC 83.0000 | Val Loss 1.5630 | Val_acc 42.9752\n",
            "TRAIN: EPOCH 0040 / 0050 | Epoch LOSS 0.5445 | Epoch ACC 77.0000 | Val Loss 1.5235 | Val_acc 46.6942\n",
            "TRAIN: EPOCH 0041 / 0050 | Epoch LOSS 0.5934 | Epoch ACC 78.0000 | Val Loss 1.5800 | Val_acc 43.3884\n",
            "TRAIN: EPOCH 0042 / 0050 | Epoch LOSS 0.7295 | Epoch ACC 75.0000 | Val Loss 1.5624 | Val_acc 43.3884\n",
            "TRAIN: EPOCH 0043 / 0050 | Epoch LOSS 0.5096 | Epoch ACC 81.5000 | Val Loss 1.7132 | Val_acc 41.7355\n",
            "TRAIN: EPOCH 0044 / 0050 | Epoch LOSS 0.9105 | Epoch ACC 63.5000 | Val Loss 1.8057 | Val_acc 35.9504\n",
            "TRAIN: EPOCH 0045 / 0050 | Epoch LOSS 0.8698 | Epoch ACC 67.0000 | Val Loss 1.5474 | Val_acc 40.4959\n",
            "TRAIN: EPOCH 0046 / 0050 | Epoch LOSS 0.6004 | Epoch ACC 79.0000 | Val Loss 1.5674 | Val_acc 40.4959\n",
            "TRAIN: EPOCH 0047 / 0050 | Epoch LOSS 0.5102 | Epoch ACC 78.5000 | Val Loss 1.5806 | Val_acc 45.4545\n",
            "TRAIN: EPOCH 0048 / 0050 | Epoch LOSS 0.4257 | Epoch ACC 85.0000 | Val Loss 1.6624 | Val_acc 40.4959\n",
            "TRAIN: EPOCH 0049 / 0050 | Epoch LOSS 0.4612 | Epoch ACC 83.0000 | Val Loss 1.6671 | Val_acc 47.5207\n",
            "TRAIN: EPOCH 0050 / 0050 | Epoch LOSS 0.3943 | Epoch ACC 87.0000 | Val Loss 1.6645 | Val_acc 45.4545\n",
            "test: LOSS 1.6645 | Accuracy 45.4545 \n"
          ]
        },
        {
          "output_type": "display_data",
          "data": {
            "text/plain": [
              "<IPython.core.display.HTML object>"
            ],
            "text/html": [
              "Waiting for W&B process to finish... <strong style=\"color:green\">(success).</strong>"
            ]
          },
          "metadata": {}
        },
        {
          "output_type": "display_data",
          "data": {
            "text/plain": [
              "VBox(children=(Label(value='0.001 MB of 0.001 MB uploaded (0.000 MB deduped)\\r'), FloatProgress(value=1.0, max…"
            ],
            "application/vnd.jupyter.widget-view+json": {
              "version_major": 2,
              "version_minor": 0,
              "model_id": "74c19cbad0de493e81ae1afcc217b723"
            }
          },
          "metadata": {}
        },
        {
          "output_type": "display_data",
          "data": {
            "text/plain": [
              "<IPython.core.display.HTML object>"
            ],
            "text/html": [
              "<style>\n",
              "    table.wandb td:nth-child(1) { padding: 0 10px; text-align: left ; width: auto;} td:nth-child(2) {text-align: left ; width: 100%}\n",
              "    .wandb-row { display: flex; flex-direction: row; flex-wrap: wrap; justify-content: flex-start; width: 100% }\n",
              "    .wandb-col { display: flex; flex-direction: column; flex-basis: 100%; flex: 1; padding: 10px; }\n",
              "    </style>\n",
              "<div class=\"wandb-row\"><div class=\"wandb-col\"><h3>Run history:</h3><br/><table class=\"wandb\"><tr><td>test_acc</td><td>▁</td></tr><tr><td>test_loss</td><td>▁</td></tr><tr><td>train_acc</td><td>▁▁▁▂▂▂▃▃▃▄▄▄▄▄▄▄▅▅▅▅▆▆▆▆▄▅▆▆▆▇▇█▇▇▇▆▇▇██</td></tr><tr><td>train_loss</td><td>█████▇▇▆▅▅▅▅▄▄▄▄▄▄▄▃▃▃▂▂▆▄▃▃▃▂▂▂▂▃▂▄▂▂▁▁</td></tr></table><br/></div><div class=\"wandb-col\"><h3>Run summary:</h3><br/><table class=\"wandb\"><tr><td>test_acc</td><td>45.45455</td></tr><tr><td>test_loss</td><td>1.66446</td></tr><tr><td>train_acc</td><td>87.0</td></tr><tr><td>train_loss</td><td>0.39435</td></tr></table><br/></div></div>"
            ]
          },
          "metadata": {}
        },
        {
          "output_type": "display_data",
          "data": {
            "text/plain": [
              "<IPython.core.display.HTML object>"
            ],
            "text/html": [
              "Synced <strong style=\"color:#cdcd00\">clear-sweep-14</strong>: <a href=\"https://wandb.ai/sb2539/osuleaf_mlp_gat_channel_rp_gr_grd_mk/runs/p27j6qv0\" target=\"_blank\">https://wandb.ai/sb2539/osuleaf_mlp_gat_channel_rp_gr_grd_mk/runs/p27j6qv0</a><br/>Synced 5 W&B file(s), 0 media file(s), 0 artifact file(s) and 0 other file(s)"
            ]
          },
          "metadata": {}
        },
        {
          "output_type": "display_data",
          "data": {
            "text/plain": [
              "<IPython.core.display.HTML object>"
            ],
            "text/html": [
              "Find logs at: <code>./wandb/run-20220808_045338-p27j6qv0/logs</code>"
            ]
          },
          "metadata": {}
        },
        {
          "output_type": "stream",
          "name": "stderr",
          "text": [
            "\u001b[34m\u001b[1mwandb\u001b[0m: Agent Starting Run: lo2j3e7m with config:\n",
            "\u001b[34m\u001b[1mwandb\u001b[0m: \talpha: 0.2\n",
            "\u001b[34m\u001b[1mwandb\u001b[0m: \tchannel_dim: 128\n",
            "\u001b[34m\u001b[1mwandb\u001b[0m: \tdropout: 0\n",
            "\u001b[34m\u001b[1mwandb\u001b[0m: \tepochs: 50\n",
            "\u001b[34m\u001b[1mwandb\u001b[0m: \thidden_size: 128\n",
            "\u001b[34m\u001b[1mwandb\u001b[0m: \tlearning_rate: 0.0008970445275470471\n",
            "\u001b[34m\u001b[1mwandb\u001b[0m: \tnumber_of_layers: 16\n",
            "\u001b[34m\u001b[1mwandb\u001b[0m: \toptimizer: adam\n",
            "\u001b[34m\u001b[1mwandb\u001b[0m: \tpatch_size: 16\n",
            "\u001b[34m\u001b[1mwandb\u001b[0m: \ttoken_dim: 128\n",
            "\u001b[34m\u001b[1mwandb\u001b[0m: \u001b[33mWARNING\u001b[0m Ignored wandb.init() arg entity when running a sweep.\n"
          ]
        },
        {
          "output_type": "display_data",
          "data": {
            "text/plain": [
              "<IPython.core.display.HTML object>"
            ],
            "text/html": [
              "Tracking run with wandb version 0.13.1"
            ]
          },
          "metadata": {}
        },
        {
          "output_type": "display_data",
          "data": {
            "text/plain": [
              "<IPython.core.display.HTML object>"
            ],
            "text/html": [
              "Run data is saved locally in <code>/content/wandb/run-20220808_045447-lo2j3e7m</code>"
            ]
          },
          "metadata": {}
        },
        {
          "output_type": "display_data",
          "data": {
            "text/plain": [
              "<IPython.core.display.HTML object>"
            ],
            "text/html": [
              "Syncing run <strong><a href=\"https://wandb.ai/sb2539/osuleaf_mlp_gat_channel_rp_gr_grd_mk/runs/lo2j3e7m\" target=\"_blank\">iconic-sweep-15</a></strong> to <a href=\"https://wandb.ai/sb2539/osuleaf_mlp_gat_channel_rp_gr_grd_mk\" target=\"_blank\">Weights & Biases</a> (<a href=\"https://wandb.me/run\" target=\"_blank\">docs</a>)<br/>Sweep page:  <a href=\"https://wandb.ai/sb2539/osuleaf_mlp_gat_channel_rp_gr_grd_mk/sweeps/irqvhxia\" target=\"_blank\">https://wandb.ai/sb2539/osuleaf_mlp_gat_channel_rp_gr_grd_mk/sweeps/irqvhxia</a>"
            ]
          },
          "metadata": {}
        },
        {
          "output_type": "stream",
          "name": "stdout",
          "text": [
            "TRAIN: EPOCH 0001 / 0050 | Epoch LOSS 1.8275 | Epoch ACC 18.0000 | Val Loss 1.7709 | Val_acc 18.1818\n",
            "TRAIN: EPOCH 0002 / 0050 | Epoch LOSS 1.7553 | Epoch ACC 26.5000 | Val Loss 1.7735 | Val_acc 18.1818\n",
            "TRAIN: EPOCH 0003 / 0050 | Epoch LOSS 1.7541 | Epoch ACC 22.5000 | Val Loss 1.8060 | Val_acc 18.1818\n",
            "TRAIN: EPOCH 0004 / 0050 | Epoch LOSS 1.7538 | Epoch ACC 26.5000 | Val Loss 1.7899 | Val_acc 18.1818\n",
            "TRAIN: EPOCH 0005 / 0050 | Epoch LOSS 1.7511 | Epoch ACC 26.5000 | Val Loss 1.7901 | Val_acc 18.1818\n",
            "TRAIN: EPOCH 0006 / 0050 | Epoch LOSS 1.7451 | Epoch ACC 26.5000 | Val Loss 1.7791 | Val_acc 18.1818\n",
            "TRAIN: EPOCH 0007 / 0050 | Epoch LOSS 1.6136 | Epoch ACC 35.5000 | Val Loss 1.6400 | Val_acc 29.3388\n",
            "TRAIN: EPOCH 0008 / 0050 | Epoch LOSS 1.5942 | Epoch ACC 37.5000 | Val Loss 1.6736 | Val_acc 27.2727\n",
            "TRAIN: EPOCH 0009 / 0050 | Epoch LOSS 1.4086 | Epoch ACC 41.0000 | Val Loss 1.5180 | Val_acc 29.3388\n",
            "TRAIN: EPOCH 0010 / 0050 | Epoch LOSS 1.2601 | Epoch ACC 44.5000 | Val Loss 1.4125 | Val_acc 38.4298\n",
            "TRAIN: EPOCH 0011 / 0050 | Epoch LOSS 1.2385 | Epoch ACC 42.5000 | Val Loss 1.4209 | Val_acc 30.1653\n",
            "TRAIN: EPOCH 0012 / 0050 | Epoch LOSS 1.1748 | Epoch ACC 44.0000 | Val Loss 1.4969 | Val_acc 33.8843\n",
            "TRAIN: EPOCH 0013 / 0050 | Epoch LOSS 1.2361 | Epoch ACC 48.5000 | Val Loss 1.4194 | Val_acc 33.8843\n",
            "TRAIN: EPOCH 0014 / 0050 | Epoch LOSS 1.0650 | Epoch ACC 55.0000 | Val Loss 1.3862 | Val_acc 36.3636\n",
            "TRAIN: EPOCH 0015 / 0050 | Epoch LOSS 1.0226 | Epoch ACC 54.5000 | Val Loss 1.5477 | Val_acc 38.8430\n",
            "TRAIN: EPOCH 0016 / 0050 | Epoch LOSS 0.9113 | Epoch ACC 58.0000 | Val Loss 1.5410 | Val_acc 38.8430\n",
            "TRAIN: EPOCH 0017 / 0050 | Epoch LOSS 0.9283 | Epoch ACC 59.0000 | Val Loss 1.4595 | Val_acc 35.9504\n",
            "TRAIN: EPOCH 0018 / 0050 | Epoch LOSS 0.9406 | Epoch ACC 60.0000 | Val Loss 1.5956 | Val_acc 36.3636\n",
            "TRAIN: EPOCH 0019 / 0050 | Epoch LOSS 0.8003 | Epoch ACC 67.5000 | Val Loss 1.8125 | Val_acc 36.3636\n",
            "TRAIN: EPOCH 0020 / 0050 | Epoch LOSS 0.7371 | Epoch ACC 69.0000 | Val Loss 1.8705 | Val_acc 38.0165\n",
            "TRAIN: EPOCH 0021 / 0050 | Epoch LOSS 0.7169 | Epoch ACC 69.5000 | Val Loss 1.8379 | Val_acc 36.3636\n",
            "TRAIN: EPOCH 0022 / 0050 | Epoch LOSS 0.6625 | Epoch ACC 75.0000 | Val Loss 1.8638 | Val_acc 40.0826\n",
            "TRAIN: EPOCH 0023 / 0050 | Epoch LOSS 0.5602 | Epoch ACC 75.0000 | Val Loss 1.9867 | Val_acc 38.0165\n",
            "TRAIN: EPOCH 0024 / 0050 | Epoch LOSS 0.6004 | Epoch ACC 77.0000 | Val Loss 2.1051 | Val_acc 35.9504\n",
            "TRAIN: EPOCH 0025 / 0050 | Epoch LOSS 0.6095 | Epoch ACC 74.5000 | Val Loss 1.7430 | Val_acc 38.8430\n",
            "TRAIN: EPOCH 0026 / 0050 | Epoch LOSS 0.5060 | Epoch ACC 80.0000 | Val Loss 2.3091 | Val_acc 39.6694\n",
            "TRAIN: EPOCH 0027 / 0050 | Epoch LOSS 0.4542 | Epoch ACC 83.5000 | Val Loss 2.1728 | Val_acc 40.4959\n",
            "TRAIN: EPOCH 0028 / 0050 | Epoch LOSS 0.3497 | Epoch ACC 85.5000 | Val Loss 2.2141 | Val_acc 40.4959\n",
            "TRAIN: EPOCH 0029 / 0050 | Epoch LOSS 0.2767 | Epoch ACC 89.5000 | Val Loss 2.5890 | Val_acc 38.8430\n",
            "TRAIN: EPOCH 0030 / 0050 | Epoch LOSS 0.4506 | Epoch ACC 82.5000 | Val Loss 2.6736 | Val_acc 38.4298\n",
            "TRAIN: EPOCH 0031 / 0050 | Epoch LOSS 0.9305 | Epoch ACC 69.0000 | Val Loss 1.8504 | Val_acc 41.7355\n",
            "TRAIN: EPOCH 0032 / 0050 | Epoch LOSS 0.4115 | Epoch ACC 87.0000 | Val Loss 2.3124 | Val_acc 40.0826\n",
            "TRAIN: EPOCH 0033 / 0050 | Epoch LOSS 0.2804 | Epoch ACC 88.5000 | Val Loss 2.5607 | Val_acc 42.9752\n",
            "TRAIN: EPOCH 0034 / 0050 | Epoch LOSS 0.1734 | Epoch ACC 94.0000 | Val Loss 2.8822 | Val_acc 41.3223\n",
            "TRAIN: EPOCH 0035 / 0050 | Epoch LOSS 0.1278 | Epoch ACC 95.5000 | Val Loss 3.3517 | Val_acc 42.5620\n",
            "TRAIN: EPOCH 0036 / 0050 | Epoch LOSS 0.1153 | Epoch ACC 95.0000 | Val Loss 3.1932 | Val_acc 42.1488\n",
            "TRAIN: EPOCH 0037 / 0050 | Epoch LOSS 1.1378 | Epoch ACC 66.5000 | Val Loss 1.8208 | Val_acc 32.2314\n",
            "TRAIN: EPOCH 0038 / 0050 | Epoch LOSS 0.5613 | Epoch ACC 81.0000 | Val Loss 2.1886 | Val_acc 38.4298\n",
            "TRAIN: EPOCH 0039 / 0050 | Epoch LOSS 0.2464 | Epoch ACC 93.5000 | Val Loss 2.4701 | Val_acc 41.3223\n",
            "TRAIN: EPOCH 0040 / 0050 | Epoch LOSS 0.1191 | Epoch ACC 95.5000 | Val Loss 2.7862 | Val_acc 41.3223\n",
            "TRAIN: EPOCH 0041 / 0050 | Epoch LOSS 0.0828 | Epoch ACC 97.5000 | Val Loss 2.8792 | Val_acc 39.6694\n",
            "TRAIN: EPOCH 0042 / 0050 | Epoch LOSS 0.0562 | Epoch ACC 99.5000 | Val Loss 3.0150 | Val_acc 40.4959\n",
            "TRAIN: EPOCH 0043 / 0050 | Epoch LOSS 0.0279 | Epoch ACC 99.5000 | Val Loss 3.1777 | Val_acc 39.6694\n",
            "TRAIN: EPOCH 0044 / 0050 | Epoch LOSS 0.0158 | Epoch ACC 100.0000 | Val Loss 3.2456 | Val_acc 38.8430\n",
            "TRAIN: EPOCH 0045 / 0050 | Epoch LOSS 0.0102 | Epoch ACC 100.0000 | Val Loss 3.2957 | Val_acc 40.0826\n",
            "TRAIN: EPOCH 0046 / 0050 | Epoch LOSS 0.0080 | Epoch ACC 100.0000 | Val Loss 3.3596 | Val_acc 39.6694\n"
          ]
        },
        {
          "output_type": "stream",
          "name": "stderr",
          "text": [
            "\u001b[34m\u001b[1mwandb\u001b[0m: Ctrl + C detected. Stopping sweep.\n"
          ]
        }
      ]
    },
    {
      "cell_type": "code",
      "source": [
        "if __name__ == \"__main__\":\n",
        "    from torchsummary import summary\n",
        "    import pdb\n",
        " \n",
        "    # base_model_param0.0009                        \n",
        "    in_channels = 3                        \n",
        "    hidden_size = 64                    \n",
        "    num_classes = 6                        \n",
        "    patch_size = 4                         \n",
        "    resolution = 64                            \n",
        "    number_of_layers = 4                    \n",
        "    token_dim = 64                         \n",
        "    channel_dim = 256                  \n",
        "    dropout = 0\n",
        "    alpha = 0.2                                         \n",
        "\n",
        "    model = MLPMixer(\n",
        "        in_channels = in_channels,\n",
        "        dim = hidden_size,\n",
        "        num_classes = num_classes,\n",
        "        patch_size = patch_size,\n",
        "        image_size = resolution,\n",
        "        depth = number_of_layers,\n",
        "        token_dim = token_dim,\n",
        "        channel_dim = channel_dim,\n",
        "        dropout = dropout,\n",
        "        alpha = alpha\n",
        "    )\n",
        "    \n",
        "    summary(model, (3,64,64), device = 'cpu')"
      ],
      "metadata": {
        "colab": {
          "base_uri": "https://localhost:8080/"
        },
        "id": "qbV7ozPLabKx",
        "outputId": "19cfe615-69db-42fc-a3a8-df5af5cceedf"
      },
      "execution_count": null,
      "outputs": [
        {
          "output_type": "stream",
          "name": "stdout",
          "text": [
            "----------------------------------------------------------------\n",
            "        Layer (type)               Output Shape         Param #\n",
            "================================================================\n",
            "            Conv2d-1           [-1, 64, 16, 16]           3,136\n",
            "         Rearrange-2              [-1, 256, 64]               0\n",
            "            Linear-3              [-1, 256, 64]           4,160\n",
            "         LeakyReLU-4          [-1, 256, 256, 1]               0\n",
            "           Sigmoid-5              [-1, 256, 64]               0\n",
            "    AttentionLayer-6              [-1, 256, 64]               0\n",
            "         LayerNorm-7              [-1, 256, 64]             128\n",
            "         Rearrange-8              [-1, 64, 256]               0\n",
            "            Linear-9               [-1, 64, 64]          16,448\n",
            "             GELU-10               [-1, 64, 64]               0\n",
            "          Dropout-11               [-1, 64, 64]               0\n",
            "           Linear-12              [-1, 64, 256]          16,640\n",
            "          Dropout-13              [-1, 64, 256]               0\n",
            "              MLP-14              [-1, 64, 256]               0\n",
            "        Rearrange-15              [-1, 256, 64]               0\n",
            "        LayerNorm-16              [-1, 256, 64]             128\n",
            "           Linear-17             [-1, 256, 256]          16,640\n",
            "             GELU-18             [-1, 256, 256]               0\n",
            "          Dropout-19             [-1, 256, 256]               0\n",
            "           Linear-20              [-1, 256, 64]          16,448\n",
            "          Dropout-21              [-1, 256, 64]               0\n",
            "              MLP-22              [-1, 256, 64]               0\n",
            "       MixerBlock-23              [-1, 256, 64]               0\n",
            "        LayerNorm-24              [-1, 256, 64]             128\n",
            "        Rearrange-25              [-1, 64, 256]               0\n",
            "           Linear-26               [-1, 64, 64]          16,448\n",
            "             GELU-27               [-1, 64, 64]               0\n",
            "          Dropout-28               [-1, 64, 64]               0\n",
            "           Linear-29              [-1, 64, 256]          16,640\n",
            "          Dropout-30              [-1, 64, 256]               0\n",
            "              MLP-31              [-1, 64, 256]               0\n",
            "        Rearrange-32              [-1, 256, 64]               0\n",
            "        LayerNorm-33              [-1, 256, 64]             128\n",
            "           Linear-34             [-1, 256, 256]          16,640\n",
            "             GELU-35             [-1, 256, 256]               0\n",
            "          Dropout-36             [-1, 256, 256]               0\n",
            "           Linear-37              [-1, 256, 64]          16,448\n",
            "          Dropout-38              [-1, 256, 64]               0\n",
            "              MLP-39              [-1, 256, 64]               0\n",
            "       MixerBlock-40              [-1, 256, 64]               0\n",
            "        LayerNorm-41              [-1, 256, 64]             128\n",
            "        Rearrange-42              [-1, 64, 256]               0\n",
            "           Linear-43               [-1, 64, 64]          16,448\n",
            "             GELU-44               [-1, 64, 64]               0\n",
            "          Dropout-45               [-1, 64, 64]               0\n",
            "           Linear-46              [-1, 64, 256]          16,640\n",
            "          Dropout-47              [-1, 64, 256]               0\n",
            "              MLP-48              [-1, 64, 256]               0\n",
            "        Rearrange-49              [-1, 256, 64]               0\n",
            "        LayerNorm-50              [-1, 256, 64]             128\n",
            "           Linear-51             [-1, 256, 256]          16,640\n",
            "             GELU-52             [-1, 256, 256]               0\n",
            "          Dropout-53             [-1, 256, 256]               0\n",
            "           Linear-54              [-1, 256, 64]          16,448\n",
            "          Dropout-55              [-1, 256, 64]               0\n",
            "              MLP-56              [-1, 256, 64]               0\n",
            "       MixerBlock-57              [-1, 256, 64]               0\n",
            "        LayerNorm-58              [-1, 256, 64]             128\n",
            "        Rearrange-59              [-1, 64, 256]               0\n",
            "           Linear-60               [-1, 64, 64]          16,448\n",
            "             GELU-61               [-1, 64, 64]               0\n",
            "          Dropout-62               [-1, 64, 64]               0\n",
            "           Linear-63              [-1, 64, 256]          16,640\n",
            "          Dropout-64              [-1, 64, 256]               0\n",
            "              MLP-65              [-1, 64, 256]               0\n",
            "        Rearrange-66              [-1, 256, 64]               0\n",
            "        LayerNorm-67              [-1, 256, 64]             128\n",
            "           Linear-68             [-1, 256, 256]          16,640\n",
            "             GELU-69             [-1, 256, 256]               0\n",
            "          Dropout-70             [-1, 256, 256]               0\n",
            "           Linear-71              [-1, 256, 64]          16,448\n",
            "          Dropout-72              [-1, 256, 64]               0\n",
            "              MLP-73              [-1, 256, 64]               0\n",
            "       MixerBlock-74              [-1, 256, 64]               0\n",
            "        LayerNorm-75              [-1, 256, 64]             128\n",
            "           Linear-76                    [-1, 6]             390\n",
            "================================================================\n",
            "Total params: 273,542\n",
            "Trainable params: 273,542\n",
            "Non-trainable params: 0\n",
            "----------------------------------------------------------------\n",
            "Input size (MB): 0.05\n",
            "Forward/backward pass size (MB): 13.13\n",
            "Params size (MB): 1.04\n",
            "Estimated Total Size (MB): 14.22\n",
            "----------------------------------------------------------------\n"
          ]
        }
      ]
    },
    {
      "cell_type": "code",
      "source": [
        "if __name__ == \"__main__\":\n",
        "    from torchsummary import summary\n",
        "    import pdb\n",
        "        \n",
        "    # base_model_param0.0009                        \n",
        "    in_channels = 3                        \n",
        "    hidden_size = 64                    \n",
        "    num_classes = 6                        \n",
        "    patch_size = 4                         \n",
        "    resolution = 64                            \n",
        "    number_of_layers = 4                    \n",
        "    token_dim = 16                         \n",
        "    channel_dim = 256                  \n",
        "    dropout = 0.3\n",
        "    alpha = 0.2                                                #0          0.1\n",
        "\n",
        "    model = MLPMixer(\n",
        "        in_channels = in_channels,\n",
        "        dim = hidden_size,\n",
        "        num_classes = num_classes,\n",
        "        patch_size = patch_size,\n",
        "        image_size = resolution,\n",
        "        depth = number_of_layers,\n",
        "        token_dim = token_dim,\n",
        "        channel_dim = channel_dim,\n",
        "        dropout = dropout\n",
        "    )\n",
        "\n",
        "PATH = \"/gdrive/MyDrive/model/\"\n",
        "criterion = nn.CrossEntropyLoss()\n",
        "#optimizer = optim.SGD(cnn.parameters(), lr = 0.001, momentum = 0.9)\n",
        "optimizer = optim.Adam(model.parameters(), lr = 0.0009)\n",
        "#scheduler = optim.lr_scheduler.LambdaLR(optimizer=optimizer, lr_lambda=lambda epoch:0.95**epoch,last_epoch = -1, verbose = False)\n",
        "loss_list = []\n",
        "iter = []\n",
        "train_accuracy = []\n",
        "validation_loss = []\n",
        "validation_acc = []    \n",
        "\n",
        "model.train()\n",
        "epochs = 30\n",
        "for epoch in range(epochs):\n",
        "    running_loss = 0.0\n",
        "    val_running_loss = 0.0\n",
        "    correct = 0.0\n",
        "    val_correct = 0.0\n",
        "    total = 0.0\n",
        "    val_total = 0\n",
        "    for data in trainloader:\n",
        "        input,target = data\n",
        "        optimizer.zero_grad()\n",
        "        output = model(input)\n",
        "        loss = criterion(output, target)\n",
        "        loss.backward()\n",
        "        optimizer.step()\n",
        "        _, preds = torch.max(output.data, 1)\n",
        "        correct += preds.eq(target).sum().item()\n",
        "        running_loss += loss.item()\n",
        "    \n",
        "        \n",
        "    else:\n",
        "        with torch.no_grad():\n",
        "            for data in testloader:\n",
        "                val_input, val_target = data\n",
        "                val_outputs = model(val_input)\n",
        "                val_loss = criterion(val_outputs, val_target)\n",
        "                \n",
        "                _, val_pred = torch.max(val_outputs, 1)\n",
        "                val_running_loss  += val_loss.item()\n",
        "                val_correct += val_pred.eq(val_target).sum().item()\n",
        "        \n",
        "\n",
        "    training_loss = running_loss/len(trainloader)\n",
        "    val_loss = val_running_loss/len(testloader)\n",
        "    train_acc = 100*correct/len(trainloader.dataset)\n",
        "    val_acc = 100*val_correct/len(testloader.dataset)\n",
        "    if val_acc > best_acc:\n",
        "            best_acc = val_acc\n",
        "            torch.save(model.state_dict(), PATH + 'osuleaf_mlp_state_dictonly_rp_gr_gr_d.pt')\n",
        "            print(\"saved\")\n",
        "    print(\"=============================================================================================================================================================\")\n",
        "    print(f\"TRAIN: EPOCH {epoch + 1:04d} / {epochs:04d} | Epoch LOSS {training_loss:.4f} | Epoch ACC {train_acc:.4f} | Val Loss {val_loss:.4f} | Val_acc {val_acc:.4f}\")\n",
        "    cost = running_loss/6\n",
        "    loss_list.append(training_loss)\n",
        "    train_accuracy.append(train_acc)\n",
        "    validation_loss.append(val_loss)\n",
        "    validation_acc.append(val_acc)\n",
        "    running_loss = 0.0\n",
        "print('finish')"
      ],
      "metadata": {
        "id": "8_6vfieIJEmD",
        "colab": {
          "base_uri": "https://localhost:8080/",
          "height": 401
        },
        "outputId": "a575b3bc-b060-49fb-d737-69233268950a"
      },
      "execution_count": null,
      "outputs": [
        {
          "output_type": "error",
          "ename": "KeyboardInterrupt",
          "evalue": "ignored",
          "traceback": [
            "\u001b[0;31m---------------------------------------------------------------------------\u001b[0m",
            "\u001b[0;31mKeyboardInterrupt\u001b[0m                         Traceback (most recent call last)",
            "\u001b[0;32m<ipython-input-77-10772a7bbc41>\u001b[0m in \u001b[0;36m<module>\u001b[0;34m()\u001b[0m\n\u001b[1;32m     52\u001b[0m         \u001b[0moutput\u001b[0m \u001b[0;34m=\u001b[0m \u001b[0mmodel\u001b[0m\u001b[0;34m(\u001b[0m\u001b[0minput\u001b[0m\u001b[0;34m)\u001b[0m\u001b[0;34m\u001b[0m\u001b[0;34m\u001b[0m\u001b[0m\n\u001b[1;32m     53\u001b[0m         \u001b[0mloss\u001b[0m \u001b[0;34m=\u001b[0m \u001b[0mcriterion\u001b[0m\u001b[0;34m(\u001b[0m\u001b[0moutput\u001b[0m\u001b[0;34m,\u001b[0m \u001b[0mtarget\u001b[0m\u001b[0;34m)\u001b[0m\u001b[0;34m\u001b[0m\u001b[0;34m\u001b[0m\u001b[0m\n\u001b[0;32m---> 54\u001b[0;31m         \u001b[0mloss\u001b[0m\u001b[0;34m.\u001b[0m\u001b[0mbackward\u001b[0m\u001b[0;34m(\u001b[0m\u001b[0;34m)\u001b[0m\u001b[0;34m\u001b[0m\u001b[0;34m\u001b[0m\u001b[0m\n\u001b[0m\u001b[1;32m     55\u001b[0m         \u001b[0moptimizer\u001b[0m\u001b[0;34m.\u001b[0m\u001b[0mstep\u001b[0m\u001b[0;34m(\u001b[0m\u001b[0;34m)\u001b[0m\u001b[0;34m\u001b[0m\u001b[0;34m\u001b[0m\u001b[0m\n\u001b[1;32m     56\u001b[0m         \u001b[0m_\u001b[0m\u001b[0;34m,\u001b[0m \u001b[0mpreds\u001b[0m \u001b[0;34m=\u001b[0m \u001b[0mtorch\u001b[0m\u001b[0;34m.\u001b[0m\u001b[0mmax\u001b[0m\u001b[0;34m(\u001b[0m\u001b[0moutput\u001b[0m\u001b[0;34m.\u001b[0m\u001b[0mdata\u001b[0m\u001b[0;34m,\u001b[0m \u001b[0;36m1\u001b[0m\u001b[0;34m)\u001b[0m\u001b[0;34m\u001b[0m\u001b[0;34m\u001b[0m\u001b[0m\n",
            "\u001b[0;32m/usr/local/lib/python3.7/dist-packages/torch/_tensor.py\u001b[0m in \u001b[0;36mbackward\u001b[0;34m(self, gradient, retain_graph, create_graph, inputs)\u001b[0m\n\u001b[1;32m    394\u001b[0m                 \u001b[0mcreate_graph\u001b[0m\u001b[0;34m=\u001b[0m\u001b[0mcreate_graph\u001b[0m\u001b[0;34m,\u001b[0m\u001b[0;34m\u001b[0m\u001b[0;34m\u001b[0m\u001b[0m\n\u001b[1;32m    395\u001b[0m                 inputs=inputs)\n\u001b[0;32m--> 396\u001b[0;31m         \u001b[0mtorch\u001b[0m\u001b[0;34m.\u001b[0m\u001b[0mautograd\u001b[0m\u001b[0;34m.\u001b[0m\u001b[0mbackward\u001b[0m\u001b[0;34m(\u001b[0m\u001b[0mself\u001b[0m\u001b[0;34m,\u001b[0m \u001b[0mgradient\u001b[0m\u001b[0;34m,\u001b[0m \u001b[0mretain_graph\u001b[0m\u001b[0;34m,\u001b[0m \u001b[0mcreate_graph\u001b[0m\u001b[0;34m,\u001b[0m \u001b[0minputs\u001b[0m\u001b[0;34m=\u001b[0m\u001b[0minputs\u001b[0m\u001b[0;34m)\u001b[0m\u001b[0;34m\u001b[0m\u001b[0;34m\u001b[0m\u001b[0m\n\u001b[0m\u001b[1;32m    397\u001b[0m \u001b[0;34m\u001b[0m\u001b[0m\n\u001b[1;32m    398\u001b[0m     \u001b[0;32mdef\u001b[0m \u001b[0mregister_hook\u001b[0m\u001b[0;34m(\u001b[0m\u001b[0mself\u001b[0m\u001b[0;34m,\u001b[0m \u001b[0mhook\u001b[0m\u001b[0;34m)\u001b[0m\u001b[0;34m:\u001b[0m\u001b[0;34m\u001b[0m\u001b[0;34m\u001b[0m\u001b[0m\n",
            "\u001b[0;32m/usr/local/lib/python3.7/dist-packages/torch/autograd/__init__.py\u001b[0m in \u001b[0;36mbackward\u001b[0;34m(tensors, grad_tensors, retain_graph, create_graph, grad_variables, inputs)\u001b[0m\n\u001b[1;32m    173\u001b[0m     Variable._execution_engine.run_backward(  # Calls into the C++ engine to run the backward pass\n\u001b[1;32m    174\u001b[0m         \u001b[0mtensors\u001b[0m\u001b[0;34m,\u001b[0m \u001b[0mgrad_tensors_\u001b[0m\u001b[0;34m,\u001b[0m \u001b[0mretain_graph\u001b[0m\u001b[0;34m,\u001b[0m \u001b[0mcreate_graph\u001b[0m\u001b[0;34m,\u001b[0m \u001b[0minputs\u001b[0m\u001b[0;34m,\u001b[0m\u001b[0;34m\u001b[0m\u001b[0;34m\u001b[0m\u001b[0m\n\u001b[0;32m--> 175\u001b[0;31m         allow_unreachable=True, accumulate_grad=True)  # Calls into the C++ engine to run the backward pass\n\u001b[0m\u001b[1;32m    176\u001b[0m \u001b[0;34m\u001b[0m\u001b[0m\n\u001b[1;32m    177\u001b[0m def grad(\n",
            "\u001b[0;31mKeyboardInterrupt\u001b[0m: "
          ]
        }
      ]
    },
    {
      "cell_type": "code",
      "source": [
        "plt.plot(loss_list, label='trainloss')\n",
        "plt.plot(validation_loss, label='val_loss')\n",
        "plt.legend(['train', 'val'])\n",
        "plt.show()"
      ],
      "metadata": {
        "id": "SGLH8z8-JSTh",
        "colab": {
          "base_uri": "https://localhost:8080/",
          "height": 266
        },
        "outputId": "427e43c3-770a-40b2-ee66-fba38a2026e9"
      },
      "execution_count": null,
      "outputs": [
        {
          "output_type": "display_data",
          "data": {
            "text/plain": [
              "<Figure size 432x288 with 1 Axes>"
            ],
            "image/png": "[encoded data removed]"
          },
          "metadata": {
            "needs_background": "light"
          }
        }
      ]
    },
    {
      "cell_type": "code",
      "source": [
        "plt.plot(train_accuracy, label='trainaccuracy')\n",
        "plt.plot(validation_acc, label='val_acc')\n",
        "plt.legend(['train_acc', 'val_acc'])\n",
        "plt.show()"
      ],
      "metadata": {
        "id": "pE0Y0TZzJS7Z",
        "colab": {
          "base_uri": "https://localhost:8080/",
          "height": 265
        },
        "outputId": "c62e3d1e-e05e-4846-8616-da48d9766b54"
      },
      "execution_count": null,
      "outputs": [
        {
          "output_type": "display_data",
          "data": {
            "text/plain": [
              "<Figure size 432x288 with 1 Axes>"
            ],
            "image/png": "[encoded data removed]"
          },
          "metadata": {
            "needs_background": "light"
          }
        }
      ]
    },
    {
      "cell_type": "code",
      "source": [
        "#model = torch.load(PATH + 'mlp.pt')\n",
        "model.load_state_dict(copy.deepcopy(torch.load(PATH + 'fish_mlp_state_dict2.pt')))\n"
      ],
      "metadata": {
        "id": "TwI7l4_FJlHB",
        "colab": {
          "base_uri": "https://localhost:8080/"
        },
        "outputId": "1e068586-6965-439a-e775-f30e541ce882"
      },
      "execution_count": null,
      "outputs": [
        {
          "output_type": "execute_result",
          "data": {
            "text/plain": [
              "<All keys matched successfully>"
            ]
          },
          "metadata": {},
          "execution_count": 75
        }
      ]
    },
    {
      "cell_type": "code",
      "source": [
        "model.load_state_dict(copy.deepcopy(torch.load(PATH + 'osuleafgat_mlp_state_dictonly_rp_gr_grd.pt')))"
      ],
      "metadata": {
        "colab": {
          "base_uri": "https://localhost:8080/"
        },
        "id": "iiI8fVqgKR-e",
        "outputId": "dab27571-acb6-4875-de22-be1f07248517"
      },
      "execution_count": null,
      "outputs": [
        {
          "output_type": "execute_result",
          "data": {
            "text/plain": [
              "<All keys matched successfully>"
            ]
          },
          "metadata": {},
          "execution_count": 86
        }
      ]
    },
    {
      "cell_type": "code",
      "source": [
        "correct = 0\n",
        "total = 0\n",
        "accuracy = []\n",
        "iter_acc = []\n",
        "test_loss = []\n",
        "b=0\n",
        "model.eval()\n",
        "with torch.no_grad():\n",
        "    for data in testloader :\n",
        "        b+=1\n",
        "        images, labels = data\n",
        "        outputs = model(images)\n",
        "        loss = criterion(outputs, labels)\n",
        "        _, predicted = torch.max(outputs.data, 1)\n",
        "        total += labels.size(0)\n",
        "        correct += (predicted == labels).sum().item()\n",
        "        iter_acc.append(b)\n",
        "        cost = 100*correct/total\n",
        "        accuracy.append(cost)\n",
        "        \n",
        "    test_loss.append(loss)\n",
        "    error_rate = 1-(correct/total)\n",
        "    test_acc = 100. * correct / len(testloader.dataset)\n",
        "print('accuracy of testimages: %d %%' %(100*correct/total))\n",
        "print('error rate : ', format(error_rate, \".3f\"))\n",
        "print(f\"Val_acc {test_acc:.4f}\")\n",
        "\n"
      ],
      "metadata": {
        "id": "70DlGMOMJgKg",
        "colab": {
          "base_uri": "https://localhost:8080/"
        },
        "outputId": "ff94f2c8-1900-46ea-d327-9740bee92166"
      },
      "execution_count": null,
      "outputs": [
        {
          "output_type": "stream",
          "name": "stdout",
          "text": [
            "accuracy of testimages: 67 %\n",
            "error rate :  0.326\n",
            "Val_acc 67.3554\n"
          ]
        }
      ]
    },
    {
      "cell_type": "code",
      "source": [
        "val_correct = 0\n",
        "model.eval()\n",
        "with torch.no_grad():\n",
        "    for data in testloader:\n",
        "        val_input, val_target = data\n",
        "        val_outputs = model(val_input)\n",
        "        val_loss = criterion(val_outputs, val_target)\n",
        "        _, val_pred = torch.max(val_outputs, 1)\n",
        "        val_correct += val_pred.eq(val_target).sum().item()\n",
        "\n",
        "    val_acc = 100. * val_correct/len(testloader.dataset)\n",
        "    error_rate = 1-(val_correct/len(testloader.dataset))\n",
        "print(\"=============================================================\")\n",
        "print(f\"test acc {val_acc:.4f} | error rate {error_rate:.4f}\")"
      ],
      "metadata": {
        "colab": {
          "base_uri": "https://localhost:8080/"
        },
        "id": "u3rySzOQnLQi",
        "outputId": "78ce46e0-f4f5-48aa-e962-2964f7b8b79a"
      },
      "execution_count": null,
      "outputs": [
        {
          "output_type": "stream",
          "name": "stdout",
          "text": [
            "=============================================================\n",
            "test acc 59.3333 | error rate 0.4067\n"
          ]
        }
      ]
    },
    {
      "cell_type": "code",
      "source": [
        "torch.save(model.state_dict(), PATH + 'olive86_mlp_state_dict.pt')"
      ],
      "metadata": {
        "id": "d1D3BjdIyRxj"
      },
      "execution_count": null,
      "outputs": []
    }
  ]
}